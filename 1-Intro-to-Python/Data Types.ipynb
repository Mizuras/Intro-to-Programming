{
 "cells": [
  {
   "cell_type": "markdown",
   "metadata": {},
   "source": [
    "## DATA TYPES"
   ]
  },
  {
   "cell_type": "markdown",
   "metadata": {},
   "source": [
    "# Integer"
   ]
  },
  {
   "cell_type": "code",
   "execution_count": 2,
   "metadata": {},
   "outputs": [
    {
     "name": "stdout",
     "output_type": "stream",
     "text": [
      "14\n",
      "<class 'int'>\n"
     ]
    }
   ],
   "source": [
    "x = 14\n",
    "print(x)\n",
    "print(type(x))"
   ]
  },
  {
   "cell_type": "markdown",
   "metadata": {},
   "source": [
    "x = 14: Baris ini menginisialisasi variabel x dengan nilai 14. Dalam bahasa pemrograman Python, Anda dapat menginisialisasi variabel dengan menggunakan tanda sama dengan (=). Di sini, nilai 14 adalah bilangan bulat (integer).\n",
    "\n",
    "print(x): Baris ini mencetak nilai variabel x ke layar. print() adalah sebuah fungsi bawaan Python yang digunakan untuk mencetak output ke konsol. Jadi, hasil cetaknya akan menampilkan nilai dari variabel x, yaitu 14.\n",
    "\n",
    "print(type(x)): Baris ini mencetak tipe data dari variabel x ke layar. type() adalah fungsi bawaan Python yang mengembalikan jenis atau tipe dari suatu objek. Dalam hal ini, itu akan mengembalikan tipe data dari variabel x, yang adalah int (singkatan dari integer, yang berarti bilangan bulat). Hasil cetaknya akan menampilkan <class 'int'>, yang menunjukkan bahwa x adalah objek bertipe data integer.\n",
    "\n",
    "Jadi, keseluruhan code tersebut menginisialisasi variabel x dengan nilai 14, mencetak nilai variabel x, dan kemudian mencetak tipe data dari variabel x."
   ]
  },
  {
   "cell_type": "markdown",
   "metadata": {},
   "source": [
    "# Floats"
   ]
  },
  {
   "cell_type": "code",
   "execution_count": 3,
   "metadata": {},
   "outputs": [
    {
     "name": "stdout",
     "output_type": "stream",
     "text": [
      "3.141592653589793\n",
      "<class 'float'>\n"
     ]
    }
   ],
   "source": [
    "nearly_pi = 3.141592653589793238462643383279502884197169399375105820974944\n",
    "print(nearly_pi)\n",
    "print(type(nearly_pi))"
   ]
  },
  {
   "cell_type": "markdown",
   "metadata": {},
   "source": [
    "nearly_pi = 3.141592653589793238462643383279502884197169399375105820974944: Baris ini menginisialisasi variabel nearly_pi dengan nilai yang mendekati nilai Pi. Dalam bahasa pemrograman Python, Anda dapat menggunakan tanda sama dengan (=) untuk menginisialisasi variabel dengan nilai tertentu. Nilai yang ditetapkan dalam contoh ini adalah sebuah float, yang merupakan angka pecahan dengan titik desimal.\n",
    "\n",
    "print(nearly_pi): Baris ini mencetak nilai dari variabel nearly_pi ke layar. Fungsi print() digunakan untuk mencetak output ke konsol. Hasil cetaknya akan menampilkan nilai mendekati Pi yang telah ditetapkan sebelumnya.\n",
    "\n",
    "print(type(nearly_pi)): Baris ini mencetak tipe data dari variabel nearly_pi ke layar. Fungsi type() mengembalikan jenis atau tipe dari suatu objek dalam Python. Dalam hal ini, fungsi ini akan mengembalikan tipe data dari nilai yang ditetapkan ke nearly_pi, yaitu float. Hasil cetaknya akan menampilkan <class 'float'>, yang menunjukkan bahwa nearly_pi adalah objek bertipe data float.\n",
    "\n",
    "Jadi, keseluruhan kode tersebut menginisialisasi variabel nearly_pi dengan nilai mendekati Pi, mencetak nilai variabel nearly_pi, dan kemudian mencetak tipe data dari variabel nearly_pi, yang adalah float.\n"
   ]
  },
  {
   "cell_type": "code",
   "execution_count": 4,
   "metadata": {},
   "outputs": [
    {
     "name": "stdout",
     "output_type": "stream",
     "text": [
      "3.142857142857143\n",
      "<class 'float'>\n"
     ]
    }
   ],
   "source": [
    "almost_pi = 22/7\n",
    "print(almost_pi)\n",
    "print(type(almost_pi))"
   ]
  },
  {
   "cell_type": "markdown",
   "metadata": {},
   "source": [
    "almost_pi = 22/7: Baris ini menginisialisasi variabel almost_pi dengan hasil pembagian 22 dengan 7. Dalam bahasa pemrograman Python, operasi pembagian menggunakan tanda /. Pada kasus ini, 22 dibagi oleh 7 menghasilkan nilai yang mendekati nilai Pi. Nilai ini merupakan sebuah float karena pembagian dua bilangan bulat menghasilkan float jika hasilnya bukan bilangan bulat.\n",
    "\n",
    "print(almost_pi): Baris ini mencetak nilai dari variabel almost_pi ke layar. Fungsi print() digunakan untuk mencetak output ke konsol. Hasil cetaknya akan menampilkan nilai mendekati Pi yang telah dihasilkan oleh operasi pembagian sebelumnya.\n",
    "\n",
    "print(type(almost_pi)): Baris ini mencetak tipe data dari variabel almost_pi ke layar. Fungsi type() mengembalikan jenis atau tipe dari suatu objek dalam Python. Dalam hal ini, nilai yang telah ditetapkan ke almost_pi adalah float. Hasil cetaknya akan menampilkan <class 'float'>, yang menunjukkan bahwa almost_pi adalah objek bertipe data float.\n",
    "\n",
    "Jadi, keseluruhan kode tersebut menginisialisasi variabel almost_pi dengan nilai mendekati Pi hasil dari operasi pembagian, mencetak nilai variabel almost_pi, dan kemudian mencetak tipe data dari variabel almost_pi, yang adalah float."
   ]
  },
  {
   "cell_type": "code",
   "execution_count": 5,
   "metadata": {},
   "outputs": [
    {
     "name": "stdout",
     "output_type": "stream",
     "text": [
      "3.14286\n",
      "<class 'float'>\n"
     ]
    }
   ],
   "source": [
    "# Round to 5 decimal places\n",
    "rounded_pi = round(almost_pi, 5)\n",
    "print(rounded_pi)\n",
    "print(type(rounded_pi))"
   ]
  },
  {
   "cell_type": "markdown",
   "metadata": {},
   "source": [
    "rounded_pi = round(almost_pi, 5): Baris ini menginisialisasi variabel rounded_pi dengan menggunakan fungsi round() untuk membulatkan nilai dari variabel almost_pi ke lima angka desimal. Fungsi round() digunakan untuk membulatkan nilai bilangan pecahan ke angka desimal tertentu, di mana argumen kedua yang diberikan adalah jumlah digit desimal yang diinginkan. Dalam hal ini, kita membulatkan almost_pi ke lima angka desimal.\n",
    "\n",
    "print(rounded_pi): Baris ini mencetak nilai dari variabel rounded_pi ke layar. Fungsi print() digunakan untuk mencetak output ke konsol. Hasil cetaknya akan menampilkan nilai Pi yang telah dibulatkan ke lima angka desimal.\n",
    "\n",
    "print(type(rounded_pi)): Baris ini mencetak tipe data dari variabel rounded_pi ke layar. Fungsi type() mengembalikan jenis atau tipe dari suatu objek dalam Python. Dalam hal ini, nilai yang telah ditetapkan ke rounded_pi adalah float karena telah melalui proses pembulatan. Hasil cetaknya akan menampilkan <class 'float'>, yang menunjukkan bahwa rounded_pi adalah objek bertipe data float.\n",
    "\n",
    "Jadi, keseluruhan kode tersebut menginisialisasi variabel rounded_pi dengan nilai Pi yang telah dibulatkan ke lima angka desimal, mencetak nilai variabel rounded_pi, dan kemudian mencetak tipe data dari variabel rounded_pi, yang adalah float."
   ]
  },
  {
   "cell_type": "code",
   "execution_count": 6,
   "metadata": {},
   "outputs": [
    {
     "name": "stdout",
     "output_type": "stream",
     "text": [
      "1.0\n",
      "<class 'float'>\n"
     ]
    }
   ],
   "source": [
    "y_float = 1.\n",
    "print(y_float)\n",
    "print(type(y_float))"
   ]
  },
  {
   "cell_type": "markdown",
   "metadata": {},
   "source": [
    "y_float = 1.: Baris ini menginisialisasi variabel y_float dengan nilai 1.0. Meskipun tidak ada digit di belakang titik desimal, penulisan titik desimal menunjukkan bahwa nilai tersebut adalah float, bukan integer. Dalam Python, Anda dapat menuliskan float dengan atau tanpa digit di belakang titik desimal.\n",
    "\n",
    "print(y_float): Baris ini mencetak nilai dari variabel y_float ke layar. Fungsi print() digunakan untuk mencetak output ke konsol. Hasil cetaknya akan menampilkan nilai dari y_float, yaitu 1.0.\n",
    "\n",
    "print(type(y_float)): Baris ini mencetak tipe data dari variabel y_float ke layar. Fungsi type() mengembalikan jenis atau tipe dari suatu objek dalam Python. Dalam hal ini, nilai yang telah ditetapkan ke y_float adalah float. Hasil cetaknya akan menampilkan <class 'float'>, yang menunjukkan bahwa y_float adalah objek bertipe data float.\n",
    "\n",
    "Jadi, keseluruhan kode tersebut menginisialisasi variabel y_float dengan nilai 1.0, mencetak nilai variabel y_float, dan kemudian mencetak tipe data dari variabel y_float, yang adalah float."
   ]
  },
  {
   "cell_type": "markdown",
   "metadata": {},
   "source": [
    "# Booleans"
   ]
  },
  {
   "cell_type": "code",
   "execution_count": 7,
   "metadata": {},
   "outputs": [
    {
     "name": "stdout",
     "output_type": "stream",
     "text": [
      "True\n",
      "<class 'bool'>\n"
     ]
    }
   ],
   "source": [
    "z_one = True\n",
    "print(z_one)\n",
    "print(type(z_one))"
   ]
  },
  {
   "cell_type": "markdown",
   "metadata": {},
   "source": [
    "z_one = True: Baris ini menginisialisasi variabel z_one dengan nilai True. Dalam Python, True adalah salah satu dari dua nilai boolean bawaan yang mewakili kebenaran. Nilai boolean True menunjukkan bahwa pernyataan yang dinyatakan adalah benar.\n",
    "\n",
    "print(type(z_one)): Baris ini mencetak tipe data dari variabel z_one ke layar. Fungsi type() mengembalikan jenis atau tipe dari suatu objek dalam Python. Dalam hal ini, nilai yang telah ditetapkan ke z_one adalah boolean. Hasil cetaknya akan menampilkan <class 'bool'>, yang menunjukkan bahwa z_one adalah objek bertipe data boolean.\n",
    "\n",
    "Kode tersebut menginisialisasi variabel z_one dengan nilai boolean True, mencetak nilai variabel z_one, dan kemudian mencetak tipe data dari variabel z_one, yang adalah boolean."
   ]
  },
  {
   "cell_type": "code",
   "execution_count": 8,
   "metadata": {},
   "outputs": [
    {
     "name": "stdout",
     "output_type": "stream",
     "text": [
      "False\n",
      "<class 'bool'>\n"
     ]
    }
   ],
   "source": [
    "z_two = False\n",
    "print(z_two)\n",
    "print(type(z_two))"
   ]
  },
  {
   "cell_type": "markdown",
   "metadata": {},
   "source": [
    "z_two = False: Baris ini menginisialisasi variabel z_two dengan nilai False. Dalam Python, False adalah salah satu dari dua nilai boolean bawaan yang mewakili ketidakbenaran. Nilai boolean False menunjukkan bahwa pernyataan yang dinyatakan adalah salah.\n",
    "\n",
    "Kode tersebut menginisialisasi variabel z_two dengan nilai boolean False, mencetak nilai variabel z_two, dan kemudian mencetak tipe data dari variabel z_two, yang adalah boolean."
   ]
  },
  {
   "cell_type": "code",
   "execution_count": 9,
   "metadata": {},
   "outputs": [
    {
     "name": "stdout",
     "output_type": "stream",
     "text": [
      "True\n",
      "<class 'bool'>\n"
     ]
    }
   ],
   "source": [
    "z_three = (1 < 2)\n",
    "print(z_three)\n",
    "print(type(z_three))"
   ]
  },
  {
   "cell_type": "markdown",
   "metadata": {},
   "source": [
    "z_three = (1 < 2): Baris ini menginisialisasi variabel z_three dengan hasil evaluasi ekspresi logika (1 < 2). Dalam ekspresi ini, kita memeriksa apakah angka 1 kurang dari angka 2. Karena pernyataan tersebut benar, hasil evaluasi ekspresi adalah True, yang kemudian disimpan dalam variabel z_three.\n",
    "\n",
    "Kode tersebut menginisialisasi variabel z_three dengan hasil evaluasi ekspresi logika (1 < 2), mencetak hasil evaluasi tersebut, dan kemudian mencetak tipe data dari variabel z_three, yang adalah boolean."
   ]
  },
  {
   "cell_type": "code",
   "execution_count": 10,
   "metadata": {},
   "outputs": [
    {
     "name": "stdout",
     "output_type": "stream",
     "text": [
      "False\n",
      "<class 'bool'>\n"
     ]
    }
   ],
   "source": [
    "z_four = (5 < 3)\n",
    "print(z_four)\n",
    "print(type(z_four))"
   ]
  },
  {
   "cell_type": "markdown",
   "metadata": {},
   "source": [
    "z_four = (5 < 3): Baris ini menginisialisasi variabel z_four dengan hasil evaluasi ekspresi logika (5 < 3). Dalam ekspresi ini, kita memeriksa apakah angka 5 kurang dari angka 3. Karena pernyataan tersebut salah, hasil evaluasi ekspresi adalah False, yang kemudian disimpan dalam variabel z_four.\n",
    "\n",
    "print(z_four): Baris ini mencetak nilai dari variabel z_four ke layar. Hasil cetaknya akan menampilkan hasil evaluasi ekspresi logika (5 < 3), yang dalam hal ini adalah False.\n",
    "\n",
    "print(type(z_four)): Baris ini mencetak tipe data dari variabel z_four ke layar. Hasil cetaknya akan menampilkan tipe data dari z_four, yaitu boolean (bool), karena hasil evaluasi dari ekspresi logika (5 < 3) adalah nilai boolean.\n",
    "\n",
    "Jadi, keseluruhan kode tersebut menginisialisasi variabel z_four dengan hasil evaluasi ekspresi logika (5 < 3), mencetak hasil evaluasi tersebut, dan kemudian mencetak tipe data dari variabel z_four, yang adalah boolean.\n",
    "\n",
    "\n",
    "\n",
    "\n"
   ]
  },
  {
   "cell_type": "code",
   "execution_count": 11,
   "metadata": {},
   "outputs": [
    {
     "name": "stdout",
     "output_type": "stream",
     "text": [
      "True\n",
      "<class 'bool'>\n"
     ]
    }
   ],
   "source": [
    "z_five = not z_four\n",
    "print(z_five)\n",
    "print(type(z_five))"
   ]
  },
  {
   "cell_type": "markdown",
   "metadata": {},
   "source": [
    "z_five = not z_four: Baris ini menginisialisasi variabel z_five dengan hasil operasi logika not dari nilai z_four. Operator not digunakan untuk membalikkan nilai boolean. Jika z_four bernilai False, not z_four akan bernilai True, dan sebaliknya.\n",
    "\n",
    "print(z_five): Baris ini mencetak nilai dari variabel z_five ke layar. Hasil cetaknya akan menampilkan hasil operasi logika not dari z_four.\n",
    "\n",
    "print(type(z_five)): Baris ini mencetak tipe data dari variabel z_five ke layar. Hasil cetaknya akan menampilkan tipe data dari z_five, yang dalam hal ini adalah boolean (bool), karena hasil operasi logika dari not z_four adalah nilai boolean.\n",
    "\n",
    "Jadi, keseluruhan kode tersebut menginisialisasi variabel z_five dengan hasil operasi logika not z_four, mencetak hasil operasi tersebut, dan kemudian mencetak tipe data dari variabel z_five, yang adalah boolean."
   ]
  },
  {
   "cell_type": "markdown",
   "metadata": {},
   "source": [
    "# Strings"
   ]
  },
  {
   "cell_type": "code",
   "execution_count": 12,
   "metadata": {},
   "outputs": [
    {
     "name": "stdout",
     "output_type": "stream",
     "text": [
      "Hello, Python!\n",
      "<class 'str'>\n"
     ]
    }
   ],
   "source": [
    "w = \"Hello, Python!\"\n",
    "print(w)\n",
    "print(type(w))"
   ]
  },
  {
   "cell_type": "markdown",
   "metadata": {},
   "source": [
    "Kode tersebut menginisialisasi variabel w dengan sebuah string \"Hello, Python!\", mencetak nilai variabel w, dan kemudian mencetak tipe data dari variabel w, yang adalah string."
   ]
  },
  {
   "cell_type": "code",
   "execution_count": 14,
   "metadata": {},
   "outputs": [
    {
     "name": "stdout",
     "output_type": "stream",
     "text": [
      "14\n"
     ]
    }
   ],
   "source": [
    "print(len(w))"
   ]
  },
  {
   "cell_type": "markdown",
   "metadata": {},
   "source": [
    "len(w): Fungsi len() digunakan untuk menghitung panjang (jumlah karakter) dari suatu string. Pada kasus ini, len(w) menghitung panjang dari string yang disimpan dalam variabel w.\n",
    "\n",
    "print(len(w)): Baris ini mencetak panjang string yang disimpan dalam variabel w ke layar. Hasil cetaknya akan menampilkan jumlah karakter dalam string \"Hello, Python!\", yang merupakan 14 karakter.\n",
    "\n",
    "Jadi, keseluruhan kode tersebut menghitung dan mencetak panjang string \"Hello, Python!\", yang adalah 14 karakter.\n"
   ]
  },
  {
   "cell_type": "code",
   "execution_count": 15,
   "metadata": {},
   "outputs": [
    {
     "name": "stdout",
     "output_type": "stream",
     "text": [
      "<class 'str'>\n",
      "0\n"
     ]
    }
   ],
   "source": [
    "shortest_string = \"\"\n",
    "print(type(shortest_string))\n",
    "print(len(shortest_string))"
   ]
  },
  {
   "cell_type": "markdown",
   "metadata": {},
   "source": [
    "Kode tersebut menginisialisasi variabel shortest_string dengan sebuah string kosong, mencetak tipe data dari variabel tersebut (yang adalah string), dan kemudian mencetak panjang dari string kosong tersebut, yang adalah 0."
   ]
  },
  {
   "cell_type": "code",
   "execution_count": 16,
   "metadata": {},
   "outputs": [
    {
     "name": "stdout",
     "output_type": "stream",
     "text": [
      "1.12321\n",
      "<class 'str'>\n"
     ]
    }
   ],
   "source": [
    "my_number = \"1.12321\"\n",
    "print(my_number)\n",
    "print(type(my_number))"
   ]
  },
  {
   "cell_type": "markdown",
   "metadata": {},
   "source": [
    "Kode tersebut menginisialisasi variabel my_number dengan sebuah string \"1.12321\", kemudian mencetak nilai variabel tersebut (yang adalah string), dan terakhir mencetak tipe data dari variabel tersebut, yang adalah string."
   ]
  },
  {
   "cell_type": "code",
   "execution_count": 18,
   "metadata": {},
   "outputs": [
    {
     "name": "stdout",
     "output_type": "stream",
     "text": [
      "abcdef\n",
      "<class 'str'>\n"
     ]
    }
   ],
   "source": [
    "new_string = \"abc\" + \"def\"\n",
    "print(new_string)\n",
    "print(type(new_string))"
   ]
  },
  {
   "cell_type": "markdown",
   "metadata": {},
   "source": [
    " Kode tersebut menggabungkan dua string \"abc\" dan \"def\" menjadi string baru \"abcdef\", kemudian mencetak nilai string tersebut, dan terakhir mencetak tipe data dari string tersebut, yang adalah string."
   ]
  },
  {
   "cell_type": "code",
   "execution_count": 19,
   "metadata": {},
   "outputs": [
    {
     "name": "stdout",
     "output_type": "stream",
     "text": [
      "abcabcabc\n",
      "<class 'str'>\n"
     ]
    }
   ],
   "source": [
    "newest_string = \"abc\" * 3\n",
    "print(newest_string)\n",
    "print(type(newest_string))"
   ]
  },
  {
   "cell_type": "markdown",
   "metadata": {},
   "source": [
    " Kode tersebut menggabungkan string \"abc\" sebanyak 3 kali menjadi string baru \"abcabcabc\", kemudian mencetak nilai string tersebut, dan terakhir mencetak tipe data dari string tersebut, yang adalah string."
   ]
  }
 ],
 "metadata": {
  "interpreter": {
   "hash": "6991831720b726829475ab2fdaae779fa846493d282639f93ea99b469bb29648"
  },
  "kernelspec": {
   "display_name": "Python 3.12.2 64-bit",
   "language": "python",
   "name": "python3"
  },
  "language_info": {
   "codemirror_mode": {
    "name": "ipython",
    "version": 3
   },
   "file_extension": ".py",
   "mimetype": "text/x-python",
   "name": "python",
   "nbconvert_exporter": "python",
   "pygments_lexer": "ipython3",
   "version": "3.12.2"
  },
  "orig_nbformat": 4
 },
 "nbformat": 4,
 "nbformat_minor": 2
}
