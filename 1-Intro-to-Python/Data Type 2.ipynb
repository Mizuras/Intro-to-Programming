{
 "cells": [
  {
   "cell_type": "markdown",
   "metadata": {},
   "source": [
    "by Rizka Hanifah F"
   ]
  },
  {
   "cell_type": "markdown",
   "metadata": {},
   "source": [
    "# DATA TYPE 2.0"
   ]
  },
  {
   "cell_type": "markdown",
   "metadata": {},
   "source": [
    "## Intoducing"
   ]
  },
  {
   "cell_type": "markdown",
   "metadata": {},
   "source": [
    "Tipe data adalah klasifikasi nilai suatu variabel yang membantu operasi komputer untuk mengenali nilai data tanpa menghasilkan output error. Tipe data memudahkan program dalam mendeteksi berbagai jenis informasi dan memastikan sistem operasional berjalan dengan baik serta meminimalkan kesalahan. \n",
    "\n",
    "Dalam pemrograman, tipe data digunakan untuk menyimpan dan mengelola nilai atau informasi. Tipe data penting karena menentukan jenis tindakan yang dapat Anda lakukan dengannya.Untuk menghindari kesalahan, kita perlu memastikan bahwa tindakan tersebut sesuai dengan tipe data yang kita miliki."
   ]
  },
  {
   "cell_type": "markdown",
   "metadata": {},
   "source": [
    "Berikut adalah beberapa jenis tipe data yang umum digunakan:\n",
    "1. Floating Points\n",
    "2. Integer\n",
    "3. String\n",
    "4. Boolean"
   ]
  },
  {
   "cell_type": "markdown",
   "metadata": {},
   "source": [
    "### Floating Points"
   ]
  },
  {
   "cell_type": "markdown",
   "metadata": {},
   "source": [
    "Bilangan floating point (disebut float) mempunyai koma desimal meskipun nilai koma desimalnya adalah 0. Contoh: 1.13, 2.0, 1234.345. Atau Tipe data floating point menyimpan bilangan desimal (dengan titik desimal)."
   ]
  },
  {
   "cell_type": "code",
   "execution_count": 7,
   "metadata": {},
   "outputs": [
    {
     "name": "stdout",
     "output_type": "stream",
     "text": [
      "0.5555555555555556\n"
     ]
    }
   ],
   "source": [
    "print(5/9)"
   ]
  },
  {
   "cell_type": "code",
   "execution_count": 8,
   "metadata": {},
   "outputs": [
    {
     "name": "stdout",
     "output_type": "stream",
     "text": [
      "3.3333333333333335\n"
     ]
    }
   ],
   "source": [
    "print(10/3)"
   ]
  },
  {
   "cell_type": "markdown",
   "metadata": {},
   "source": [
    "### Integer"
   ]
  },
  {
   "cell_type": "markdown",
   "metadata": {},
   "source": [
    "Integer merujuk pada tipe data yang merepresentasikan bilangan bulat. Nilai dari tipe data integer adalah bilangan bulat seperti dalam matematika. Tipe data integer dapat memiliki nilai positif dan negatif (signed number)."
   ]
  },
  {
   "cell_type": "markdown",
   "metadata": {},
   "source": [
    "Beberapa contoh tipe data integer meliputi:\n",
    "\n",
    "1. int: Tipe data integer standar yang digunakan dalam bahasa C. Ukuran dan jangkauan data dari tipe data int tergantung pada kompilator dan komputer yang digunakan. Biasanya setara dengan short int atau long int.\n",
    "2. char: Meskipun sebenarnya digunakan untuk menyimpan karakter dalam kode ASCII, tipe data char juga dapat digunakan untuk menyimpan integer dari 0 hingga 255.\n",
    "3. short int: Ukuran 2 byte, jangkauan -32,768 hingga 32,767.\n",
    "4. unsigned int: Ukuran 4 byte, jangkauan 0 hingga 4,294,967,295."
   ]
  },
  {
   "cell_type": "code",
   "execution_count": 9,
   "metadata": {},
   "outputs": [
    {
     "name": "stdout",
     "output_type": "stream",
     "text": [
      "10\n"
     ]
    }
   ],
   "source": [
    "print(5+5)"
   ]
  },
  {
   "cell_type": "code",
   "execution_count": 10,
   "metadata": {},
   "outputs": [
    {
     "name": "stdout",
     "output_type": "stream",
     "text": [
      "20\n"
     ]
    }
   ],
   "source": [
    "print(24-4)"
   ]
  },
  {
   "cell_type": "code",
   "execution_count": 11,
   "metadata": {},
   "outputs": [
    {
     "name": "stdout",
     "output_type": "stream",
     "text": [
      "Hasil penjumlahan: 30\n",
      "Hasil pengurangan: 10\n"
     ]
    }
   ],
   "source": [
    "# Mendeklarasikan variabel dengan tipe data integer\n",
    "angka1 = 20\n",
    "angka2 = 10\n",
    "\n",
    "# Melakukan operasi penjumlahan dan pengurangan\n",
    "hasil_penjumlahan = angka1 + angka2\n",
    "hasil_pengurangan = angka1 - angka2\n",
    "\n",
    "# Menampilkan hasil operasi\n",
    "print(\"Hasil penjumlahan:\", hasil_penjumlahan)\n",
    "print(\"Hasil pengurangan:\", hasil_pengurangan)"
   ]
  },
  {
   "cell_type": "markdown",
   "metadata": {},
   "source": [
    "Dalam contoh di atas, mendeklarasikan dua variabel angka1 dan angka2 dengan tipe data integer. Kemudian, melakukan operasi penjumlahan dan pengurangan pada kedua variabel tersebut. Hasil operasi ditampilkan menggunakan perintah print."
   ]
  },
  {
   "cell_type": "markdown",
   "metadata": {},
   "source": [
    "Jika kita membagi satu bilangan bulat dengan bilangan bulat lainnya, kita mendapatkan bilangan pelampung atau floating.\n",
    "\n",
    "Kita juga dapat mengubah bilangan floating point menjadi bilangan bulat atau bilangan bulat menjadi bilangan floating point."
   ]
  },
  {
   "cell_type": "code",
   "execution_count": 12,
   "metadata": {},
   "outputs": [
    {
     "data": {
      "text/plain": [
       "7"
      ]
     },
     "execution_count": 12,
     "metadata": {},
     "output_type": "execute_result"
    }
   ],
   "source": [
    "# Convert a to an integer\n",
    "a = 7.83\n",
    "int(a)"
   ]
  },
  {
   "cell_type": "markdown",
   "metadata": {},
   "source": [
    "Nilai a adalah 7 setelah diubah menjadi bilangan bulat. Saat Anda menggunakan fungsi int(), fungsi ini memotong bagian desimal dan hanya menyimpan bilangan bulat."
   ]
  },
  {
   "cell_type": "markdown",
   "metadata": {},
   "source": [
    "### String"
   ]
  },
  {
   "cell_type": "markdown",
   "metadata": {},
   "source": [
    "String dalam pemrograman adalah tipe data yang digunakan untuk merepresentasikan urutan karakter. Karakter dalam string bisa berupa huruf, angka, simbol, dan spasi. Dalam hampir semua bahasa pemrograman, string diapit oleh tanda kutip (tanda kutip tunggal atau ganda) untuk menandai awal dan akhir string."
   ]
  },
  {
   "cell_type": "markdown",
   "metadata": {},
   "source": [
    "Ada dua jenis string yang umum digunakan dalam pemrograman:\n",
    "\n",
    "1. String Literal: String literal adalah string yang ditulis secara langsung di dalam kode program. Contohnya: \"Halo, dunia!\". String literal biasanya digunakan untuk menginisialisasi variabel atau memberikan nilai langsung kepada sebuah string.\n",
    "2. String Objek: Beberapa bahasa pemrograman mendukung objek string yang memiliki metode dan fungsi bawaan. Objek string memungkinkan operasi seperti penggabungan, pemotongan, penggantian, dan lainnya. Misalnya, dalam bahasa Java, kita menggunakan objek String untuk melakukan manipulasi pada string.\n",
    "\n",
    "Contoh sederhana"
   ]
  },
  {
   "cell_type": "code",
   "execution_count": 13,
   "metadata": {},
   "outputs": [
    {
     "name": "stdout",
     "output_type": "stream",
     "text": [
      "Hello World\n"
     ]
    }
   ],
   "source": [
    "print(\"Hello World\")"
   ]
  },
  {
   "cell_type": "markdown",
   "metadata": {},
   "source": [
    "#### Mengupdate String\n",
    "Dapat \"memperbarui\" string yang ada dengan (kembali) menugaskan variabel ke string lain. \n"
   ]
  },
  {
   "cell_type": "code",
   "execution_count": 14,
   "metadata": {},
   "outputs": [
    {
     "name": "stdout",
     "output_type": "stream",
     "text": [
      "Updated String :-  Hello Python\n"
     ]
    }
   ],
   "source": [
    "message = 'Hello World'\n",
    "print (\"Updated String :- \", message[:6] + 'Python')"
   ]
  },
  {
   "cell_type": "markdown",
   "metadata": {},
   "source": [
    "String yang diperbarui adalah “Halo Python”. Kami mengganti substring dari indeks 6 dan seterusnya dengan “Python”."
   ]
  },
  {
   "cell_type": "markdown",
   "metadata": {},
   "source": [
    "#### Mengakses Nilai dalam String\n",
    "Python tidak menggunakan tipe karakter titik koma ; Ini diperlakukan sebagai string dengan panjang satu, sehingga juga dianggap sebagai substring.\n",
    "\n",
    "Untuk mengakses substring, gunakan tanda kurung siku untuk mengiris beserta indeks atau indeks untuk mendapatkan substring Anda. Sebagai contoh :"
   ]
  },
  {
   "cell_type": "code",
   "execution_count": 16,
   "metadata": {},
   "outputs": [
    {
     "name": "stdout",
     "output_type": "stream",
     "text": [
      "name[0]:  J\n",
      "message[1:4]:  ohn\n"
     ]
    }
   ],
   "source": [
    "name = 'John Doe' \n",
    "message = \"John Doe belajar bahasa python di Belajarpython\"\n",
    "print (\"name[0]: \", name[0])\n",
    "print (\"message[1:4]: \", message[1:4])"
   ]
  },
  {
   "cell_type": "markdown",
   "metadata": {},
   "source": [
    "Dalam cuplikan kode yang diberikan, kita memiliki dua string: nama dan pesan. Mari kita uraikan hasilnya:\n",
    "\n",
    "1. name [0] mengambil karakter pertama dari nama string, yaitu 'J'.\n",
    "2. message [1:4] mengekstrak substring dari string pesan, mulai dari karakter kedua (indeks 1) hingga karakter keempat (indeks 3), menghasilkan substring 'ohn'."
   ]
  },
  {
   "cell_type": "markdown",
   "metadata": {},
   "source": [
    "### Boolean\n",
    "Tipe data boolean sebenarnya sangat simple. Tipe data ini hanya bisa diisi dengan salah satu dari 2 nilai: True atau False. Biasanya direpresentasikan dengan angka 0 untuk false dan angka 1 untuk true. Tipe data boolean banyak dipakai untuk percabangan kode program atau untuk memutuskan apa yang mesti dijalankan ketika sebuah kondisi terjadi."
   ]
  },
  {
   "cell_type": "markdown",
   "metadata": {},
   "source": [
    "Tipe data boolean hanya bisa diisi dengan 2 nilai, yakni salah satu dari True atau False. Berikut contoh penulisannya:"
   ]
  },
  {
   "cell_type": "code",
   "execution_count": 17,
   "metadata": {},
   "outputs": [
    {
     "name": "stdout",
     "output_type": "stream",
     "text": [
      "True\n",
      "False\n"
     ]
    }
   ],
   "source": [
    "foo = True\n",
    "bar = False\n",
    "  \n",
    "print(foo)\n",
    "print(bar)"
   ]
  },
  {
   "cell_type": "markdown",
   "metadata": {},
   "source": [
    "True and False masing-masing adalah nilai boolean yang mewakili kebenaran dan kepalsuan. Saat mencetak variabel-variabel ini, akan melihat nilai boolean yang sesuai."
   ]
  },
  {
   "cell_type": "markdown",
   "metadata": {},
   "source": [
    "Selain diinput manual, tipe data boolean lebih sering di dapat sebagai hasil dari operasi perbandingan, seperti apakah suatu angka lebih besar dari angka lainnya, apakah lebih kecil, atau sama dengan."
   ]
  },
  {
   "cell_type": "code",
   "execution_count": 18,
   "metadata": {},
   "outputs": [
    {
     "name": "stdout",
     "output_type": "stream",
     "text": [
      "False\n",
      "True\n",
      "False\n"
     ]
    }
   ],
   "source": [
    "foo = 12 < 10\n",
    "print(foo)\n",
    "foo = 12 > 10\n",
    "print(foo)\n",
    "foo = \"A\" == \"a\"\n",
    "print(foo)"
   ]
  },
  {
   "cell_type": "markdown",
   "metadata": {},
   "source": [
    "- Operator perbandingan < (kurang dari), > (lebih besar dari), dan == (sama dengan) mengembalikan nilai boolean. \n",
    "- Ekspresi pertama bernilai False karena 12 tidak kurang dari 10. Ekspresi kedua bernilai Benar karena 12 lebih besar dari 10. \n",
    "- Ekspresi ketiga bernilai False karena huruf besar “A” tidak sama dengan huruf kecil “a”"
   ]
  },
  {
   "cell_type": "markdown",
   "metadata": {},
   "source": [
    "Lebih jauh lagi, metode perbandingan seperti ini sangat sering dipakai dalam struktur logika IF"
   ]
  },
  {
   "cell_type": "code",
   "execution_count": 19,
   "metadata": {},
   "outputs": [
    {
     "name": "stdout",
     "output_type": "stream",
     "text": [
      "Isi variabel a lebih besar daripada variabel b\n"
     ]
    }
   ],
   "source": [
    "a = 12\n",
    "b = 10\n",
    "if (a < b):\n",
    "  print(\"Isi variabel a lebih kecil daripada variabel b\")\n",
    "elif (a > b):\n",
    "  print(\"Isi variabel a lebih besar daripada variabel b\")\n",
    "else:\n",
    "  print(\"Isi variabel a sama dengan variabel b\")"
   ]
  },
  {
   "cell_type": "markdown",
   "metadata": {},
   "source": [
    "Dalam contoh ini, nilai a (12) lebih besar dari nilai b (10), sehingga kondisi kedua terpenuhi, dan pesan terkait dicetak. Maka output dari kode akan menjadi Isi variabel a lebih besar daripada variabel b."
   ]
  }
 ],
 "metadata": {
  "kernelspec": {
   "display_name": "Python 3",
   "language": "python",
   "name": "python3"
  },
  "language_info": {
   "codemirror_mode": {
    "name": "ipython",
    "version": 3
   },
   "file_extension": ".py",
   "mimetype": "text/x-python",
   "name": "python",
   "nbconvert_exporter": "python",
   "pygments_lexer": "ipython3",
   "version": "3.11.8"
  }
 },
 "nbformat": 4,
 "nbformat_minor": 2
}
