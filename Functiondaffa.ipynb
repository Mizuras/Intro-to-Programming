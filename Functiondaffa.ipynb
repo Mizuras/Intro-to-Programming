{
 "cells": [
  {
   "cell_type": "markdown",
   "metadata": {},
   "source": [
    "# Introduction\n",
    "Fungsi adalah blok kode yang dirancang untuk melakukan tugas tertentu. Seperti yang akan Anda lihat, fungsi memungkinkan Anda melakukan perhitungan yang kira-kira sama beberapa kali tanpa menduplikasi kode apa pun."
   ]
  },
  {
   "cell_type": "markdown",
   "metadata": {},
   "source": [
    "# Intro to functions: a simple example"
   ]
  },
  {
   "cell_type": "markdown",
   "metadata": {},
   "source": [
    "\n",
    "Baik, kita akan mulai dengan contoh sederhana dari sebuah fungsi. Fungsi add_three di bawah ini menerima sembarang angka, menambahkan tiga padanya, dan kemudian mengembalikan hasilnya."
   ]
  },
  {
   "cell_type": "code",
   "execution_count": 2,
   "metadata": {},
   "outputs": [],
   "source": [
    "# Define the function\n",
    "def add_three(input_var):\n",
    "    output_var = input_var + 3\n",
    "    return output_var"
   ]
  },
  {
   "cell_type": "markdown",
   "metadata": {},
   "source": [
    "# Header"
   ]
  },
  {
   "cell_type": "markdown",
   "metadata": {},
   "source": [
    "Header fungsi mendefinisikan nama fungsi dan argumennya.\n",
    "\n",
    "- Setiap header fungsi dimulai dengan def, yang memberi tahu Python bahwa kita akan mendefinisikan suatu fungsi.\n",
    "\n",
    "- Pada contoh, nama fungsinya adalah add_three.\n",
    "\n",
    "- Dalam contoh, argumennya adalah input_var. Argumennya adalah nama variabel yang akan digunakan sebagai input fungsi. Itu selalu diapit tanda kurung yang muncul tepat setelah nama fungsinya. (Perhatikan bahwa suatu fungsi juga tidak boleh memiliki argumen, atau dapat memiliki banyak argumen. Anda akan melihat beberapa contohnya nanti di pelajaran.)\n",
    "\n",
    "- Untuk setiap fungsi, tanda kurung yang mengapit argumen fungsi harus diikuti dengan titik dua :."
   ]
  },
  {
   "cell_type": "markdown",
   "metadata": {},
   "source": [
    "# Body\n",
    "\n",
    "Badan fungsi menentukan pekerjaan yang dilakukan fungsi tersebut.\n",
    "\n",
    "Setiap baris kode di badan fungsi harus diindentasi tepat empat spasi. Anda dapat melakukan ini dengan menekan tombol spasi empat kali, atau dengan menekan tombol \"Tab\" sekali pada keyboard Anda. (Saat Anda mempelajari lebih lanjut tentang Python, Anda mungkin perlu membuat indentasi kode lebih dari empat spasi, namun Anda akan mempelajarinya lebih lanjut nanti di kursus ini.)\n",
    "Fungsi ini melakukan tugasnya dengan menjalankan semua baris yang menjorok dari atas ke bawah.\n",
    "Dibutuhkan argumen sebagai input, yang dalam contohnya adalah input_var.\n",
    "Fungsi tersebut membuat variabel baru output_var dengan perhitungan output_var = input_var + 3.\n",
    "Kemudian, baris kode terakhir, yang disebut pernyataan return, hanya mengembalikan nilai di output_var sebagai output fungsi.\n",
    "Sel kode di atas hanya mendefinisikan fungsinya, tetapi tidak menjalankannya. Detail isi fungsi akan lebih masuk akal setelah sel kode berikutnya, saat kita benar-benar menjalankan fungsi tersebut."
   ]
  },
  {
   "cell_type": "markdown",
   "metadata": {},
   "source": [
    "# How to run (or \"call\") a function¶\n",
    "Saat kita menjalankan suatu fungsi, bisa juga disebut sebagai \"memanggil\" fungsi tersebut.\n",
    "\n",
    "Di sel kode di bawah ini, kita menjalankan fungsi dengan 10 sebagai nilai input. Kami mendefinisikan variabel baru new_number yang disetel ke output fungsi."
   ]
  },
  {
   "cell_type": "code",
   "execution_count": 3,
   "metadata": {},
   "outputs": [
    {
     "name": "stdout",
     "output_type": "stream",
     "text": [
      "13\n"
     ]
    }
   ],
   "source": [
    "# Run the function with 10 as input\n",
    "new_number = add_three(10)\n",
    "\n",
    "# Check that the value is 13, as expected\n",
    "print(new_number)"
   ]
  },
  {
   "cell_type": "markdown",
   "metadata": {},
   "source": [
    "add_three(10) memberi nilai 13 ke new_number. Fungsi add_three menambah 3 ke input (10) dan mengembalikan hasilnya (13)."
   ]
  },
  {
   "cell_type": "markdown",
   "metadata": {},
   "source": [
    "# Naming functions\n",
    "Pemberian Nama Fungsi:\n",
    "\n",
    "Dalam contoh sebelumnya, nama fungsi sudah ditentukan untuk Anda. Namun, saat membuat fungsi sendiri, Anda harus menggunakan aturan berikut:\n",
    "\n",
    "Gunakan huruf kecil saja.\n",
    "Pisahkan kata dengan garis bawah (_).\n",
    "Meskipun pada awalnya terasa tidak biasa, lama-kelamaan Anda akan terbiasa dengan penamaan fungsi seperti ini. Cara terbaik untuk mempelajarinya adalah dengan melihat banyak contoh kode Python lainnya."
   ]
  },
  {
   "cell_type": "markdown",
   "metadata": {},
   "source": [
    "# A more complex example\n",
    "Sekarang kita lanjut ke contoh perhitungan yang lebih panjang\n",
    "Misalkan Anda membantu teman menghitung gaji mingguan mereka setelah dipotong pajak.\n",
    "\n",
    "Mereka berada dalam kelompok pajak 12% (artinya, 12% dari gaji mereka dipotong untuk pajak, dan mereka hanya membawa pulang 88%).\n",
    "Mereka dibayar per jam, dengan tarif $15/jam.\n",
    "Fungsi di bawah ini menghitung gaji berdasarkan jumlah jam kerja. Fungsinya lebih rumit daripada contoh pertama karena memiliki lebih banyak baris kode dan komentar.\n",
    "\n",
    "Mirip dengan contoh di atas, fungsi ini memiliki satu argumen (jumlah_jam). Di dalam badan fungsi, kita:\n",
    "\n",
    "Menggunakan nilai jumlah_jam untuk menentukan nilai variabel baru gaji_sebelum_pajak.\n",
    "Menggunakan nilai gaji_sebelum_pajak untuk menentukan nilai variabel baru gaji_bersih.\n",
    "Mengembalikan nilai variabel gaji_bersih."
   ]
  },
  {
   "cell_type": "code",
   "execution_count": 4,
   "metadata": {},
   "outputs": [],
   "source": [
    "def get_pay(num_hours):\n",
    "    # Pre-tax pay, based on receiving $15/hour\n",
    "    pay_pretax = num_hours * 15\n",
    "    # After-tax pay, based on being in 12% tax bracket\n",
    "    pay_aftertax = pay_pretax * (1 - .12)\n",
    "    return pay_aftertax"
   ]
  },
  {
   "cell_type": "markdown",
   "metadata": {},
   "source": [
    "\n",
    "Kita memanggil fungsi ini dengan cara yang sama seperti memanggil fungsi yang pertama.  Blok kode selanjutnya menghitung gaji bersih berdasarkan kerja selama 40 jam (setelah pajak menjadi $528)."
   ]
  },
  {
   "cell_type": "code",
   "execution_count": 5,
   "metadata": {},
   "outputs": [
    {
     "name": "stdout",
     "output_type": "stream",
     "text": [
      "528.0\n"
     ]
    }
   ],
   "source": [
    "# Calculate pay based on working 40 hours\n",
    "pay_fulltime = get_pay(40)\n",
    "print(pay_fulltime)"
   ]
  },
  {
   "cell_type": "markdown",
   "metadata": {},
   "source": [
    "Untuk menghitung gaji dengan cepat berdasarkan jumlah jam kerja yang berbeda, Anda perlu memasukkan angka yang berbeda ke dalam fungsi. Misalnya, jika teman Anda bekerja selama 32 jam. (Maka, mereka mendapat gaji sebesar $422.40.)"
   ]
  },
  {
   "cell_type": "code",
   "execution_count": 6,
   "metadata": {},
   "outputs": [
    {
     "name": "stdout",
     "output_type": "stream",
     "text": [
      "422.4\n"
     ]
    }
   ],
   "source": [
    "pay_parttime = get_pay(32)\n",
    "print(pay_parttime)"
   ]
  },
  {
   "cell_type": "markdown",
   "metadata": {},
   "source": [
    "Keuntungan Menggunakan Fungsi\n",
    "\n",
    "Dengan menulis fungsi, Anda dapat menghitung gaji untuk jam kerja yang berbeda tanpa perlu menulis ulang semua kode perhitungan berulang-ulang. Fungsi dapat membantu Anda:\n",
    "\n",
    "Menghindari kesalahan dalam kode: Setiap kali Anda mengetik ulang perhitungan, ada kemungkinan terjadi kesalahan ketik atau kesalahan lainnya. Dengan fungsi, Anda hanya perlu menulis perhitungan sekali.\n",
    "Menghemat waktu: Alih-alih menulis ulang perhitungan yang sama untuk jam kerja yang berbeda, Anda cukup memanggil fungsi dengan jam kerja yang baru.\n",
    "Menulis kode yang lebih ringkas: Secara umum, saat menulis kode, Anda sebaiknya menulis sedikit mungkin kode. Fungsi membantu Anda mencapai hal ini."
   ]
  },
  {
   "cell_type": "markdown",
   "metadata": {},
   "source": [
    "# Variable \"scope\"\n",
    "Variabel yang ditetapkan di dalam badan fungsi tidak dapat diakses dari luar fungsi tersebut.  Sebagai contoh, kode selanjutnya akan menghasilkan error, karena pay_aftertax hanya ada di dalam fungsi."
   ]
  },
  {
   "cell_type": "code",
   "execution_count": 11,
   "metadata": {},
   "outputs": [
    {
     "ename": "NameError",
     "evalue": "name 'pay_aftertax' is not defined",
     "output_type": "error",
     "traceback": [
      "\u001b[1;31m---------------------------------------------------------------------------\u001b[0m",
      "\u001b[1;31mNameError\u001b[0m                                 Traceback (most recent call last)",
      "Cell \u001b[1;32mIn[11], line 1\u001b[0m\n\u001b[1;32m----> 1\u001b[0m \u001b[38;5;28mprint\u001b[39m(\u001b[43mpay_aftertax\u001b[49m)\n",
      "\u001b[1;31mNameError\u001b[0m: name 'pay_aftertax' is not defined"
     ]
    }
   ],
   "source": [
    "print(pay_aftertax)\n"
   ]
  },
  {
   "cell_type": "markdown",
   "metadata": {},
   "source": [
    "Variabel Lokal vs. Variabel Global\n",
    "\n",
    "Anda akan mendapatkan error yang sama jika mencoba mencetak pay_pretax atau num_hours. Hal ini terjadi karena variabel tersebut hanya ada di dalam fungsi (memiliki lingkup lokal).\n",
    "\n",
    "Untuk mengakses informasi dari fungsi, informasi tersebut perlu dimasukkan ke dalam pernyataan return di akhir fungsi.\n",
    "\n",
    "Lingkup variabel adalah bagian dari kode tempat variabel tersebut dapat diakses.\n",
    "Variabel yang ditetapkan di dalam fungsi (seperti pay_aftertax) hanya memiliki lingkup lokal pada fungsi tersebut.\n",
    "Sebaliknya, variabel yang ditetapkan di luar semua fungsi (seperti pay_parttime) memiliki lingkup global dan dapat diakses di mana saja dalam program."
   ]
  },
  {
   "cell_type": "markdown",
   "metadata": {},
   "source": [
    "# Functions with multiple arguments\n",
    "Fungsi bisa memiliki banyak argumen (dipisahkan koma).\n",
    "Contoh fungsi get_pay_with_more_inputs(): menghitung gaji berdasarkan jam kerja, upah per jam, dan persentase pajak."
   ]
  },
  {
   "cell_type": "code",
   "execution_count": 12,
   "metadata": {},
   "outputs": [],
   "source": [
    "def get_pay_with_more_inputs(num_hours, hourly_wage, tax_bracket):\n",
    "    # Pre-tax pay\n",
    "    pay_pretax = num_hours * hourly_wage\n",
    "    # After-tax pay\n",
    "    pay_aftertax = pay_pretax * (1 - tax_bracket)\n",
    "    return pay_aftertax"
   ]
  },
  {
   "cell_type": "markdown",
   "metadata": {},
   "source": [
    "Memanggil fungsi dengan beberapa argumen:\n",
    "\n",
    "Sertakan nilai untuk setiap argumen, dipisahkan dengan koma.\n",
    "Contoh: menghitung gaji seseorang yang bekerja 40 jam, dibayar $24/jam, dan berada dalam kelompok pajak 22%."
   ]
  },
  {
   "cell_type": "code",
   "execution_count": 13,
   "metadata": {},
   "outputs": [
    {
     "name": "stdout",
     "output_type": "stream",
     "text": [
      "748.8000000000001\n"
     ]
    }
   ],
   "source": [
    "higher_pay_aftertax = get_pay_with_more_inputs(40, 24, .22)\n",
    "print(higher_pay_aftertax)"
   ]
  },
  {
   "cell_type": "markdown",
   "metadata": {},
   "source": [
    "\n",
    "Kode selanjutnya memberikan hasil yang sama dengan menjalankan get_pay(40).  Hal ini karena di dalam fungsi get_pay_with_more_inputs(), variabel hourly_wage secara default bernilai 15 dan tax_bracket bernilai 12%, sesuai dengan bagaimana kita mendesain fungsi get_pay."
   ]
  },
  {
   "cell_type": "code",
   "execution_count": 14,
   "metadata": {},
   "outputs": [
    {
     "name": "stdout",
     "output_type": "stream",
     "text": [
      "528.0\n"
     ]
    }
   ],
   "source": [
    "same_pay_fulltime = get_pay_with_more_inputs(40, 15, .12)\n",
    "print(same_pay_fulltime)"
   ]
  },
  {
   "cell_type": "markdown",
   "metadata": {},
   "source": [
    "Fungsi get_pay_with_more_inputs() bisa lebih bermanfaat dibanding get_pay() tergantung kebutuhan.  get_pay_with_more_inputs() lebih fleksibel karena memungkinkan pengguna memasukkan upah per jam dan persentase pajak yang berbeda. Sebaliknya, get_pay()  membatasi pengguna dengan upah dan pajak default.\n",
    "\n",
    "Saat membuat fungsi, pertimbangkan  tingkat fleksibilitas yang Anda perlukan."
   ]
  },
  {
   "cell_type": "markdown",
   "metadata": {},
   "source": [
    "# Functions with no arguments\n",
    "Fungsi bisa dibuat tanpa argumen dan tanpa pernyataan return. Contohnya adalah fungsi print_hello() pada kode berikut.\n"
   ]
  },
  {
   "cell_type": "code",
   "execution_count": 8,
   "metadata": {},
   "outputs": [
    {
     "name": "stdout",
     "output_type": "stream",
     "text": [
      "Hello, you!\n",
      "Good morning!\n"
     ]
    }
   ],
   "source": [
    "# Define the function with no arguments and with no return\n",
    "def print_hello():\n",
    "    print(\"Hello, you!\")\n",
    "    print(\"Good morning!\")\n",
    "    \n",
    "# Call the function\n",
    "print_hello()"
   ]
  }
 ],
 "metadata": {
  "kernelspec": {
   "display_name": "Python 3",
   "language": "python",
   "name": "python3"
  },
  "language_info": {
   "codemirror_mode": {
    "name": "ipython",
    "version": 3
   },
   "file_extension": ".py",
   "mimetype": "text/x-python",
   "name": "python",
   "nbconvert_exporter": "python",
   "pygments_lexer": "ipython3",
   "version": "3.11.8"
  }
 },
 "nbformat": 4,
 "nbformat_minor": 2
}
