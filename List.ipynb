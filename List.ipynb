{
 "cells": [
  {
   "cell_type": "markdown",
   "metadata": {},
   "source": [
    "## LISTS"
   ]
  },
  {
   "cell_type": "markdown",
   "metadata": {},
   "source": [
    " List adalah struktur data yang digunakan untuk menyimpan kumpulan elemen dalam urutan tertentu. List dapat berisi berbagai jenis objek, termasuk bilangan bulat, float, string, bahkan list lainnya atau objek yang lebih kompleks. List adalah salah satu dari beberapa tipe data yang tersedia di Python untuk menyimpan banyak nilai dalam satu variabel.\n",
    "\n",
    "Berikut adalah contoh sederhana pembuatan dan penggunaan list di Python:"
   ]
  },
  {
   "cell_type": "code",
   "execution_count": 3,
   "metadata": {},
   "outputs": [],
   "source": [
    "# Membuat list kosong\n",
    "my_list = []"
   ]
  },
  {
   "cell_type": "code",
   "execution_count": 4,
   "metadata": {},
   "outputs": [],
   "source": [
    "# Menambahkan elemen ke dalam list\n",
    "my_list.append(1)\n",
    "my_list.append(2)\n",
    "my_list.append(3)"
   ]
  },
  {
   "cell_type": "code",
   "execution_count": 5,
   "metadata": {},
   "outputs": [
    {
     "name": "stdout",
     "output_type": "stream",
     "text": [
      "[1, 2, 3]\n"
     ]
    }
   ],
   "source": [
    "print(my_list)  # Output: [1, 2, 3]"
   ]
  },
  {
   "cell_type": "code",
   "execution_count": 6,
   "metadata": {},
   "outputs": [
    {
     "name": "stdout",
     "output_type": "stream",
     "text": [
      "1\n",
      "2\n"
     ]
    }
   ],
   "source": [
    "# Mengakses elemen list menggunakan indeks\n",
    "print(my_list[0])  # Output: 1\n",
    "print(my_list[1])  # Output: 2"
   ]
  },
  {
   "cell_type": "code",
   "execution_count": 7,
   "metadata": {},
   "outputs": [
    {
     "name": "stdout",
     "output_type": "stream",
     "text": [
      "[10, 2, 3]\n"
     ]
    }
   ],
   "source": [
    "# Mengubah nilai elemen list\n",
    "my_list[0] = 10\n",
    "print(my_list)  # Output: [10, 2, 3]\n"
   ]
  },
  {
   "cell_type": "code",
   "execution_count": 8,
   "metadata": {},
   "outputs": [
    {
     "name": "stdout",
     "output_type": "stream",
     "text": [
      "[10, 3]\n"
     ]
    }
   ],
   "source": [
    "# Menghapus elemen dari list\n",
    "my_list.remove(2)\n",
    "print(my_list)  # Output: [10, 3]"
   ]
  },
  {
   "cell_type": "code",
   "execution_count": 9,
   "metadata": {},
   "outputs": [
    {
     "name": "stdout",
     "output_type": "stream",
     "text": [
      "2\n"
     ]
    }
   ],
   "source": [
    "# Menghitung panjang list\n",
    "print(len(my_list))  # Output: 2"
   ]
  },
  {
   "cell_type": "markdown",
   "metadata": {},
   "source": [
    "Di samping itu, Anda juga bisa membuat list langsung dengan elemen-elemennya tanpa harus mendefinisikan list kosong terlebih dahulu. Berikut contohnya:"
   ]
  },
  {
   "cell_type": "code",
   "execution_count": 10,
   "metadata": {},
   "outputs": [
    {
     "name": "stdout",
     "output_type": "stream",
     "text": [
      "[1, 2, 3, 4, 5]\n"
     ]
    }
   ],
   "source": [
    "# Membuat list langsung dengan elemen-elemennya\n",
    "my_list = [1, 2, 3, 4, 5]\n",
    "print(my_list)  # Output: [1, 2, 3, 4, 5]"
   ]
  },
  {
   "cell_type": "markdown",
   "metadata": {},
   "source": [
    "List di Python bersifat dinamis, yang berarti Anda bisa menambahkan, mengubah, atau menghapus elemen-elemennya setelah list tersebut dibuat. List juga mendukung pengindeksan negatif, yang memungkinkan Anda mengakses elemen dari belakang list dengan menggunakan indeks negatif. Misalnya, my_list[-1] akan mengembalikan elemen terakhir dari list.\n",
    "\n",
    "Selain itu, Python juga menyediakan berbagai metode bawaan untuk memanipulasi list, seperti append(), insert(), remove(), pop(), extend(), dan masih banyak lagi. Dengan berbagai operasi dan metode ini, list menjadi struktur data yang sangat fleksibel dan berguna di Python."
   ]
  },
  {
   "cell_type": "markdown",
   "metadata": {},
   "source": [
    "Berikut juga ada beberapa contoh lain dari list:"
   ]
  },
  {
   "cell_type": "code",
   "execution_count": 11,
   "metadata": {},
   "outputs": [
    {
     "name": "stdout",
     "output_type": "stream",
     "text": [
      "<class 'str'>\n",
      "pink primrose,hard-leaved pocket orchid,canterbury bells,sweet pea,english marigold,tiger lily,moon orchid,bird of paradise,monkshood,globe thistle\n"
     ]
    }
   ],
   "source": [
    "flowers = \"pink primrose,hard-leaved pocket orchid,canterbury bells,sweet pea,english marigold,tiger lily,moon orchid,bird of paradise,monkshood,globe thistle\"\n",
    "\n",
    "print(type(flowers))\n",
    "print(flowers)"
   ]
  },
  {
   "cell_type": "code",
   "execution_count": 12,
   "metadata": {},
   "outputs": [
    {
     "name": "stdout",
     "output_type": "stream",
     "text": [
      "<class 'list'>\n",
      "['pink primrose', 'hard-leaved pocket orchid', 'canterbury bells', 'sweet pea', 'english marigold', 'tiger lily', 'moon orchid', 'bird of paradise', 'monkshood', 'globe thistle']\n"
     ]
    }
   ],
   "source": [
    "flowers_list = [\"pink primrose\", \"hard-leaved pocket orchid\", \"canterbury bells\", \"sweet pea\", \"english marigold\", \"tiger lily\", \"moon orchid\", \"bird of paradise\", \"monkshood\", \"globe thistle\"]\n",
    "\n",
    "print(type(flowers_list))\n",
    "print(flowers_list)"
   ]
  },
  {
   "cell_type": "markdown",
   "metadata": {},
   "source": [
    "# Length"
   ]
  },
  {
   "cell_type": "code",
   "execution_count": 14,
   "metadata": {},
   "outputs": [
    {
     "name": "stdout",
     "output_type": "stream",
     "text": [
      "10\n"
     ]
    }
   ],
   "source": [
    "# The list has ten entries\n",
    "print(len(flowers_list))"
   ]
  },
  {
   "cell_type": "markdown",
   "metadata": {},
   "source": [
    "Jika flowers_list adalah list yang berisi nama-nama bunga, Anda dapat menggunakan fungsi len() untuk menghitung jumlah entri (elemen) dalam list tersebut.Hasil cetaknya akan menampilkan jumlah entri dalam list flowers_list, yang merupakan jumlah total nama-nama bunga yang telah dipisahkan dari string sebelumnya."
   ]
  },
  {
   "cell_type": "markdown",
   "metadata": {},
   "source": [
    "# Indexing"
   ]
  },
  {
   "cell_type": "code",
   "execution_count": 15,
   "metadata": {},
   "outputs": [
    {
     "name": "stdout",
     "output_type": "stream",
     "text": [
      "First entry: pink primrose\n",
      "Second entry: hard-leaved pocket orchid\n",
      "Last entry: globe thistle\n"
     ]
    }
   ],
   "source": [
    "print(\"First entry:\", flowers_list[0])\n",
    "print(\"Second entry:\", flowers_list[1])\n",
    "\n",
    "# The list has length ten, so we refer to final entry with 9\n",
    "print(\"Last entry:\", flowers_list[9])"
   ]
  },
  {
   "cell_type": "markdown",
   "metadata": {},
   "source": [
    "# Slicing"
   ]
  },
  {
   "cell_type": "code",
   "execution_count": 16,
   "metadata": {},
   "outputs": [
    {
     "name": "stdout",
     "output_type": "stream",
     "text": [
      "First three entries: ['pink primrose', 'hard-leaved pocket orchid', 'canterbury bells']\n",
      "Final two entries: ['monkshood', 'globe thistle']\n"
     ]
    }
   ],
   "source": [
    "print(\"First three entries:\", flowers_list[:3])\n",
    "print(\"Final two entries:\", flowers_list[-2:])"
   ]
  },
  {
   "cell_type": "markdown",
   "metadata": {},
   "source": [
    "flowers_list[:3]: Ini akan mengambil semua entri dari indeks 0 hingga indeks 2 (indeks 3 tidak termasuk), sehingga menghasilkan tiga entri pertama dari list.\n",
    "flowers_list[-2:]: Ini akan mengambil dua entri terakhir dari list menggunakan slicing dengan indeks negatif, di mana -2 mengacu pada entri sebelum terakhir dan : tanpa batas kanan berarti mengambil sampai akhir list.\n",
    "Hasilnya akan mencetak tiga entri pertama dan dua entri terakhir dari list flowers_list."
   ]
  },
  {
   "cell_type": "markdown",
   "metadata": {},
   "source": [
    "# Removing Items"
   ]
  },
  {
   "cell_type": "code",
   "execution_count": 17,
   "metadata": {},
   "outputs": [
    {
     "name": "stdout",
     "output_type": "stream",
     "text": [
      "['pink primrose', 'hard-leaved pocket orchid', 'canterbury bells', 'sweet pea', 'english marigold', 'tiger lily', 'moon orchid', 'bird of paradise', 'monkshood']\n"
     ]
    }
   ],
   "source": [
    "flowers_list.remove(\"globe thistle\")\n",
    "print(flowers_list)"
   ]
  },
  {
   "cell_type": "markdown",
   "metadata": {},
   "source": [
    "Hasil cetaknya akan menampilkan list flowers_list setelah elemen \"globe thistle\" dihapus. Artinya, \"globe thistle\" tidak akan ada lagi dalam list tersebut."
   ]
  },
  {
   "cell_type": "markdown",
   "metadata": {},
   "source": [
    "# Adding Items"
   ]
  },
  {
   "cell_type": "code",
   "execution_count": 18,
   "metadata": {},
   "outputs": [
    {
     "name": "stdout",
     "output_type": "stream",
     "text": [
      "['pink primrose', 'hard-leaved pocket orchid', 'canterbury bells', 'sweet pea', 'english marigold', 'tiger lily', 'moon orchid', 'bird of paradise', 'monkshood', 'snapdragon']\n"
     ]
    }
   ],
   "source": [
    "flowers_list.append(\"snapdragon\")\n",
    "print(flowers_list)"
   ]
  },
  {
   "cell_type": "markdown",
   "metadata": {},
   "source": [
    "Metode append() untuk menambahkan elemen \"snapdragon\" ke dalam list flowers_list. Metode append() digunakan untuk menambahkan elemen baru ke akhir list.\n",
    "Hasil cetaknya akan menampilkan list flowers_list setelah elemen \"snapdragon\" ditambahkan ke akhir list tersebut. Artinya, \"snapdragon\" akan menjadi elemen terakhir dari list tersebut."
   ]
  },
  {
   "cell_type": "markdown",
   "metadata": {},
   "source": [
    "# Lists are not just for strings"
   ]
  },
  {
   "cell_type": "code",
   "execution_count": 21,
   "metadata": {},
   "outputs": [],
   "source": [
    "hardcover_sales = [139, 128, 172, 139, 191, 168, 170]"
   ]
  },
  {
   "cell_type": "markdown",
   "metadata": {},
   "source": [
    "List ini berisi tujuh entri yang masing-masing merupakan jumlah penjualan buku hardcover pada bulan-bulan yang berbeda. Misalnya, angka pertama (139) mewakili jumlah penjualan buku hardcover pada bulan pertama, angka kedua (128) mewakili jumlah penjualan pada bulan kedua, dan seterusnya."
   ]
  },
  {
   "cell_type": "code",
   "execution_count": 20,
   "metadata": {},
   "outputs": [
    {
     "name": "stdout",
     "output_type": "stream",
     "text": [
      "Length of the list: 7\n",
      "Entry at index 2: 172\n"
     ]
    }
   ],
   "source": [
    "print(\"Length of the list:\", len(hardcover_sales))\n",
    "print(\"Entry at index 2:\", hardcover_sales[2])"
   ]
  },
  {
   "cell_type": "markdown",
   "metadata": {},
   "source": [
    "Anda telah menggunakan beberapa operasi dasar pada list hardcover_sales. Berikut adalah penjelasan untuk setiap pernyataan cetak:\n",
    "\n",
    "'print(\"Length of the list:\", len(hardcover_sales))'\n",
    "Baris ini mencetak panjang list hardcover_sales menggunakan fungsi len(). Hasil cetaknya akan menampilkan jumlah bulan yang direpresentasikan dalam list tersebut.\n",
    "\n",
    "'print(\"Entry at index 2:\", hardcover_sales[2])'\n",
    "Baris ini mencetak nilai dari entri pada indeks ke-2 (indeks yang ketiga dalam urutan, karena indeks dimulai dari 0) dalam list hardcover_sales. Ini akan mencetak jumlah penjualan buku hardcover pada bulan yang ketiga dalam periode waktu yang diberikan.\n",
    "\n",
    "Ini akan menghasilkan output yang mencakup panjang list hardcover_sales dan jumlah penjualan buku hardcover pada bulan yang ketiga."
   ]
  },
  {
   "cell_type": "code",
   "execution_count": 22,
   "metadata": {},
   "outputs": [
    {
     "name": "stdout",
     "output_type": "stream",
     "text": [
      "Minimum: 128\n",
      "Maximum: 191\n"
     ]
    }
   ],
   "source": [
    "print(\"Minimum:\", min(hardcover_sales))\n",
    "print(\"Maximum:\", max(hardcover_sales))"
   ]
  },
  {
   "cell_type": "markdown",
   "metadata": {},
   "source": [
    "Anda menggunakan fungsi min() dan max() untuk mencari nilai minimum dan maksimum dalam list hardcover_sales. Berikut adalah penjelasan untuk setiap pernyataan cetak:\n",
    "\n",
    "'print(\"Minimum:\", min(hardcover_sales))'\n",
    "Baris ini mencetak nilai minimum dari list hardcover_sales menggunakan fungsi min(). Hasil cetaknya akan menampilkan jumlah penjualan buku hardcover terendah selama periode waktu yang diberikan.\n",
    "\n",
    "'print(\"Maximum:\", max(hardcover_sales))'\n",
    "Baris ini mencetak nilai maksimum dari list hardcover_sales menggunakan fungsi max(). Hasil cetaknya akan menampilkan jumlah penjualan buku hardcover tertinggi selama periode waktu yang diberikan.\n",
    "\n",
    "Ini akan menghasilkan output yang mencakup nilai minimum dan maksimum dari list hardcover_sales."
   ]
  },
  {
   "cell_type": "code",
   "execution_count": 23,
   "metadata": {},
   "outputs": [
    {
     "name": "stdout",
     "output_type": "stream",
     "text": [
      "Total books sold in one week: 1107\n"
     ]
    }
   ],
   "source": [
    "print(\"Total books sold in one week:\", sum(hardcover_sales))"
   ]
  },
  {
   "cell_type": "markdown",
   "metadata": {},
   "source": [
    "Anda menggunakan fungsi sum() untuk menghitung jumlah total penjualan buku hardcover selama satu minggu berdasarkan data yang ada dalam list hardcover_sales. Fungsi sum() digunakan untuk menambahkan semua elemen dalam list.\n",
    "\n",
    "Berikut adalah pernyataan cetak yang Anda gunakan:\n",
    "'print(\"Total books sold in one week:\", sum(hardcover_sales))'\n",
    "Perintah ini akan mencetak jumlah total penjualan buku hardcover selama satu minggu, yang dihitung dengan menjumlahkan semua angka dalam list hardcover_sales. Outputnya akan menampilkan total penjualan buku hardcover selama satu minggu."
   ]
  },
  {
   "cell_type": "code",
   "execution_count": 24,
   "metadata": {},
   "outputs": [
    {
     "name": "stdout",
     "output_type": "stream",
     "text": [
      "Average books sold in first five days: 153.8\n"
     ]
    }
   ],
   "source": [
    "print(\"Average books sold in first five days:\", sum(hardcover_sales[:5])/5)"
   ]
  },
  {
   "cell_type": "markdown",
   "metadata": {},
   "source": [
    "Anda menggunakan slicing untuk mengambil data penjualan buku hardcover dari lima hari pertama dari list hardcover_sales, kemudian menghitung rata-rata penjualan pada periode tersebut.\n",
    "\n",
    "Berikut adalah pernyataan cetak yang Anda gunakan:\n",
    "'print(\"Average books sold in first five days:\", sum(hardcover_sales[:5])/5)'\n",
    "Perintah ini akan mencetak rata-rata penjualan buku hardcover selama lima hari pertama. Ini dihitung dengan menjumlahkan penjualan buku hardcover pada lima hari pertama (sum(hardcover_sales[:5])) dan membaginya dengan jumlah hari (5). Outputnya akan menampilkan rata-rata penjualan buku hardcover selama lima hari pertama."
   ]
  }
 ],
 "metadata": {
  "interpreter": {
   "hash": "6991831720b726829475ab2fdaae779fa846493d282639f93ea99b469bb29648"
  },
  "kernelspec": {
   "display_name": "Python 3.12.2 64-bit",
   "language": "python",
   "name": "python3"
  },
  "language_info": {
   "codemirror_mode": {
    "name": "ipython",
    "version": 3
   },
   "file_extension": ".py",
   "mimetype": "text/x-python",
   "name": "python",
   "nbconvert_exporter": "python",
   "pygments_lexer": "ipython3",
   "version": "3.12.2"
  },
  "orig_nbformat": 4
 },
 "nbformat": 4,
 "nbformat_minor": 2
}
