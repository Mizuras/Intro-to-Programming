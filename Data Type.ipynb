{
 "cells": [
  {
   "cell_type": "markdown",
   "metadata": {},
   "source": [
    "# Intoduction"
   ]
  },
  {
   "cell_type": "markdown",
   "metadata": {},
   "source": [
    "Tipe data adalah klasifikasi nilai suatu variabel yang membantu operasi komputer untuk mengenali nilai data tanpa menghasilkan output error. Tipe data memudahkan program dalam mendeteksi berbagai jenis informasi dan memastikan sistem operasional berjalan dengan baik serta meminimalkan kesalahan. Dalam pemrograman, tipe data digunakan untuk menyimpan dan mengelola nilai atau informasi. Tipe data penting karena menentukan jenis tindakan yang dapat Anda lakukan dengannya.Untuk menghindari kesalahan, kita perlu memastikan bahwa tindakan tersebut sesuai dengan tipe data yang kita miliki. Berikut adalah beberapa jenis tipe data yang umum digunakan:\n",
    "#### String\n",
    "- Tipe data string terdiri dari satu atau lebih karakter yang berisi angka, huruf, atau jenis karakter lainnya.\n",
    "- Digunakan untuk mengartikan data yang bersifat alfanumerik atau berisi angka dan huruf.\n"
   ]
  },
  {
   "cell_type": "code",
   "execution_count": 2,
   "metadata": {},
   "outputs": [
    {
     "data": {
      "text/plain": [
       "'Hello, World!'"
      ]
     },
     "execution_count": 2,
     "metadata": {},
     "output_type": "execute_result"
    }
   ],
   "source": [
    "\"Hello, World!\""
   ]
  },
  {
   "cell_type": "markdown",
   "metadata": {},
   "source": [
    "#### Boolean\n",
    "- Tipe data boolean mengartikan nilai benar (true) atau salah (false).\n",
    "- Biasanya direpresentasikan dengan angka 0 untuk false dan angka 1 untuk true.\n",
    "- contoh: di sel kode di bawah ini, z_one diatur ke boolean dengan nilai True."
   ]
  },
  {
   "cell_type": "code",
   "execution_count": 14,
   "metadata": {},
   "outputs": [
    {
     "name": "stdout",
     "output_type": "stream",
     "text": [
      "True\n",
      "<class 'bool'>\n"
     ]
    }
   ],
   "source": [
    "z_one = True\n",
    "print(z_one)\n",
    "print(type(z_one))"
   ]
  },
  {
   "cell_type": "code",
   "execution_count": 4,
   "metadata": {},
   "outputs": [
    {
     "name": "stdout",
     "output_type": "stream",
     "text": [
      "False\n"
     ]
    }
   ],
   "source": [
    "# Membuat variabel saldo dengan tipe data integer\n",
    "saldo = 500000\n",
    "# Membuat variabel harga_produk dengan tipe data integer\n",
    "harga_produk = 2390494\n",
    "# Membuat variabel dengan nilai boolean dari hasil perbandingan di atas\n",
    "# Kita cek apakah nilai saldo lebih besar dari harga produk\n",
    "cek_hasil = saldo > harga_produk\n",
    "# Hasilnya adalah False\n",
    "# Di sini kita sudah memiliki tipe data baru yaitu boolean\n",
    "print(cek_hasil)"
   ]
  },
  {
   "cell_type": "markdown",
   "metadata": {},
   "source": [
    "Dalam contoh di atas, kita menghitung apakah nilai saldo lebih besar dari harga_produk. Jika kondisi tersebut benar, maka variabel cek_hasil akan berisi True, jika salah, maka akan berisi False"
   ]
  },
  {
   "cell_type": "markdown",
   "metadata": {},
   "source": [
    "#### Character\n",
    "Tipe data karakter menyimpan satu karakter (huruf, angka, atau simbol)."
   ]
  },
  {
   "cell_type": "code",
   "execution_count": 3,
   "metadata": {},
   "outputs": [
    {
     "data": {
      "text/plain": [
       "('A', '7')"
      ]
     },
     "execution_count": 3,
     "metadata": {},
     "output_type": "execute_result"
    }
   ],
   "source": [
    "'A', '7'"
   ]
  },
  {
   "cell_type": "markdown",
   "metadata": {},
   "source": [
    "#### Integers\n",
    "Tipe data integer menyimpan bilangan bulat (positif, negatif, atau nol). Bilangan bulat adalah bilangan yang tidak mempunyai bagian pecahan dan dapat bernilai positif (1, 2, 3, ...), negatif (-1, -2, -3, ...), atau nol (0). \n",
    "Di sel kode di bawah, kita menetapkan variabel x ke bilangan bulat. Kami kemudian memverifikasi tipe data dengan type(), dan hanya perlu memasukkan nama variabel ke dalam tanda kurung."
   ]
  },
  {
   "cell_type": "code",
   "execution_count": 8,
   "metadata": {},
   "outputs": [
    {
     "name": "stdout",
     "output_type": "stream",
     "text": [
      "14\n",
      "<class 'int'>\n"
     ]
    }
   ],
   "source": [
    "x = 14\n",
    "print(x)\n",
    "print(type(x))"
   ]
  },
  {
   "cell_type": "markdown",
   "metadata": {},
   "source": [
    "Pada output di atas, <class 'int'> mengacu pada tipe data integer."
   ]
  },
  {
   "cell_type": "markdown",
   "metadata": {},
   "source": [
    "#### Array\n",
    "Tipe data array adalah kumpulan nilai dengan tipe data yang sama."
   ]
  },
  {
   "cell_type": "code",
   "execution_count": 6,
   "metadata": {},
   "outputs": [
    {
     "data": {
      "text/plain": [
       "[1, 2, 3, 4]"
      ]
     },
     "execution_count": 6,
     "metadata": {},
     "output_type": "execute_result"
    }
   ],
   "source": [
    "[1, 2, 3, 4]"
   ]
  },
  {
   "cell_type": "markdown",
   "metadata": {},
   "source": [
    "#### Floating Point\n",
    "Tipe data floating point menyimpan bilangan desimal (dengan titik desimal)."
   ]
  },
  {
   "cell_type": "code",
   "execution_count": 10,
   "metadata": {},
   "outputs": [
    {
     "name": "stdout",
     "output_type": "stream",
     "text": [
      "3.141592653589793\n",
      "<class 'float'>\n"
     ]
    }
   ],
   "source": [
    "nearly_pi = 3.141592653589793238462643383279502884197169399375105820974944\n",
    "print(nearly_pi)\n",
    "print(type(nearly_pi))"
   ]
  },
  {
   "cell_type": "markdown",
   "metadata": {},
   "source": [
    "Kita juga dapat menentukan float dengan pecahan."
   ]
  },
  {
   "cell_type": "code",
   "execution_count": 11,
   "metadata": {},
   "outputs": [
    {
     "name": "stdout",
     "output_type": "stream",
     "text": [
      "3.142857142857143\n",
      "<class 'float'>\n"
     ]
    }
   ],
   "source": [
    "almost_pi = 22/7\n",
    "print(almost_pi)\n",
    "print(type(almost_pi))"
   ]
  },
  {
   "cell_type": "markdown",
   "metadata": {},
   "source": [
    "Salah satu fungsi yang sangat berguna untuk pecahan adalah fungsi round(). Ini memungkinkan Anda membulatkan angka ke sejumlah tempat desimal tertentu."
   ]
  },
  {
   "cell_type": "code",
   "execution_count": 12,
   "metadata": {},
   "outputs": [
    {
     "name": "stdout",
     "output_type": "stream",
     "text": [
      "3.14286\n",
      "<class 'float'>\n"
     ]
    }
   ],
   "source": [
    "# Round to 5 decimal places\n",
    "rounded_pi = round(almost_pi, 5)\n",
    "print(rounded_pi)\n",
    "print(type(rounded_pi))"
   ]
  },
  {
   "cell_type": "markdown",
   "metadata": {},
   "source": [
    "Setiap kali menulis angka dengan koma desimal, Python mengenalinya sebagai tipe data float. Misalnya, 1. (atau 1.0, 1.00, dll) akan dikenali sebagai float. Hal ini terjadi, meskipun angka-angka ini secara teknis tidak memiliki bagian pecahan!"
   ]
  },
  {
   "cell_type": "code",
   "execution_count": 13,
   "metadata": {},
   "outputs": [
    {
     "name": "stdout",
     "output_type": "stream",
     "text": [
      "1.0\n",
      "<class 'float'>\n"
     ]
    }
   ],
   "source": [
    "y_float = 1.\n",
    "print(y_float)\n",
    "print(type(y_float))"
   ]
  }
 ],
 "metadata": {
  "kernelspec": {
   "display_name": "Python 3",
   "language": "python",
   "name": "python3"
  },
  "language_info": {
   "codemirror_mode": {
    "name": "ipython",
    "version": 3
   },
   "file_extension": ".py",
   "mimetype": "text/x-python",
   "name": "python",
   "nbconvert_exporter": "python",
   "pygments_lexer": "ipython3",
   "version": "3.11.8"
  }
 },
 "nbformat": 4,
 "nbformat_minor": 2
}
