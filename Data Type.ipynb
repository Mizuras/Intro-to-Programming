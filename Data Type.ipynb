{
 "cells": [
  {
   "cell_type": "markdown",
   "metadata": {},
   "source": [
    "# Intoduction"
   ]
  },
  {
   "cell_type": "markdown",
   "metadata": {},
   "source": [
    "Tipe data adalah klasifikasi nilai suatu variabel yang membantu operasi komputer untuk mengenali nilai data tanpa menghasilkan output error. Tipe data memudahkan program dalam mendeteksi berbagai jenis informasi dan memastikan sistem operasional berjalan dengan baik serta meminimalkan kesalahan. Dalam pemrograman, tipe data digunakan untuk menyimpan dan mengelola nilai atau informasi. Tipe data penting karena menentukan jenis tindakan yang dapat Anda lakukan dengannya.Untuk menghindari kesalahan, kita perlu memastikan bahwa tindakan tersebut sesuai dengan tipe data yang kita miliki. Berikut adalah beberapa jenis tipe data yang umum digunakan:\n",
    "#### String\n",
    "- Tipe data string terdiri dari satu atau lebih karakter yang berisi angka, huruf, atau jenis karakter lainnya.\n",
    "- Digunakan untuk mengartikan data yang bersifat alfanumerik atau berisi angka dan huruf.\n"
   ]
  },
  {
   "cell_type": "code",
   "execution_count": 60,
   "metadata": {},
   "outputs": [
    {
     "name": "stdout",
     "output_type": "stream",
     "text": [
      "Hello, Python!\n",
      "<class 'str'>\n"
     ]
    }
   ],
   "source": [
    "w = \"Hello, Python!\"\n",
    "print(w)\n",
    "print(type(w))"
   ]
  },
  {
   "cell_type": "markdown",
   "metadata": {},
   "source": [
    "Salah satu tipe string khusus adalah string kosong, yang panjangnya nol."
   ]
  },
  {
   "cell_type": "code",
   "execution_count": 61,
   "metadata": {},
   "outputs": [
    {
     "name": "stdout",
     "output_type": "stream",
     "text": [
      "<class 'str'>\n",
      "0\n"
     ]
    }
   ],
   "source": [
    "shortest_string = \"\"\n",
    "print(type(shortest_string))\n",
    "print(len(shortest_string))"
   ]
  },
  {
   "cell_type": "markdown",
   "metadata": {},
   "source": [
    "#### Boolean\n",
    "- Tipe data boolean mengartikan nilai benar (true) atau salah (false).\n",
    "- Biasanya direpresentasikan dengan angka 0 untuk false dan angka 1 untuk true.\n",
    "- contoh: di sel kode di bawah, z_one diatur ke boolean dengan nilai True."
   ]
  },
  {
   "cell_type": "code",
   "execution_count": 49,
   "metadata": {},
   "outputs": [
    {
     "name": "stdout",
     "output_type": "stream",
     "text": [
      "True\n",
      "<class 'bool'>\n"
     ]
    }
   ],
   "source": [
    "z_one = True\n",
    "print(z_one)\n",
    "print(type(z_one))"
   ]
  },
  {
   "cell_type": "markdown",
   "metadata": {},
   "source": [
    "Selanjutnya, z_two disetel ke boolean dengan nilai False."
   ]
  },
  {
   "cell_type": "code",
   "execution_count": 50,
   "metadata": {},
   "outputs": [
    {
     "name": "stdout",
     "output_type": "stream",
     "text": [
      "False\n",
      "<class 'bool'>\n"
     ]
    }
   ],
   "source": [
    "z_two = False\n",
    "print(z_two)\n",
    "print(type(z_two))"
   ]
  },
  {
   "cell_type": "markdown",
   "metadata": {},
   "source": [
    "Boolean digunakan untuk mewakili nilai kebenaran suatu ekspresi. Karena 1 < 2 adalah pernyataan yang benar, z_three bernilai Benar."
   ]
  },
  {
   "cell_type": "code",
   "execution_count": 51,
   "metadata": {},
   "outputs": [
    {
     "name": "stdout",
     "output_type": "stream",
     "text": [
      "True\n",
      "<class 'bool'>\n"
     ]
    }
   ],
   "source": [
    "z_three = (1 < 2)\n",
    "print(z_three)\n",
    "print(type(z_three))"
   ]
  },
  {
   "cell_type": "markdown",
   "metadata": {},
   "source": [
    "#### Character\n",
    "Tipe data karakter menyimpan satu karakter (huruf, angka, atau simbol)."
   ]
  },
  {
   "cell_type": "code",
   "execution_count": 52,
   "metadata": {},
   "outputs": [
    {
     "data": {
      "text/plain": [
       "('A', '7')"
      ]
     },
     "execution_count": 52,
     "metadata": {},
     "output_type": "execute_result"
    }
   ],
   "source": [
    "'A', '7'"
   ]
  },
  {
   "cell_type": "markdown",
   "metadata": {},
   "source": [
    "#### Integers\n",
    "Tipe data integer menyimpan bilangan bulat (positif, negatif, atau nol). Bilangan bulat adalah bilangan yang tidak mempunyai bagian pecahan dan dapat bernilai positif (1, 2, 3, ...), negatif (-1, -2, -3, ...), atau nol (0). \n",
    "Di sel kode di bawah, kita menetapkan variabel x ke bilangan bulat. Kami kemudian memverifikasi tipe data dengan type(), dan hanya perlu memasukkan nama variabel ke dalam tanda kurung."
   ]
  },
  {
   "cell_type": "code",
   "execution_count": 53,
   "metadata": {},
   "outputs": [
    {
     "name": "stdout",
     "output_type": "stream",
     "text": [
      "14\n",
      "<class 'int'>\n"
     ]
    }
   ],
   "source": [
    "x = 14\n",
    "print(x)\n",
    "print(type(x))"
   ]
  },
  {
   "cell_type": "markdown",
   "metadata": {},
   "source": [
    "Pada output di atas, <class 'int'> mengacu pada tipe data integer."
   ]
  },
  {
   "cell_type": "markdown",
   "metadata": {},
   "source": [
    "#### Array\n",
    "Tipe data array adalah kumpulan nilai dengan tipe data yang sama."
   ]
  },
  {
   "cell_type": "code",
   "execution_count": 54,
   "metadata": {},
   "outputs": [
    {
     "data": {
      "text/plain": [
       "[1, 2, 3, 4]"
      ]
     },
     "execution_count": 54,
     "metadata": {},
     "output_type": "execute_result"
    }
   ],
   "source": [
    "[1, 2, 3, 4]"
   ]
  },
  {
   "cell_type": "markdown",
   "metadata": {},
   "source": [
    "#### Floating Point\n",
    "Tipe data floating point menyimpan bilangan desimal (dengan titik desimal)."
   ]
  },
  {
   "cell_type": "code",
   "execution_count": 55,
   "metadata": {},
   "outputs": [
    {
     "name": "stdout",
     "output_type": "stream",
     "text": [
      "3.141592653589793\n",
      "<class 'float'>\n"
     ]
    }
   ],
   "source": [
    "nearly_pi = 3.141592653589793238462643383279502884197169399375105820974944\n",
    "print(nearly_pi)\n",
    "print(type(nearly_pi))"
   ]
  },
  {
   "cell_type": "markdown",
   "metadata": {},
   "source": [
    "Kita juga dapat menentukan float dengan pecahan."
   ]
  },
  {
   "cell_type": "code",
   "execution_count": 56,
   "metadata": {},
   "outputs": [
    {
     "name": "stdout",
     "output_type": "stream",
     "text": [
      "3.142857142857143\n",
      "<class 'float'>\n"
     ]
    }
   ],
   "source": [
    "almost_pi = 22/7\n",
    "print(almost_pi)\n",
    "print(type(almost_pi))"
   ]
  },
  {
   "cell_type": "markdown",
   "metadata": {},
   "source": [
    "Salah satu fungsi yang sangat berguna untuk pecahan adalah fungsi round(). Ini memungkinkan Anda membulatkan angka ke sejumlah tempat desimal tertentu."
   ]
  },
  {
   "cell_type": "code",
   "execution_count": 57,
   "metadata": {},
   "outputs": [
    {
     "name": "stdout",
     "output_type": "stream",
     "text": [
      "3.14286\n",
      "<class 'float'>\n"
     ]
    }
   ],
   "source": [
    "# Round to 5 decimal places\n",
    "rounded_pi = round(almost_pi, 5)\n",
    "print(rounded_pi)\n",
    "print(type(rounded_pi))"
   ]
  },
  {
   "cell_type": "markdown",
   "metadata": {},
   "source": [
    "Setiap kali menulis angka dengan koma desimal, Python mengenalinya sebagai tipe data float. Misalnya, 1. (atau 1.0, 1.00, dll) akan dikenali sebagai float. Hal ini terjadi, meskipun angka-angka ini secara teknis tidak memiliki bagian pecahan!"
   ]
  },
  {
   "cell_type": "code",
   "execution_count": 58,
   "metadata": {},
   "outputs": [
    {
     "name": "stdout",
     "output_type": "stream",
     "text": [
      "1.0\n",
      "<class 'float'>\n"
     ]
    }
   ],
   "source": [
    "y_float = 1.\n",
    "print(y_float)\n",
    "print(type(y_float))"
   ]
  }
 ],
 "metadata": {
  "kernelspec": {
   "display_name": "Python 3",
   "language": "python",
   "name": "python3"
  },
  "language_info": {
   "codemirror_mode": {
    "name": "ipython",
    "version": 3
   },
   "file_extension": ".py",
   "mimetype": "text/x-python",
   "name": "python",
   "nbconvert_exporter": "python",
   "pygments_lexer": "ipython3",
   "version": "3.11.8"
  }
 },
 "nbformat": 4,
 "nbformat_minor": 2
}
