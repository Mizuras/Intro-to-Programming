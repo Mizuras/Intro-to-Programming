{
  "cells": [
    {
      "cell_type": "markdown",
      "metadata": {
        "id": "oVsLXUszZ1CU"
      },
      "source": [
        "# About Dataset\n",
        "\n",
        "Selamat datang diFastFood calories data, yang memberikan rincian komprehensif tentang kandungan yang ada didalam berbagai produk makanan cepat saji dari rantai makanan cepat saji populer. Makanan cepat saji terkenal karena kenyamanan dan harganya yang terjangkau, namun juga terkenal karena kandungan kalorinya yang tinggi, lemaknya yang tinggi, dan kandungan gulanya yang tinggi. Kumpulan data ini bertujuan untuk menjelaskan nilai gizi produk makanan cepat saji, membantu konsumen membuat keputusan yang lebih tepat mengenai pilihan makanan mereka. Dengan informasi tentang kalori, lemak, karbohidrat, protein, dan nutrisi penting lainnya, kumpulan data ini memberikan sumber daya berharga bagi ahli gizi, peneliti, dan individu yang sadar kesehatan.\n",
        "\n",
        "Sumber: https://www.kaggle.com/datasets/sujaykapadnis/fast-food-calories-data Data from fastfoodnutrition.com\n",
        "\n"
      ]
    },
    {
      "cell_type": "markdown",
      "metadata": {
        "id": "eQ8BFrUnZ1CW"
      },
      "source": [
        "# Import Libraries/Setup"
      ]
    },
    {
      "cell_type": "code",
      "execution_count": null,
      "metadata": {
        "id": "RNA2cw6BZ1CX"
      },
      "outputs": [],
      "source": [
        "import pandas as pd\n",
        "import matplotlib.pyplot as plt\n",
        "import seaborn as sns"
      ]
    },
    {
      "cell_type": "markdown",
      "metadata": {
        "id": "z3QprtuMZ1CX"
      },
      "source": [
        "1. `import pandas as pd`: Kode ini mengimpor pustaka Pandas dengan alias 'pd'. Pandas adalah pustaka Python yang digunakan untuk manipulasi dan analisis data tabular.\n",
        "\n",
        "2. `import matplotlib.pyplot as plt`: Kode ini mengimpor modul pyplot dari pustaka Matplotlib. Matplotlib adalah pustaka yang kuat untuk membuat visualisasi data dalam berbagai bentuk, seperti plot garis, histogram, scatter plot, dan lain-lain.\n",
        "\n",
        "3. `import seaborn as sns`: Kode ini mengimpor pustaka Seaborn dengan alias 'sns'. Seaborn adalah pustaka yang dibangun di atas Matplotlib dan menyediakan antarmuka yang lebih tinggi untuk membuat plot yang lebih menarik dan informatif, terutama untuk plot statistik."
      ]
    },
    {
      "cell_type": "markdown",
      "metadata": {
        "id": "OoRJAhKVZ1CY"
      },
      "source": [
        "# Specify the filepath"
      ]
    },
    {
      "cell_type": "markdown",
      "metadata": {
        "id": "_kk4t9zdLi_t"
      },
      "source": [
        "\n",
        "Untuk menentukan jalur file dalam berbagai bahasa pemrograman, Anda dapat menggunakan sintaks yang sesuai dengan bahasa yang Anda gunakan. Di bawah ini adalah contoh cara menentukan jalur file dalam beberapa bahasa pemrograman yang umum digunakan:"
      ]
    },
    {
      "cell_type": "code",
      "execution_count": null,
      "metadata": {
        "id": "bSetUswQLi_u"
      },
      "outputs": [],
      "source": [
        "file_path = \"/path/to/your/file.txt\"\n"
      ]
    },
    {
      "cell_type": "markdown",
      "metadata": {
        "id": "2vu3zldgLi_w"
      },
      "source": [
        "Pastikan untuk mengganti \"/path/to/your/file.txt\" dengan jalur sebenarnya ke file yang Anda tuju. Dalam beberapa kasus, Anda mungkin juga perlu menggunakan karakter escape untuk karakter seperti backslash (\"\") dalam jalur file, tergantung pada bahasa pemrograman yang Anda gunakan.\n",
        "\n",
        "\n",
        "\n",
        "\n"
      ]
    },
    {
      "cell_type": "markdown",
      "metadata": {
        "id": "2za1GptsZ1CY"
      },
      "source": [
        "# Load the data"
      ]
    },
    {
      "cell_type": "markdown",
      "metadata": {
        "id": "qPFbJEPOZ1CY"
      },
      "source": [
        "Memuat data dengan Python adalah tugas mendasar ketika bekerja dengan berbagai jenis sumber data. Kita dapat menggunakan berbagai cara untuk memuat data ke Python:"
      ]
    },
    {
      "cell_type": "markdown",
      "metadata": {
        "id": "81mMxy-xZ1CY"
      },
      "source": [
        "**Manual Fuction**\n",
        "\n",
        "Manual fuction mendesain fungsi khusus untuk memuat data dari jenis file tertentu (misalnya CSV). File CSV (Comma Separated Values) sebenarnya adalah file teks, tapi memiliki struktur untuk mengatur datanya. Seperti namanya, struktur yang digunakan CSV adalah koma. Koma digunakan untuk memisah data.\n",
        "\n",
        "Contoh menggunakan file CSV:"
      ]
    },
    {
      "cell_type": "code",
      "execution_count": null,
      "metadata": {
        "id": "FOEr2zvMZ1CY"
      },
      "outputs": [],
      "source": [
        "def load_csv(filepath):\n",
        "    data = []\n",
        "    with open(filepath) as f:\n",
        "        for line in f:\n",
        "            data.append(line.strip().split(','))\n",
        "    return data\n"
      ]
    },
    {
      "cell_type": "markdown",
      "metadata": {
        "id": "CYqxcS7UZ1CY"
      },
      "source": [
        "**Numpy's loadtxt function**\n",
        "\n",
        "Numpy menyediakan fungsi bawaan yang disebut **loadtxt** untuk memuat data dari file teks (misalnya, CSV, dibatasi tab). Numpy adalah fungsi yang sangat sederhana untuk memuat data. Ini sangat berguna untuk membaca data yang memiliki tipe data yang sama. Selain itu, sangat berguna untuk membaca data yang memiliki tipe data yang sama. Ketika data lebih kompleks, sulit untuk dibaca menggunakan fungsi ini, namun ketika file mudah dan sederhana, fungsi ini sangat berguna."
      ]
    },
    {
      "cell_type": "code",
      "execution_count": null,
      "metadata": {
        "id": "COnVORUMZ1CZ"
      },
      "outputs": [],
      "source": [
        "import numpy as np\n",
        "dataset = np.loadtxt('data.csv', delimiter=',')"
      ]
    },
    {
      "cell_type": "markdown",
      "metadata": {
        "id": "bKny-m4lZ1CZ"
      },
      "source": [
        "**Pandas' read_csv()**\n",
        "\n",
        "Pandas adalah perpustakaan manipulasi data yang sangat populer, dan sangat umum digunakan karena kemudahan penggunaannya. alah satu fungsinya yang sangat penting dan matang adalah **read_csv()** yang dapat membaca file .csv"
      ]
    },
    {
      "cell_type": "code",
      "execution_count": null,
      "metadata": {
        "id": "dK_JTfb8Z1CZ"
      },
      "outputs": [],
      "source": [
        "import pandas as pd\n",
        "df = pd.read_csv('data.csv')"
      ]
    },
    {
      "cell_type": "markdown",
      "source": [
        "Contoh menggunakan Pandas"
      ],
      "metadata": {
        "id": "a_j9rQboLuQG"
      }
    },
    {
      "cell_type": "markdown",
      "source": [
        "1. Menampilkan beberapa baris teratas\n",
        "\n",
        "Metode `.head()` akan menampilkan lima baris pertama dari dataframe. Jika ingin menampilkan jumlah baris yang berbeda, dapat menambahkan argumen ke dalam metode tersebut, misalnya `df.head(10)` untuk menampilkan sepuluh baris pertama."
      ],
      "metadata": {
        "id": "iWbAHd3fNd3d"
      }
    },
    {
      "cell_type": "code",
      "source": [
        "import pandas as pd\n",
        "\n",
        "# Read the CSV file\n",
        "df = pd.read_csv('/content/fastfood_calories.csv')\n",
        "\n",
        "# Display the first few rows of the dataframe\n",
        "print(df.head())"
      ],
      "metadata": {
        "id": "ti4MdcGTNIgn",
        "outputId": "c3710c0b-2801-4ee4-b18a-b3659f0a125f",
        "colab": {
          "base_uri": "https://localhost:8080/"
        }
      },
      "execution_count": 1,
      "outputs": [
        {
          "output_type": "stream",
          "name": "stdout",
          "text": [
            "   Unnamed: 0 restaurant                                       item  calories  \\\n",
            "0           1  Mcdonalds           Artisan Grilled Chicken Sandwich       380   \n",
            "1           2  Mcdonalds             Single Bacon Smokehouse Burger       840   \n",
            "2           3  Mcdonalds             Double Bacon Smokehouse Burger      1130   \n",
            "3           4  Mcdonalds  Grilled Bacon Smokehouse Chicken Sandwich       750   \n",
            "4           5  Mcdonalds   Crispy Bacon Smokehouse Chicken Sandwich       920   \n",
            "\n",
            "   cal_fat  total_fat  sat_fat  trans_fat  cholesterol  sodium  total_carb  \\\n",
            "0       60          7      2.0        0.0           95    1110          44   \n",
            "1      410         45     17.0        1.5          130    1580          62   \n",
            "2      600         67     27.0        3.0          220    1920          63   \n",
            "3      280         31     10.0        0.5          155    1940          62   \n",
            "4      410         45     12.0        0.5          120    1980          81   \n",
            "\n",
            "   fiber  sugar  protein  vit_a  vit_c  calcium  salad  \n",
            "0    3.0     11     37.0    4.0   20.0     20.0  Other  \n",
            "1    2.0     18     46.0    6.0   20.0     20.0  Other  \n",
            "2    3.0     18     70.0   10.0   20.0     50.0  Other  \n",
            "3    2.0     18     55.0    6.0   25.0     20.0  Other  \n",
            "4    4.0     18     46.0    6.0   20.0     20.0  Other  \n"
          ]
        }
      ]
    },
    {
      "cell_type": "markdown",
      "source": [
        "2. Menampilkan beberapa baris terbawah\n",
        "\n",
        "Metode `.tail()` akan menampilkan lima baris terbawah dari dataframe. Jika Anda ingin menampilkan jumlah baris yang berbeda, Anda dapat menambahkan argumen ke dalam metode tersebut, misalnya `df.tail(5)` untuk menampilkan sepuluh baris terbawah."
      ],
      "metadata": {
        "id": "ebKvvUObNr6Y"
      }
    },
    {
      "cell_type": "code",
      "source": [
        "import pandas as pd\n",
        "\n",
        "# Read your CSV file into a dataframe (replace 'your_file.csv' with the actual file path)\n",
        "df = pd.read_csv('/content/fastfood_calories.csv')\n",
        "\n",
        "# Display the last 5 rows\n",
        "print(df.tail(5))"
      ],
      "metadata": {
        "id": "Ph1sYW7KO2iq",
        "outputId": "d865c946-d74f-48fd-b9ed-174a6c9eb3a3",
        "colab": {
          "base_uri": "https://localhost:8080/"
        }
      },
      "execution_count": 2,
      "outputs": [
        {
          "output_type": "stream",
          "name": "stdout",
          "text": [
            "     Unnamed: 0 restaurant                            item  calories  cal_fat  \\\n",
            "510         511  Taco Bell  Spicy Triple Double Crunchwrap       780      340   \n",
            "511         512  Taco Bell     Express Taco Salad w/ Chips       580      260   \n",
            "512         513  Taco Bell          Fiesta Taco Salad-Beef       780      380   \n",
            "513         514  Taco Bell       Fiesta Taco Salad-Chicken       720      320   \n",
            "514         515  Taco Bell         Fiesta Taco Salad-Steak       720      320   \n",
            "\n",
            "     total_fat  sat_fat  trans_fat  cholesterol  sodium  total_carb  fiber  \\\n",
            "510         38     10.0        0.5           50    1850          87    9.0   \n",
            "511         29      9.0        1.0           60    1270          59    8.0   \n",
            "512         42     10.0        1.0           60    1340          74   11.0   \n",
            "513         35      7.0        0.0           70    1260          70    8.0   \n",
            "514         36      8.0        1.0           55    1340          70    8.0   \n",
            "\n",
            "     sugar  protein  vit_a  vit_c  calcium  salad  \n",
            "510      8     23.0   20.0   10.0     25.0  Other  \n",
            "511      7     23.0    NaN    NaN      NaN  Other  \n",
            "512      7     26.0    NaN    NaN      NaN  Other  \n",
            "513      8     32.0    NaN    NaN      NaN  Other  \n",
            "514      8     28.0    NaN    NaN      NaN  Other  \n"
          ]
        }
      ]
    },
    {
      "cell_type": "markdown",
      "source": [
        "3. Menampilkan informasi dataframe\n",
        "\n",
        "`info():` Metode ini memberikan informasi detail tentang dataframe, termasuk jumlah baris data, nama-nama kolom beserta jumlah data dan tipe datanya."
      ],
      "metadata": {
        "id": "6r3k4F37PUAa"
      }
    },
    {
      "cell_type": "code",
      "source": [
        "# Display information about the dataframe\n",
        "print(df.info())"
      ],
      "metadata": {
        "id": "CHXy5VOjQYJm",
        "outputId": "bebc0820-1200-41dd-f054-181d9598baa1",
        "colab": {
          "base_uri": "https://localhost:8080/"
        }
      },
      "execution_count": 3,
      "outputs": [
        {
          "output_type": "stream",
          "name": "stdout",
          "text": [
            "<class 'pandas.core.frame.DataFrame'>\n",
            "RangeIndex: 515 entries, 0 to 514\n",
            "Data columns (total 18 columns):\n",
            " #   Column       Non-Null Count  Dtype  \n",
            "---  ------       --------------  -----  \n",
            " 0   Unnamed: 0   515 non-null    int64  \n",
            " 1   restaurant   515 non-null    object \n",
            " 2   item         515 non-null    object \n",
            " 3   calories     515 non-null    int64  \n",
            " 4   cal_fat      515 non-null    int64  \n",
            " 5   total_fat    515 non-null    int64  \n",
            " 6   sat_fat      515 non-null    float64\n",
            " 7   trans_fat    515 non-null    float64\n",
            " 8   cholesterol  515 non-null    int64  \n",
            " 9   sodium       515 non-null    int64  \n",
            " 10  total_carb   515 non-null    int64  \n",
            " 11  fiber        503 non-null    float64\n",
            " 12  sugar        515 non-null    int64  \n",
            " 13  protein      514 non-null    float64\n",
            " 14  vit_a        301 non-null    float64\n",
            " 15  vit_c        305 non-null    float64\n",
            " 16  calcium      305 non-null    float64\n",
            " 17  salad        515 non-null    object \n",
            "dtypes: float64(7), int64(8), object(3)\n",
            "memory usage: 72.5+ KB\n",
            "None\n"
          ]
        }
      ]
    },
    {
      "cell_type": "markdown",
      "source": [
        "4. Menampilkan deskripsi statistik\n",
        "\n",
        "`describe():` Metode ini menampilkan deskriptif statistik data, seperti rata-rata, standar deviasi, nilai minimum, dan maksimum. Hanya kolom yang bertipe numerik yang akan ditampilkan statistiknya."
      ],
      "metadata": {
        "id": "F4LKnH4QQt_L"
      }
    },
    {
      "cell_type": "code",
      "source": [
        "# Displays descriptive statistical data\n",
        "print(df.describe())"
      ],
      "metadata": {
        "id": "z_4IcBVQQ27R",
        "outputId": "09be778c-66a2-4431-f7e9-10ae90ee41dd",
        "colab": {
          "base_uri": "https://localhost:8080/"
        }
      },
      "execution_count": 4,
      "outputs": [
        {
          "output_type": "stream",
          "name": "stdout",
          "text": [
            "       Unnamed: 0     calories      cal_fat   total_fat     sat_fat  \\\n",
            "count  515.000000   515.000000   515.000000  515.000000  515.000000   \n",
            "mean   258.000000   530.912621   238.813592   26.590291    8.153398   \n",
            "std    148.811962   282.436147   166.407510   18.411876    6.418811   \n",
            "min      1.000000    20.000000     0.000000    0.000000    0.000000   \n",
            "25%    129.500000   330.000000   120.000000   14.000000    4.000000   \n",
            "50%    258.000000   490.000000   210.000000   23.000000    7.000000   \n",
            "75%    386.500000   690.000000   310.000000   35.000000   11.000000   \n",
            "max    515.000000  2430.000000  1270.000000  141.000000   47.000000   \n",
            "\n",
            "        trans_fat  cholesterol       sodium  total_carb       fiber  \\\n",
            "count  515.000000   515.000000   515.000000  515.000000  503.000000   \n",
            "mean     0.465049    72.456311  1246.737864   45.664078    4.137177   \n",
            "std      0.839644    63.160406   689.954278   24.883342    3.037460   \n",
            "min      0.000000     0.000000    15.000000    0.000000    0.000000   \n",
            "25%      0.000000    35.000000   800.000000   28.500000    2.000000   \n",
            "50%      0.000000    60.000000  1110.000000   44.000000    3.000000   \n",
            "75%      1.000000    95.000000  1550.000000   57.000000    5.000000   \n",
            "max      8.000000   805.000000  6080.000000  156.000000   17.000000   \n",
            "\n",
            "            sugar     protein       vit_a       vit_c     calcium  \n",
            "count  515.000000  514.000000  301.000000  305.000000  305.000000  \n",
            "mean     7.262136   27.891051   18.857143   20.170492   24.852459  \n",
            "std      6.761301   17.683921   31.384330   30.592243   25.522073  \n",
            "min      0.000000    1.000000    0.000000    0.000000    0.000000  \n",
            "25%      3.000000   16.000000    4.000000    4.000000    8.000000  \n",
            "50%      6.000000   24.500000   10.000000   10.000000   20.000000  \n",
            "75%      9.000000   36.000000   20.000000   30.000000   30.000000  \n",
            "max     87.000000  186.000000  180.000000  400.000000  290.000000  \n"
          ]
        }
      ]
    },
    {
      "cell_type": "markdown",
      "metadata": {
        "id": "NIZSvxsiZ1CZ"
      },
      "source": [
        "# Visualize the data"
      ]
    }
  ],
  "metadata": {
    "colab": {
      "provenance": []
    },
    "kernelspec": {
      "display_name": "Python 3",
      "name": "python3"
    },
    "language_info": {
      "codemirror_mode": {
        "name": "ipython",
        "version": 3
      },
      "file_extension": ".py",
      "mimetype": "text/x-python",
      "name": "python",
      "nbconvert_exporter": "python",
      "pygments_lexer": "ipython3",
      "version": "3.11.8"
    }
  },
  "nbformat": 4,
  "nbformat_minor": 0
}