{
  "cells": [
    {
      "cell_type": "markdown",
      "metadata": {
        "id": "oVsLXUszZ1CU"
      },
      "source": [
        "# About Dataset\n",
        "\n",
        "Selamat datang diFastFood calories data, yang memberikan rincian komprehensif tentang kandungan yang ada didalam berbagai produk makanan cepat saji dari rantai makanan cepat saji populer. Makanan cepat saji terkenal karena kenyamanan dan harganya yang terjangkau, namun juga terkenal karena kandungan kalorinya yang tinggi, lemaknya yang tinggi, dan kandungan gulanya yang tinggi. Kumpulan data ini bertujuan untuk menjelaskan nilai gizi produk makanan cepat saji, membantu konsumen membuat keputusan yang lebih tepat mengenai pilihan makanan mereka. Dengan informasi tentang kalori, lemak, karbohidrat, protein, dan nutrisi penting lainnya, kumpulan data ini memberikan sumber daya berharga bagi ahli gizi, peneliti, dan individu yang sadar kesehatan.\n",
        "\n",
        "Sumber: https://www.kaggle.com/datasets/sujaykapadnis/fast-food-calories-data Data from fastfoodnutrition.com\n",
        "\n"
      ]
    },
    {
      "cell_type": "markdown",
      "metadata": {
        "id": "eQ8BFrUnZ1CW"
      },
      "source": [
        "# Import Libraries/Setup"
      ]
    },
    {
      "cell_type": "code",
      "execution_count": null,
      "metadata": {
        "id": "RNA2cw6BZ1CX"
      },
      "outputs": [],
      "source": [
        "import pandas as pd\n",
        "import matplotlib.pyplot as plt\n",
        "import seaborn as sns"
      ]
    },
    {
      "cell_type": "markdown",
      "metadata": {
        "id": "z3QprtuMZ1CX"
      },
      "source": [
        "1. `import pandas as pd`: Kode ini mengimpor pustaka Pandas dengan alias 'pd'. Pandas adalah pustaka Python yang digunakan untuk manipulasi dan analisis data tabular.\n",
        "\n",
        "2. `import matplotlib.pyplot as plt`: Kode ini mengimpor modul pyplot dari pustaka Matplotlib. Matplotlib adalah pustaka yang kuat untuk membuat visualisasi data dalam berbagai bentuk, seperti plot garis, histogram, scatter plot, dan lain-lain.\n",
        "\n",
        "3. `import seaborn as sns`: Kode ini mengimpor pustaka Seaborn dengan alias 'sns'. Seaborn adalah pustaka yang dibangun di atas Matplotlib dan menyediakan antarmuka yang lebih tinggi untuk membuat plot yang lebih menarik dan informatif, terutama untuk plot statistik."
      ]
    },
    {
      "cell_type": "markdown",
      "metadata": {
        "id": "OoRJAhKVZ1CY"
      },
      "source": [
        "# Specify the filepath"
      ]
    },
    {
      "cell_type": "markdown",
      "metadata": {
        "id": "_kk4t9zdLi_t"
      },
      "source": [
        "Untuk menentukan jalur file dalam berbagai bahasa pemrograman, dapat menggunakan sintaks yang sesuai dengan bahasa yang Anda gunakan. Di bawah ini adalah contoh cara menentukan jalur file dalam beberapa bahasa pemrograman yang umum digunakan:"
      ]
    },
    {
      "cell_type": "code",
      "execution_count": null,
      "metadata": {
        "id": "bSetUswQLi_u"
      },
      "outputs": [],
      "source": [
        "file_path = \"D:\\\\KULIAH\\\\MSIB\\\\Skilvul\\\\Learn\\\\Intro-to-Programming\\\\2-Data-Visualization\\\\Data\\\\fastfood_calories.csv\"\n"
      ]
    },
    {
      "cell_type": "markdown",
      "metadata": {
        "id": "2vu3zldgLi_w"
      },
      "source": [
        "Kode di atas membaca file CSV dengan nama “fastfood_calories.csv” dan membuat sebuah dataframe menggunakan pustaka pandas.\n",
        "- Kolom indeks berisi beberapa nama item, variabel, jenis dan total kandungan dalam makanan berbagai restoran cepat saji.\n",
        "- Beberapa baris data dari dataframe menampilkan informasi tentang item makanan tertentu dari berbagai restoran cepat saji.\n",
        "\n",
        "\n",
        "Pastikan untuk mengganti \"/path/to/your/file.txt\" dengan jalur sebenarnya ke file yang Anda tuju. Dalam beberapa kasus, mungkin juga perlu menggunakan karakter escape untuk karakter seperti backslash (\"\") dalam jalur file, tergantung pada bahasa pemrograman yang Anda gunakan.\n",
        "\n",
        "\n",
        "\n",
        "\n",
        "\n"
      ]
    },
    {
      "cell_type": "markdown",
      "metadata": {
        "id": "2za1GptsZ1CY"
      },
      "source": [
        "# Load the data"
      ]
    },
    {
      "cell_type": "markdown",
      "metadata": {
        "id": "qPFbJEPOZ1CY"
      },
      "source": [
        "Memuat data dengan Python adalah tugas mendasar ketika bekerja dengan berbagai jenis sumber data. Kita dapat menggunakan berbagai cara untuk memuat data ke Python:"
      ]
    },
    {
      "cell_type": "markdown",
      "metadata": {
        "id": "bKny-m4lZ1CZ"
      },
      "source": [
        "**Pandas' read_csv()**\n",
        "\n",
        "Pandas adalah perpustakaan manipulasi data yang sangat populer, dan sangat umum digunakan karena kemudahan penggunaannya. alah satu fungsinya yang sangat penting dan matang adalah **read_csv()** yang dapat membaca file .csv"
      ]
    },
    {
      "cell_type": "markdown",
      "metadata": {
        "id": "a_j9rQboLuQG"
      },
      "source": [
        "Contoh menggunakan Pandas"
      ]
    },
    {
      "cell_type": "markdown",
      "metadata": {
        "id": "iWbAHd3fNd3d"
      },
      "source": [
        "1. Menampilkan beberapa baris teratas\n",
        "\n",
        "Metode `.head()` akan menampilkan lima baris pertama dari dataframe. Jika ingin menampilkan jumlah baris yang berbeda, dapat menambahkan argumen ke dalam metode tersebut, misalnya `df.head(10)` untuk menampilkan sepuluh baris pertama."
      ]
    },
    {
      "cell_type": "code",
      "execution_count": null,
      "metadata": {
        "colab": {
          "base_uri": "https://localhost:8080/"
        },
        "id": "ti4MdcGTNIgn",
        "outputId": "c3710c0b-2801-4ee4-b18a-b3659f0a125f"
      },
      "outputs": [
        {
          "data": {
            "text/html": [
              "<div>\n",
              "<style scoped>\n",
              "    .dataframe tbody tr th:only-of-type {\n",
              "        vertical-align: middle;\n",
              "    }\n",
              "\n",
              "    .dataframe tbody tr th {\n",
              "        vertical-align: top;\n",
              "    }\n",
              "\n",
              "    .dataframe thead th {\n",
              "        text-align: right;\n",
              "    }\n",
              "</style>\n",
              "<table border=\"1\" class=\"dataframe\">\n",
              "  <thead>\n",
              "    <tr style=\"text-align: right;\">\n",
              "      <th></th>\n",
              "      <th>restaurant</th>\n",
              "      <th>item</th>\n",
              "      <th>calories</th>\n",
              "      <th>cal_fat</th>\n",
              "      <th>total_fat</th>\n",
              "      <th>sat_fat</th>\n",
              "      <th>trans_fat</th>\n",
              "      <th>cholesterol</th>\n",
              "      <th>sodium</th>\n",
              "      <th>total_carb</th>\n",
              "      <th>fiber</th>\n",
              "      <th>sugar</th>\n",
              "      <th>protein</th>\n",
              "      <th>vit_a</th>\n",
              "      <th>vit_c</th>\n",
              "      <th>calcium</th>\n",
              "    </tr>\n",
              "  </thead>\n",
              "  <tbody>\n",
              "    <tr>\n",
              "      <th>1</th>\n",
              "      <td>Mcdonalds</td>\n",
              "      <td>Artisan Grilled Chicken Sandwich</td>\n",
              "      <td>380</td>\n",
              "      <td>60</td>\n",
              "      <td>7</td>\n",
              "      <td>2.0</td>\n",
              "      <td>0.0</td>\n",
              "      <td>95</td>\n",
              "      <td>1110</td>\n",
              "      <td>44</td>\n",
              "      <td>3.0</td>\n",
              "      <td>11</td>\n",
              "      <td>37.0</td>\n",
              "      <td>4.0</td>\n",
              "      <td>20.0</td>\n",
              "      <td>20.0</td>\n",
              "    </tr>\n",
              "    <tr>\n",
              "      <th>2</th>\n",
              "      <td>Mcdonalds</td>\n",
              "      <td>Single Bacon Smokehouse Burger</td>\n",
              "      <td>840</td>\n",
              "      <td>410</td>\n",
              "      <td>45</td>\n",
              "      <td>17.0</td>\n",
              "      <td>1.5</td>\n",
              "      <td>130</td>\n",
              "      <td>1580</td>\n",
              "      <td>62</td>\n",
              "      <td>2.0</td>\n",
              "      <td>18</td>\n",
              "      <td>46.0</td>\n",
              "      <td>6.0</td>\n",
              "      <td>20.0</td>\n",
              "      <td>20.0</td>\n",
              "    </tr>\n",
              "    <tr>\n",
              "      <th>3</th>\n",
              "      <td>Mcdonalds</td>\n",
              "      <td>Double Bacon Smokehouse Burger</td>\n",
              "      <td>1130</td>\n",
              "      <td>600</td>\n",
              "      <td>67</td>\n",
              "      <td>27.0</td>\n",
              "      <td>3.0</td>\n",
              "      <td>220</td>\n",
              "      <td>1920</td>\n",
              "      <td>63</td>\n",
              "      <td>3.0</td>\n",
              "      <td>18</td>\n",
              "      <td>70.0</td>\n",
              "      <td>10.0</td>\n",
              "      <td>20.0</td>\n",
              "      <td>50.0</td>\n",
              "    </tr>\n",
              "    <tr>\n",
              "      <th>4</th>\n",
              "      <td>Mcdonalds</td>\n",
              "      <td>Grilled Bacon Smokehouse Chicken Sandwich</td>\n",
              "      <td>750</td>\n",
              "      <td>280</td>\n",
              "      <td>31</td>\n",
              "      <td>10.0</td>\n",
              "      <td>0.5</td>\n",
              "      <td>155</td>\n",
              "      <td>1940</td>\n",
              "      <td>62</td>\n",
              "      <td>2.0</td>\n",
              "      <td>18</td>\n",
              "      <td>55.0</td>\n",
              "      <td>6.0</td>\n",
              "      <td>25.0</td>\n",
              "      <td>20.0</td>\n",
              "    </tr>\n",
              "    <tr>\n",
              "      <th>5</th>\n",
              "      <td>Mcdonalds</td>\n",
              "      <td>Crispy Bacon Smokehouse Chicken Sandwich</td>\n",
              "      <td>920</td>\n",
              "      <td>410</td>\n",
              "      <td>45</td>\n",
              "      <td>12.0</td>\n",
              "      <td>0.5</td>\n",
              "      <td>120</td>\n",
              "      <td>1980</td>\n",
              "      <td>81</td>\n",
              "      <td>4.0</td>\n",
              "      <td>18</td>\n",
              "      <td>46.0</td>\n",
              "      <td>6.0</td>\n",
              "      <td>20.0</td>\n",
              "      <td>20.0</td>\n",
              "    </tr>\n",
              "  </tbody>\n",
              "</table>\n",
              "</div>"
            ],
            "text/plain": [
              "  restaurant                                       item  calories  cal_fat  \\\n",
              "1  Mcdonalds           Artisan Grilled Chicken Sandwich       380       60   \n",
              "2  Mcdonalds             Single Bacon Smokehouse Burger       840      410   \n",
              "3  Mcdonalds             Double Bacon Smokehouse Burger      1130      600   \n",
              "4  Mcdonalds  Grilled Bacon Smokehouse Chicken Sandwich       750      280   \n",
              "5  Mcdonalds   Crispy Bacon Smokehouse Chicken Sandwich       920      410   \n",
              "\n",
              "   total_fat  sat_fat  trans_fat  cholesterol  sodium  total_carb  fiber  \\\n",
              "1          7      2.0        0.0           95    1110          44    3.0   \n",
              "2         45     17.0        1.5          130    1580          62    2.0   \n",
              "3         67     27.0        3.0          220    1920          63    3.0   \n",
              "4         31     10.0        0.5          155    1940          62    2.0   \n",
              "5         45     12.0        0.5          120    1980          81    4.0   \n",
              "\n",
              "   sugar  protein  vit_a  vit_c  calcium  \n",
              "1     11     37.0    4.0   20.0     20.0  \n",
              "2     18     46.0    6.0   20.0     20.0  \n",
              "3     18     70.0   10.0   20.0     50.0  \n",
              "4     18     55.0    6.0   25.0     20.0  \n",
              "5     18     46.0    6.0   20.0     20.0  "
            ]
          },
          "execution_count": 33,
          "metadata": {},
          "output_type": "execute_result"
        }
      ],
      "source": [
        "# Read the CSV file\n",
        "df = pd.read_csv(file_path, index_col=[0]).drop(columns=['salad'])\n",
        "\n",
        "# Display the first few rows of the dataframe\n",
        "df.head()"
      ]
    },
    {
      "cell_type": "markdown",
      "source": [
        "*Reading the CSV File*\n",
        "1. `df = pd.read_csv(file_path, index_col=[0])`: Baris ini membaca file CSV yang terletak di file_path yang ditentukan menggunakan fungsi `read_csv` perpustakaan pandas.\n",
        "- `file_path`: Jalur ke file CSV.\n",
        "- `index_col=[0]`: Kolom pertama (indeks 0) file CSV digunakan sebagai indeks untuk kerangka data.\n",
        "\n",
        "*Dropping a Column*\n",
        "1. `.drop(columns=['salad'])`: Menghapus kolom bernama 'salad' dari kerangka data.\n",
        "- `columns=['salad']`: Menentukan kolom yang akan dihapus.\n",
        "\n",
        "*Displaying the First Few Rows*\n",
        "1. df.head(): Menampilkan beberapa baris pertama dari kerangka data yang dihasilkan.\n"
      ],
      "metadata": {
        "id": "jHXZckLPsGpq"
      }
    },
    {
      "cell_type": "markdown",
      "metadata": {
        "id": "ebKvvUObNr6Y"
      },
      "source": [
        "2. Menampilkan beberapa baris terbawah\n",
        "\n",
        "Metode `.tail()` akan menampilkan lima baris terbawah dari dataframe. Jika Anda ingin menampilkan jumlah baris yang berbeda, Anda dapat menambahkan argumen ke dalam metode tersebut, misalnya `df.tail(5)` untuk menampilkan sepuluh baris terbawah."
      ]
    },
    {
      "cell_type": "code",
      "execution_count": null,
      "metadata": {
        "colab": {
          "base_uri": "https://localhost:8080/"
        },
        "id": "Ph1sYW7KO2iq",
        "outputId": "d865c946-d74f-48fd-b9ed-174a6c9eb3a3"
      },
      "outputs": [
        {
          "data": {
            "text/html": [
              "<div>\n",
              "<style scoped>\n",
              "    .dataframe tbody tr th:only-of-type {\n",
              "        vertical-align: middle;\n",
              "    }\n",
              "\n",
              "    .dataframe tbody tr th {\n",
              "        vertical-align: top;\n",
              "    }\n",
              "\n",
              "    .dataframe thead th {\n",
              "        text-align: right;\n",
              "    }\n",
              "</style>\n",
              "<table border=\"1\" class=\"dataframe\">\n",
              "  <thead>\n",
              "    <tr style=\"text-align: right;\">\n",
              "      <th></th>\n",
              "      <th>restaurant</th>\n",
              "      <th>item</th>\n",
              "      <th>calories</th>\n",
              "      <th>cal_fat</th>\n",
              "      <th>total_fat</th>\n",
              "      <th>sat_fat</th>\n",
              "      <th>trans_fat</th>\n",
              "      <th>cholesterol</th>\n",
              "      <th>sodium</th>\n",
              "      <th>total_carb</th>\n",
              "      <th>fiber</th>\n",
              "      <th>sugar</th>\n",
              "      <th>protein</th>\n",
              "      <th>vit_a</th>\n",
              "      <th>vit_c</th>\n",
              "      <th>calcium</th>\n",
              "    </tr>\n",
              "  </thead>\n",
              "  <tbody>\n",
              "    <tr>\n",
              "      <th>511</th>\n",
              "      <td>Taco Bell</td>\n",
              "      <td>Spicy Triple Double Crunchwrap</td>\n",
              "      <td>780</td>\n",
              "      <td>340</td>\n",
              "      <td>38</td>\n",
              "      <td>10.0</td>\n",
              "      <td>0.5</td>\n",
              "      <td>50</td>\n",
              "      <td>1850</td>\n",
              "      <td>87</td>\n",
              "      <td>9.0</td>\n",
              "      <td>8</td>\n",
              "      <td>23.0</td>\n",
              "      <td>20.0</td>\n",
              "      <td>10.0</td>\n",
              "      <td>25.0</td>\n",
              "    </tr>\n",
              "    <tr>\n",
              "      <th>512</th>\n",
              "      <td>Taco Bell</td>\n",
              "      <td>Express Taco Salad w/ Chips</td>\n",
              "      <td>580</td>\n",
              "      <td>260</td>\n",
              "      <td>29</td>\n",
              "      <td>9.0</td>\n",
              "      <td>1.0</td>\n",
              "      <td>60</td>\n",
              "      <td>1270</td>\n",
              "      <td>59</td>\n",
              "      <td>8.0</td>\n",
              "      <td>7</td>\n",
              "      <td>23.0</td>\n",
              "      <td>NaN</td>\n",
              "      <td>NaN</td>\n",
              "      <td>NaN</td>\n",
              "    </tr>\n",
              "    <tr>\n",
              "      <th>513</th>\n",
              "      <td>Taco Bell</td>\n",
              "      <td>Fiesta Taco Salad-Beef</td>\n",
              "      <td>780</td>\n",
              "      <td>380</td>\n",
              "      <td>42</td>\n",
              "      <td>10.0</td>\n",
              "      <td>1.0</td>\n",
              "      <td>60</td>\n",
              "      <td>1340</td>\n",
              "      <td>74</td>\n",
              "      <td>11.0</td>\n",
              "      <td>7</td>\n",
              "      <td>26.0</td>\n",
              "      <td>NaN</td>\n",
              "      <td>NaN</td>\n",
              "      <td>NaN</td>\n",
              "    </tr>\n",
              "    <tr>\n",
              "      <th>514</th>\n",
              "      <td>Taco Bell</td>\n",
              "      <td>Fiesta Taco Salad-Chicken</td>\n",
              "      <td>720</td>\n",
              "      <td>320</td>\n",
              "      <td>35</td>\n",
              "      <td>7.0</td>\n",
              "      <td>0.0</td>\n",
              "      <td>70</td>\n",
              "      <td>1260</td>\n",
              "      <td>70</td>\n",
              "      <td>8.0</td>\n",
              "      <td>8</td>\n",
              "      <td>32.0</td>\n",
              "      <td>NaN</td>\n",
              "      <td>NaN</td>\n",
              "      <td>NaN</td>\n",
              "    </tr>\n",
              "    <tr>\n",
              "      <th>515</th>\n",
              "      <td>Taco Bell</td>\n",
              "      <td>Fiesta Taco Salad-Steak</td>\n",
              "      <td>720</td>\n",
              "      <td>320</td>\n",
              "      <td>36</td>\n",
              "      <td>8.0</td>\n",
              "      <td>1.0</td>\n",
              "      <td>55</td>\n",
              "      <td>1340</td>\n",
              "      <td>70</td>\n",
              "      <td>8.0</td>\n",
              "      <td>8</td>\n",
              "      <td>28.0</td>\n",
              "      <td>NaN</td>\n",
              "      <td>NaN</td>\n",
              "      <td>NaN</td>\n",
              "    </tr>\n",
              "  </tbody>\n",
              "</table>\n",
              "</div>"
            ],
            "text/plain": [
              "    restaurant                            item  calories  cal_fat  total_fat  \\\n",
              "511  Taco Bell  Spicy Triple Double Crunchwrap       780      340         38   \n",
              "512  Taco Bell     Express Taco Salad w/ Chips       580      260         29   \n",
              "513  Taco Bell          Fiesta Taco Salad-Beef       780      380         42   \n",
              "514  Taco Bell       Fiesta Taco Salad-Chicken       720      320         35   \n",
              "515  Taco Bell         Fiesta Taco Salad-Steak       720      320         36   \n",
              "\n",
              "     sat_fat  trans_fat  cholesterol  sodium  total_carb  fiber  sugar  \\\n",
              "511     10.0        0.5           50    1850          87    9.0      8   \n",
              "512      9.0        1.0           60    1270          59    8.0      7   \n",
              "513     10.0        1.0           60    1340          74   11.0      7   \n",
              "514      7.0        0.0           70    1260          70    8.0      8   \n",
              "515      8.0        1.0           55    1340          70    8.0      8   \n",
              "\n",
              "     protein  vit_a  vit_c  calcium  \n",
              "511     23.0   20.0   10.0     25.0  \n",
              "512     23.0    NaN    NaN      NaN  \n",
              "513     26.0    NaN    NaN      NaN  \n",
              "514     32.0    NaN    NaN      NaN  \n",
              "515     28.0    NaN    NaN      NaN  "
            ]
          },
          "execution_count": 34,
          "metadata": {},
          "output_type": "execute_result"
        }
      ],
      "source": [
        "# Display the last 5 rows\n",
        "df.tail(5)"
      ]
    },
    {
      "cell_type": "markdown",
      "source": [
        "`df.tail(5)`: Menampilkan 5 baris terakhir dari kerangka data yang dihasilkan yakni restaurant Taco Bell dengan lima jenis item makanan yang berbeda."
      ],
      "metadata": {
        "id": "o5sCg6wwvb5l"
      }
    },
    {
      "cell_type": "markdown",
      "metadata": {
        "id": "6r3k4F37PUAa"
      },
      "source": [
        "3. Menampilkan informasi dataframe\n",
        "\n",
        "`info():` Metode ini memberikan informasi detail tentang dataframe, termasuk jumlah baris data, nama-nama kolom beserta jumlah data dan tipe datanya."
      ]
    },
    {
      "cell_type": "code",
      "execution_count": null,
      "metadata": {
        "colab": {
          "base_uri": "https://localhost:8080/"
        },
        "id": "CHXy5VOjQYJm",
        "outputId": "bebc0820-1200-41dd-f054-181d9598baa1"
      },
      "outputs": [
        {
          "name": "stdout",
          "output_type": "stream",
          "text": [
            "<class 'pandas.core.frame.DataFrame'>\n",
            "Index: 515 entries, 1 to 515\n",
            "Data columns (total 16 columns):\n",
            " #   Column       Non-Null Count  Dtype  \n",
            "---  ------       --------------  -----  \n",
            " 0   restaurant   515 non-null    object \n",
            " 1   item         515 non-null    object \n",
            " 2   calories     515 non-null    int64  \n",
            " 3   cal_fat      515 non-null    int64  \n",
            " 4   total_fat    515 non-null    int64  \n",
            " 5   sat_fat      515 non-null    float64\n",
            " 6   trans_fat    515 non-null    float64\n",
            " 7   cholesterol  515 non-null    int64  \n",
            " 8   sodium       515 non-null    int64  \n",
            " 9   total_carb   515 non-null    int64  \n",
            " 10  fiber        503 non-null    float64\n",
            " 11  sugar        515 non-null    int64  \n",
            " 12  protein      514 non-null    float64\n",
            " 13  vit_a        301 non-null    float64\n",
            " 14  vit_c        305 non-null    float64\n",
            " 15  calcium      305 non-null    float64\n",
            "dtypes: float64(7), int64(7), object(2)\n",
            "memory usage: 68.4+ KB\n"
          ]
        }
      ],
      "source": [
        "# Display information about the dataframe\n",
        "df.info()"
      ]
    },
    {
      "cell_type": "markdown",
      "source": [
        "`df.info():`Memberikan gambaran umum tentang kerangka data, termasuk tipe data setiap kolom, jumlah nilai bukan nol, dan penggunaan memori."
      ],
      "metadata": {
        "id": "B87HSBwFw7HX"
      }
    },
    {
      "cell_type": "markdown",
      "metadata": {
        "id": "F4LKnH4QQt_L"
      },
      "source": [
        "4. Menampilkan deskripsi statistik\n",
        "\n",
        "`describe():` Metode ini menampilkan deskriptif statistik data, seperti rata-rata, standar deviasi, nilai minimum, dan maksimum. Hanya kolom yang bertipe numerik yang akan ditampilkan statistiknya."
      ]
    },
    {
      "cell_type": "code",
      "execution_count": null,
      "metadata": {
        "colab": {
          "base_uri": "https://localhost:8080/"
        },
        "id": "z_4IcBVQQ27R",
        "outputId": "09be778c-66a2-4431-f7e9-10ae90ee41dd"
      },
      "outputs": [
        {
          "data": {
            "text/html": [
              "<div>\n",
              "<style scoped>\n",
              "    .dataframe tbody tr th:only-of-type {\n",
              "        vertical-align: middle;\n",
              "    }\n",
              "\n",
              "    .dataframe tbody tr th {\n",
              "        vertical-align: top;\n",
              "    }\n",
              "\n",
              "    .dataframe thead th {\n",
              "        text-align: right;\n",
              "    }\n",
              "</style>\n",
              "<table border=\"1\" class=\"dataframe\">\n",
              "  <thead>\n",
              "    <tr style=\"text-align: right;\">\n",
              "      <th></th>\n",
              "      <th>calories</th>\n",
              "      <th>cal_fat</th>\n",
              "      <th>total_fat</th>\n",
              "      <th>sat_fat</th>\n",
              "      <th>trans_fat</th>\n",
              "      <th>cholesterol</th>\n",
              "      <th>sodium</th>\n",
              "      <th>total_carb</th>\n",
              "      <th>fiber</th>\n",
              "      <th>sugar</th>\n",
              "      <th>protein</th>\n",
              "      <th>vit_a</th>\n",
              "      <th>vit_c</th>\n",
              "      <th>calcium</th>\n",
              "    </tr>\n",
              "  </thead>\n",
              "  <tbody>\n",
              "    <tr>\n",
              "      <th>count</th>\n",
              "      <td>515.000000</td>\n",
              "      <td>515.000000</td>\n",
              "      <td>515.000000</td>\n",
              "      <td>515.000000</td>\n",
              "      <td>515.000000</td>\n",
              "      <td>515.000000</td>\n",
              "      <td>515.000000</td>\n",
              "      <td>515.000000</td>\n",
              "      <td>503.000000</td>\n",
              "      <td>515.000000</td>\n",
              "      <td>514.000000</td>\n",
              "      <td>301.000000</td>\n",
              "      <td>305.000000</td>\n",
              "      <td>305.000000</td>\n",
              "    </tr>\n",
              "    <tr>\n",
              "      <th>mean</th>\n",
              "      <td>530.912621</td>\n",
              "      <td>238.813592</td>\n",
              "      <td>26.590291</td>\n",
              "      <td>8.153398</td>\n",
              "      <td>0.465049</td>\n",
              "      <td>72.456311</td>\n",
              "      <td>1246.737864</td>\n",
              "      <td>45.664078</td>\n",
              "      <td>4.137177</td>\n",
              "      <td>7.262136</td>\n",
              "      <td>27.891051</td>\n",
              "      <td>18.857143</td>\n",
              "      <td>20.170492</td>\n",
              "      <td>24.852459</td>\n",
              "    </tr>\n",
              "    <tr>\n",
              "      <th>std</th>\n",
              "      <td>282.436147</td>\n",
              "      <td>166.407510</td>\n",
              "      <td>18.411876</td>\n",
              "      <td>6.418811</td>\n",
              "      <td>0.839644</td>\n",
              "      <td>63.160406</td>\n",
              "      <td>689.954278</td>\n",
              "      <td>24.883342</td>\n",
              "      <td>3.037460</td>\n",
              "      <td>6.761301</td>\n",
              "      <td>17.683921</td>\n",
              "      <td>31.384330</td>\n",
              "      <td>30.592243</td>\n",
              "      <td>25.522073</td>\n",
              "    </tr>\n",
              "    <tr>\n",
              "      <th>min</th>\n",
              "      <td>20.000000</td>\n",
              "      <td>0.000000</td>\n",
              "      <td>0.000000</td>\n",
              "      <td>0.000000</td>\n",
              "      <td>0.000000</td>\n",
              "      <td>0.000000</td>\n",
              "      <td>15.000000</td>\n",
              "      <td>0.000000</td>\n",
              "      <td>0.000000</td>\n",
              "      <td>0.000000</td>\n",
              "      <td>1.000000</td>\n",
              "      <td>0.000000</td>\n",
              "      <td>0.000000</td>\n",
              "      <td>0.000000</td>\n",
              "    </tr>\n",
              "    <tr>\n",
              "      <th>25%</th>\n",
              "      <td>330.000000</td>\n",
              "      <td>120.000000</td>\n",
              "      <td>14.000000</td>\n",
              "      <td>4.000000</td>\n",
              "      <td>0.000000</td>\n",
              "      <td>35.000000</td>\n",
              "      <td>800.000000</td>\n",
              "      <td>28.500000</td>\n",
              "      <td>2.000000</td>\n",
              "      <td>3.000000</td>\n",
              "      <td>16.000000</td>\n",
              "      <td>4.000000</td>\n",
              "      <td>4.000000</td>\n",
              "      <td>8.000000</td>\n",
              "    </tr>\n",
              "    <tr>\n",
              "      <th>50%</th>\n",
              "      <td>490.000000</td>\n",
              "      <td>210.000000</td>\n",
              "      <td>23.000000</td>\n",
              "      <td>7.000000</td>\n",
              "      <td>0.000000</td>\n",
              "      <td>60.000000</td>\n",
              "      <td>1110.000000</td>\n",
              "      <td>44.000000</td>\n",
              "      <td>3.000000</td>\n",
              "      <td>6.000000</td>\n",
              "      <td>24.500000</td>\n",
              "      <td>10.000000</td>\n",
              "      <td>10.000000</td>\n",
              "      <td>20.000000</td>\n",
              "    </tr>\n",
              "    <tr>\n",
              "      <th>75%</th>\n",
              "      <td>690.000000</td>\n",
              "      <td>310.000000</td>\n",
              "      <td>35.000000</td>\n",
              "      <td>11.000000</td>\n",
              "      <td>1.000000</td>\n",
              "      <td>95.000000</td>\n",
              "      <td>1550.000000</td>\n",
              "      <td>57.000000</td>\n",
              "      <td>5.000000</td>\n",
              "      <td>9.000000</td>\n",
              "      <td>36.000000</td>\n",
              "      <td>20.000000</td>\n",
              "      <td>30.000000</td>\n",
              "      <td>30.000000</td>\n",
              "    </tr>\n",
              "    <tr>\n",
              "      <th>max</th>\n",
              "      <td>2430.000000</td>\n",
              "      <td>1270.000000</td>\n",
              "      <td>141.000000</td>\n",
              "      <td>47.000000</td>\n",
              "      <td>8.000000</td>\n",
              "      <td>805.000000</td>\n",
              "      <td>6080.000000</td>\n",
              "      <td>156.000000</td>\n",
              "      <td>17.000000</td>\n",
              "      <td>87.000000</td>\n",
              "      <td>186.000000</td>\n",
              "      <td>180.000000</td>\n",
              "      <td>400.000000</td>\n",
              "      <td>290.000000</td>\n",
              "    </tr>\n",
              "  </tbody>\n",
              "</table>\n",
              "</div>"
            ],
            "text/plain": [
              "          calories      cal_fat   total_fat     sat_fat   trans_fat  \\\n",
              "count   515.000000   515.000000  515.000000  515.000000  515.000000   \n",
              "mean    530.912621   238.813592   26.590291    8.153398    0.465049   \n",
              "std     282.436147   166.407510   18.411876    6.418811    0.839644   \n",
              "min      20.000000     0.000000    0.000000    0.000000    0.000000   \n",
              "25%     330.000000   120.000000   14.000000    4.000000    0.000000   \n",
              "50%     490.000000   210.000000   23.000000    7.000000    0.000000   \n",
              "75%     690.000000   310.000000   35.000000   11.000000    1.000000   \n",
              "max    2430.000000  1270.000000  141.000000   47.000000    8.000000   \n",
              "\n",
              "       cholesterol       sodium  total_carb       fiber       sugar  \\\n",
              "count   515.000000   515.000000  515.000000  503.000000  515.000000   \n",
              "mean     72.456311  1246.737864   45.664078    4.137177    7.262136   \n",
              "std      63.160406   689.954278   24.883342    3.037460    6.761301   \n",
              "min       0.000000    15.000000    0.000000    0.000000    0.000000   \n",
              "25%      35.000000   800.000000   28.500000    2.000000    3.000000   \n",
              "50%      60.000000  1110.000000   44.000000    3.000000    6.000000   \n",
              "75%      95.000000  1550.000000   57.000000    5.000000    9.000000   \n",
              "max     805.000000  6080.000000  156.000000   17.000000   87.000000   \n",
              "\n",
              "          protein       vit_a       vit_c     calcium  \n",
              "count  514.000000  301.000000  305.000000  305.000000  \n",
              "mean    27.891051   18.857143   20.170492   24.852459  \n",
              "std     17.683921   31.384330   30.592243   25.522073  \n",
              "min      1.000000    0.000000    0.000000    0.000000  \n",
              "25%     16.000000    4.000000    4.000000    8.000000  \n",
              "50%     24.500000   10.000000   10.000000   20.000000  \n",
              "75%     36.000000   20.000000   30.000000   30.000000  \n",
              "max    186.000000  180.000000  400.000000  290.000000  "
            ]
          },
          "execution_count": 36,
          "metadata": {},
          "output_type": "execute_result"
        }
      ],
      "source": [
        "# Displays descriptive statistical data\n",
        "df.describe()"
      ]
    },
    {
      "cell_type": "markdown",
      "source": [
        "`describe()`: Memberikan informasi statistik deskriptif tentang kolom numerik dalam kerangka data. Berikut ringkasan statistik deskriptif untuk kolom numerik dalam kerangka data:\n",
        "\n",
        "1. Count (Hitungan): Jumlah nilai bukan nol di setiap kolom.\n",
        "2. Mean (Average): Nilai rata-rata setiap kolom.\n",
        "3. Deviasi Standar (std): Ukuran penyebaran nilai dari mean.\n",
        "4. Minimum (min): Nilai terkecil di setiap kolom.\n",
        "5. Persentil ke-25 (25%): Nilai yang di bawahnya terdapat 25% data.\n",
        "6. Persentil ke-50 (50%) atau Median: Nilai tengah ketika data diurutkan.\n",
        "7. Persentil ke-75 (75%): Nilai yang di bawahnya terdapat 75% data.\n",
        "8. Maksimum (maks): Nilai terbesar di setiap kolom."
      ],
      "metadata": {
        "id": "u9iz1-Ozxh-b"
      }
    },
    {
      "cell_type": "markdown",
      "metadata": {
        "id": "NIZSvxsiZ1CZ"
      },
      "source": [
        "# Visualize the data"
      ]
    },
    {
      "cell_type": "markdown",
      "metadata": {
        "id": "zOd36TwXohZd"
      },
      "source": [
        "Visualisasi data pada Python merupakan proses representasi grafis hasil analisis data yang biasanya muncul dalam bentuk diagram, grafik, peta, dan sebagainya yang dikemas secara menarik dan mudah dipahami. Python memiliki beberapa jenis visualisasi data yang cukup populer, seperti scatter plot, line plot, dan sebagainya. Visualisasi data dapat dilakukan menggunakan library seperti Matplotlib, Seaborn, dan Plotly."
      ]
    },
    {
      "cell_type": "code",
      "execution_count": null,
      "metadata": {
        "id": "VDGeE7LvohZd",
        "outputId": "8a2909f8-d3d6-4ca7-c47c-d6e9b1c0ced1"
      },
      "outputs": [
        {
          "data": {
            "application/vnd.plotly.v1+json": {
              "config": {
                "plotlyServerURL": "https://plot.ly"
              },
              "data": [
                {
                  "alignmentgroup": "True",
                  "hovertemplate": "restaurant=%{x}<br>count=%{y}<extra></extra>",
                  "legendgroup": "",
                  "marker": {
                    "color": "#636efa",
                    "pattern": {
                      "shape": ""
                    }
                  },
                  "name": "",
                  "offsetgroup": "",
                  "orientation": "v",
                  "showlegend": false,
                  "textposition": "auto",
                  "type": "bar",
                  "x": [
                    "Taco Bell",
                    "Subway",
                    "Burger King",
                    "Mcdonalds",
                    "Arbys",
                    "Sonic",
                    "Dairy Queen",
                    "Chick Fil-A"
                  ],
                  "xaxis": "x",
                  "y": [
                    115,
                    96,
                    70,
                    57,
                    55,
                    53,
                    42,
                    27
                  ],
                  "yaxis": "y"
                }
              ],
              "layout": {
                "barmode": "relative",
                "legend": {
                  "tracegroupgap": 0
                },
                "margin": {
                  "t": 60
                },
                "template": {
                  "data": {
                    "bar": [
                      {
                        "error_x": {
                          "color": "#2a3f5f"
                        },
                        "error_y": {
                          "color": "#2a3f5f"
                        },
                        "marker": {
                          "line": {
                            "color": "#E5ECF6",
                            "width": 0.5
                          },
                          "pattern": {
                            "fillmode": "overlay",
                            "size": 10,
                            "solidity": 0.2
                          }
                        },
                        "type": "bar"
                      }
                    ],
                    "barpolar": [
                      {
                        "marker": {
                          "line": {
                            "color": "#E5ECF6",
                            "width": 0.5
                          },
                          "pattern": {
                            "fillmode": "overlay",
                            "size": 10,
                            "solidity": 0.2
                          }
                        },
                        "type": "barpolar"
                      }
                    ],
                    "carpet": [
                      {
                        "aaxis": {
                          "endlinecolor": "#2a3f5f",
                          "gridcolor": "white",
                          "linecolor": "white",
                          "minorgridcolor": "white",
                          "startlinecolor": "#2a3f5f"
                        },
                        "baxis": {
                          "endlinecolor": "#2a3f5f",
                          "gridcolor": "white",
                          "linecolor": "white",
                          "minorgridcolor": "white",
                          "startlinecolor": "#2a3f5f"
                        },
                        "type": "carpet"
                      }
                    ],
                    "choropleth": [
                      {
                        "colorbar": {
                          "outlinewidth": 0,
                          "ticks": ""
                        },
                        "type": "choropleth"
                      }
                    ],
                    "contour": [
                      {
                        "colorbar": {
                          "outlinewidth": 0,
                          "ticks": ""
                        },
                        "colorscale": [
                          [
                            0,
                            "#0d0887"
                          ],
                          [
                            0.1111111111111111,
                            "#46039f"
                          ],
                          [
                            0.2222222222222222,
                            "#7201a8"
                          ],
                          [
                            0.3333333333333333,
                            "#9c179e"
                          ],
                          [
                            0.4444444444444444,
                            "#bd3786"
                          ],
                          [
                            0.5555555555555556,
                            "#d8576b"
                          ],
                          [
                            0.6666666666666666,
                            "#ed7953"
                          ],
                          [
                            0.7777777777777778,
                            "#fb9f3a"
                          ],
                          [
                            0.8888888888888888,
                            "#fdca26"
                          ],
                          [
                            1,
                            "#f0f921"
                          ]
                        ],
                        "type": "contour"
                      }
                    ],
                    "contourcarpet": [
                      {
                        "colorbar": {
                          "outlinewidth": 0,
                          "ticks": ""
                        },
                        "type": "contourcarpet"
                      }
                    ],
                    "heatmap": [
                      {
                        "colorbar": {
                          "outlinewidth": 0,
                          "ticks": ""
                        },
                        "colorscale": [
                          [
                            0,
                            "#0d0887"
                          ],
                          [
                            0.1111111111111111,
                            "#46039f"
                          ],
                          [
                            0.2222222222222222,
                            "#7201a8"
                          ],
                          [
                            0.3333333333333333,
                            "#9c179e"
                          ],
                          [
                            0.4444444444444444,
                            "#bd3786"
                          ],
                          [
                            0.5555555555555556,
                            "#d8576b"
                          ],
                          [
                            0.6666666666666666,
                            "#ed7953"
                          ],
                          [
                            0.7777777777777778,
                            "#fb9f3a"
                          ],
                          [
                            0.8888888888888888,
                            "#fdca26"
                          ],
                          [
                            1,
                            "#f0f921"
                          ]
                        ],
                        "type": "heatmap"
                      }
                    ],
                    "heatmapgl": [
                      {
                        "colorbar": {
                          "outlinewidth": 0,
                          "ticks": ""
                        },
                        "colorscale": [
                          [
                            0,
                            "#0d0887"
                          ],
                          [
                            0.1111111111111111,
                            "#46039f"
                          ],
                          [
                            0.2222222222222222,
                            "#7201a8"
                          ],
                          [
                            0.3333333333333333,
                            "#9c179e"
                          ],
                          [
                            0.4444444444444444,
                            "#bd3786"
                          ],
                          [
                            0.5555555555555556,
                            "#d8576b"
                          ],
                          [
                            0.6666666666666666,
                            "#ed7953"
                          ],
                          [
                            0.7777777777777778,
                            "#fb9f3a"
                          ],
                          [
                            0.8888888888888888,
                            "#fdca26"
                          ],
                          [
                            1,
                            "#f0f921"
                          ]
                        ],
                        "type": "heatmapgl"
                      }
                    ],
                    "histogram": [
                      {
                        "marker": {
                          "pattern": {
                            "fillmode": "overlay",
                            "size": 10,
                            "solidity": 0.2
                          }
                        },
                        "type": "histogram"
                      }
                    ],
                    "histogram2d": [
                      {
                        "colorbar": {
                          "outlinewidth": 0,
                          "ticks": ""
                        },
                        "colorscale": [
                          [
                            0,
                            "#0d0887"
                          ],
                          [
                            0.1111111111111111,
                            "#46039f"
                          ],
                          [
                            0.2222222222222222,
                            "#7201a8"
                          ],
                          [
                            0.3333333333333333,
                            "#9c179e"
                          ],
                          [
                            0.4444444444444444,
                            "#bd3786"
                          ],
                          [
                            0.5555555555555556,
                            "#d8576b"
                          ],
                          [
                            0.6666666666666666,
                            "#ed7953"
                          ],
                          [
                            0.7777777777777778,
                            "#fb9f3a"
                          ],
                          [
                            0.8888888888888888,
                            "#fdca26"
                          ],
                          [
                            1,
                            "#f0f921"
                          ]
                        ],
                        "type": "histogram2d"
                      }
                    ],
                    "histogram2dcontour": [
                      {
                        "colorbar": {
                          "outlinewidth": 0,
                          "ticks": ""
                        },
                        "colorscale": [
                          [
                            0,
                            "#0d0887"
                          ],
                          [
                            0.1111111111111111,
                            "#46039f"
                          ],
                          [
                            0.2222222222222222,
                            "#7201a8"
                          ],
                          [
                            0.3333333333333333,
                            "#9c179e"
                          ],
                          [
                            0.4444444444444444,
                            "#bd3786"
                          ],
                          [
                            0.5555555555555556,
                            "#d8576b"
                          ],
                          [
                            0.6666666666666666,
                            "#ed7953"
                          ],
                          [
                            0.7777777777777778,
                            "#fb9f3a"
                          ],
                          [
                            0.8888888888888888,
                            "#fdca26"
                          ],
                          [
                            1,
                            "#f0f921"
                          ]
                        ],
                        "type": "histogram2dcontour"
                      }
                    ],
                    "mesh3d": [
                      {
                        "colorbar": {
                          "outlinewidth": 0,
                          "ticks": ""
                        },
                        "type": "mesh3d"
                      }
                    ],
                    "parcoords": [
                      {
                        "line": {
                          "colorbar": {
                            "outlinewidth": 0,
                            "ticks": ""
                          }
                        },
                        "type": "parcoords"
                      }
                    ],
                    "pie": [
                      {
                        "automargin": true,
                        "type": "pie"
                      }
                    ],
                    "scatter": [
                      {
                        "fillpattern": {
                          "fillmode": "overlay",
                          "size": 10,
                          "solidity": 0.2
                        },
                        "type": "scatter"
                      }
                    ],
                    "scatter3d": [
                      {
                        "line": {
                          "colorbar": {
                            "outlinewidth": 0,
                            "ticks": ""
                          }
                        },
                        "marker": {
                          "colorbar": {
                            "outlinewidth": 0,
                            "ticks": ""
                          }
                        },
                        "type": "scatter3d"
                      }
                    ],
                    "scattercarpet": [
                      {
                        "marker": {
                          "colorbar": {
                            "outlinewidth": 0,
                            "ticks": ""
                          }
                        },
                        "type": "scattercarpet"
                      }
                    ],
                    "scattergeo": [
                      {
                        "marker": {
                          "colorbar": {
                            "outlinewidth": 0,
                            "ticks": ""
                          }
                        },
                        "type": "scattergeo"
                      }
                    ],
                    "scattergl": [
                      {
                        "marker": {
                          "colorbar": {
                            "outlinewidth": 0,
                            "ticks": ""
                          }
                        },
                        "type": "scattergl"
                      }
                    ],
                    "scattermapbox": [
                      {
                        "marker": {
                          "colorbar": {
                            "outlinewidth": 0,
                            "ticks": ""
                          }
                        },
                        "type": "scattermapbox"
                      }
                    ],
                    "scatterpolar": [
                      {
                        "marker": {
                          "colorbar": {
                            "outlinewidth": 0,
                            "ticks": ""
                          }
                        },
                        "type": "scatterpolar"
                      }
                    ],
                    "scatterpolargl": [
                      {
                        "marker": {
                          "colorbar": {
                            "outlinewidth": 0,
                            "ticks": ""
                          }
                        },
                        "type": "scatterpolargl"
                      }
                    ],
                    "scatterternary": [
                      {
                        "marker": {
                          "colorbar": {
                            "outlinewidth": 0,
                            "ticks": ""
                          }
                        },
                        "type": "scatterternary"
                      }
                    ],
                    "surface": [
                      {
                        "colorbar": {
                          "outlinewidth": 0,
                          "ticks": ""
                        },
                        "colorscale": [
                          [
                            0,
                            "#0d0887"
                          ],
                          [
                            0.1111111111111111,
                            "#46039f"
                          ],
                          [
                            0.2222222222222222,
                            "#7201a8"
                          ],
                          [
                            0.3333333333333333,
                            "#9c179e"
                          ],
                          [
                            0.4444444444444444,
                            "#bd3786"
                          ],
                          [
                            0.5555555555555556,
                            "#d8576b"
                          ],
                          [
                            0.6666666666666666,
                            "#ed7953"
                          ],
                          [
                            0.7777777777777778,
                            "#fb9f3a"
                          ],
                          [
                            0.8888888888888888,
                            "#fdca26"
                          ],
                          [
                            1,
                            "#f0f921"
                          ]
                        ],
                        "type": "surface"
                      }
                    ],
                    "table": [
                      {
                        "cells": {
                          "fill": {
                            "color": "#EBF0F8"
                          },
                          "line": {
                            "color": "white"
                          }
                        },
                        "header": {
                          "fill": {
                            "color": "#C8D4E3"
                          },
                          "line": {
                            "color": "white"
                          }
                        },
                        "type": "table"
                      }
                    ]
                  },
                  "layout": {
                    "annotationdefaults": {
                      "arrowcolor": "#2a3f5f",
                      "arrowhead": 0,
                      "arrowwidth": 1
                    },
                    "autotypenumbers": "strict",
                    "coloraxis": {
                      "colorbar": {
                        "outlinewidth": 0,
                        "ticks": ""
                      }
                    },
                    "colorscale": {
                      "diverging": [
                        [
                          0,
                          "#8e0152"
                        ],
                        [
                          0.1,
                          "#c51b7d"
                        ],
                        [
                          0.2,
                          "#de77ae"
                        ],
                        [
                          0.3,
                          "#f1b6da"
                        ],
                        [
                          0.4,
                          "#fde0ef"
                        ],
                        [
                          0.5,
                          "#f7f7f7"
                        ],
                        [
                          0.6,
                          "#e6f5d0"
                        ],
                        [
                          0.7,
                          "#b8e186"
                        ],
                        [
                          0.8,
                          "#7fbc41"
                        ],
                        [
                          0.9,
                          "#4d9221"
                        ],
                        [
                          1,
                          "#276419"
                        ]
                      ],
                      "sequential": [
                        [
                          0,
                          "#0d0887"
                        ],
                        [
                          0.1111111111111111,
                          "#46039f"
                        ],
                        [
                          0.2222222222222222,
                          "#7201a8"
                        ],
                        [
                          0.3333333333333333,
                          "#9c179e"
                        ],
                        [
                          0.4444444444444444,
                          "#bd3786"
                        ],
                        [
                          0.5555555555555556,
                          "#d8576b"
                        ],
                        [
                          0.6666666666666666,
                          "#ed7953"
                        ],
                        [
                          0.7777777777777778,
                          "#fb9f3a"
                        ],
                        [
                          0.8888888888888888,
                          "#fdca26"
                        ],
                        [
                          1,
                          "#f0f921"
                        ]
                      ],
                      "sequentialminus": [
                        [
                          0,
                          "#0d0887"
                        ],
                        [
                          0.1111111111111111,
                          "#46039f"
                        ],
                        [
                          0.2222222222222222,
                          "#7201a8"
                        ],
                        [
                          0.3333333333333333,
                          "#9c179e"
                        ],
                        [
                          0.4444444444444444,
                          "#bd3786"
                        ],
                        [
                          0.5555555555555556,
                          "#d8576b"
                        ],
                        [
                          0.6666666666666666,
                          "#ed7953"
                        ],
                        [
                          0.7777777777777778,
                          "#fb9f3a"
                        ],
                        [
                          0.8888888888888888,
                          "#fdca26"
                        ],
                        [
                          1,
                          "#f0f921"
                        ]
                      ]
                    },
                    "colorway": [
                      "#636efa",
                      "#EF553B",
                      "#00cc96",
                      "#ab63fa",
                      "#FFA15A",
                      "#19d3f3",
                      "#FF6692",
                      "#B6E880",
                      "#FF97FF",
                      "#FECB52"
                    ],
                    "font": {
                      "color": "#2a3f5f"
                    },
                    "geo": {
                      "bgcolor": "white",
                      "lakecolor": "white",
                      "landcolor": "#E5ECF6",
                      "showlakes": true,
                      "showland": true,
                      "subunitcolor": "white"
                    },
                    "hoverlabel": {
                      "align": "left"
                    },
                    "hovermode": "closest",
                    "mapbox": {
                      "style": "light"
                    },
                    "paper_bgcolor": "white",
                    "plot_bgcolor": "#E5ECF6",
                    "polar": {
                      "angularaxis": {
                        "gridcolor": "white",
                        "linecolor": "white",
                        "ticks": ""
                      },
                      "bgcolor": "#E5ECF6",
                      "radialaxis": {
                        "gridcolor": "white",
                        "linecolor": "white",
                        "ticks": ""
                      }
                    },
                    "scene": {
                      "xaxis": {
                        "backgroundcolor": "#E5ECF6",
                        "gridcolor": "white",
                        "gridwidth": 2,
                        "linecolor": "white",
                        "showbackground": true,
                        "ticks": "",
                        "zerolinecolor": "white"
                      },
                      "yaxis": {
                        "backgroundcolor": "#E5ECF6",
                        "gridcolor": "white",
                        "gridwidth": 2,
                        "linecolor": "white",
                        "showbackground": true,
                        "ticks": "",
                        "zerolinecolor": "white"
                      },
                      "zaxis": {
                        "backgroundcolor": "#E5ECF6",
                        "gridcolor": "white",
                        "gridwidth": 2,
                        "linecolor": "white",
                        "showbackground": true,
                        "ticks": "",
                        "zerolinecolor": "white"
                      }
                    },
                    "shapedefaults": {
                      "line": {
                        "color": "#2a3f5f"
                      }
                    },
                    "ternary": {
                      "aaxis": {
                        "gridcolor": "white",
                        "linecolor": "white",
                        "ticks": ""
                      },
                      "baxis": {
                        "gridcolor": "white",
                        "linecolor": "white",
                        "ticks": ""
                      },
                      "bgcolor": "#E5ECF6",
                      "caxis": {
                        "gridcolor": "white",
                        "linecolor": "white",
                        "ticks": ""
                      }
                    },
                    "title": {
                      "x": 0.05
                    },
                    "xaxis": {
                      "automargin": true,
                      "gridcolor": "white",
                      "linecolor": "white",
                      "ticks": "",
                      "title": {
                        "standoff": 15
                      },
                      "zerolinecolor": "white",
                      "zerolinewidth": 2
                    },
                    "yaxis": {
                      "automargin": true,
                      "gridcolor": "white",
                      "linecolor": "white",
                      "ticks": "",
                      "title": {
                        "standoff": 15
                      },
                      "zerolinecolor": "white",
                      "zerolinewidth": 2
                    }
                  }
                },
                "xaxis": {
                  "anchor": "y",
                  "domain": [
                    0,
                    1
                  ],
                  "title": {
                    "text": "restaurant"
                  }
                },
                "yaxis": {
                  "anchor": "x",
                  "domain": [
                    0,
                    1
                  ],
                  "title": {
                    "text": "count"
                  }
                }
              }
            }
          },
          "metadata": {},
          "output_type": "display_data"
        }
      ],
      "source": [
        "from plotly.express import bar\n",
        "bar(data_frame=df['restaurant'].value_counts().to_frame().reset_index(), x='restaurant', y='count')"
      ]
    },
    {
      "cell_type": "markdown",
      "metadata": {
        "id": "fPbrVAi-ohZe"
      },
      "source": [
        "### 1. Impor fungsi Bar\n",
        "'from plotly.express import bar': Baris ini mengimpor fungsi bar dari library Plotly Express. Fungsi ini digunakan untuk membuat diagram batang.\n",
        "\n",
        "### 2. Persiapan Data:\n",
        "\n",
        "data_frame = df['restaurant'].value_counts().to_frame().reset_index(): Bagian ini mempersiapkan data untuk diagram.\n",
        "\n",
        "df['restaurant'].value_counts(): Ini menghitung berapa kali tiap restoran muncul di kolom \"restaurant\" pada dataframe df. Ini menghasilkan suatu Seri dimana index mewakili nama restoran dan nilainya mewakili jumlah kemunculannya.\n",
        "\n",
        ".to_frame(): Ini mengubah Seri menjadi DataFrame. Sekarang Anda memiliki DataFrame dengan dua kolom: \"restaurant\" (berisi nama restoran) dan \"count\" (berisi jumlah kemunculannya).\n",
        "\n",
        ".reset_index(): Secara bawaan, index dari Seri menjadi kolom pertama di DataFrame. Baris ini mengatur ulang index menjadi kolom normal bernama \"index\".\n",
        "\n",
        "### 3. Membuat Diagram:\n",
        "\n",
        "bar(data_frame=data_frame, x='restaurant', y='count'): Baris ini menggunakan fungsi bar yang diimpor untuk membuat diagram.\n",
        "\n",
        "data_frame: Argumen ini menentukan DataFrame yang berisi data untuk diagram. Anda telah menetapkan DataFrame yang disiapkan (data_frame) ke argumen ini.\n",
        "\n",
        "x='restaurant': Argumen ini menentukan kolom yang menyediakan kategori untuk sumbu x. Di sini, nama \"restaurant\" akan ditampilkan pada sumbu x.\n",
        "y='count': Argumen ini menentukan kolom yang menyediakan nilai untuk sumbu y. Di sini, kolom \"count\" akan menentukan tinggi setiap batang, mewakili berapa kali tiap restoran muncul.\n",
        "\n",
        "Kode ini akan membuat diagram batang dimana tiap batang mewakili sebuah restoran, dan tinggi batang sesuai dengan berapa kali restoran itu muncul di data.\n",
        "Kode yang diatas untuk membuat diagram batang menggunakan Plotly Express."
      ]
    },
    {
      "cell_type": "code",
      "execution_count": null,
      "metadata": {
        "id": "uvK19AGZohZf",
        "outputId": "ed1dab71-ad82-4ae8-f854-830c04f4e25d"
      },
      "outputs": [
        {
          "data": {
            "application/vnd.plotly.v1+json": {
              "config": {
                "plotlyServerURL": "https://plot.ly"
              },
              "data": [
                {
                  "alignmentgroup": "True",
                  "bingroup": "x",
                  "hovertemplate": "calories=%{x}<br>count=%{y}<extra></extra>",
                  "legendgroup": "",
                  "marker": {
                    "color": "#636efa",
                    "pattern": {
                      "shape": ""
                    }
                  },
                  "name": "",
                  "offsetgroup": "",
                  "orientation": "v",
                  "showlegend": false,
                  "type": "histogram",
                  "x": [
                    380,
                    840,
                    1130,
                    750,
                    920,
                    540,
                    300,
                    510,
                    430,
                    770,
                    380,
                    620,
                    530,
                    700,
                    250,
                    290,
                    640,
                    580,
                    740,
                    350,
                    380,
                    480,
                    580,
                    520,
                    680,
                    570,
                    530,
                    530,
                    670,
                    560,
                    730,
                    690,
                    630,
                    800,
                    370,
                    480,
                    760,
                    1210,
                    1510,
                    2430,
                    180,
                    270,
                    440,
                    890,
                    1770,
                    640,
                    960,
                    1600,
                    140,
                    270,
                    490,
                    190,
                    320,
                    490,
                    220,
                    350,
                    520,
                    430,
                    310,
                    270,
                    120,
                    230,
                    350,
                    470,
                    500,
                    130,
                    190,
                    260,
                    390,
                    970,
                    490,
                    440,
                    70,
                    110,
                    140,
                    210,
                    430,
                    450,
                    500,
                    450,
                    540,
                    350,
                    860,
                    720,
                    710,
                    640,
                    340,
                    410,
                    380,
                    450,
                    600,
                    870,
                    640,
                    650,
                    740,
                    710,
                    720,
                    800,
                    1280,
                    1120,
                    1130,
                    1220,
                    1120,
                    450,
                    450,
                    450,
                    610,
                    680,
                    430,
                    570,
                    450,
                    280,
                    470,
                    740,
                    1000,
                    1350,
                    380,
                    560,
                    350,
                    610,
                    970,
                    1080,
                    1190,
                    330,
                    440,
                    550,
                    730,
                    100,
                    370,
                    430,
                    410,
                    340,
                    320,
                    500,
                    210,
                    830,
                    320,
                    330,
                    400,
                    450,
                    630,
                    650,
                    690,
                    690,
                    540,
                    650,
                    690,
                    550,
                    540,
                    360,
                    510,
                    640,
                    480,
                    710,
                    740,
                    750,
                    610,
                    300,
                    680,
                    710,
                    840,
                    240,
                    360,
                    600,
                    680,
                    550,
                    710,
                    520,
                    800,
                    620,
                    740,
                    590,
                    600,
                    430,
                    650,
                    1030,
                    730,
                    470,
                    980,
                    290,
                    290,
                    220,
                    210,
                    240,
                    300,
                    240,
                    200,
                    70,
                    430,
                    420,
                    230,
                    720,
                    1550,
                    1000,
                    330,
                    290,
                    1040,
                    730,
                    1100,
                    300,
                    520,
                    450,
                    360,
                    900,
                    580,
                    1220,
                    260,
                    550,
                    990,
                    940,
                    310,
                    1250,
                    730,
                    970,
                    1100,
                    770,
                    900,
                    990,
                    660,
                    760,
                    340,
                    380,
                    590,
                    720,
                    550,
                    690,
                    530,
                    670,
                    560,
                    700,
                    320,
                    450,
                    220,
                    230,
                    830,
                    440,
                    530,
                    410,
                    480,
                    730,
                    290,
                    190,
                    290,
                    950,
                    470,
                    570,
                    580,
                    430,
                    670,
                    470,
                    330,
                    310,
                    300,
                    630,
                    340,
                    410,
                    840,
                    210,
                    530,
                    410,
                    700,
                    760,
                    1000,
                    800,
                    630,
                    540,
                    570,
                    400,
                    630,
                    1030,
                    1260,
                    420,
                    390,
                    380,
                    330,
                    290,
                    350,
                    310,
                    250,
                    550,
                    1050,
                    760,
                    260,
                    470,
                    400,
                    640,
                    540,
                    350,
                    780,
                    580,
                    910,
                    350,
                    500,
                    640,
                    520,
                    280,
                    600,
                    350,
                    380,
                    150,
                    360,
                    280,
                    20,
                    550,
                    320,
                    640,
                    430,
                    860,
                    580,
                    1160,
                    500,
                    1000,
                    180,
                    290,
                    580,
                    330,
                    660,
                    570,
                    1140,
                    570,
                    1140,
                    460,
                    920,
                    370,
                    740,
                    470,
                    940,
                    410,
                    820,
                    550,
                    1100,
                    480,
                    960,
                    320,
                    640,
                    200,
                    320,
                    640,
                    350,
                    700,
                    480,
                    960,
                    380,
                    760,
                    310,
                    620,
                    370,
                    740,
                    420,
                    840,
                    380,
                    760,
                    470,
                    940,
                    390,
                    780,
                    180,
                    280,
                    560,
                    280,
                    560,
                    490,
                    980,
                    150,
                    230,
                    460,
                    390,
                    780,
                    300,
                    150,
                    400,
                    330,
                    110,
                    360,
                    280,
                    150,
                    510,
                    180,
                    220,
                    230,
                    230,
                    310,
                    140,
                    140,
                    310,
                    210,
                    140,
                    200,
                    200,
                    310,
                    110,
                    110,
                    50,
                    760,
                    730,
                    810,
                    740,
                    680,
                    790,
                    820,
                    540,
                    460,
                    510,
                    370,
                    550,
                    440,
                    410,
                    420,
                    390,
                    390,
                    760,
                    780,
                    740,
                    420,
                    380,
                    610,
                    610,
                    630,
                    550,
                    620,
                    630,
                    650,
                    400,
                    710,
                    650,
                    670,
                    540,
                    550,
                    570,
                    410,
                    880,
                    830,
                    820,
                    170,
                    320,
                    160,
                    200,
                    170,
                    200,
                    320,
                    350,
                    340,
                    350,
                    380,
                    320,
                    170,
                    200,
                    250,
                    320,
                    170,
                    200,
                    230,
                    200,
                    250,
                    340,
                    340,
                    370,
                    600,
                    420,
                    440,
                    600,
                    350,
                    340,
                    340,
                    150,
                    140,
                    150,
                    170,
                    490,
                    490,
                    490,
                    490,
                    570,
                    300,
                    270,
                    270,
                    710,
                    760,
                    430,
                    320,
                    260,
                    410,
                    210,
                    420,
                    430,
                    560,
                    580,
                    540,
                    480,
                    190,
                    520,
                    620,
                    380,
                    290,
                    650,
                    540,
                    270,
                    580,
                    470,
                    540,
                    270,
                    440,
                    440,
                    460,
                    180,
                    400,
                    200,
                    390,
                    520,
                    700,
                    780,
                    580,
                    780,
                    720,
                    720
                  ],
                  "xaxis": "x",
                  "yaxis": "y"
                }
              ],
              "layout": {
                "barmode": "relative",
                "legend": {
                  "tracegroupgap": 0
                },
                "template": {
                  "data": {
                    "bar": [
                      {
                        "error_x": {
                          "color": "#2a3f5f"
                        },
                        "error_y": {
                          "color": "#2a3f5f"
                        },
                        "marker": {
                          "line": {
                            "color": "#E5ECF6",
                            "width": 0.5
                          },
                          "pattern": {
                            "fillmode": "overlay",
                            "size": 10,
                            "solidity": 0.2
                          }
                        },
                        "type": "bar"
                      }
                    ],
                    "barpolar": [
                      {
                        "marker": {
                          "line": {
                            "color": "#E5ECF6",
                            "width": 0.5
                          },
                          "pattern": {
                            "fillmode": "overlay",
                            "size": 10,
                            "solidity": 0.2
                          }
                        },
                        "type": "barpolar"
                      }
                    ],
                    "carpet": [
                      {
                        "aaxis": {
                          "endlinecolor": "#2a3f5f",
                          "gridcolor": "white",
                          "linecolor": "white",
                          "minorgridcolor": "white",
                          "startlinecolor": "#2a3f5f"
                        },
                        "baxis": {
                          "endlinecolor": "#2a3f5f",
                          "gridcolor": "white",
                          "linecolor": "white",
                          "minorgridcolor": "white",
                          "startlinecolor": "#2a3f5f"
                        },
                        "type": "carpet"
                      }
                    ],
                    "choropleth": [
                      {
                        "colorbar": {
                          "outlinewidth": 0,
                          "ticks": ""
                        },
                        "type": "choropleth"
                      }
                    ],
                    "contour": [
                      {
                        "colorbar": {
                          "outlinewidth": 0,
                          "ticks": ""
                        },
                        "colorscale": [
                          [
                            0,
                            "#0d0887"
                          ],
                          [
                            0.1111111111111111,
                            "#46039f"
                          ],
                          [
                            0.2222222222222222,
                            "#7201a8"
                          ],
                          [
                            0.3333333333333333,
                            "#9c179e"
                          ],
                          [
                            0.4444444444444444,
                            "#bd3786"
                          ],
                          [
                            0.5555555555555556,
                            "#d8576b"
                          ],
                          [
                            0.6666666666666666,
                            "#ed7953"
                          ],
                          [
                            0.7777777777777778,
                            "#fb9f3a"
                          ],
                          [
                            0.8888888888888888,
                            "#fdca26"
                          ],
                          [
                            1,
                            "#f0f921"
                          ]
                        ],
                        "type": "contour"
                      }
                    ],
                    "contourcarpet": [
                      {
                        "colorbar": {
                          "outlinewidth": 0,
                          "ticks": ""
                        },
                        "type": "contourcarpet"
                      }
                    ],
                    "heatmap": [
                      {
                        "colorbar": {
                          "outlinewidth": 0,
                          "ticks": ""
                        },
                        "colorscale": [
                          [
                            0,
                            "#0d0887"
                          ],
                          [
                            0.1111111111111111,
                            "#46039f"
                          ],
                          [
                            0.2222222222222222,
                            "#7201a8"
                          ],
                          [
                            0.3333333333333333,
                            "#9c179e"
                          ],
                          [
                            0.4444444444444444,
                            "#bd3786"
                          ],
                          [
                            0.5555555555555556,
                            "#d8576b"
                          ],
                          [
                            0.6666666666666666,
                            "#ed7953"
                          ],
                          [
                            0.7777777777777778,
                            "#fb9f3a"
                          ],
                          [
                            0.8888888888888888,
                            "#fdca26"
                          ],
                          [
                            1,
                            "#f0f921"
                          ]
                        ],
                        "type": "heatmap"
                      }
                    ],
                    "heatmapgl": [
                      {
                        "colorbar": {
                          "outlinewidth": 0,
                          "ticks": ""
                        },
                        "colorscale": [
                          [
                            0,
                            "#0d0887"
                          ],
                          [
                            0.1111111111111111,
                            "#46039f"
                          ],
                          [
                            0.2222222222222222,
                            "#7201a8"
                          ],
                          [
                            0.3333333333333333,
                            "#9c179e"
                          ],
                          [
                            0.4444444444444444,
                            "#bd3786"
                          ],
                          [
                            0.5555555555555556,
                            "#d8576b"
                          ],
                          [
                            0.6666666666666666,
                            "#ed7953"
                          ],
                          [
                            0.7777777777777778,
                            "#fb9f3a"
                          ],
                          [
                            0.8888888888888888,
                            "#fdca26"
                          ],
                          [
                            1,
                            "#f0f921"
                          ]
                        ],
                        "type": "heatmapgl"
                      }
                    ],
                    "histogram": [
                      {
                        "marker": {
                          "pattern": {
                            "fillmode": "overlay",
                            "size": 10,
                            "solidity": 0.2
                          }
                        },
                        "type": "histogram"
                      }
                    ],
                    "histogram2d": [
                      {
                        "colorbar": {
                          "outlinewidth": 0,
                          "ticks": ""
                        },
                        "colorscale": [
                          [
                            0,
                            "#0d0887"
                          ],
                          [
                            0.1111111111111111,
                            "#46039f"
                          ],
                          [
                            0.2222222222222222,
                            "#7201a8"
                          ],
                          [
                            0.3333333333333333,
                            "#9c179e"
                          ],
                          [
                            0.4444444444444444,
                            "#bd3786"
                          ],
                          [
                            0.5555555555555556,
                            "#d8576b"
                          ],
                          [
                            0.6666666666666666,
                            "#ed7953"
                          ],
                          [
                            0.7777777777777778,
                            "#fb9f3a"
                          ],
                          [
                            0.8888888888888888,
                            "#fdca26"
                          ],
                          [
                            1,
                            "#f0f921"
                          ]
                        ],
                        "type": "histogram2d"
                      }
                    ],
                    "histogram2dcontour": [
                      {
                        "colorbar": {
                          "outlinewidth": 0,
                          "ticks": ""
                        },
                        "colorscale": [
                          [
                            0,
                            "#0d0887"
                          ],
                          [
                            0.1111111111111111,
                            "#46039f"
                          ],
                          [
                            0.2222222222222222,
                            "#7201a8"
                          ],
                          [
                            0.3333333333333333,
                            "#9c179e"
                          ],
                          [
                            0.4444444444444444,
                            "#bd3786"
                          ],
                          [
                            0.5555555555555556,
                            "#d8576b"
                          ],
                          [
                            0.6666666666666666,
                            "#ed7953"
                          ],
                          [
                            0.7777777777777778,
                            "#fb9f3a"
                          ],
                          [
                            0.8888888888888888,
                            "#fdca26"
                          ],
                          [
                            1,
                            "#f0f921"
                          ]
                        ],
                        "type": "histogram2dcontour"
                      }
                    ],
                    "mesh3d": [
                      {
                        "colorbar": {
                          "outlinewidth": 0,
                          "ticks": ""
                        },
                        "type": "mesh3d"
                      }
                    ],
                    "parcoords": [
                      {
                        "line": {
                          "colorbar": {
                            "outlinewidth": 0,
                            "ticks": ""
                          }
                        },
                        "type": "parcoords"
                      }
                    ],
                    "pie": [
                      {
                        "automargin": true,
                        "type": "pie"
                      }
                    ],
                    "scatter": [
                      {
                        "fillpattern": {
                          "fillmode": "overlay",
                          "size": 10,
                          "solidity": 0.2
                        },
                        "type": "scatter"
                      }
                    ],
                    "scatter3d": [
                      {
                        "line": {
                          "colorbar": {
                            "outlinewidth": 0,
                            "ticks": ""
                          }
                        },
                        "marker": {
                          "colorbar": {
                            "outlinewidth": 0,
                            "ticks": ""
                          }
                        },
                        "type": "scatter3d"
                      }
                    ],
                    "scattercarpet": [
                      {
                        "marker": {
                          "colorbar": {
                            "outlinewidth": 0,
                            "ticks": ""
                          }
                        },
                        "type": "scattercarpet"
                      }
                    ],
                    "scattergeo": [
                      {
                        "marker": {
                          "colorbar": {
                            "outlinewidth": 0,
                            "ticks": ""
                          }
                        },
                        "type": "scattergeo"
                      }
                    ],
                    "scattergl": [
                      {
                        "marker": {
                          "colorbar": {
                            "outlinewidth": 0,
                            "ticks": ""
                          }
                        },
                        "type": "scattergl"
                      }
                    ],
                    "scattermapbox": [
                      {
                        "marker": {
                          "colorbar": {
                            "outlinewidth": 0,
                            "ticks": ""
                          }
                        },
                        "type": "scattermapbox"
                      }
                    ],
                    "scatterpolar": [
                      {
                        "marker": {
                          "colorbar": {
                            "outlinewidth": 0,
                            "ticks": ""
                          }
                        },
                        "type": "scatterpolar"
                      }
                    ],
                    "scatterpolargl": [
                      {
                        "marker": {
                          "colorbar": {
                            "outlinewidth": 0,
                            "ticks": ""
                          }
                        },
                        "type": "scatterpolargl"
                      }
                    ],
                    "scatterternary": [
                      {
                        "marker": {
                          "colorbar": {
                            "outlinewidth": 0,
                            "ticks": ""
                          }
                        },
                        "type": "scatterternary"
                      }
                    ],
                    "surface": [
                      {
                        "colorbar": {
                          "outlinewidth": 0,
                          "ticks": ""
                        },
                        "colorscale": [
                          [
                            0,
                            "#0d0887"
                          ],
                          [
                            0.1111111111111111,
                            "#46039f"
                          ],
                          [
                            0.2222222222222222,
                            "#7201a8"
                          ],
                          [
                            0.3333333333333333,
                            "#9c179e"
                          ],
                          [
                            0.4444444444444444,
                            "#bd3786"
                          ],
                          [
                            0.5555555555555556,
                            "#d8576b"
                          ],
                          [
                            0.6666666666666666,
                            "#ed7953"
                          ],
                          [
                            0.7777777777777778,
                            "#fb9f3a"
                          ],
                          [
                            0.8888888888888888,
                            "#fdca26"
                          ],
                          [
                            1,
                            "#f0f921"
                          ]
                        ],
                        "type": "surface"
                      }
                    ],
                    "table": [
                      {
                        "cells": {
                          "fill": {
                            "color": "#EBF0F8"
                          },
                          "line": {
                            "color": "white"
                          }
                        },
                        "header": {
                          "fill": {
                            "color": "#C8D4E3"
                          },
                          "line": {
                            "color": "white"
                          }
                        },
                        "type": "table"
                      }
                    ]
                  },
                  "layout": {
                    "annotationdefaults": {
                      "arrowcolor": "#2a3f5f",
                      "arrowhead": 0,
                      "arrowwidth": 1
                    },
                    "autotypenumbers": "strict",
                    "coloraxis": {
                      "colorbar": {
                        "outlinewidth": 0,
                        "ticks": ""
                      }
                    },
                    "colorscale": {
                      "diverging": [
                        [
                          0,
                          "#8e0152"
                        ],
                        [
                          0.1,
                          "#c51b7d"
                        ],
                        [
                          0.2,
                          "#de77ae"
                        ],
                        [
                          0.3,
                          "#f1b6da"
                        ],
                        [
                          0.4,
                          "#fde0ef"
                        ],
                        [
                          0.5,
                          "#f7f7f7"
                        ],
                        [
                          0.6,
                          "#e6f5d0"
                        ],
                        [
                          0.7,
                          "#b8e186"
                        ],
                        [
                          0.8,
                          "#7fbc41"
                        ],
                        [
                          0.9,
                          "#4d9221"
                        ],
                        [
                          1,
                          "#276419"
                        ]
                      ],
                      "sequential": [
                        [
                          0,
                          "#0d0887"
                        ],
                        [
                          0.1111111111111111,
                          "#46039f"
                        ],
                        [
                          0.2222222222222222,
                          "#7201a8"
                        ],
                        [
                          0.3333333333333333,
                          "#9c179e"
                        ],
                        [
                          0.4444444444444444,
                          "#bd3786"
                        ],
                        [
                          0.5555555555555556,
                          "#d8576b"
                        ],
                        [
                          0.6666666666666666,
                          "#ed7953"
                        ],
                        [
                          0.7777777777777778,
                          "#fb9f3a"
                        ],
                        [
                          0.8888888888888888,
                          "#fdca26"
                        ],
                        [
                          1,
                          "#f0f921"
                        ]
                      ],
                      "sequentialminus": [
                        [
                          0,
                          "#0d0887"
                        ],
                        [
                          0.1111111111111111,
                          "#46039f"
                        ],
                        [
                          0.2222222222222222,
                          "#7201a8"
                        ],
                        [
                          0.3333333333333333,
                          "#9c179e"
                        ],
                        [
                          0.4444444444444444,
                          "#bd3786"
                        ],
                        [
                          0.5555555555555556,
                          "#d8576b"
                        ],
                        [
                          0.6666666666666666,
                          "#ed7953"
                        ],
                        [
                          0.7777777777777778,
                          "#fb9f3a"
                        ],
                        [
                          0.8888888888888888,
                          "#fdca26"
                        ],
                        [
                          1,
                          "#f0f921"
                        ]
                      ]
                    },
                    "colorway": [
                      "#636efa",
                      "#EF553B",
                      "#00cc96",
                      "#ab63fa",
                      "#FFA15A",
                      "#19d3f3",
                      "#FF6692",
                      "#B6E880",
                      "#FF97FF",
                      "#FECB52"
                    ],
                    "font": {
                      "color": "#2a3f5f"
                    },
                    "geo": {
                      "bgcolor": "white",
                      "lakecolor": "white",
                      "landcolor": "#E5ECF6",
                      "showlakes": true,
                      "showland": true,
                      "subunitcolor": "white"
                    },
                    "hoverlabel": {
                      "align": "left"
                    },
                    "hovermode": "closest",
                    "mapbox": {
                      "style": "light"
                    },
                    "paper_bgcolor": "white",
                    "plot_bgcolor": "#E5ECF6",
                    "polar": {
                      "angularaxis": {
                        "gridcolor": "white",
                        "linecolor": "white",
                        "ticks": ""
                      },
                      "bgcolor": "#E5ECF6",
                      "radialaxis": {
                        "gridcolor": "white",
                        "linecolor": "white",
                        "ticks": ""
                      }
                    },
                    "scene": {
                      "xaxis": {
                        "backgroundcolor": "#E5ECF6",
                        "gridcolor": "white",
                        "gridwidth": 2,
                        "linecolor": "white",
                        "showbackground": true,
                        "ticks": "",
                        "zerolinecolor": "white"
                      },
                      "yaxis": {
                        "backgroundcolor": "#E5ECF6",
                        "gridcolor": "white",
                        "gridwidth": 2,
                        "linecolor": "white",
                        "showbackground": true,
                        "ticks": "",
                        "zerolinecolor": "white"
                      },
                      "zaxis": {
                        "backgroundcolor": "#E5ECF6",
                        "gridcolor": "white",
                        "gridwidth": 2,
                        "linecolor": "white",
                        "showbackground": true,
                        "ticks": "",
                        "zerolinecolor": "white"
                      }
                    },
                    "shapedefaults": {
                      "line": {
                        "color": "#2a3f5f"
                      }
                    },
                    "ternary": {
                      "aaxis": {
                        "gridcolor": "white",
                        "linecolor": "white",
                        "ticks": ""
                      },
                      "baxis": {
                        "gridcolor": "white",
                        "linecolor": "white",
                        "ticks": ""
                      },
                      "bgcolor": "#E5ECF6",
                      "caxis": {
                        "gridcolor": "white",
                        "linecolor": "white",
                        "ticks": ""
                      }
                    },
                    "title": {
                      "x": 0.05
                    },
                    "xaxis": {
                      "automargin": true,
                      "gridcolor": "white",
                      "linecolor": "white",
                      "ticks": "",
                      "title": {
                        "standoff": 15
                      },
                      "zerolinecolor": "white",
                      "zerolinewidth": 2
                    },
                    "yaxis": {
                      "automargin": true,
                      "gridcolor": "white",
                      "linecolor": "white",
                      "ticks": "",
                      "title": {
                        "standoff": 15
                      },
                      "zerolinecolor": "white",
                      "zerolinewidth": 2
                    }
                  }
                },
                "title": {
                  "text": "calories"
                },
                "xaxis": {
                  "anchor": "y",
                  "domain": [
                    0,
                    1
                  ],
                  "title": {
                    "text": "calories"
                  }
                },
                "yaxis": {
                  "anchor": "x",
                  "domain": [
                    0,
                    1
                  ],
                  "title": {
                    "text": "count"
                  }
                }
              }
            }
          },
          "metadata": {},
          "output_type": "display_data"
        },
        {
          "data": {
            "application/vnd.plotly.v1+json": {
              "config": {
                "plotlyServerURL": "https://plot.ly"
              },
              "data": [
                {
                  "alignmentgroup": "True",
                  "bingroup": "x",
                  "hovertemplate": "cal_fat=%{x}<br>count=%{y}<extra></extra>",
                  "legendgroup": "",
                  "marker": {
                    "color": "#636efa",
                    "pattern": {
                      "shape": ""
                    }
                  },
                  "name": "",
                  "offsetgroup": "",
                  "orientation": "v",
                  "showlegend": false,
                  "type": "histogram",
                  "x": [
                    60,
                    410,
                    600,
                    280,
                    410,
                    250,
                    100,
                    210,
                    190,
                    400,
                    170,
                    300,
                    180,
                    300,
                    70,
                    50,
                    330,
                    190,
                    310,
                    130,
                    160,
                    200,
                    300,
                    160,
                    280,
                    200,
                    200,
                    240,
                    320,
                    180,
                    300,
                    340,
                    200,
                    320,
                    190,
                    250,
                    390,
                    630,
                    790,
                    1270,
                    100,
                    140,
                    240,
                    480,
                    960,
                    240,
                    360,
                    600,
                    70,
                    80,
                    250,
                    110,
                    120,
                    250,
                    90,
                    100,
                    230,
                    144,
                    54,
                    99,
                    54,
                    108,
                    153,
                    207,
                    207,
                    54,
                    81,
                    110,
                    162,
                    414,
                    170,
                    171,
                    18,
                    27,
                    36,
                    45,
                    108,
                    117,
                    162,
                    171,
                    225,
                    126,
                    423,
                    279,
                    380,
                    330,
                    150,
                    220,
                    200,
                    250,
                    350,
                    530,
                    330,
                    340,
                    430,
                    380,
                    380,
                    480,
                    830,
                    680,
                    680,
                    780,
                    680,
                    130,
                    130,
                    130,
                    270,
                    350,
                    180,
                    300,
                    220,
                    130,
                    220,
                    350,
                    550,
                    900,
                    190,
                    290,
                    150,
                    270,
                    410,
                    460,
                    510,
                    140,
                    190,
                    240,
                    350,
                    580,
                    160,
                    180,
                    230,
                    170,
                    160,
                    240,
                    100,
                    490,
                    160,
                    100,
                    90,
                    180,
                    290,
                    300,
                    280,
                    280,
                    220,
                    280,
                    310,
                    230,
                    210,
                    120,
                    210,
                    290,
                    220,
                    390,
                    350,
                    330,
                    270,
                    80,
                    360,
                    410,
                    400,
                    100,
                    150,
                    250,
                    280,
                    260,
                    260,
                    240,
                    310,
                    310,
                    320,
                    250,
                    310,
                    160,
                    320,
                    459,
                    252,
                    180,
                    495,
                    120,
                    110,
                    80,
                    70,
                    90,
                    150,
                    90,
                    60,
                    45,
                    220,
                    340,
                    120,
                    480,
                    1134,
                    585,
                    140,
                    120,
                    630,
                    351,
                    675,
                    130,
                    280,
                    230,
                    160,
                    486,
                    300,
                    720,
                    90,
                    250,
                    585,
                    567,
                    110,
                    738,
                    387,
                    549,
                    666,
                    432,
                    510,
                    580,
                    360,
                    430,
                    170,
                    210,
                    360,
                    450,
                    330,
                    430,
                    290,
                    380,
                    270,
                    370,
                    120,
                    220,
                    180,
                    190,
                    468,
                    243,
                    250,
                    150,
                    220,
                    351,
                    150,
                    100,
                    150,
                    500,
                    260,
                    225,
                    252,
                    250,
                    370,
                    170,
                    170,
                    140,
                    160,
                    350,
                    189,
                    150,
                    459,
                    135,
                    333,
                    220,
                    378,
                    405,
                    660,
                    460,
                    330,
                    270,
                    310,
                    160,
                    310,
                    480,
                    590,
                    240,
                    220,
                    220,
                    180,
                    160,
                    180,
                    80,
                    80,
                    410,
                    670,
                    440,
                    140,
                    200,
                    160,
                    310,
                    240,
                    130,
                    430,
                    310,
                    430,
                    180,
                    180,
                    220,
                    280,
                    120,
                    270,
                    190,
                    170,
                    20,
                    140,
                    130,
                    0,
                    240,
                    80,
                    160,
                    160,
                    320,
                    310,
                    620,
                    150,
                    300,
                    20,
                    40,
                    80,
                    45,
                    90,
                    230,
                    460,
                    250,
                    500,
                    140,
                    280,
                    120,
                    240,
                    130,
                    260,
                    150,
                    300,
                    260,
                    520,
                    160,
                    320,
                    40,
                    80,
                    25,
                    40,
                    80,
                    50,
                    100,
                    220,
                    440,
                    90,
                    180,
                    40,
                    80,
                    100,
                    200,
                    170,
                    340,
                    40,
                    80,
                    210,
                    420,
                    110,
                    220,
                    20,
                    30,
                    60,
                    35,
                    70,
                    210,
                    420,
                    15,
                    20,
                    40,
                    70,
                    140,
                    80,
                    70,
                    300,
                    140,
                    25,
                    230,
                    110,
                    30,
                    340,
                    95,
                    35,
                    135,
                    140,
                    150,
                    25,
                    30,
                    205,
                    75,
                    30,
                    85,
                    25,
                    215,
                    20,
                    20,
                    10,
                    330,
                    310,
                    380,
                    230,
                    200,
                    290,
                    310,
                    230,
                    170,
                    170,
                    100,
                    200,
                    160,
                    110,
                    140,
                    110,
                    120,
                    240,
                    250,
                    230,
                    160,
                    150,
                    210,
                    220,
                    240,
                    260,
                    270,
                    280,
                    300,
                    160,
                    320,
                    250,
                    260,
                    180,
                    190,
                    210,
                    140,
                    380,
                    320,
                    320,
                    50,
                    120,
                    90,
                    100,
                    90,
                    110,
                    120,
                    140,
                    160,
                    180,
                    170,
                    120,
                    90,
                    110,
                    130,
                    120,
                    80,
                    100,
                    100,
                    80,
                    120,
                    160,
                    170,
                    190,
                    310,
                    250,
                    270,
                    310,
                    80,
                    80,
                    80,
                    35,
                    70,
                    35,
                    60,
                    260,
                    250,
                    250,
                    250,
                    290,
                    120,
                    90,
                    90,
                    360,
                    360,
                    210,
                    140,
                    140,
                    170,
                    110,
                    170,
                    210,
                    200,
                    210,
                    190,
                    240,
                    80,
                    250,
                    340,
                    150,
                    170,
                    340,
                    190,
                    100,
                    260,
                    200,
                    270,
                    130,
                    210,
                    200,
                    240,
                    70,
                    180,
                    90,
                    170,
                    250,
                    270,
                    340,
                    260,
                    380,
                    320,
                    320
                  ],
                  "xaxis": "x",
                  "yaxis": "y"
                }
              ],
              "layout": {
                "barmode": "relative",
                "legend": {
                  "tracegroupgap": 0
                },
                "template": {
                  "data": {
                    "bar": [
                      {
                        "error_x": {
                          "color": "#2a3f5f"
                        },
                        "error_y": {
                          "color": "#2a3f5f"
                        },
                        "marker": {
                          "line": {
                            "color": "#E5ECF6",
                            "width": 0.5
                          },
                          "pattern": {
                            "fillmode": "overlay",
                            "size": 10,
                            "solidity": 0.2
                          }
                        },
                        "type": "bar"
                      }
                    ],
                    "barpolar": [
                      {
                        "marker": {
                          "line": {
                            "color": "#E5ECF6",
                            "width": 0.5
                          },
                          "pattern": {
                            "fillmode": "overlay",
                            "size": 10,
                            "solidity": 0.2
                          }
                        },
                        "type": "barpolar"
                      }
                    ],
                    "carpet": [
                      {
                        "aaxis": {
                          "endlinecolor": "#2a3f5f",
                          "gridcolor": "white",
                          "linecolor": "white",
                          "minorgridcolor": "white",
                          "startlinecolor": "#2a3f5f"
                        },
                        "baxis": {
                          "endlinecolor": "#2a3f5f",
                          "gridcolor": "white",
                          "linecolor": "white",
                          "minorgridcolor": "white",
                          "startlinecolor": "#2a3f5f"
                        },
                        "type": "carpet"
                      }
                    ],
                    "choropleth": [
                      {
                        "colorbar": {
                          "outlinewidth": 0,
                          "ticks": ""
                        },
                        "type": "choropleth"
                      }
                    ],
                    "contour": [
                      {
                        "colorbar": {
                          "outlinewidth": 0,
                          "ticks": ""
                        },
                        "colorscale": [
                          [
                            0,
                            "#0d0887"
                          ],
                          [
                            0.1111111111111111,
                            "#46039f"
                          ],
                          [
                            0.2222222222222222,
                            "#7201a8"
                          ],
                          [
                            0.3333333333333333,
                            "#9c179e"
                          ],
                          [
                            0.4444444444444444,
                            "#bd3786"
                          ],
                          [
                            0.5555555555555556,
                            "#d8576b"
                          ],
                          [
                            0.6666666666666666,
                            "#ed7953"
                          ],
                          [
                            0.7777777777777778,
                            "#fb9f3a"
                          ],
                          [
                            0.8888888888888888,
                            "#fdca26"
                          ],
                          [
                            1,
                            "#f0f921"
                          ]
                        ],
                        "type": "contour"
                      }
                    ],
                    "contourcarpet": [
                      {
                        "colorbar": {
                          "outlinewidth": 0,
                          "ticks": ""
                        },
                        "type": "contourcarpet"
                      }
                    ],
                    "heatmap": [
                      {
                        "colorbar": {
                          "outlinewidth": 0,
                          "ticks": ""
                        },
                        "colorscale": [
                          [
                            0,
                            "#0d0887"
                          ],
                          [
                            0.1111111111111111,
                            "#46039f"
                          ],
                          [
                            0.2222222222222222,
                            "#7201a8"
                          ],
                          [
                            0.3333333333333333,
                            "#9c179e"
                          ],
                          [
                            0.4444444444444444,
                            "#bd3786"
                          ],
                          [
                            0.5555555555555556,
                            "#d8576b"
                          ],
                          [
                            0.6666666666666666,
                            "#ed7953"
                          ],
                          [
                            0.7777777777777778,
                            "#fb9f3a"
                          ],
                          [
                            0.8888888888888888,
                            "#fdca26"
                          ],
                          [
                            1,
                            "#f0f921"
                          ]
                        ],
                        "type": "heatmap"
                      }
                    ],
                    "heatmapgl": [
                      {
                        "colorbar": {
                          "outlinewidth": 0,
                          "ticks": ""
                        },
                        "colorscale": [
                          [
                            0,
                            "#0d0887"
                          ],
                          [
                            0.1111111111111111,
                            "#46039f"
                          ],
                          [
                            0.2222222222222222,
                            "#7201a8"
                          ],
                          [
                            0.3333333333333333,
                            "#9c179e"
                          ],
                          [
                            0.4444444444444444,
                            "#bd3786"
                          ],
                          [
                            0.5555555555555556,
                            "#d8576b"
                          ],
                          [
                            0.6666666666666666,
                            "#ed7953"
                          ],
                          [
                            0.7777777777777778,
                            "#fb9f3a"
                          ],
                          [
                            0.8888888888888888,
                            "#fdca26"
                          ],
                          [
                            1,
                            "#f0f921"
                          ]
                        ],
                        "type": "heatmapgl"
                      }
                    ],
                    "histogram": [
                      {
                        "marker": {
                          "pattern": {
                            "fillmode": "overlay",
                            "size": 10,
                            "solidity": 0.2
                          }
                        },
                        "type": "histogram"
                      }
                    ],
                    "histogram2d": [
                      {
                        "colorbar": {
                          "outlinewidth": 0,
                          "ticks": ""
                        },
                        "colorscale": [
                          [
                            0,
                            "#0d0887"
                          ],
                          [
                            0.1111111111111111,
                            "#46039f"
                          ],
                          [
                            0.2222222222222222,
                            "#7201a8"
                          ],
                          [
                            0.3333333333333333,
                            "#9c179e"
                          ],
                          [
                            0.4444444444444444,
                            "#bd3786"
                          ],
                          [
                            0.5555555555555556,
                            "#d8576b"
                          ],
                          [
                            0.6666666666666666,
                            "#ed7953"
                          ],
                          [
                            0.7777777777777778,
                            "#fb9f3a"
                          ],
                          [
                            0.8888888888888888,
                            "#fdca26"
                          ],
                          [
                            1,
                            "#f0f921"
                          ]
                        ],
                        "type": "histogram2d"
                      }
                    ],
                    "histogram2dcontour": [
                      {
                        "colorbar": {
                          "outlinewidth": 0,
                          "ticks": ""
                        },
                        "colorscale": [
                          [
                            0,
                            "#0d0887"
                          ],
                          [
                            0.1111111111111111,
                            "#46039f"
                          ],
                          [
                            0.2222222222222222,
                            "#7201a8"
                          ],
                          [
                            0.3333333333333333,
                            "#9c179e"
                          ],
                          [
                            0.4444444444444444,
                            "#bd3786"
                          ],
                          [
                            0.5555555555555556,
                            "#d8576b"
                          ],
                          [
                            0.6666666666666666,
                            "#ed7953"
                          ],
                          [
                            0.7777777777777778,
                            "#fb9f3a"
                          ],
                          [
                            0.8888888888888888,
                            "#fdca26"
                          ],
                          [
                            1,
                            "#f0f921"
                          ]
                        ],
                        "type": "histogram2dcontour"
                      }
                    ],
                    "mesh3d": [
                      {
                        "colorbar": {
                          "outlinewidth": 0,
                          "ticks": ""
                        },
                        "type": "mesh3d"
                      }
                    ],
                    "parcoords": [
                      {
                        "line": {
                          "colorbar": {
                            "outlinewidth": 0,
                            "ticks": ""
                          }
                        },
                        "type": "parcoords"
                      }
                    ],
                    "pie": [
                      {
                        "automargin": true,
                        "type": "pie"
                      }
                    ],
                    "scatter": [
                      {
                        "fillpattern": {
                          "fillmode": "overlay",
                          "size": 10,
                          "solidity": 0.2
                        },
                        "type": "scatter"
                      }
                    ],
                    "scatter3d": [
                      {
                        "line": {
                          "colorbar": {
                            "outlinewidth": 0,
                            "ticks": ""
                          }
                        },
                        "marker": {
                          "colorbar": {
                            "outlinewidth": 0,
                            "ticks": ""
                          }
                        },
                        "type": "scatter3d"
                      }
                    ],
                    "scattercarpet": [
                      {
                        "marker": {
                          "colorbar": {
                            "outlinewidth": 0,
                            "ticks": ""
                          }
                        },
                        "type": "scattercarpet"
                      }
                    ],
                    "scattergeo": [
                      {
                        "marker": {
                          "colorbar": {
                            "outlinewidth": 0,
                            "ticks": ""
                          }
                        },
                        "type": "scattergeo"
                      }
                    ],
                    "scattergl": [
                      {
                        "marker": {
                          "colorbar": {
                            "outlinewidth": 0,
                            "ticks": ""
                          }
                        },
                        "type": "scattergl"
                      }
                    ],
                    "scattermapbox": [
                      {
                        "marker": {
                          "colorbar": {
                            "outlinewidth": 0,
                            "ticks": ""
                          }
                        },
                        "type": "scattermapbox"
                      }
                    ],
                    "scatterpolar": [
                      {
                        "marker": {
                          "colorbar": {
                            "outlinewidth": 0,
                            "ticks": ""
                          }
                        },
                        "type": "scatterpolar"
                      }
                    ],
                    "scatterpolargl": [
                      {
                        "marker": {
                          "colorbar": {
                            "outlinewidth": 0,
                            "ticks": ""
                          }
                        },
                        "type": "scatterpolargl"
                      }
                    ],
                    "scatterternary": [
                      {
                        "marker": {
                          "colorbar": {
                            "outlinewidth": 0,
                            "ticks": ""
                          }
                        },
                        "type": "scatterternary"
                      }
                    ],
                    "surface": [
                      {
                        "colorbar": {
                          "outlinewidth": 0,
                          "ticks": ""
                        },
                        "colorscale": [
                          [
                            0,
                            "#0d0887"
                          ],
                          [
                            0.1111111111111111,
                            "#46039f"
                          ],
                          [
                            0.2222222222222222,
                            "#7201a8"
                          ],
                          [
                            0.3333333333333333,
                            "#9c179e"
                          ],
                          [
                            0.4444444444444444,
                            "#bd3786"
                          ],
                          [
                            0.5555555555555556,
                            "#d8576b"
                          ],
                          [
                            0.6666666666666666,
                            "#ed7953"
                          ],
                          [
                            0.7777777777777778,
                            "#fb9f3a"
                          ],
                          [
                            0.8888888888888888,
                            "#fdca26"
                          ],
                          [
                            1,
                            "#f0f921"
                          ]
                        ],
                        "type": "surface"
                      }
                    ],
                    "table": [
                      {
                        "cells": {
                          "fill": {
                            "color": "#EBF0F8"
                          },
                          "line": {
                            "color": "white"
                          }
                        },
                        "header": {
                          "fill": {
                            "color": "#C8D4E3"
                          },
                          "line": {
                            "color": "white"
                          }
                        },
                        "type": "table"
                      }
                    ]
                  },
                  "layout": {
                    "annotationdefaults": {
                      "arrowcolor": "#2a3f5f",
                      "arrowhead": 0,
                      "arrowwidth": 1
                    },
                    "autotypenumbers": "strict",
                    "coloraxis": {
                      "colorbar": {
                        "outlinewidth": 0,
                        "ticks": ""
                      }
                    },
                    "colorscale": {
                      "diverging": [
                        [
                          0,
                          "#8e0152"
                        ],
                        [
                          0.1,
                          "#c51b7d"
                        ],
                        [
                          0.2,
                          "#de77ae"
                        ],
                        [
                          0.3,
                          "#f1b6da"
                        ],
                        [
                          0.4,
                          "#fde0ef"
                        ],
                        [
                          0.5,
                          "#f7f7f7"
                        ],
                        [
                          0.6,
                          "#e6f5d0"
                        ],
                        [
                          0.7,
                          "#b8e186"
                        ],
                        [
                          0.8,
                          "#7fbc41"
                        ],
                        [
                          0.9,
                          "#4d9221"
                        ],
                        [
                          1,
                          "#276419"
                        ]
                      ],
                      "sequential": [
                        [
                          0,
                          "#0d0887"
                        ],
                        [
                          0.1111111111111111,
                          "#46039f"
                        ],
                        [
                          0.2222222222222222,
                          "#7201a8"
                        ],
                        [
                          0.3333333333333333,
                          "#9c179e"
                        ],
                        [
                          0.4444444444444444,
                          "#bd3786"
                        ],
                        [
                          0.5555555555555556,
                          "#d8576b"
                        ],
                        [
                          0.6666666666666666,
                          "#ed7953"
                        ],
                        [
                          0.7777777777777778,
                          "#fb9f3a"
                        ],
                        [
                          0.8888888888888888,
                          "#fdca26"
                        ],
                        [
                          1,
                          "#f0f921"
                        ]
                      ],
                      "sequentialminus": [
                        [
                          0,
                          "#0d0887"
                        ],
                        [
                          0.1111111111111111,
                          "#46039f"
                        ],
                        [
                          0.2222222222222222,
                          "#7201a8"
                        ],
                        [
                          0.3333333333333333,
                          "#9c179e"
                        ],
                        [
                          0.4444444444444444,
                          "#bd3786"
                        ],
                        [
                          0.5555555555555556,
                          "#d8576b"
                        ],
                        [
                          0.6666666666666666,
                          "#ed7953"
                        ],
                        [
                          0.7777777777777778,
                          "#fb9f3a"
                        ],
                        [
                          0.8888888888888888,
                          "#fdca26"
                        ],
                        [
                          1,
                          "#f0f921"
                        ]
                      ]
                    },
                    "colorway": [
                      "#636efa",
                      "#EF553B",
                      "#00cc96",
                      "#ab63fa",
                      "#FFA15A",
                      "#19d3f3",
                      "#FF6692",
                      "#B6E880",
                      "#FF97FF",
                      "#FECB52"
                    ],
                    "font": {
                      "color": "#2a3f5f"
                    },
                    "geo": {
                      "bgcolor": "white",
                      "lakecolor": "white",
                      "landcolor": "#E5ECF6",
                      "showlakes": true,
                      "showland": true,
                      "subunitcolor": "white"
                    },
                    "hoverlabel": {
                      "align": "left"
                    },
                    "hovermode": "closest",
                    "mapbox": {
                      "style": "light"
                    },
                    "paper_bgcolor": "white",
                    "plot_bgcolor": "#E5ECF6",
                    "polar": {
                      "angularaxis": {
                        "gridcolor": "white",
                        "linecolor": "white",
                        "ticks": ""
                      },
                      "bgcolor": "#E5ECF6",
                      "radialaxis": {
                        "gridcolor": "white",
                        "linecolor": "white",
                        "ticks": ""
                      }
                    },
                    "scene": {
                      "xaxis": {
                        "backgroundcolor": "#E5ECF6",
                        "gridcolor": "white",
                        "gridwidth": 2,
                        "linecolor": "white",
                        "showbackground": true,
                        "ticks": "",
                        "zerolinecolor": "white"
                      },
                      "yaxis": {
                        "backgroundcolor": "#E5ECF6",
                        "gridcolor": "white",
                        "gridwidth": 2,
                        "linecolor": "white",
                        "showbackground": true,
                        "ticks": "",
                        "zerolinecolor": "white"
                      },
                      "zaxis": {
                        "backgroundcolor": "#E5ECF6",
                        "gridcolor": "white",
                        "gridwidth": 2,
                        "linecolor": "white",
                        "showbackground": true,
                        "ticks": "",
                        "zerolinecolor": "white"
                      }
                    },
                    "shapedefaults": {
                      "line": {
                        "color": "#2a3f5f"
                      }
                    },
                    "ternary": {
                      "aaxis": {
                        "gridcolor": "white",
                        "linecolor": "white",
                        "ticks": ""
                      },
                      "baxis": {
                        "gridcolor": "white",
                        "linecolor": "white",
                        "ticks": ""
                      },
                      "bgcolor": "#E5ECF6",
                      "caxis": {
                        "gridcolor": "white",
                        "linecolor": "white",
                        "ticks": ""
                      }
                    },
                    "title": {
                      "x": 0.05
                    },
                    "xaxis": {
                      "automargin": true,
                      "gridcolor": "white",
                      "linecolor": "white",
                      "ticks": "",
                      "title": {
                        "standoff": 15
                      },
                      "zerolinecolor": "white",
                      "zerolinewidth": 2
                    },
                    "yaxis": {
                      "automargin": true,
                      "gridcolor": "white",
                      "linecolor": "white",
                      "ticks": "",
                      "title": {
                        "standoff": 15
                      },
                      "zerolinecolor": "white",
                      "zerolinewidth": 2
                    }
                  }
                },
                "title": {
                  "text": "cal_fat"
                },
                "xaxis": {
                  "anchor": "y",
                  "domain": [
                    0,
                    1
                  ],
                  "title": {
                    "text": "cal_fat"
                  }
                },
                "yaxis": {
                  "anchor": "x",
                  "domain": [
                    0,
                    1
                  ],
                  "title": {
                    "text": "count"
                  }
                }
              }
            }
          },
          "metadata": {},
          "output_type": "display_data"
        },
        {
          "data": {
            "application/vnd.plotly.v1+json": {
              "config": {
                "plotlyServerURL": "https://plot.ly"
              },
              "data": [
                {
                  "alignmentgroup": "True",
                  "bingroup": "x",
                  "hovertemplate": "total_fat=%{x}<br>count=%{y}<extra></extra>",
                  "legendgroup": "",
                  "marker": {
                    "color": "#636efa",
                    "pattern": {
                      "shape": ""
                    }
                  },
                  "name": "",
                  "offsetgroup": "",
                  "orientation": "v",
                  "showlegend": false,
                  "type": "histogram",
                  "x": [
                    7,
                    45,
                    67,
                    31,
                    45,
                    28,
                    12,
                    24,
                    21,
                    45,
                    18,
                    34,
                    20,
                    34,
                    8,
                    5,
                    36,
                    21,
                    35,
                    15,
                    18,
                    22,
                    33,
                    18,
                    32,
                    23,
                    22,
                    27,
                    35,
                    20,
                    33,
                    37,
                    22,
                    36,
                    21,
                    28,
                    44,
                    70,
                    88,
                    141,
                    11,
                    16,
                    27,
                    53,
                    107,
                    27,
                    40,
                    66,
                    7,
                    9,
                    28,
                    12,
                    14,
                    28,
                    10,
                    12,
                    25,
                    16,
                    6,
                    11,
                    6,
                    12,
                    17,
                    23,
                    23,
                    6,
                    9,
                    12,
                    18,
                    46,
                    19,
                    19,
                    2,
                    3,
                    4,
                    5,
                    12,
                    13,
                    18,
                    19,
                    25,
                    14,
                    47,
                    31,
                    43,
                    37,
                    17,
                    24,
                    23,
                    28,
                    38,
                    59,
                    37,
                    37,
                    48,
                    43,
                    43,
                    54,
                    92,
                    76,
                    76,
                    87,
                    76,
                    14,
                    14,
                    14,
                    30,
                    39,
                    20,
                    33,
                    24,
                    14,
                    24,
                    39,
                    61,
                    100,
                    22,
                    32,
                    17,
                    30,
                    46,
                    51,
                    57,
                    16,
                    21,
                    26,
                    39,
                    64,
                    18,
                    20,
                    26,
                    19,
                    18,
                    26,
                    11,
                    54,
                    18,
                    11,
                    10,
                    20,
                    32,
                    33,
                    31,
                    31,
                    24,
                    31,
                    35,
                    26,
                    23,
                    14,
                    24,
                    32,
                    24,
                    44,
                    39,
                    36,
                    30,
                    9,
                    40,
                    46,
                    44,
                    11,
                    17,
                    28,
                    31,
                    29,
                    28,
                    27,
                    34,
                    34,
                    35,
                    59,
                    35,
                    17,
                    36,
                    51,
                    28,
                    20,
                    55,
                    13,
                    12,
                    9,
                    8,
                    11,
                    17,
                    11,
                    7,
                    5,
                    24,
                    37,
                    13,
                    53,
                    126,
                    65,
                    16,
                    14,
                    48,
                    39,
                    75,
                    14,
                    31,
                    26,
                    18,
                    54,
                    33,
                    80,
                    10,
                    27,
                    65,
                    63,
                    13,
                    82,
                    43,
                    61,
                    74,
                    48,
                    57,
                    65,
                    40,
                    47,
                    19,
                    23,
                    40,
                    50,
                    37,
                    48,
                    32,
                    43,
                    30,
                    41,
                    14,
                    24,
                    20,
                    21,
                    52,
                    27,
                    27,
                    16,
                    25,
                    39,
                    17,
                    11,
                    17,
                    55,
                    29,
                    25,
                    28,
                    28,
                    41,
                    19,
                    19,
                    16,
                    18,
                    39,
                    21,
                    17,
                    51,
                    15,
                    37,
                    25,
                    42,
                    45,
                    74,
                    51,
                    37,
                    30,
                    35,
                    18,
                    34,
                    53,
                    66,
                    26,
                    24,
                    24,
                    20,
                    17,
                    20,
                    9,
                    9,
                    45,
                    75,
                    49,
                    15,
                    22,
                    18,
                    34,
                    26,
                    14,
                    48,
                    34,
                    48,
                    20,
                    20,
                    25,
                    31,
                    13,
                    30,
                    21,
                    19,
                    2,
                    15,
                    15,
                    0,
                    26,
                    9,
                    18,
                    18,
                    36,
                    31,
                    62,
                    17,
                    34,
                    3,
                    5,
                    10,
                    5,
                    10,
                    26,
                    52,
                    28,
                    56,
                    16,
                    32,
                    13,
                    26,
                    15,
                    30,
                    16,
                    32,
                    29,
                    58,
                    18,
                    36,
                    5,
                    10,
                    3,
                    5,
                    10,
                    6,
                    12,
                    24,
                    48,
                    10,
                    20,
                    5,
                    10,
                    11,
                    22,
                    19,
                    38,
                    5,
                    10,
                    24,
                    48,
                    13,
                    26,
                    2,
                    4,
                    8,
                    4,
                    8,
                    24,
                    48,
                    2,
                    3,
                    6,
                    7,
                    14,
                    9,
                    8,
                    29,
                    16,
                    3,
                    26,
                    12,
                    4,
                    38,
                    11,
                    5,
                    15,
                    15,
                    17,
                    3,
                    4,
                    23,
                    8,
                    4,
                    10,
                    3,
                    24,
                    3,
                    2,
                    1,
                    37,
                    34,
                    42,
                    25,
                    22,
                    32,
                    34,
                    26,
                    18,
                    19,
                    11,
                    22,
                    18,
                    12,
                    16,
                    12,
                    13,
                    27,
                    28,
                    26,
                    17,
                    17,
                    24,
                    24,
                    26,
                    29,
                    30,
                    31,
                    34,
                    18,
                    35,
                    28,
                    29,
                    20,
                    21,
                    23,
                    16,
                    42,
                    35,
                    36,
                    6,
                    14,
                    10,
                    12,
                    10,
                    12,
                    14,
                    16,
                    18,
                    20,
                    19,
                    13,
                    10,
                    12,
                    14,
                    13,
                    9,
                    11,
                    11,
                    9,
                    13,
                    18,
                    18,
                    21,
                    35,
                    28,
                    30,
                    35,
                    9,
                    8,
                    9,
                    4,
                    8,
                    4,
                    7,
                    29,
                    28,
                    28,
                    28,
                    32,
                    14,
                    10,
                    11,
                    41,
                    39,
                    23,
                    15,
                    16,
                    19,
                    12,
                    19,
                    23,
                    22,
                    23,
                    21,
                    27,
                    9,
                    28,
                    37,
                    17,
                    18,
                    37,
                    21,
                    11,
                    29,
                    22,
                    31,
                    14,
                    23,
                    23,
                    26,
                    8,
                    20,
                    10,
                    18,
                    28,
                    30,
                    38,
                    29,
                    42,
                    35,
                    36
                  ],
                  "xaxis": "x",
                  "yaxis": "y"
                }
              ],
              "layout": {
                "barmode": "relative",
                "legend": {
                  "tracegroupgap": 0
                },
                "template": {
                  "data": {
                    "bar": [
                      {
                        "error_x": {
                          "color": "#2a3f5f"
                        },
                        "error_y": {
                          "color": "#2a3f5f"
                        },
                        "marker": {
                          "line": {
                            "color": "#E5ECF6",
                            "width": 0.5
                          },
                          "pattern": {
                            "fillmode": "overlay",
                            "size": 10,
                            "solidity": 0.2
                          }
                        },
                        "type": "bar"
                      }
                    ],
                    "barpolar": [
                      {
                        "marker": {
                          "line": {
                            "color": "#E5ECF6",
                            "width": 0.5
                          },
                          "pattern": {
                            "fillmode": "overlay",
                            "size": 10,
                            "solidity": 0.2
                          }
                        },
                        "type": "barpolar"
                      }
                    ],
                    "carpet": [
                      {
                        "aaxis": {
                          "endlinecolor": "#2a3f5f",
                          "gridcolor": "white",
                          "linecolor": "white",
                          "minorgridcolor": "white",
                          "startlinecolor": "#2a3f5f"
                        },
                        "baxis": {
                          "endlinecolor": "#2a3f5f",
                          "gridcolor": "white",
                          "linecolor": "white",
                          "minorgridcolor": "white",
                          "startlinecolor": "#2a3f5f"
                        },
                        "type": "carpet"
                      }
                    ],
                    "choropleth": [
                      {
                        "colorbar": {
                          "outlinewidth": 0,
                          "ticks": ""
                        },
                        "type": "choropleth"
                      }
                    ],
                    "contour": [
                      {
                        "colorbar": {
                          "outlinewidth": 0,
                          "ticks": ""
                        },
                        "colorscale": [
                          [
                            0,
                            "#0d0887"
                          ],
                          [
                            0.1111111111111111,
                            "#46039f"
                          ],
                          [
                            0.2222222222222222,
                            "#7201a8"
                          ],
                          [
                            0.3333333333333333,
                            "#9c179e"
                          ],
                          [
                            0.4444444444444444,
                            "#bd3786"
                          ],
                          [
                            0.5555555555555556,
                            "#d8576b"
                          ],
                          [
                            0.6666666666666666,
                            "#ed7953"
                          ],
                          [
                            0.7777777777777778,
                            "#fb9f3a"
                          ],
                          [
                            0.8888888888888888,
                            "#fdca26"
                          ],
                          [
                            1,
                            "#f0f921"
                          ]
                        ],
                        "type": "contour"
                      }
                    ],
                    "contourcarpet": [
                      {
                        "colorbar": {
                          "outlinewidth": 0,
                          "ticks": ""
                        },
                        "type": "contourcarpet"
                      }
                    ],
                    "heatmap": [
                      {
                        "colorbar": {
                          "outlinewidth": 0,
                          "ticks": ""
                        },
                        "colorscale": [
                          [
                            0,
                            "#0d0887"
                          ],
                          [
                            0.1111111111111111,
                            "#46039f"
                          ],
                          [
                            0.2222222222222222,
                            "#7201a8"
                          ],
                          [
                            0.3333333333333333,
                            "#9c179e"
                          ],
                          [
                            0.4444444444444444,
                            "#bd3786"
                          ],
                          [
                            0.5555555555555556,
                            "#d8576b"
                          ],
                          [
                            0.6666666666666666,
                            "#ed7953"
                          ],
                          [
                            0.7777777777777778,
                            "#fb9f3a"
                          ],
                          [
                            0.8888888888888888,
                            "#fdca26"
                          ],
                          [
                            1,
                            "#f0f921"
                          ]
                        ],
                        "type": "heatmap"
                      }
                    ],
                    "heatmapgl": [
                      {
                        "colorbar": {
                          "outlinewidth": 0,
                          "ticks": ""
                        },
                        "colorscale": [
                          [
                            0,
                            "#0d0887"
                          ],
                          [
                            0.1111111111111111,
                            "#46039f"
                          ],
                          [
                            0.2222222222222222,
                            "#7201a8"
                          ],
                          [
                            0.3333333333333333,
                            "#9c179e"
                          ],
                          [
                            0.4444444444444444,
                            "#bd3786"
                          ],
                          [
                            0.5555555555555556,
                            "#d8576b"
                          ],
                          [
                            0.6666666666666666,
                            "#ed7953"
                          ],
                          [
                            0.7777777777777778,
                            "#fb9f3a"
                          ],
                          [
                            0.8888888888888888,
                            "#fdca26"
                          ],
                          [
                            1,
                            "#f0f921"
                          ]
                        ],
                        "type": "heatmapgl"
                      }
                    ],
                    "histogram": [
                      {
                        "marker": {
                          "pattern": {
                            "fillmode": "overlay",
                            "size": 10,
                            "solidity": 0.2
                          }
                        },
                        "type": "histogram"
                      }
                    ],
                    "histogram2d": [
                      {
                        "colorbar": {
                          "outlinewidth": 0,
                          "ticks": ""
                        },
                        "colorscale": [
                          [
                            0,
                            "#0d0887"
                          ],
                          [
                            0.1111111111111111,
                            "#46039f"
                          ],
                          [
                            0.2222222222222222,
                            "#7201a8"
                          ],
                          [
                            0.3333333333333333,
                            "#9c179e"
                          ],
                          [
                            0.4444444444444444,
                            "#bd3786"
                          ],
                          [
                            0.5555555555555556,
                            "#d8576b"
                          ],
                          [
                            0.6666666666666666,
                            "#ed7953"
                          ],
                          [
                            0.7777777777777778,
                            "#fb9f3a"
                          ],
                          [
                            0.8888888888888888,
                            "#fdca26"
                          ],
                          [
                            1,
                            "#f0f921"
                          ]
                        ],
                        "type": "histogram2d"
                      }
                    ],
                    "histogram2dcontour": [
                      {
                        "colorbar": {
                          "outlinewidth": 0,
                          "ticks": ""
                        },
                        "colorscale": [
                          [
                            0,
                            "#0d0887"
                          ],
                          [
                            0.1111111111111111,
                            "#46039f"
                          ],
                          [
                            0.2222222222222222,
                            "#7201a8"
                          ],
                          [
                            0.3333333333333333,
                            "#9c179e"
                          ],
                          [
                            0.4444444444444444,
                            "#bd3786"
                          ],
                          [
                            0.5555555555555556,
                            "#d8576b"
                          ],
                          [
                            0.6666666666666666,
                            "#ed7953"
                          ],
                          [
                            0.7777777777777778,
                            "#fb9f3a"
                          ],
                          [
                            0.8888888888888888,
                            "#fdca26"
                          ],
                          [
                            1,
                            "#f0f921"
                          ]
                        ],
                        "type": "histogram2dcontour"
                      }
                    ],
                    "mesh3d": [
                      {
                        "colorbar": {
                          "outlinewidth": 0,
                          "ticks": ""
                        },
                        "type": "mesh3d"
                      }
                    ],
                    "parcoords": [
                      {
                        "line": {
                          "colorbar": {
                            "outlinewidth": 0,
                            "ticks": ""
                          }
                        },
                        "type": "parcoords"
                      }
                    ],
                    "pie": [
                      {
                        "automargin": true,
                        "type": "pie"
                      }
                    ],
                    "scatter": [
                      {
                        "fillpattern": {
                          "fillmode": "overlay",
                          "size": 10,
                          "solidity": 0.2
                        },
                        "type": "scatter"
                      }
                    ],
                    "scatter3d": [
                      {
                        "line": {
                          "colorbar": {
                            "outlinewidth": 0,
                            "ticks": ""
                          }
                        },
                        "marker": {
                          "colorbar": {
                            "outlinewidth": 0,
                            "ticks": ""
                          }
                        },
                        "type": "scatter3d"
                      }
                    ],
                    "scattercarpet": [
                      {
                        "marker": {
                          "colorbar": {
                            "outlinewidth": 0,
                            "ticks": ""
                          }
                        },
                        "type": "scattercarpet"
                      }
                    ],
                    "scattergeo": [
                      {
                        "marker": {
                          "colorbar": {
                            "outlinewidth": 0,
                            "ticks": ""
                          }
                        },
                        "type": "scattergeo"
                      }
                    ],
                    "scattergl": [
                      {
                        "marker": {
                          "colorbar": {
                            "outlinewidth": 0,
                            "ticks": ""
                          }
                        },
                        "type": "scattergl"
                      }
                    ],
                    "scattermapbox": [
                      {
                        "marker": {
                          "colorbar": {
                            "outlinewidth": 0,
                            "ticks": ""
                          }
                        },
                        "type": "scattermapbox"
                      }
                    ],
                    "scatterpolar": [
                      {
                        "marker": {
                          "colorbar": {
                            "outlinewidth": 0,
                            "ticks": ""
                          }
                        },
                        "type": "scatterpolar"
                      }
                    ],
                    "scatterpolargl": [
                      {
                        "marker": {
                          "colorbar": {
                            "outlinewidth": 0,
                            "ticks": ""
                          }
                        },
                        "type": "scatterpolargl"
                      }
                    ],
                    "scatterternary": [
                      {
                        "marker": {
                          "colorbar": {
                            "outlinewidth": 0,
                            "ticks": ""
                          }
                        },
                        "type": "scatterternary"
                      }
                    ],
                    "surface": [
                      {
                        "colorbar": {
                          "outlinewidth": 0,
                          "ticks": ""
                        },
                        "colorscale": [
                          [
                            0,
                            "#0d0887"
                          ],
                          [
                            0.1111111111111111,
                            "#46039f"
                          ],
                          [
                            0.2222222222222222,
                            "#7201a8"
                          ],
                          [
                            0.3333333333333333,
                            "#9c179e"
                          ],
                          [
                            0.4444444444444444,
                            "#bd3786"
                          ],
                          [
                            0.5555555555555556,
                            "#d8576b"
                          ],
                          [
                            0.6666666666666666,
                            "#ed7953"
                          ],
                          [
                            0.7777777777777778,
                            "#fb9f3a"
                          ],
                          [
                            0.8888888888888888,
                            "#fdca26"
                          ],
                          [
                            1,
                            "#f0f921"
                          ]
                        ],
                        "type": "surface"
                      }
                    ],
                    "table": [
                      {
                        "cells": {
                          "fill": {
                            "color": "#EBF0F8"
                          },
                          "line": {
                            "color": "white"
                          }
                        },
                        "header": {
                          "fill": {
                            "color": "#C8D4E3"
                          },
                          "line": {
                            "color": "white"
                          }
                        },
                        "type": "table"
                      }
                    ]
                  },
                  "layout": {
                    "annotationdefaults": {
                      "arrowcolor": "#2a3f5f",
                      "arrowhead": 0,
                      "arrowwidth": 1
                    },
                    "autotypenumbers": "strict",
                    "coloraxis": {
                      "colorbar": {
                        "outlinewidth": 0,
                        "ticks": ""
                      }
                    },
                    "colorscale": {
                      "diverging": [
                        [
                          0,
                          "#8e0152"
                        ],
                        [
                          0.1,
                          "#c51b7d"
                        ],
                        [
                          0.2,
                          "#de77ae"
                        ],
                        [
                          0.3,
                          "#f1b6da"
                        ],
                        [
                          0.4,
                          "#fde0ef"
                        ],
                        [
                          0.5,
                          "#f7f7f7"
                        ],
                        [
                          0.6,
                          "#e6f5d0"
                        ],
                        [
                          0.7,
                          "#b8e186"
                        ],
                        [
                          0.8,
                          "#7fbc41"
                        ],
                        [
                          0.9,
                          "#4d9221"
                        ],
                        [
                          1,
                          "#276419"
                        ]
                      ],
                      "sequential": [
                        [
                          0,
                          "#0d0887"
                        ],
                        [
                          0.1111111111111111,
                          "#46039f"
                        ],
                        [
                          0.2222222222222222,
                          "#7201a8"
                        ],
                        [
                          0.3333333333333333,
                          "#9c179e"
                        ],
                        [
                          0.4444444444444444,
                          "#bd3786"
                        ],
                        [
                          0.5555555555555556,
                          "#d8576b"
                        ],
                        [
                          0.6666666666666666,
                          "#ed7953"
                        ],
                        [
                          0.7777777777777778,
                          "#fb9f3a"
                        ],
                        [
                          0.8888888888888888,
                          "#fdca26"
                        ],
                        [
                          1,
                          "#f0f921"
                        ]
                      ],
                      "sequentialminus": [
                        [
                          0,
                          "#0d0887"
                        ],
                        [
                          0.1111111111111111,
                          "#46039f"
                        ],
                        [
                          0.2222222222222222,
                          "#7201a8"
                        ],
                        [
                          0.3333333333333333,
                          "#9c179e"
                        ],
                        [
                          0.4444444444444444,
                          "#bd3786"
                        ],
                        [
                          0.5555555555555556,
                          "#d8576b"
                        ],
                        [
                          0.6666666666666666,
                          "#ed7953"
                        ],
                        [
                          0.7777777777777778,
                          "#fb9f3a"
                        ],
                        [
                          0.8888888888888888,
                          "#fdca26"
                        ],
                        [
                          1,
                          "#f0f921"
                        ]
                      ]
                    },
                    "colorway": [
                      "#636efa",
                      "#EF553B",
                      "#00cc96",
                      "#ab63fa",
                      "#FFA15A",
                      "#19d3f3",
                      "#FF6692",
                      "#B6E880",
                      "#FF97FF",
                      "#FECB52"
                    ],
                    "font": {
                      "color": "#2a3f5f"
                    },
                    "geo": {
                      "bgcolor": "white",
                      "lakecolor": "white",
                      "landcolor": "#E5ECF6",
                      "showlakes": true,
                      "showland": true,
                      "subunitcolor": "white"
                    },
                    "hoverlabel": {
                      "align": "left"
                    },
                    "hovermode": "closest",
                    "mapbox": {
                      "style": "light"
                    },
                    "paper_bgcolor": "white",
                    "plot_bgcolor": "#E5ECF6",
                    "polar": {
                      "angularaxis": {
                        "gridcolor": "white",
                        "linecolor": "white",
                        "ticks": ""
                      },
                      "bgcolor": "#E5ECF6",
                      "radialaxis": {
                        "gridcolor": "white",
                        "linecolor": "white",
                        "ticks": ""
                      }
                    },
                    "scene": {
                      "xaxis": {
                        "backgroundcolor": "#E5ECF6",
                        "gridcolor": "white",
                        "gridwidth": 2,
                        "linecolor": "white",
                        "showbackground": true,
                        "ticks": "",
                        "zerolinecolor": "white"
                      },
                      "yaxis": {
                        "backgroundcolor": "#E5ECF6",
                        "gridcolor": "white",
                        "gridwidth": 2,
                        "linecolor": "white",
                        "showbackground": true,
                        "ticks": "",
                        "zerolinecolor": "white"
                      },
                      "zaxis": {
                        "backgroundcolor": "#E5ECF6",
                        "gridcolor": "white",
                        "gridwidth": 2,
                        "linecolor": "white",
                        "showbackground": true,
                        "ticks": "",
                        "zerolinecolor": "white"
                      }
                    },
                    "shapedefaults": {
                      "line": {
                        "color": "#2a3f5f"
                      }
                    },
                    "ternary": {
                      "aaxis": {
                        "gridcolor": "white",
                        "linecolor": "white",
                        "ticks": ""
                      },
                      "baxis": {
                        "gridcolor": "white",
                        "linecolor": "white",
                        "ticks": ""
                      },
                      "bgcolor": "#E5ECF6",
                      "caxis": {
                        "gridcolor": "white",
                        "linecolor": "white",
                        "ticks": ""
                      }
                    },
                    "title": {
                      "x": 0.05
                    },
                    "xaxis": {
                      "automargin": true,
                      "gridcolor": "white",
                      "linecolor": "white",
                      "ticks": "",
                      "title": {
                        "standoff": 15
                      },
                      "zerolinecolor": "white",
                      "zerolinewidth": 2
                    },
                    "yaxis": {
                      "automargin": true,
                      "gridcolor": "white",
                      "linecolor": "white",
                      "ticks": "",
                      "title": {
                        "standoff": 15
                      },
                      "zerolinecolor": "white",
                      "zerolinewidth": 2
                    }
                  }
                },
                "title": {
                  "text": "total_fat"
                },
                "xaxis": {
                  "anchor": "y",
                  "domain": [
                    0,
                    1
                  ],
                  "title": {
                    "text": "total_fat"
                  }
                },
                "yaxis": {
                  "anchor": "x",
                  "domain": [
                    0,
                    1
                  ],
                  "title": {
                    "text": "count"
                  }
                }
              }
            }
          },
          "metadata": {},
          "output_type": "display_data"
        },
        {
          "data": {
            "application/vnd.plotly.v1+json": {
              "config": {
                "plotlyServerURL": "https://plot.ly"
              },
              "data": [
                {
                  "alignmentgroup": "True",
                  "bingroup": "x",
                  "hovertemplate": "sat_fat=%{x}<br>count=%{y}<extra></extra>",
                  "legendgroup": "",
                  "marker": {
                    "color": "#636efa",
                    "pattern": {
                      "shape": ""
                    }
                  },
                  "name": "",
                  "offsetgroup": "",
                  "orientation": "v",
                  "showlegend": false,
                  "type": "histogram",
                  "x": [
                    2,
                    17,
                    27,
                    10,
                    12,
                    10,
                    5,
                    4,
                    11,
                    21,
                    4,
                    13,
                    7,
                    9,
                    3,
                    1.5,
                    14,
                    8,
                    9,
                    3.5,
                    8,
                    7,
                    12,
                    6,
                    7,
                    5,
                    4,
                    13,
                    12,
                    5,
                    7,
                    14,
                    7,
                    9,
                    3.5,
                    4.5,
                    8,
                    12,
                    15,
                    24,
                    2,
                    2.5,
                    4.5,
                    9,
                    18,
                    4,
                    6,
                    10,
                    0.5,
                    1,
                    8,
                    5,
                    6,
                    8,
                    3.5,
                    4.5,
                    6,
                    8,
                    2,
                    2.5,
                    3,
                    3,
                    3,
                    3,
                    7,
                    1.5,
                    1.5,
                    3,
                    1.5,
                    2.5,
                    3,
                    4,
                    1,
                    1,
                    1,
                    1,
                    4.5,
                    6,
                    0,
                    4,
                    8,
                    5,
                    16,
                    15,
                    17,
                    14,
                    6,
                    9,
                    6,
                    9,
                    16,
                    20,
                    14,
                    14,
                    15,
                    17,
                    17,
                    18,
                    36,
                    32,
                    32,
                    34,
                    32,
                    4,
                    4,
                    4,
                    7,
                    9,
                    4,
                    5,
                    4,
                    2.5,
                    4.5,
                    8,
                    12,
                    17,
                    4,
                    6,
                    3,
                    5,
                    8,
                    9,
                    10,
                    3,
                    4,
                    5,
                    8,
                    15,
                    7,
                    7,
                    11,
                    7,
                    7,
                    10,
                    4,
                    22,
                    7,
                    4,
                    3,
                    6,
                    11,
                    12,
                    9,
                    9,
                    4.5,
                    9,
                    10,
                    4.5,
                    11,
                    5,
                    9,
                    11,
                    7,
                    13,
                    14,
                    17,
                    12,
                    4,
                    14,
                    7,
                    6,
                    1.5,
                    2.5,
                    4,
                    8,
                    7,
                    7,
                    9,
                    10,
                    11,
                    13,
                    10,
                    12,
                    5,
                    15,
                    17,
                    6,
                    3.5,
                    14,
                    2,
                    3.5,
                    3.5,
                    3,
                    4.5,
                    6,
                    4.5,
                    2.5,
                    2.5,
                    8,
                    9,
                    7,
                    15,
                    47,
                    24,
                    7,
                    6,
                    28,
                    9,
                    29,
                    6,
                    14,
                    12,
                    8,
                    25,
                    13,
                    28,
                    4,
                    12,
                    24,
                    21,
                    4,
                    31,
                    16,
                    24,
                    24,
                    16,
                    19,
                    24,
                    12,
                    16,
                    5,
                    8,
                    12,
                    13,
                    10,
                    12,
                    5,
                    7,
                    7,
                    9,
                    6,
                    7,
                    4,
                    5,
                    14,
                    4.5,
                    4.5,
                    3,
                    2.5,
                    9,
                    3,
                    2,
                    3,
                    11,
                    5,
                    8,
                    8,
                    4.5,
                    7,
                    3.5,
                    8,
                    6,
                    3,
                    7,
                    3.5,
                    3,
                    12,
                    3,
                    7,
                    4.5,
                    7,
                    11,
                    26,
                    20,
                    13,
                    11,
                    11,
                    9,
                    18,
                    9,
                    11,
                    11,
                    11,
                    11,
                    8,
                    7,
                    8,
                    3,
                    1,
                    25,
                    43,
                    21,
                    4,
                    3,
                    9,
                    18,
                    13,
                    7,
                    22,
                    7,
                    13,
                    3,
                    8,
                    8,
                    10,
                    2,
                    5,
                    5,
                    9,
                    0.5,
                    3,
                    4,
                    0,
                    8,
                    4,
                    8,
                    6,
                    12,
                    11,
                    22,
                    9,
                    18,
                    0.5,
                    1,
                    2,
                    1,
                    2,
                    7,
                    14,
                    10,
                    20,
                    6,
                    12,
                    4,
                    8,
                    4.5,
                    9,
                    6,
                    12,
                    10,
                    20,
                    7,
                    14,
                    2,
                    4,
                    1,
                    2,
                    4,
                    1.5,
                    3,
                    9,
                    18,
                    5,
                    10,
                    2,
                    4,
                    5,
                    10,
                    3,
                    6,
                    1,
                    2,
                    4,
                    8,
                    3.5,
                    7,
                    0.5,
                    1,
                    2,
                    1,
                    2,
                    9,
                    18,
                    0,
                    1,
                    2,
                    1,
                    2,
                    3,
                    4,
                    11,
                    8,
                    1,
                    4,
                    4.5,
                    0,
                    12,
                    4,
                    1.5,
                    6,
                    5,
                    7,
                    0.5,
                    1,
                    9,
                    4,
                    1,
                    5,
                    1,
                    4,
                    1,
                    1,
                    0,
                    12,
                    10,
                    13,
                    11,
                    9,
                    13,
                    14,
                    7,
                    7,
                    7,
                    4,
                    8,
                    5,
                    4,
                    7,
                    5,
                    5,
                    6,
                    7,
                    5,
                    3.5,
                    8,
                    9,
                    9,
                    10,
                    9,
                    10,
                    11,
                    12,
                    4.5,
                    13,
                    10,
                    11,
                    8,
                    9,
                    10,
                    6,
                    14,
                    11,
                    12,
                    3,
                    5,
                    3.5,
                    4.5,
                    4,
                    5,
                    5,
                    6,
                    7,
                    8,
                    6,
                    5,
                    3.5,
                    5,
                    4,
                    5,
                    4,
                    5,
                    5,
                    4,
                    3,
                    4,
                    4,
                    5,
                    8,
                    6,
                    7,
                    8,
                    3,
                    3,
                    3,
                    1,
                    2,
                    2,
                    3,
                    10,
                    10,
                    10,
                    10,
                    12,
                    5,
                    4,
                    4,
                    6,
                    6,
                    5,
                    1.5,
                    4.5,
                    6,
                    4,
                    4.5,
                    5,
                    4,
                    4,
                    3,
                    11,
                    5,
                    12,
                    8,
                    8,
                    3,
                    13,
                    6,
                    4,
                    9,
                    6,
                    8,
                    7,
                    10,
                    10,
                    11,
                    2.5,
                    4,
                    2.5,
                    8,
                    12,
                    9,
                    10,
                    9,
                    10,
                    7,
                    8
                  ],
                  "xaxis": "x",
                  "yaxis": "y"
                }
              ],
              "layout": {
                "barmode": "relative",
                "legend": {
                  "tracegroupgap": 0
                },
                "template": {
                  "data": {
                    "bar": [
                      {
                        "error_x": {
                          "color": "#2a3f5f"
                        },
                        "error_y": {
                          "color": "#2a3f5f"
                        },
                        "marker": {
                          "line": {
                            "color": "#E5ECF6",
                            "width": 0.5
                          },
                          "pattern": {
                            "fillmode": "overlay",
                            "size": 10,
                            "solidity": 0.2
                          }
                        },
                        "type": "bar"
                      }
                    ],
                    "barpolar": [
                      {
                        "marker": {
                          "line": {
                            "color": "#E5ECF6",
                            "width": 0.5
                          },
                          "pattern": {
                            "fillmode": "overlay",
                            "size": 10,
                            "solidity": 0.2
                          }
                        },
                        "type": "barpolar"
                      }
                    ],
                    "carpet": [
                      {
                        "aaxis": {
                          "endlinecolor": "#2a3f5f",
                          "gridcolor": "white",
                          "linecolor": "white",
                          "minorgridcolor": "white",
                          "startlinecolor": "#2a3f5f"
                        },
                        "baxis": {
                          "endlinecolor": "#2a3f5f",
                          "gridcolor": "white",
                          "linecolor": "white",
                          "minorgridcolor": "white",
                          "startlinecolor": "#2a3f5f"
                        },
                        "type": "carpet"
                      }
                    ],
                    "choropleth": [
                      {
                        "colorbar": {
                          "outlinewidth": 0,
                          "ticks": ""
                        },
                        "type": "choropleth"
                      }
                    ],
                    "contour": [
                      {
                        "colorbar": {
                          "outlinewidth": 0,
                          "ticks": ""
                        },
                        "colorscale": [
                          [
                            0,
                            "#0d0887"
                          ],
                          [
                            0.1111111111111111,
                            "#46039f"
                          ],
                          [
                            0.2222222222222222,
                            "#7201a8"
                          ],
                          [
                            0.3333333333333333,
                            "#9c179e"
                          ],
                          [
                            0.4444444444444444,
                            "#bd3786"
                          ],
                          [
                            0.5555555555555556,
                            "#d8576b"
                          ],
                          [
                            0.6666666666666666,
                            "#ed7953"
                          ],
                          [
                            0.7777777777777778,
                            "#fb9f3a"
                          ],
                          [
                            0.8888888888888888,
                            "#fdca26"
                          ],
                          [
                            1,
                            "#f0f921"
                          ]
                        ],
                        "type": "contour"
                      }
                    ],
                    "contourcarpet": [
                      {
                        "colorbar": {
                          "outlinewidth": 0,
                          "ticks": ""
                        },
                        "type": "contourcarpet"
                      }
                    ],
                    "heatmap": [
                      {
                        "colorbar": {
                          "outlinewidth": 0,
                          "ticks": ""
                        },
                        "colorscale": [
                          [
                            0,
                            "#0d0887"
                          ],
                          [
                            0.1111111111111111,
                            "#46039f"
                          ],
                          [
                            0.2222222222222222,
                            "#7201a8"
                          ],
                          [
                            0.3333333333333333,
                            "#9c179e"
                          ],
                          [
                            0.4444444444444444,
                            "#bd3786"
                          ],
                          [
                            0.5555555555555556,
                            "#d8576b"
                          ],
                          [
                            0.6666666666666666,
                            "#ed7953"
                          ],
                          [
                            0.7777777777777778,
                            "#fb9f3a"
                          ],
                          [
                            0.8888888888888888,
                            "#fdca26"
                          ],
                          [
                            1,
                            "#f0f921"
                          ]
                        ],
                        "type": "heatmap"
                      }
                    ],
                    "heatmapgl": [
                      {
                        "colorbar": {
                          "outlinewidth": 0,
                          "ticks": ""
                        },
                        "colorscale": [
                          [
                            0,
                            "#0d0887"
                          ],
                          [
                            0.1111111111111111,
                            "#46039f"
                          ],
                          [
                            0.2222222222222222,
                            "#7201a8"
                          ],
                          [
                            0.3333333333333333,
                            "#9c179e"
                          ],
                          [
                            0.4444444444444444,
                            "#bd3786"
                          ],
                          [
                            0.5555555555555556,
                            "#d8576b"
                          ],
                          [
                            0.6666666666666666,
                            "#ed7953"
                          ],
                          [
                            0.7777777777777778,
                            "#fb9f3a"
                          ],
                          [
                            0.8888888888888888,
                            "#fdca26"
                          ],
                          [
                            1,
                            "#f0f921"
                          ]
                        ],
                        "type": "heatmapgl"
                      }
                    ],
                    "histogram": [
                      {
                        "marker": {
                          "pattern": {
                            "fillmode": "overlay",
                            "size": 10,
                            "solidity": 0.2
                          }
                        },
                        "type": "histogram"
                      }
                    ],
                    "histogram2d": [
                      {
                        "colorbar": {
                          "outlinewidth": 0,
                          "ticks": ""
                        },
                        "colorscale": [
                          [
                            0,
                            "#0d0887"
                          ],
                          [
                            0.1111111111111111,
                            "#46039f"
                          ],
                          [
                            0.2222222222222222,
                            "#7201a8"
                          ],
                          [
                            0.3333333333333333,
                            "#9c179e"
                          ],
                          [
                            0.4444444444444444,
                            "#bd3786"
                          ],
                          [
                            0.5555555555555556,
                            "#d8576b"
                          ],
                          [
                            0.6666666666666666,
                            "#ed7953"
                          ],
                          [
                            0.7777777777777778,
                            "#fb9f3a"
                          ],
                          [
                            0.8888888888888888,
                            "#fdca26"
                          ],
                          [
                            1,
                            "#f0f921"
                          ]
                        ],
                        "type": "histogram2d"
                      }
                    ],
                    "histogram2dcontour": [
                      {
                        "colorbar": {
                          "outlinewidth": 0,
                          "ticks": ""
                        },
                        "colorscale": [
                          [
                            0,
                            "#0d0887"
                          ],
                          [
                            0.1111111111111111,
                            "#46039f"
                          ],
                          [
                            0.2222222222222222,
                            "#7201a8"
                          ],
                          [
                            0.3333333333333333,
                            "#9c179e"
                          ],
                          [
                            0.4444444444444444,
                            "#bd3786"
                          ],
                          [
                            0.5555555555555556,
                            "#d8576b"
                          ],
                          [
                            0.6666666666666666,
                            "#ed7953"
                          ],
                          [
                            0.7777777777777778,
                            "#fb9f3a"
                          ],
                          [
                            0.8888888888888888,
                            "#fdca26"
                          ],
                          [
                            1,
                            "#f0f921"
                          ]
                        ],
                        "type": "histogram2dcontour"
                      }
                    ],
                    "mesh3d": [
                      {
                        "colorbar": {
                          "outlinewidth": 0,
                          "ticks": ""
                        },
                        "type": "mesh3d"
                      }
                    ],
                    "parcoords": [
                      {
                        "line": {
                          "colorbar": {
                            "outlinewidth": 0,
                            "ticks": ""
                          }
                        },
                        "type": "parcoords"
                      }
                    ],
                    "pie": [
                      {
                        "automargin": true,
                        "type": "pie"
                      }
                    ],
                    "scatter": [
                      {
                        "fillpattern": {
                          "fillmode": "overlay",
                          "size": 10,
                          "solidity": 0.2
                        },
                        "type": "scatter"
                      }
                    ],
                    "scatter3d": [
                      {
                        "line": {
                          "colorbar": {
                            "outlinewidth": 0,
                            "ticks": ""
                          }
                        },
                        "marker": {
                          "colorbar": {
                            "outlinewidth": 0,
                            "ticks": ""
                          }
                        },
                        "type": "scatter3d"
                      }
                    ],
                    "scattercarpet": [
                      {
                        "marker": {
                          "colorbar": {
                            "outlinewidth": 0,
                            "ticks": ""
                          }
                        },
                        "type": "scattercarpet"
                      }
                    ],
                    "scattergeo": [
                      {
                        "marker": {
                          "colorbar": {
                            "outlinewidth": 0,
                            "ticks": ""
                          }
                        },
                        "type": "scattergeo"
                      }
                    ],
                    "scattergl": [
                      {
                        "marker": {
                          "colorbar": {
                            "outlinewidth": 0,
                            "ticks": ""
                          }
                        },
                        "type": "scattergl"
                      }
                    ],
                    "scattermapbox": [
                      {
                        "marker": {
                          "colorbar": {
                            "outlinewidth": 0,
                            "ticks": ""
                          }
                        },
                        "type": "scattermapbox"
                      }
                    ],
                    "scatterpolar": [
                      {
                        "marker": {
                          "colorbar": {
                            "outlinewidth": 0,
                            "ticks": ""
                          }
                        },
                        "type": "scatterpolar"
                      }
                    ],
                    "scatterpolargl": [
                      {
                        "marker": {
                          "colorbar": {
                            "outlinewidth": 0,
                            "ticks": ""
                          }
                        },
                        "type": "scatterpolargl"
                      }
                    ],
                    "scatterternary": [
                      {
                        "marker": {
                          "colorbar": {
                            "outlinewidth": 0,
                            "ticks": ""
                          }
                        },
                        "type": "scatterternary"
                      }
                    ],
                    "surface": [
                      {
                        "colorbar": {
                          "outlinewidth": 0,
                          "ticks": ""
                        },
                        "colorscale": [
                          [
                            0,
                            "#0d0887"
                          ],
                          [
                            0.1111111111111111,
                            "#46039f"
                          ],
                          [
                            0.2222222222222222,
                            "#7201a8"
                          ],
                          [
                            0.3333333333333333,
                            "#9c179e"
                          ],
                          [
                            0.4444444444444444,
                            "#bd3786"
                          ],
                          [
                            0.5555555555555556,
                            "#d8576b"
                          ],
                          [
                            0.6666666666666666,
                            "#ed7953"
                          ],
                          [
                            0.7777777777777778,
                            "#fb9f3a"
                          ],
                          [
                            0.8888888888888888,
                            "#fdca26"
                          ],
                          [
                            1,
                            "#f0f921"
                          ]
                        ],
                        "type": "surface"
                      }
                    ],
                    "table": [
                      {
                        "cells": {
                          "fill": {
                            "color": "#EBF0F8"
                          },
                          "line": {
                            "color": "white"
                          }
                        },
                        "header": {
                          "fill": {
                            "color": "#C8D4E3"
                          },
                          "line": {
                            "color": "white"
                          }
                        },
                        "type": "table"
                      }
                    ]
                  },
                  "layout": {
                    "annotationdefaults": {
                      "arrowcolor": "#2a3f5f",
                      "arrowhead": 0,
                      "arrowwidth": 1
                    },
                    "autotypenumbers": "strict",
                    "coloraxis": {
                      "colorbar": {
                        "outlinewidth": 0,
                        "ticks": ""
                      }
                    },
                    "colorscale": {
                      "diverging": [
                        [
                          0,
                          "#8e0152"
                        ],
                        [
                          0.1,
                          "#c51b7d"
                        ],
                        [
                          0.2,
                          "#de77ae"
                        ],
                        [
                          0.3,
                          "#f1b6da"
                        ],
                        [
                          0.4,
                          "#fde0ef"
                        ],
                        [
                          0.5,
                          "#f7f7f7"
                        ],
                        [
                          0.6,
                          "#e6f5d0"
                        ],
                        [
                          0.7,
                          "#b8e186"
                        ],
                        [
                          0.8,
                          "#7fbc41"
                        ],
                        [
                          0.9,
                          "#4d9221"
                        ],
                        [
                          1,
                          "#276419"
                        ]
                      ],
                      "sequential": [
                        [
                          0,
                          "#0d0887"
                        ],
                        [
                          0.1111111111111111,
                          "#46039f"
                        ],
                        [
                          0.2222222222222222,
                          "#7201a8"
                        ],
                        [
                          0.3333333333333333,
                          "#9c179e"
                        ],
                        [
                          0.4444444444444444,
                          "#bd3786"
                        ],
                        [
                          0.5555555555555556,
                          "#d8576b"
                        ],
                        [
                          0.6666666666666666,
                          "#ed7953"
                        ],
                        [
                          0.7777777777777778,
                          "#fb9f3a"
                        ],
                        [
                          0.8888888888888888,
                          "#fdca26"
                        ],
                        [
                          1,
                          "#f0f921"
                        ]
                      ],
                      "sequentialminus": [
                        [
                          0,
                          "#0d0887"
                        ],
                        [
                          0.1111111111111111,
                          "#46039f"
                        ],
                        [
                          0.2222222222222222,
                          "#7201a8"
                        ],
                        [
                          0.3333333333333333,
                          "#9c179e"
                        ],
                        [
                          0.4444444444444444,
                          "#bd3786"
                        ],
                        [
                          0.5555555555555556,
                          "#d8576b"
                        ],
                        [
                          0.6666666666666666,
                          "#ed7953"
                        ],
                        [
                          0.7777777777777778,
                          "#fb9f3a"
                        ],
                        [
                          0.8888888888888888,
                          "#fdca26"
                        ],
                        [
                          1,
                          "#f0f921"
                        ]
                      ]
                    },
                    "colorway": [
                      "#636efa",
                      "#EF553B",
                      "#00cc96",
                      "#ab63fa",
                      "#FFA15A",
                      "#19d3f3",
                      "#FF6692",
                      "#B6E880",
                      "#FF97FF",
                      "#FECB52"
                    ],
                    "font": {
                      "color": "#2a3f5f"
                    },
                    "geo": {
                      "bgcolor": "white",
                      "lakecolor": "white",
                      "landcolor": "#E5ECF6",
                      "showlakes": true,
                      "showland": true,
                      "subunitcolor": "white"
                    },
                    "hoverlabel": {
                      "align": "left"
                    },
                    "hovermode": "closest",
                    "mapbox": {
                      "style": "light"
                    },
                    "paper_bgcolor": "white",
                    "plot_bgcolor": "#E5ECF6",
                    "polar": {
                      "angularaxis": {
                        "gridcolor": "white",
                        "linecolor": "white",
                        "ticks": ""
                      },
                      "bgcolor": "#E5ECF6",
                      "radialaxis": {
                        "gridcolor": "white",
                        "linecolor": "white",
                        "ticks": ""
                      }
                    },
                    "scene": {
                      "xaxis": {
                        "backgroundcolor": "#E5ECF6",
                        "gridcolor": "white",
                        "gridwidth": 2,
                        "linecolor": "white",
                        "showbackground": true,
                        "ticks": "",
                        "zerolinecolor": "white"
                      },
                      "yaxis": {
                        "backgroundcolor": "#E5ECF6",
                        "gridcolor": "white",
                        "gridwidth": 2,
                        "linecolor": "white",
                        "showbackground": true,
                        "ticks": "",
                        "zerolinecolor": "white"
                      },
                      "zaxis": {
                        "backgroundcolor": "#E5ECF6",
                        "gridcolor": "white",
                        "gridwidth": 2,
                        "linecolor": "white",
                        "showbackground": true,
                        "ticks": "",
                        "zerolinecolor": "white"
                      }
                    },
                    "shapedefaults": {
                      "line": {
                        "color": "#2a3f5f"
                      }
                    },
                    "ternary": {
                      "aaxis": {
                        "gridcolor": "white",
                        "linecolor": "white",
                        "ticks": ""
                      },
                      "baxis": {
                        "gridcolor": "white",
                        "linecolor": "white",
                        "ticks": ""
                      },
                      "bgcolor": "#E5ECF6",
                      "caxis": {
                        "gridcolor": "white",
                        "linecolor": "white",
                        "ticks": ""
                      }
                    },
                    "title": {
                      "x": 0.05
                    },
                    "xaxis": {
                      "automargin": true,
                      "gridcolor": "white",
                      "linecolor": "white",
                      "ticks": "",
                      "title": {
                        "standoff": 15
                      },
                      "zerolinecolor": "white",
                      "zerolinewidth": 2
                    },
                    "yaxis": {
                      "automargin": true,
                      "gridcolor": "white",
                      "linecolor": "white",
                      "ticks": "",
                      "title": {
                        "standoff": 15
                      },
                      "zerolinecolor": "white",
                      "zerolinewidth": 2
                    }
                  }
                },
                "title": {
                  "text": "sat_fat"
                },
                "xaxis": {
                  "anchor": "y",
                  "domain": [
                    0,
                    1
                  ],
                  "title": {
                    "text": "sat_fat"
                  }
                },
                "yaxis": {
                  "anchor": "x",
                  "domain": [
                    0,
                    1
                  ],
                  "title": {
                    "text": "count"
                  }
                }
              }
            }
          },
          "metadata": {},
          "output_type": "display_data"
        },
        {
          "data": {
            "application/vnd.plotly.v1+json": {
              "config": {
                "plotlyServerURL": "https://plot.ly"
              },
              "data": [
                {
                  "alignmentgroup": "True",
                  "bingroup": "x",
                  "hovertemplate": "trans_fat=%{x}<br>count=%{y}<extra></extra>",
                  "legendgroup": "",
                  "marker": {
                    "color": "#636efa",
                    "pattern": {
                      "shape": ""
                    }
                  },
                  "name": "",
                  "offsetgroup": "",
                  "orientation": "v",
                  "showlegend": false,
                  "type": "histogram",
                  "x": [
                    0,
                    1.5,
                    3,
                    0.5,
                    0.5,
                    1,
                    0.5,
                    0,
                    1,
                    2.5,
                    0,
                    1.5,
                    0,
                    0,
                    0,
                    0,
                    1.5,
                    0,
                    0.5,
                    0,
                    1,
                    0,
                    1.5,
                    0,
                    0,
                    0,
                    0,
                    1.5,
                    1.5,
                    0,
                    0,
                    1.5,
                    0,
                    0.5,
                    0,
                    0,
                    0.5,
                    1,
                    1,
                    2,
                    0,
                    0,
                    0,
                    0,
                    0.5,
                    0,
                    0,
                    0,
                    0,
                    0,
                    0,
                    0,
                    0,
                    0,
                    0,
                    0,
                    0,
                    0,
                    0,
                    0,
                    0,
                    0,
                    0,
                    0,
                    0,
                    0,
                    0,
                    0,
                    0,
                    0,
                    0,
                    0,
                    0,
                    0,
                    0,
                    0,
                    0,
                    0,
                    0,
                    0,
                    0,
                    0,
                    1,
                    0,
                    2,
                    2,
                    1,
                    0.5,
                    1,
                    1,
                    2,
                    2,
                    2,
                    2,
                    2,
                    2,
                    2,
                    2,
                    4,
                    4,
                    4,
                    4,
                    4,
                    0,
                    0,
                    0,
                    0,
                    0,
                    0,
                    0,
                    0,
                    0,
                    0,
                    0,
                    0.5,
                    0,
                    0,
                    1,
                    0,
                    0,
                    1,
                    1,
                    1,
                    0,
                    0,
                    0,
                    0,
                    0.5,
                    0,
                    0,
                    0,
                    0,
                    0,
                    0,
                    0,
                    1,
                    0,
                    0,
                    0,
                    1,
                    1.5,
                    1,
                    0,
                    0,
                    0,
                    0,
                    0,
                    0,
                    1,
                    0.5,
                    1.5,
                    0.5,
                    0,
                    0,
                    2,
                    2,
                    2,
                    0,
                    0.5,
                    0.5,
                    0.5,
                    0,
                    0,
                    0,
                    0.5,
                    1,
                    0,
                    0,
                    0.5,
                    0.5,
                    1,
                    1,
                    1,
                    1,
                    1,
                    1,
                    0,
                    0,
                    0,
                    0,
                    0,
                    0,
                    0,
                    0,
                    0,
                    0,
                    0,
                    0,
                    0,
                    0,
                    0,
                    0,
                    8,
                    3,
                    0,
                    0.5,
                    2.5,
                    0,
                    3,
                    0,
                    1,
                    1,
                    0,
                    3,
                    1.5,
                    3,
                    0,
                    1.5,
                    3,
                    2.5,
                    0.5,
                    3.5,
                    1.5,
                    3,
                    1,
                    2,
                    2,
                    2,
                    1.5,
                    1,
                    0,
                    1,
                    0,
                    0,
                    0,
                    1,
                    0,
                    0,
                    0,
                    0,
                    0,
                    0,
                    0,
                    0,
                    0.5,
                    0,
                    0,
                    0,
                    0,
                    0,
                    1.5,
                    0,
                    0,
                    0,
                    0,
                    0,
                    0.5,
                    0,
                    0.5,
                    0,
                    1,
                    1,
                    0,
                    1,
                    0,
                    0,
                    1,
                    0,
                    0,
                    0,
                    0,
                    0,
                    2,
                    2,
                    1,
                    1,
                    1,
                    1,
                    2,
                    1,
                    1,
                    1,
                    1,
                    1,
                    1,
                    1,
                    1,
                    0,
                    0,
                    0,
                    1,
                    2,
                    0,
                    0,
                    1,
                    2,
                    1,
                    1,
                    2,
                    0,
                    0.5,
                    0,
                    0,
                    0,
                    0,
                    0,
                    0,
                    0,
                    0,
                    0,
                    0,
                    0,
                    0,
                    0,
                    0,
                    0,
                    0,
                    0,
                    0,
                    0,
                    1,
                    2,
                    0,
                    0,
                    0,
                    0,
                    0,
                    0,
                    0,
                    1,
                    2,
                    0,
                    0,
                    0,
                    0,
                    0,
                    0,
                    0,
                    0,
                    0,
                    0,
                    1,
                    2,
                    0,
                    0,
                    0,
                    0,
                    0,
                    0,
                    0,
                    1,
                    2,
                    0,
                    0,
                    0,
                    0,
                    0,
                    0,
                    0,
                    0,
                    0,
                    0,
                    0,
                    0,
                    0,
                    0,
                    0,
                    0,
                    0,
                    0,
                    0,
                    1,
                    2,
                    0,
                    0,
                    0,
                    0,
                    0,
                    0,
                    0,
                    0,
                    1,
                    0,
                    0,
                    0,
                    0,
                    1,
                    0,
                    0,
                    0,
                    0,
                    1,
                    0,
                    0,
                    1,
                    0,
                    0,
                    0,
                    0,
                    0,
                    0,
                    0,
                    0,
                    1,
                    0.5,
                    0.5,
                    0,
                    0,
                    0,
                    0,
                    1,
                    1,
                    0,
                    0,
                    0,
                    0,
                    0,
                    0,
                    0,
                    0,
                    0,
                    0,
                    0,
                    0,
                    1,
                    0,
                    0,
                    0.5,
                    0.5,
                    0,
                    0.5,
                    0.5,
                    0,
                    1,
                    0,
                    0.5,
                    0,
                    0,
                    0.5,
                    0,
                    1,
                    0,
                    1,
                    0,
                    0,
                    0,
                    0,
                    0,
                    0,
                    0,
                    0,
                    0,
                    0.5,
                    0,
                    0,
                    0,
                    0,
                    0,
                    0,
                    0,
                    0,
                    0,
                    0,
                    0,
                    0,
                    0,
                    0,
                    0.5,
                    0,
                    0,
                    0.5,
                    0,
                    0,
                    0,
                    0,
                    0,
                    0,
                    0,
                    1,
                    1,
                    1,
                    1,
                    1,
                    0,
                    0,
                    0,
                    0,
                    0,
                    0,
                    0,
                    0,
                    0,
                    0,
                    0,
                    0,
                    0,
                    0,
                    0,
                    1,
                    0,
                    1,
                    0,
                    1,
                    0,
                    0.5,
                    0,
                    0,
                    1,
                    0,
                    1,
                    1,
                    0.5,
                    0.5,
                    1,
                    0,
                    0,
                    0,
                    0.5,
                    1,
                    0.5,
                    0.5,
                    1,
                    1,
                    0,
                    1
                  ],
                  "xaxis": "x",
                  "yaxis": "y"
                }
              ],
              "layout": {
                "barmode": "relative",
                "legend": {
                  "tracegroupgap": 0
                },
                "template": {
                  "data": {
                    "bar": [
                      {
                        "error_x": {
                          "color": "#2a3f5f"
                        },
                        "error_y": {
                          "color": "#2a3f5f"
                        },
                        "marker": {
                          "line": {
                            "color": "#E5ECF6",
                            "width": 0.5
                          },
                          "pattern": {
                            "fillmode": "overlay",
                            "size": 10,
                            "solidity": 0.2
                          }
                        },
                        "type": "bar"
                      }
                    ],
                    "barpolar": [
                      {
                        "marker": {
                          "line": {
                            "color": "#E5ECF6",
                            "width": 0.5
                          },
                          "pattern": {
                            "fillmode": "overlay",
                            "size": 10,
                            "solidity": 0.2
                          }
                        },
                        "type": "barpolar"
                      }
                    ],
                    "carpet": [
                      {
                        "aaxis": {
                          "endlinecolor": "#2a3f5f",
                          "gridcolor": "white",
                          "linecolor": "white",
                          "minorgridcolor": "white",
                          "startlinecolor": "#2a3f5f"
                        },
                        "baxis": {
                          "endlinecolor": "#2a3f5f",
                          "gridcolor": "white",
                          "linecolor": "white",
                          "minorgridcolor": "white",
                          "startlinecolor": "#2a3f5f"
                        },
                        "type": "carpet"
                      }
                    ],
                    "choropleth": [
                      {
                        "colorbar": {
                          "outlinewidth": 0,
                          "ticks": ""
                        },
                        "type": "choropleth"
                      }
                    ],
                    "contour": [
                      {
                        "colorbar": {
                          "outlinewidth": 0,
                          "ticks": ""
                        },
                        "colorscale": [
                          [
                            0,
                            "#0d0887"
                          ],
                          [
                            0.1111111111111111,
                            "#46039f"
                          ],
                          [
                            0.2222222222222222,
                            "#7201a8"
                          ],
                          [
                            0.3333333333333333,
                            "#9c179e"
                          ],
                          [
                            0.4444444444444444,
                            "#bd3786"
                          ],
                          [
                            0.5555555555555556,
                            "#d8576b"
                          ],
                          [
                            0.6666666666666666,
                            "#ed7953"
                          ],
                          [
                            0.7777777777777778,
                            "#fb9f3a"
                          ],
                          [
                            0.8888888888888888,
                            "#fdca26"
                          ],
                          [
                            1,
                            "#f0f921"
                          ]
                        ],
                        "type": "contour"
                      }
                    ],
                    "contourcarpet": [
                      {
                        "colorbar": {
                          "outlinewidth": 0,
                          "ticks": ""
                        },
                        "type": "contourcarpet"
                      }
                    ],
                    "heatmap": [
                      {
                        "colorbar": {
                          "outlinewidth": 0,
                          "ticks": ""
                        },
                        "colorscale": [
                          [
                            0,
                            "#0d0887"
                          ],
                          [
                            0.1111111111111111,
                            "#46039f"
                          ],
                          [
                            0.2222222222222222,
                            "#7201a8"
                          ],
                          [
                            0.3333333333333333,
                            "#9c179e"
                          ],
                          [
                            0.4444444444444444,
                            "#bd3786"
                          ],
                          [
                            0.5555555555555556,
                            "#d8576b"
                          ],
                          [
                            0.6666666666666666,
                            "#ed7953"
                          ],
                          [
                            0.7777777777777778,
                            "#fb9f3a"
                          ],
                          [
                            0.8888888888888888,
                            "#fdca26"
                          ],
                          [
                            1,
                            "#f0f921"
                          ]
                        ],
                        "type": "heatmap"
                      }
                    ],
                    "heatmapgl": [
                      {
                        "colorbar": {
                          "outlinewidth": 0,
                          "ticks": ""
                        },
                        "colorscale": [
                          [
                            0,
                            "#0d0887"
                          ],
                          [
                            0.1111111111111111,
                            "#46039f"
                          ],
                          [
                            0.2222222222222222,
                            "#7201a8"
                          ],
                          [
                            0.3333333333333333,
                            "#9c179e"
                          ],
                          [
                            0.4444444444444444,
                            "#bd3786"
                          ],
                          [
                            0.5555555555555556,
                            "#d8576b"
                          ],
                          [
                            0.6666666666666666,
                            "#ed7953"
                          ],
                          [
                            0.7777777777777778,
                            "#fb9f3a"
                          ],
                          [
                            0.8888888888888888,
                            "#fdca26"
                          ],
                          [
                            1,
                            "#f0f921"
                          ]
                        ],
                        "type": "heatmapgl"
                      }
                    ],
                    "histogram": [
                      {
                        "marker": {
                          "pattern": {
                            "fillmode": "overlay",
                            "size": 10,
                            "solidity": 0.2
                          }
                        },
                        "type": "histogram"
                      }
                    ],
                    "histogram2d": [
                      {
                        "colorbar": {
                          "outlinewidth": 0,
                          "ticks": ""
                        },
                        "colorscale": [
                          [
                            0,
                            "#0d0887"
                          ],
                          [
                            0.1111111111111111,
                            "#46039f"
                          ],
                          [
                            0.2222222222222222,
                            "#7201a8"
                          ],
                          [
                            0.3333333333333333,
                            "#9c179e"
                          ],
                          [
                            0.4444444444444444,
                            "#bd3786"
                          ],
                          [
                            0.5555555555555556,
                            "#d8576b"
                          ],
                          [
                            0.6666666666666666,
                            "#ed7953"
                          ],
                          [
                            0.7777777777777778,
                            "#fb9f3a"
                          ],
                          [
                            0.8888888888888888,
                            "#fdca26"
                          ],
                          [
                            1,
                            "#f0f921"
                          ]
                        ],
                        "type": "histogram2d"
                      }
                    ],
                    "histogram2dcontour": [
                      {
                        "colorbar": {
                          "outlinewidth": 0,
                          "ticks": ""
                        },
                        "colorscale": [
                          [
                            0,
                            "#0d0887"
                          ],
                          [
                            0.1111111111111111,
                            "#46039f"
                          ],
                          [
                            0.2222222222222222,
                            "#7201a8"
                          ],
                          [
                            0.3333333333333333,
                            "#9c179e"
                          ],
                          [
                            0.4444444444444444,
                            "#bd3786"
                          ],
                          [
                            0.5555555555555556,
                            "#d8576b"
                          ],
                          [
                            0.6666666666666666,
                            "#ed7953"
                          ],
                          [
                            0.7777777777777778,
                            "#fb9f3a"
                          ],
                          [
                            0.8888888888888888,
                            "#fdca26"
                          ],
                          [
                            1,
                            "#f0f921"
                          ]
                        ],
                        "type": "histogram2dcontour"
                      }
                    ],
                    "mesh3d": [
                      {
                        "colorbar": {
                          "outlinewidth": 0,
                          "ticks": ""
                        },
                        "type": "mesh3d"
                      }
                    ],
                    "parcoords": [
                      {
                        "line": {
                          "colorbar": {
                            "outlinewidth": 0,
                            "ticks": ""
                          }
                        },
                        "type": "parcoords"
                      }
                    ],
                    "pie": [
                      {
                        "automargin": true,
                        "type": "pie"
                      }
                    ],
                    "scatter": [
                      {
                        "fillpattern": {
                          "fillmode": "overlay",
                          "size": 10,
                          "solidity": 0.2
                        },
                        "type": "scatter"
                      }
                    ],
                    "scatter3d": [
                      {
                        "line": {
                          "colorbar": {
                            "outlinewidth": 0,
                            "ticks": ""
                          }
                        },
                        "marker": {
                          "colorbar": {
                            "outlinewidth": 0,
                            "ticks": ""
                          }
                        },
                        "type": "scatter3d"
                      }
                    ],
                    "scattercarpet": [
                      {
                        "marker": {
                          "colorbar": {
                            "outlinewidth": 0,
                            "ticks": ""
                          }
                        },
                        "type": "scattercarpet"
                      }
                    ],
                    "scattergeo": [
                      {
                        "marker": {
                          "colorbar": {
                            "outlinewidth": 0,
                            "ticks": ""
                          }
                        },
                        "type": "scattergeo"
                      }
                    ],
                    "scattergl": [
                      {
                        "marker": {
                          "colorbar": {
                            "outlinewidth": 0,
                            "ticks": ""
                          }
                        },
                        "type": "scattergl"
                      }
                    ],
                    "scattermapbox": [
                      {
                        "marker": {
                          "colorbar": {
                            "outlinewidth": 0,
                            "ticks": ""
                          }
                        },
                        "type": "scattermapbox"
                      }
                    ],
                    "scatterpolar": [
                      {
                        "marker": {
                          "colorbar": {
                            "outlinewidth": 0,
                            "ticks": ""
                          }
                        },
                        "type": "scatterpolar"
                      }
                    ],
                    "scatterpolargl": [
                      {
                        "marker": {
                          "colorbar": {
                            "outlinewidth": 0,
                            "ticks": ""
                          }
                        },
                        "type": "scatterpolargl"
                      }
                    ],
                    "scatterternary": [
                      {
                        "marker": {
                          "colorbar": {
                            "outlinewidth": 0,
                            "ticks": ""
                          }
                        },
                        "type": "scatterternary"
                      }
                    ],
                    "surface": [
                      {
                        "colorbar": {
                          "outlinewidth": 0,
                          "ticks": ""
                        },
                        "colorscale": [
                          [
                            0,
                            "#0d0887"
                          ],
                          [
                            0.1111111111111111,
                            "#46039f"
                          ],
                          [
                            0.2222222222222222,
                            "#7201a8"
                          ],
                          [
                            0.3333333333333333,
                            "#9c179e"
                          ],
                          [
                            0.4444444444444444,
                            "#bd3786"
                          ],
                          [
                            0.5555555555555556,
                            "#d8576b"
                          ],
                          [
                            0.6666666666666666,
                            "#ed7953"
                          ],
                          [
                            0.7777777777777778,
                            "#fb9f3a"
                          ],
                          [
                            0.8888888888888888,
                            "#fdca26"
                          ],
                          [
                            1,
                            "#f0f921"
                          ]
                        ],
                        "type": "surface"
                      }
                    ],
                    "table": [
                      {
                        "cells": {
                          "fill": {
                            "color": "#EBF0F8"
                          },
                          "line": {
                            "color": "white"
                          }
                        },
                        "header": {
                          "fill": {
                            "color": "#C8D4E3"
                          },
                          "line": {
                            "color": "white"
                          }
                        },
                        "type": "table"
                      }
                    ]
                  },
                  "layout": {
                    "annotationdefaults": {
                      "arrowcolor": "#2a3f5f",
                      "arrowhead": 0,
                      "arrowwidth": 1
                    },
                    "autotypenumbers": "strict",
                    "coloraxis": {
                      "colorbar": {
                        "outlinewidth": 0,
                        "ticks": ""
                      }
                    },
                    "colorscale": {
                      "diverging": [
                        [
                          0,
                          "#8e0152"
                        ],
                        [
                          0.1,
                          "#c51b7d"
                        ],
                        [
                          0.2,
                          "#de77ae"
                        ],
                        [
                          0.3,
                          "#f1b6da"
                        ],
                        [
                          0.4,
                          "#fde0ef"
                        ],
                        [
                          0.5,
                          "#f7f7f7"
                        ],
                        [
                          0.6,
                          "#e6f5d0"
                        ],
                        [
                          0.7,
                          "#b8e186"
                        ],
                        [
                          0.8,
                          "#7fbc41"
                        ],
                        [
                          0.9,
                          "#4d9221"
                        ],
                        [
                          1,
                          "#276419"
                        ]
                      ],
                      "sequential": [
                        [
                          0,
                          "#0d0887"
                        ],
                        [
                          0.1111111111111111,
                          "#46039f"
                        ],
                        [
                          0.2222222222222222,
                          "#7201a8"
                        ],
                        [
                          0.3333333333333333,
                          "#9c179e"
                        ],
                        [
                          0.4444444444444444,
                          "#bd3786"
                        ],
                        [
                          0.5555555555555556,
                          "#d8576b"
                        ],
                        [
                          0.6666666666666666,
                          "#ed7953"
                        ],
                        [
                          0.7777777777777778,
                          "#fb9f3a"
                        ],
                        [
                          0.8888888888888888,
                          "#fdca26"
                        ],
                        [
                          1,
                          "#f0f921"
                        ]
                      ],
                      "sequentialminus": [
                        [
                          0,
                          "#0d0887"
                        ],
                        [
                          0.1111111111111111,
                          "#46039f"
                        ],
                        [
                          0.2222222222222222,
                          "#7201a8"
                        ],
                        [
                          0.3333333333333333,
                          "#9c179e"
                        ],
                        [
                          0.4444444444444444,
                          "#bd3786"
                        ],
                        [
                          0.5555555555555556,
                          "#d8576b"
                        ],
                        [
                          0.6666666666666666,
                          "#ed7953"
                        ],
                        [
                          0.7777777777777778,
                          "#fb9f3a"
                        ],
                        [
                          0.8888888888888888,
                          "#fdca26"
                        ],
                        [
                          1,
                          "#f0f921"
                        ]
                      ]
                    },
                    "colorway": [
                      "#636efa",
                      "#EF553B",
                      "#00cc96",
                      "#ab63fa",
                      "#FFA15A",
                      "#19d3f3",
                      "#FF6692",
                      "#B6E880",
                      "#FF97FF",
                      "#FECB52"
                    ],
                    "font": {
                      "color": "#2a3f5f"
                    },
                    "geo": {
                      "bgcolor": "white",
                      "lakecolor": "white",
                      "landcolor": "#E5ECF6",
                      "showlakes": true,
                      "showland": true,
                      "subunitcolor": "white"
                    },
                    "hoverlabel": {
                      "align": "left"
                    },
                    "hovermode": "closest",
                    "mapbox": {
                      "style": "light"
                    },
                    "paper_bgcolor": "white",
                    "plot_bgcolor": "#E5ECF6",
                    "polar": {
                      "angularaxis": {
                        "gridcolor": "white",
                        "linecolor": "white",
                        "ticks": ""
                      },
                      "bgcolor": "#E5ECF6",
                      "radialaxis": {
                        "gridcolor": "white",
                        "linecolor": "white",
                        "ticks": ""
                      }
                    },
                    "scene": {
                      "xaxis": {
                        "backgroundcolor": "#E5ECF6",
                        "gridcolor": "white",
                        "gridwidth": 2,
                        "linecolor": "white",
                        "showbackground": true,
                        "ticks": "",
                        "zerolinecolor": "white"
                      },
                      "yaxis": {
                        "backgroundcolor": "#E5ECF6",
                        "gridcolor": "white",
                        "gridwidth": 2,
                        "linecolor": "white",
                        "showbackground": true,
                        "ticks": "",
                        "zerolinecolor": "white"
                      },
                      "zaxis": {
                        "backgroundcolor": "#E5ECF6",
                        "gridcolor": "white",
                        "gridwidth": 2,
                        "linecolor": "white",
                        "showbackground": true,
                        "ticks": "",
                        "zerolinecolor": "white"
                      }
                    },
                    "shapedefaults": {
                      "line": {
                        "color": "#2a3f5f"
                      }
                    },
                    "ternary": {
                      "aaxis": {
                        "gridcolor": "white",
                        "linecolor": "white",
                        "ticks": ""
                      },
                      "baxis": {
                        "gridcolor": "white",
                        "linecolor": "white",
                        "ticks": ""
                      },
                      "bgcolor": "#E5ECF6",
                      "caxis": {
                        "gridcolor": "white",
                        "linecolor": "white",
                        "ticks": ""
                      }
                    },
                    "title": {
                      "x": 0.05
                    },
                    "xaxis": {
                      "automargin": true,
                      "gridcolor": "white",
                      "linecolor": "white",
                      "ticks": "",
                      "title": {
                        "standoff": 15
                      },
                      "zerolinecolor": "white",
                      "zerolinewidth": 2
                    },
                    "yaxis": {
                      "automargin": true,
                      "gridcolor": "white",
                      "linecolor": "white",
                      "ticks": "",
                      "title": {
                        "standoff": 15
                      },
                      "zerolinecolor": "white",
                      "zerolinewidth": 2
                    }
                  }
                },
                "title": {
                  "text": "trans_fat"
                },
                "xaxis": {
                  "anchor": "y",
                  "domain": [
                    0,
                    1
                  ],
                  "title": {
                    "text": "trans_fat"
                  }
                },
                "yaxis": {
                  "anchor": "x",
                  "domain": [
                    0,
                    1
                  ],
                  "title": {
                    "text": "count"
                  }
                }
              }
            }
          },
          "metadata": {},
          "output_type": "display_data"
        },
        {
          "data": {
            "application/vnd.plotly.v1+json": {
              "config": {
                "plotlyServerURL": "https://plot.ly"
              },
              "data": [
                {
                  "alignmentgroup": "True",
                  "bingroup": "x",
                  "hovertemplate": "cholesterol=%{x}<br>count=%{y}<extra></extra>",
                  "legendgroup": "",
                  "marker": {
                    "color": "#636efa",
                    "pattern": {
                      "shape": ""
                    }
                  },
                  "name": "",
                  "offsetgroup": "",
                  "orientation": "v",
                  "showlegend": false,
                  "type": "histogram",
                  "x": [
                    95,
                    130,
                    220,
                    155,
                    120,
                    80,
                    40,
                    65,
                    85,
                    175,
                    40,
                    95,
                    125,
                    85,
                    30,
                    65,
                    110,
                    135,
                    95,
                    40,
                    70,
                    80,
                    95,
                    115,
                    80,
                    60,
                    45,
                    100,
                    95,
                    115,
                    80,
                    110,
                    135,
                    95,
                    70,
                    95,
                    145,
                    240,
                    295,
                    475,
                    30,
                    45,
                    75,
                    145,
                    295,
                    105,
                    160,
                    265,
                    0,
                    80,
                    95,
                    40,
                    45,
                    95,
                    15,
                    110,
                    75,
                    85,
                    55,
                    45,
                    25,
                    55,
                    70,
                    90,
                    75,
                    40,
                    55,
                    70,
                    115,
                    285,
                    80,
                    60,
                    35,
                    50,
                    70,
                    100,
                    85,
                    75,
                    95,
                    60,
                    80,
                    60,
                    100,
                    120,
                    120,
                    100,
                    35,
                    55,
                    40,
                    60,
                    110,
                    140,
                    100,
                    100,
                    110,
                    120,
                    120,
                    130,
                    260,
                    235,
                    235,
                    245,
                    235,
                    10,
                    10,
                    10,
                    110,
                    80,
                    80,
                    45,
                    35,
                    0,
                    0,
                    90,
                    125,
                    190,
                    45,
                    65,
                    45,
                    80,
                    55,
                    75,
                    90,
                    55,
                    70,
                    90,
                    90,
                    100,
                    40,
                    40,
                    65,
                    40,
                    40,
                    50,
                    20,
                    85,
                    35,
                    30,
                    30,
                    50,
                    100,
                    105,
                    90,
                    90,
                    60,
                    90,
                    110,
                    60,
                    85,
                    50,
                    95,
                    105,
                    65,
                    75,
                    130,
                    150,
                    130,
                    35,
                    100,
                    65,
                    75,
                    30,
                    45,
                    75,
                    80,
                    60,
                    65,
                    65,
                    80,
                    85,
                    125,
                    75,
                    110,
                    45,
                    115,
                    155,
                    65,
                    45,
                    85,
                    20,
                    25,
                    30,
                    25,
                    30,
                    35,
                    30,
                    25,
                    15,
                    65,
                    55,
                    55,
                    85,
                    805,
                    200,
                    55,
                    40,
                    220,
                    90,
                    220,
                    45,
                    105,
                    95,
                    70,
                    210,
                    85,
                    335,
                    35,
                    95,
                    205,
                    175,
                    25,
                    230,
                    125,
                    205,
                    180,
                    95,
                    140,
                    160,
                    90,
                    100,
                    40,
                    55,
                    150,
                    120,
                    115,
                    100,
                    95,
                    80,
                    90,
                    80,
                    115,
                    85,
                    10,
                    30,
                    110,
                    15,
                    30,
                    5,
                    5,
                    90,
                    40,
                    25,
                    40,
                    130,
                    50,
                    70,
                    70,
                    30,
                    60,
                    85,
                    40,
                    30,
                    40,
                    65,
                    45,
                    20,
                    95,
                    20,
                    55,
                    35,
                    65,
                    95,
                    170,
                    135,
                    95,
                    70,
                    75,
                    65,
                    125,
                    80,
                    120,
                    60,
                    50,
                    55,
                    40,
                    35,
                    35,
                    50,
                    0,
                    150,
                    180,
                    100,
                    20,
                    20,
                    65,
                    125,
                    100,
                    50,
                    150,
                    45,
                    45,
                    60,
                    65,
                    60,
                    100,
                    40,
                    55,
                    35,
                    100,
                    40,
                    50,
                    30,
                    0,
                    60,
                    20,
                    40,
                    50,
                    100,
                    85,
                    170,
                    85,
                    170,
                    10,
                    20,
                    40,
                    45,
                    90,
                    70,
                    140,
                    95,
                    190,
                    80,
                    160,
                    50,
                    100,
                    85,
                    170,
                    45,
                    90,
                    75,
                    150,
                    30,
                    60,
                    25,
                    50,
                    25,
                    40,
                    80,
                    50,
                    100,
                    50,
                    100,
                    50,
                    100,
                    40,
                    80,
                    45,
                    90,
                    20,
                    40,
                    50,
                    100,
                    30,
                    60,
                    30,
                    60,
                    10,
                    20,
                    40,
                    20,
                    40,
                    50,
                    100,
                    0,
                    0,
                    0,
                    10,
                    20,
                    60,
                    20,
                    85,
                    85,
                    20,
                    60,
                    65,
                    45,
                    100,
                    45,
                    100,
                    45,
                    45,
                    30,
                    50,
                    40,
                    50,
                    50,
                    40,
                    45,
                    50,
                    40,
                    25,
                    20,
                    0,
                    100,
                    135,
                    75,
                    50,
                    40,
                    60,
                    70,
                    45,
                    45,
                    20,
                    5,
                    35,
                    20,
                    10,
                    35,
                    40,
                    30,
                    60,
                    50,
                    10,
                    0,
                    35,
                    55,
                    50,
                    45,
                    50,
                    60,
                    65,
                    60,
                    30,
                    75,
                    70,
                    80,
                    55,
                    50,
                    45,
                    30,
                    75,
                    85,
                    70,
                    30,
                    25,
                    25,
                    35,
                    25,
                    35,
                    25,
                    35,
                    35,
                    40,
                    35,
                    25,
                    25,
                    30,
                    30,
                    25,
                    25,
                    35,
                    35,
                    25,
                    10,
                    40,
                    30,
                    30,
                    50,
                    65,
                    70,
                    50,
                    0,
                    25,
                    15,
                    25,
                    20,
                    15,
                    20,
                    55,
                    55,
                    55,
                    55,
                    70,
                    30,
                    40,
                    30,
                    30,
                    30,
                    30,
                    0,
                    30,
                    25,
                    25,
                    20,
                    20,
                    60,
                    50,
                    10,
                    50,
                    20,
                    75,
                    50,
                    35,
                    25,
                    75,
                    30,
                    15,
                    60,
                    25,
                    40,
                    40,
                    60,
                    60,
                    50,
                    25,
                    25,
                    10,
                    40,
                    65,
                    45,
                    50,
                    60,
                    60,
                    70,
                    55
                  ],
                  "xaxis": "x",
                  "yaxis": "y"
                }
              ],
              "layout": {
                "barmode": "relative",
                "legend": {
                  "tracegroupgap": 0
                },
                "template": {
                  "data": {
                    "bar": [
                      {
                        "error_x": {
                          "color": "#2a3f5f"
                        },
                        "error_y": {
                          "color": "#2a3f5f"
                        },
                        "marker": {
                          "line": {
                            "color": "#E5ECF6",
                            "width": 0.5
                          },
                          "pattern": {
                            "fillmode": "overlay",
                            "size": 10,
                            "solidity": 0.2
                          }
                        },
                        "type": "bar"
                      }
                    ],
                    "barpolar": [
                      {
                        "marker": {
                          "line": {
                            "color": "#E5ECF6",
                            "width": 0.5
                          },
                          "pattern": {
                            "fillmode": "overlay",
                            "size": 10,
                            "solidity": 0.2
                          }
                        },
                        "type": "barpolar"
                      }
                    ],
                    "carpet": [
                      {
                        "aaxis": {
                          "endlinecolor": "#2a3f5f",
                          "gridcolor": "white",
                          "linecolor": "white",
                          "minorgridcolor": "white",
                          "startlinecolor": "#2a3f5f"
                        },
                        "baxis": {
                          "endlinecolor": "#2a3f5f",
                          "gridcolor": "white",
                          "linecolor": "white",
                          "minorgridcolor": "white",
                          "startlinecolor": "#2a3f5f"
                        },
                        "type": "carpet"
                      }
                    ],
                    "choropleth": [
                      {
                        "colorbar": {
                          "outlinewidth": 0,
                          "ticks": ""
                        },
                        "type": "choropleth"
                      }
                    ],
                    "contour": [
                      {
                        "colorbar": {
                          "outlinewidth": 0,
                          "ticks": ""
                        },
                        "colorscale": [
                          [
                            0,
                            "#0d0887"
                          ],
                          [
                            0.1111111111111111,
                            "#46039f"
                          ],
                          [
                            0.2222222222222222,
                            "#7201a8"
                          ],
                          [
                            0.3333333333333333,
                            "#9c179e"
                          ],
                          [
                            0.4444444444444444,
                            "#bd3786"
                          ],
                          [
                            0.5555555555555556,
                            "#d8576b"
                          ],
                          [
                            0.6666666666666666,
                            "#ed7953"
                          ],
                          [
                            0.7777777777777778,
                            "#fb9f3a"
                          ],
                          [
                            0.8888888888888888,
                            "#fdca26"
                          ],
                          [
                            1,
                            "#f0f921"
                          ]
                        ],
                        "type": "contour"
                      }
                    ],
                    "contourcarpet": [
                      {
                        "colorbar": {
                          "outlinewidth": 0,
                          "ticks": ""
                        },
                        "type": "contourcarpet"
                      }
                    ],
                    "heatmap": [
                      {
                        "colorbar": {
                          "outlinewidth": 0,
                          "ticks": ""
                        },
                        "colorscale": [
                          [
                            0,
                            "#0d0887"
                          ],
                          [
                            0.1111111111111111,
                            "#46039f"
                          ],
                          [
                            0.2222222222222222,
                            "#7201a8"
                          ],
                          [
                            0.3333333333333333,
                            "#9c179e"
                          ],
                          [
                            0.4444444444444444,
                            "#bd3786"
                          ],
                          [
                            0.5555555555555556,
                            "#d8576b"
                          ],
                          [
                            0.6666666666666666,
                            "#ed7953"
                          ],
                          [
                            0.7777777777777778,
                            "#fb9f3a"
                          ],
                          [
                            0.8888888888888888,
                            "#fdca26"
                          ],
                          [
                            1,
                            "#f0f921"
                          ]
                        ],
                        "type": "heatmap"
                      }
                    ],
                    "heatmapgl": [
                      {
                        "colorbar": {
                          "outlinewidth": 0,
                          "ticks": ""
                        },
                        "colorscale": [
                          [
                            0,
                            "#0d0887"
                          ],
                          [
                            0.1111111111111111,
                            "#46039f"
                          ],
                          [
                            0.2222222222222222,
                            "#7201a8"
                          ],
                          [
                            0.3333333333333333,
                            "#9c179e"
                          ],
                          [
                            0.4444444444444444,
                            "#bd3786"
                          ],
                          [
                            0.5555555555555556,
                            "#d8576b"
                          ],
                          [
                            0.6666666666666666,
                            "#ed7953"
                          ],
                          [
                            0.7777777777777778,
                            "#fb9f3a"
                          ],
                          [
                            0.8888888888888888,
                            "#fdca26"
                          ],
                          [
                            1,
                            "#f0f921"
                          ]
                        ],
                        "type": "heatmapgl"
                      }
                    ],
                    "histogram": [
                      {
                        "marker": {
                          "pattern": {
                            "fillmode": "overlay",
                            "size": 10,
                            "solidity": 0.2
                          }
                        },
                        "type": "histogram"
                      }
                    ],
                    "histogram2d": [
                      {
                        "colorbar": {
                          "outlinewidth": 0,
                          "ticks": ""
                        },
                        "colorscale": [
                          [
                            0,
                            "#0d0887"
                          ],
                          [
                            0.1111111111111111,
                            "#46039f"
                          ],
                          [
                            0.2222222222222222,
                            "#7201a8"
                          ],
                          [
                            0.3333333333333333,
                            "#9c179e"
                          ],
                          [
                            0.4444444444444444,
                            "#bd3786"
                          ],
                          [
                            0.5555555555555556,
                            "#d8576b"
                          ],
                          [
                            0.6666666666666666,
                            "#ed7953"
                          ],
                          [
                            0.7777777777777778,
                            "#fb9f3a"
                          ],
                          [
                            0.8888888888888888,
                            "#fdca26"
                          ],
                          [
                            1,
                            "#f0f921"
                          ]
                        ],
                        "type": "histogram2d"
                      }
                    ],
                    "histogram2dcontour": [
                      {
                        "colorbar": {
                          "outlinewidth": 0,
                          "ticks": ""
                        },
                        "colorscale": [
                          [
                            0,
                            "#0d0887"
                          ],
                          [
                            0.1111111111111111,
                            "#46039f"
                          ],
                          [
                            0.2222222222222222,
                            "#7201a8"
                          ],
                          [
                            0.3333333333333333,
                            "#9c179e"
                          ],
                          [
                            0.4444444444444444,
                            "#bd3786"
                          ],
                          [
                            0.5555555555555556,
                            "#d8576b"
                          ],
                          [
                            0.6666666666666666,
                            "#ed7953"
                          ],
                          [
                            0.7777777777777778,
                            "#fb9f3a"
                          ],
                          [
                            0.8888888888888888,
                            "#fdca26"
                          ],
                          [
                            1,
                            "#f0f921"
                          ]
                        ],
                        "type": "histogram2dcontour"
                      }
                    ],
                    "mesh3d": [
                      {
                        "colorbar": {
                          "outlinewidth": 0,
                          "ticks": ""
                        },
                        "type": "mesh3d"
                      }
                    ],
                    "parcoords": [
                      {
                        "line": {
                          "colorbar": {
                            "outlinewidth": 0,
                            "ticks": ""
                          }
                        },
                        "type": "parcoords"
                      }
                    ],
                    "pie": [
                      {
                        "automargin": true,
                        "type": "pie"
                      }
                    ],
                    "scatter": [
                      {
                        "fillpattern": {
                          "fillmode": "overlay",
                          "size": 10,
                          "solidity": 0.2
                        },
                        "type": "scatter"
                      }
                    ],
                    "scatter3d": [
                      {
                        "line": {
                          "colorbar": {
                            "outlinewidth": 0,
                            "ticks": ""
                          }
                        },
                        "marker": {
                          "colorbar": {
                            "outlinewidth": 0,
                            "ticks": ""
                          }
                        },
                        "type": "scatter3d"
                      }
                    ],
                    "scattercarpet": [
                      {
                        "marker": {
                          "colorbar": {
                            "outlinewidth": 0,
                            "ticks": ""
                          }
                        },
                        "type": "scattercarpet"
                      }
                    ],
                    "scattergeo": [
                      {
                        "marker": {
                          "colorbar": {
                            "outlinewidth": 0,
                            "ticks": ""
                          }
                        },
                        "type": "scattergeo"
                      }
                    ],
                    "scattergl": [
                      {
                        "marker": {
                          "colorbar": {
                            "outlinewidth": 0,
                            "ticks": ""
                          }
                        },
                        "type": "scattergl"
                      }
                    ],
                    "scattermapbox": [
                      {
                        "marker": {
                          "colorbar": {
                            "outlinewidth": 0,
                            "ticks": ""
                          }
                        },
                        "type": "scattermapbox"
                      }
                    ],
                    "scatterpolar": [
                      {
                        "marker": {
                          "colorbar": {
                            "outlinewidth": 0,
                            "ticks": ""
                          }
                        },
                        "type": "scatterpolar"
                      }
                    ],
                    "scatterpolargl": [
                      {
                        "marker": {
                          "colorbar": {
                            "outlinewidth": 0,
                            "ticks": ""
                          }
                        },
                        "type": "scatterpolargl"
                      }
                    ],
                    "scatterternary": [
                      {
                        "marker": {
                          "colorbar": {
                            "outlinewidth": 0,
                            "ticks": ""
                          }
                        },
                        "type": "scatterternary"
                      }
                    ],
                    "surface": [
                      {
                        "colorbar": {
                          "outlinewidth": 0,
                          "ticks": ""
                        },
                        "colorscale": [
                          [
                            0,
                            "#0d0887"
                          ],
                          [
                            0.1111111111111111,
                            "#46039f"
                          ],
                          [
                            0.2222222222222222,
                            "#7201a8"
                          ],
                          [
                            0.3333333333333333,
                            "#9c179e"
                          ],
                          [
                            0.4444444444444444,
                            "#bd3786"
                          ],
                          [
                            0.5555555555555556,
                            "#d8576b"
                          ],
                          [
                            0.6666666666666666,
                            "#ed7953"
                          ],
                          [
                            0.7777777777777778,
                            "#fb9f3a"
                          ],
                          [
                            0.8888888888888888,
                            "#fdca26"
                          ],
                          [
                            1,
                            "#f0f921"
                          ]
                        ],
                        "type": "surface"
                      }
                    ],
                    "table": [
                      {
                        "cells": {
                          "fill": {
                            "color": "#EBF0F8"
                          },
                          "line": {
                            "color": "white"
                          }
                        },
                        "header": {
                          "fill": {
                            "color": "#C8D4E3"
                          },
                          "line": {
                            "color": "white"
                          }
                        },
                        "type": "table"
                      }
                    ]
                  },
                  "layout": {
                    "annotationdefaults": {
                      "arrowcolor": "#2a3f5f",
                      "arrowhead": 0,
                      "arrowwidth": 1
                    },
                    "autotypenumbers": "strict",
                    "coloraxis": {
                      "colorbar": {
                        "outlinewidth": 0,
                        "ticks": ""
                      }
                    },
                    "colorscale": {
                      "diverging": [
                        [
                          0,
                          "#8e0152"
                        ],
                        [
                          0.1,
                          "#c51b7d"
                        ],
                        [
                          0.2,
                          "#de77ae"
                        ],
                        [
                          0.3,
                          "#f1b6da"
                        ],
                        [
                          0.4,
                          "#fde0ef"
                        ],
                        [
                          0.5,
                          "#f7f7f7"
                        ],
                        [
                          0.6,
                          "#e6f5d0"
                        ],
                        [
                          0.7,
                          "#b8e186"
                        ],
                        [
                          0.8,
                          "#7fbc41"
                        ],
                        [
                          0.9,
                          "#4d9221"
                        ],
                        [
                          1,
                          "#276419"
                        ]
                      ],
                      "sequential": [
                        [
                          0,
                          "#0d0887"
                        ],
                        [
                          0.1111111111111111,
                          "#46039f"
                        ],
                        [
                          0.2222222222222222,
                          "#7201a8"
                        ],
                        [
                          0.3333333333333333,
                          "#9c179e"
                        ],
                        [
                          0.4444444444444444,
                          "#bd3786"
                        ],
                        [
                          0.5555555555555556,
                          "#d8576b"
                        ],
                        [
                          0.6666666666666666,
                          "#ed7953"
                        ],
                        [
                          0.7777777777777778,
                          "#fb9f3a"
                        ],
                        [
                          0.8888888888888888,
                          "#fdca26"
                        ],
                        [
                          1,
                          "#f0f921"
                        ]
                      ],
                      "sequentialminus": [
                        [
                          0,
                          "#0d0887"
                        ],
                        [
                          0.1111111111111111,
                          "#46039f"
                        ],
                        [
                          0.2222222222222222,
                          "#7201a8"
                        ],
                        [
                          0.3333333333333333,
                          "#9c179e"
                        ],
                        [
                          0.4444444444444444,
                          "#bd3786"
                        ],
                        [
                          0.5555555555555556,
                          "#d8576b"
                        ],
                        [
                          0.6666666666666666,
                          "#ed7953"
                        ],
                        [
                          0.7777777777777778,
                          "#fb9f3a"
                        ],
                        [
                          0.8888888888888888,
                          "#fdca26"
                        ],
                        [
                          1,
                          "#f0f921"
                        ]
                      ]
                    },
                    "colorway": [
                      "#636efa",
                      "#EF553B",
                      "#00cc96",
                      "#ab63fa",
                      "#FFA15A",
                      "#19d3f3",
                      "#FF6692",
                      "#B6E880",
                      "#FF97FF",
                      "#FECB52"
                    ],
                    "font": {
                      "color": "#2a3f5f"
                    },
                    "geo": {
                      "bgcolor": "white",
                      "lakecolor": "white",
                      "landcolor": "#E5ECF6",
                      "showlakes": true,
                      "showland": true,
                      "subunitcolor": "white"
                    },
                    "hoverlabel": {
                      "align": "left"
                    },
                    "hovermode": "closest",
                    "mapbox": {
                      "style": "light"
                    },
                    "paper_bgcolor": "white",
                    "plot_bgcolor": "#E5ECF6",
                    "polar": {
                      "angularaxis": {
                        "gridcolor": "white",
                        "linecolor": "white",
                        "ticks": ""
                      },
                      "bgcolor": "#E5ECF6",
                      "radialaxis": {
                        "gridcolor": "white",
                        "linecolor": "white",
                        "ticks": ""
                      }
                    },
                    "scene": {
                      "xaxis": {
                        "backgroundcolor": "#E5ECF6",
                        "gridcolor": "white",
                        "gridwidth": 2,
                        "linecolor": "white",
                        "showbackground": true,
                        "ticks": "",
                        "zerolinecolor": "white"
                      },
                      "yaxis": {
                        "backgroundcolor": "#E5ECF6",
                        "gridcolor": "white",
                        "gridwidth": 2,
                        "linecolor": "white",
                        "showbackground": true,
                        "ticks": "",
                        "zerolinecolor": "white"
                      },
                      "zaxis": {
                        "backgroundcolor": "#E5ECF6",
                        "gridcolor": "white",
                        "gridwidth": 2,
                        "linecolor": "white",
                        "showbackground": true,
                        "ticks": "",
                        "zerolinecolor": "white"
                      }
                    },
                    "shapedefaults": {
                      "line": {
                        "color": "#2a3f5f"
                      }
                    },
                    "ternary": {
                      "aaxis": {
                        "gridcolor": "white",
                        "linecolor": "white",
                        "ticks": ""
                      },
                      "baxis": {
                        "gridcolor": "white",
                        "linecolor": "white",
                        "ticks": ""
                      },
                      "bgcolor": "#E5ECF6",
                      "caxis": {
                        "gridcolor": "white",
                        "linecolor": "white",
                        "ticks": ""
                      }
                    },
                    "title": {
                      "x": 0.05
                    },
                    "xaxis": {
                      "automargin": true,
                      "gridcolor": "white",
                      "linecolor": "white",
                      "ticks": "",
                      "title": {
                        "standoff": 15
                      },
                      "zerolinecolor": "white",
                      "zerolinewidth": 2
                    },
                    "yaxis": {
                      "automargin": true,
                      "gridcolor": "white",
                      "linecolor": "white",
                      "ticks": "",
                      "title": {
                        "standoff": 15
                      },
                      "zerolinecolor": "white",
                      "zerolinewidth": 2
                    }
                  }
                },
                "title": {
                  "text": "cholesterol"
                },
                "xaxis": {
                  "anchor": "y",
                  "domain": [
                    0,
                    1
                  ],
                  "title": {
                    "text": "cholesterol"
                  }
                },
                "yaxis": {
                  "anchor": "x",
                  "domain": [
                    0,
                    1
                  ],
                  "title": {
                    "text": "count"
                  }
                }
              }
            }
          },
          "metadata": {},
          "output_type": "display_data"
        },
        {
          "data": {
            "application/vnd.plotly.v1+json": {
              "config": {
                "plotlyServerURL": "https://plot.ly"
              },
              "data": [
                {
                  "alignmentgroup": "True",
                  "bingroup": "x",
                  "hovertemplate": "sodium=%{x}<br>count=%{y}<extra></extra>",
                  "legendgroup": "",
                  "marker": {
                    "color": "#636efa",
                    "pattern": {
                      "shape": ""
                    }
                  },
                  "name": "",
                  "offsetgroup": "",
                  "orientation": "v",
                  "showlegend": false,
                  "type": "histogram",
                  "x": [
                    1110,
                    1580,
                    1920,
                    1940,
                    1980,
                    950,
                    680,
                    1040,
                    1040,
                    1290,
                    640,
                    790,
                    1150,
                    1190,
                    480,
                    630,
                    1260,
                    1890,
                    1780,
                    600,
                    840,
                    870,
                    920,
                    1540,
                    1430,
                    1050,
                    1000,
                    1090,
                    1010,
                    1550,
                    1430,
                    1310,
                    1930,
                    1820,
                    910,
                    1290,
                    1890,
                    3230,
                    3770,
                    6080,
                    340,
                    510,
                    840,
                    1680,
                    3370,
                    1780,
                    2670,
                    4450,
                    20,
                    740,
                    1120,
                    660,
                    1230,
                    1120,
                    500,
                    1070,
                    960,
                    1120,
                    820,
                    800,
                    320,
                    630,
                    940,
                    1250,
                    1590,
                    490,
                    730,
                    990,
                    1460,
                    3660,
                    1130,
                    1350,
                    220,
                    330,
                    440,
                    670,
                    1310,
                    1000,
                    1200,
                    1620,
                    1760,
                    960,
                    2520,
                    1780,
                    1120,
                    930,
                    640,
                    730,
                    470,
                    800,
                    1350,
                    1350,
                    790,
                    860,
                    760,
                    1120,
                    1190,
                    1090,
                    1630,
                    1550,
                    1620,
                    1520,
                    1690,
                    1410,
                    1350,
                    1300,
                    1570,
                    1120,
                    940,
                    1060,
                    740,
                    800,
                    1340,
                    1550,
                    4520,
                    2180,
                    1250,
                    1890,
                    860,
                    1500,
                    2160,
                    2390,
                    2610,
                    670,
                    900,
                    1120,
                    1540,
                    2070,
                    1180,
                    2310,
                    1140,
                    1250,
                    870,
                    1410,
                    530,
                    1940,
                    910,
                    920,
                    1230,
                    1280,
                    2100,
                    1460,
                    1990,
                    1990,
                    2110,
                    1750,
                    2000,
                    1480,
                    2500,
                    970,
                    1610,
                    1950,
                    1610,
                    1360,
                    2530,
                    3350,
                    2040,
                    1030,
                    2270,
                    980,
                    1210,
                    640,
                    950,
                    1590,
                    2420,
                    1290,
                    1930,
                    1640,
                    2420,
                    2130,
                    2050,
                    1510,
                    1240,
                    1060,
                    1760,
                    2940,
                    2140,
                    1520,
                    2130,
                    860,
                    720,
                    890,
                    780,
                    670,
                    930,
                    670,
                    760,
                    100,
                    1000,
                    700,
                    870,
                    1310,
                    1820,
                    1320,
                    830,
                    720,
                    1900,
                    1930,
                    1850,
                    710,
                    1180,
                    960,
                    520,
                    1740,
                    1030,
                    2050,
                    490,
                    1140,
                    1550,
                    1380,
                    450,
                    2270,
                    1570,
                    1640,
                    1620,
                    1360,
                    1050,
                    1480,
                    980,
                    1410,
                    510,
                    730,
                    1540,
                    1960,
                    1640,
                    1750,
                    1640,
                    1760,
                    980,
                    1090,
                    650,
                    1070,
                    540,
                    520,
                    2100,
                    630,
                    1360,
                    1030,
                    1160,
                    1930,
                    780,
                    310,
                    460,
                    1530,
                    890,
                    1340,
                    2310,
                    760,
                    1070,
                    850,
                    980,
                    960,
                    950,
                    1390,
                    1200,
                    870,
                    1760,
                    570,
                    1420,
                    850,
                    1140,
                    1720,
                    1610,
                    1280,
                    1250,
                    1020,
                    820,
                    930,
                    1240,
                    2780,
                    3500,
                    1140,
                    1000,
                    900,
                    1050,
                    900,
                    1000,
                    830,
                    500,
                    900,
                    2210,
                    1570,
                    450,
                    1210,
                    930,
                    1240,
                    750,
                    680,
                    1390,
                    910,
                    2210,
                    960,
                    1190,
                    1530,
                    1470,
                    670,
                    1250,
                    820,
                    1540,
                    730,
                    1040,
                    800,
                    15,
                    1420,
                    680,
                    1360,
                    590,
                    1180,
                    1470,
                    2940,
                    1310,
                    2620,
                    450,
                    830,
                    1660,
                    890,
                    1780,
                    1600,
                    3200,
                    1080,
                    2160,
                    1140,
                    2280,
                    1140,
                    2280,
                    1770,
                    3540,
                    1300,
                    2600,
                    1470,
                    2940,
                    950,
                    1900,
                    640,
                    1280,
                    390,
                    700,
                    1400,
                    540,
                    1080,
                    1520,
                    3040,
                    1060,
                    2120,
                    880,
                    1760,
                    1210,
                    1420,
                    690,
                    1380,
                    900,
                    1800,
                    620,
                    1240,
                    860,
                    1720,
                    380,
                    810,
                    1620,
                    820,
                    1640,
                    1480,
                    2960,
                    190,
                    310,
                    620,
                    800,
                    1600,
                    1120,
                    420,
                    1250,
                    1080,
                    590,
                    1100,
                    1320,
                    680,
                    1040,
                    820,
                    490,
                    1060,
                    1060,
                    720,
                    280,
                    450,
                    1280,
                    830,
                    640,
                    910,
                    660,
                    370,
                    580,
                    570,
                    65,
                    2250,
                    1900,
                    2970,
                    1270,
                    1070,
                    1350,
                    1420,
                    1360,
                    1320,
                    1090,
                    960,
                    1270,
                    1030,
                    1100,
                    1090,
                    1050,
                    1090,
                    1960,
                    1900,
                    1750,
                    930,
                    930,
                    1510,
                    1520,
                    1530,
                    1130,
                    1440,
                    1410,
                    1450,
                    960,
                    2260,
                    2230,
                    2080,
                    1740,
                    1750,
                    1760,
                    1030,
                    2020,
                    1940,
                    2020,
                    460,
                    770,
                    350,
                    370,
                    290,
                    320,
                    640,
                    670,
                    640,
                    630,
                    650,
                    770,
                    370,
                    390,
                    550,
                    760,
                    340,
                    370,
                    530,
                    510,
                    510,
                    530,
                    570,
                    570,
                    1010,
                    1070,
                    1090,
                    1240,
                    950,
                    1020,
                    1060,
                    460,
                    290,
                    500,
                    500,
                    810,
                    890,
                    890,
                    880,
                    1110,
                    550,
                    510,
                    550,
                    1420,
                    1100,
                    690,
                    600,
                    550,
                    960,
                    560,
                    870,
                    900,
                    1520,
                    1460,
                    1310,
                    1000,
                    450,
                    1210,
                    1290,
                    930,
                    640,
                    1480,
                    1110,
                    650,
                    1270,
                    1120,
                    860,
                    740,
                    840,
                    840,
                    890,
                    540,
                    900,
                    440,
                    1050,
                    1250,
                    1550,
                    1850,
                    1270,
                    1340,
                    1260,
                    1340
                  ],
                  "xaxis": "x",
                  "yaxis": "y"
                }
              ],
              "layout": {
                "barmode": "relative",
                "legend": {
                  "tracegroupgap": 0
                },
                "template": {
                  "data": {
                    "bar": [
                      {
                        "error_x": {
                          "color": "#2a3f5f"
                        },
                        "error_y": {
                          "color": "#2a3f5f"
                        },
                        "marker": {
                          "line": {
                            "color": "#E5ECF6",
                            "width": 0.5
                          },
                          "pattern": {
                            "fillmode": "overlay",
                            "size": 10,
                            "solidity": 0.2
                          }
                        },
                        "type": "bar"
                      }
                    ],
                    "barpolar": [
                      {
                        "marker": {
                          "line": {
                            "color": "#E5ECF6",
                            "width": 0.5
                          },
                          "pattern": {
                            "fillmode": "overlay",
                            "size": 10,
                            "solidity": 0.2
                          }
                        },
                        "type": "barpolar"
                      }
                    ],
                    "carpet": [
                      {
                        "aaxis": {
                          "endlinecolor": "#2a3f5f",
                          "gridcolor": "white",
                          "linecolor": "white",
                          "minorgridcolor": "white",
                          "startlinecolor": "#2a3f5f"
                        },
                        "baxis": {
                          "endlinecolor": "#2a3f5f",
                          "gridcolor": "white",
                          "linecolor": "white",
                          "minorgridcolor": "white",
                          "startlinecolor": "#2a3f5f"
                        },
                        "type": "carpet"
                      }
                    ],
                    "choropleth": [
                      {
                        "colorbar": {
                          "outlinewidth": 0,
                          "ticks": ""
                        },
                        "type": "choropleth"
                      }
                    ],
                    "contour": [
                      {
                        "colorbar": {
                          "outlinewidth": 0,
                          "ticks": ""
                        },
                        "colorscale": [
                          [
                            0,
                            "#0d0887"
                          ],
                          [
                            0.1111111111111111,
                            "#46039f"
                          ],
                          [
                            0.2222222222222222,
                            "#7201a8"
                          ],
                          [
                            0.3333333333333333,
                            "#9c179e"
                          ],
                          [
                            0.4444444444444444,
                            "#bd3786"
                          ],
                          [
                            0.5555555555555556,
                            "#d8576b"
                          ],
                          [
                            0.6666666666666666,
                            "#ed7953"
                          ],
                          [
                            0.7777777777777778,
                            "#fb9f3a"
                          ],
                          [
                            0.8888888888888888,
                            "#fdca26"
                          ],
                          [
                            1,
                            "#f0f921"
                          ]
                        ],
                        "type": "contour"
                      }
                    ],
                    "contourcarpet": [
                      {
                        "colorbar": {
                          "outlinewidth": 0,
                          "ticks": ""
                        },
                        "type": "contourcarpet"
                      }
                    ],
                    "heatmap": [
                      {
                        "colorbar": {
                          "outlinewidth": 0,
                          "ticks": ""
                        },
                        "colorscale": [
                          [
                            0,
                            "#0d0887"
                          ],
                          [
                            0.1111111111111111,
                            "#46039f"
                          ],
                          [
                            0.2222222222222222,
                            "#7201a8"
                          ],
                          [
                            0.3333333333333333,
                            "#9c179e"
                          ],
                          [
                            0.4444444444444444,
                            "#bd3786"
                          ],
                          [
                            0.5555555555555556,
                            "#d8576b"
                          ],
                          [
                            0.6666666666666666,
                            "#ed7953"
                          ],
                          [
                            0.7777777777777778,
                            "#fb9f3a"
                          ],
                          [
                            0.8888888888888888,
                            "#fdca26"
                          ],
                          [
                            1,
                            "#f0f921"
                          ]
                        ],
                        "type": "heatmap"
                      }
                    ],
                    "heatmapgl": [
                      {
                        "colorbar": {
                          "outlinewidth": 0,
                          "ticks": ""
                        },
                        "colorscale": [
                          [
                            0,
                            "#0d0887"
                          ],
                          [
                            0.1111111111111111,
                            "#46039f"
                          ],
                          [
                            0.2222222222222222,
                            "#7201a8"
                          ],
                          [
                            0.3333333333333333,
                            "#9c179e"
                          ],
                          [
                            0.4444444444444444,
                            "#bd3786"
                          ],
                          [
                            0.5555555555555556,
                            "#d8576b"
                          ],
                          [
                            0.6666666666666666,
                            "#ed7953"
                          ],
                          [
                            0.7777777777777778,
                            "#fb9f3a"
                          ],
                          [
                            0.8888888888888888,
                            "#fdca26"
                          ],
                          [
                            1,
                            "#f0f921"
                          ]
                        ],
                        "type": "heatmapgl"
                      }
                    ],
                    "histogram": [
                      {
                        "marker": {
                          "pattern": {
                            "fillmode": "overlay",
                            "size": 10,
                            "solidity": 0.2
                          }
                        },
                        "type": "histogram"
                      }
                    ],
                    "histogram2d": [
                      {
                        "colorbar": {
                          "outlinewidth": 0,
                          "ticks": ""
                        },
                        "colorscale": [
                          [
                            0,
                            "#0d0887"
                          ],
                          [
                            0.1111111111111111,
                            "#46039f"
                          ],
                          [
                            0.2222222222222222,
                            "#7201a8"
                          ],
                          [
                            0.3333333333333333,
                            "#9c179e"
                          ],
                          [
                            0.4444444444444444,
                            "#bd3786"
                          ],
                          [
                            0.5555555555555556,
                            "#d8576b"
                          ],
                          [
                            0.6666666666666666,
                            "#ed7953"
                          ],
                          [
                            0.7777777777777778,
                            "#fb9f3a"
                          ],
                          [
                            0.8888888888888888,
                            "#fdca26"
                          ],
                          [
                            1,
                            "#f0f921"
                          ]
                        ],
                        "type": "histogram2d"
                      }
                    ],
                    "histogram2dcontour": [
                      {
                        "colorbar": {
                          "outlinewidth": 0,
                          "ticks": ""
                        },
                        "colorscale": [
                          [
                            0,
                            "#0d0887"
                          ],
                          [
                            0.1111111111111111,
                            "#46039f"
                          ],
                          [
                            0.2222222222222222,
                            "#7201a8"
                          ],
                          [
                            0.3333333333333333,
                            "#9c179e"
                          ],
                          [
                            0.4444444444444444,
                            "#bd3786"
                          ],
                          [
                            0.5555555555555556,
                            "#d8576b"
                          ],
                          [
                            0.6666666666666666,
                            "#ed7953"
                          ],
                          [
                            0.7777777777777778,
                            "#fb9f3a"
                          ],
                          [
                            0.8888888888888888,
                            "#fdca26"
                          ],
                          [
                            1,
                            "#f0f921"
                          ]
                        ],
                        "type": "histogram2dcontour"
                      }
                    ],
                    "mesh3d": [
                      {
                        "colorbar": {
                          "outlinewidth": 0,
                          "ticks": ""
                        },
                        "type": "mesh3d"
                      }
                    ],
                    "parcoords": [
                      {
                        "line": {
                          "colorbar": {
                            "outlinewidth": 0,
                            "ticks": ""
                          }
                        },
                        "type": "parcoords"
                      }
                    ],
                    "pie": [
                      {
                        "automargin": true,
                        "type": "pie"
                      }
                    ],
                    "scatter": [
                      {
                        "fillpattern": {
                          "fillmode": "overlay",
                          "size": 10,
                          "solidity": 0.2
                        },
                        "type": "scatter"
                      }
                    ],
                    "scatter3d": [
                      {
                        "line": {
                          "colorbar": {
                            "outlinewidth": 0,
                            "ticks": ""
                          }
                        },
                        "marker": {
                          "colorbar": {
                            "outlinewidth": 0,
                            "ticks": ""
                          }
                        },
                        "type": "scatter3d"
                      }
                    ],
                    "scattercarpet": [
                      {
                        "marker": {
                          "colorbar": {
                            "outlinewidth": 0,
                            "ticks": ""
                          }
                        },
                        "type": "scattercarpet"
                      }
                    ],
                    "scattergeo": [
                      {
                        "marker": {
                          "colorbar": {
                            "outlinewidth": 0,
                            "ticks": ""
                          }
                        },
                        "type": "scattergeo"
                      }
                    ],
                    "scattergl": [
                      {
                        "marker": {
                          "colorbar": {
                            "outlinewidth": 0,
                            "ticks": ""
                          }
                        },
                        "type": "scattergl"
                      }
                    ],
                    "scattermapbox": [
                      {
                        "marker": {
                          "colorbar": {
                            "outlinewidth": 0,
                            "ticks": ""
                          }
                        },
                        "type": "scattermapbox"
                      }
                    ],
                    "scatterpolar": [
                      {
                        "marker": {
                          "colorbar": {
                            "outlinewidth": 0,
                            "ticks": ""
                          }
                        },
                        "type": "scatterpolar"
                      }
                    ],
                    "scatterpolargl": [
                      {
                        "marker": {
                          "colorbar": {
                            "outlinewidth": 0,
                            "ticks": ""
                          }
                        },
                        "type": "scatterpolargl"
                      }
                    ],
                    "scatterternary": [
                      {
                        "marker": {
                          "colorbar": {
                            "outlinewidth": 0,
                            "ticks": ""
                          }
                        },
                        "type": "scatterternary"
                      }
                    ],
                    "surface": [
                      {
                        "colorbar": {
                          "outlinewidth": 0,
                          "ticks": ""
                        },
                        "colorscale": [
                          [
                            0,
                            "#0d0887"
                          ],
                          [
                            0.1111111111111111,
                            "#46039f"
                          ],
                          [
                            0.2222222222222222,
                            "#7201a8"
                          ],
                          [
                            0.3333333333333333,
                            "#9c179e"
                          ],
                          [
                            0.4444444444444444,
                            "#bd3786"
                          ],
                          [
                            0.5555555555555556,
                            "#d8576b"
                          ],
                          [
                            0.6666666666666666,
                            "#ed7953"
                          ],
                          [
                            0.7777777777777778,
                            "#fb9f3a"
                          ],
                          [
                            0.8888888888888888,
                            "#fdca26"
                          ],
                          [
                            1,
                            "#f0f921"
                          ]
                        ],
                        "type": "surface"
                      }
                    ],
                    "table": [
                      {
                        "cells": {
                          "fill": {
                            "color": "#EBF0F8"
                          },
                          "line": {
                            "color": "white"
                          }
                        },
                        "header": {
                          "fill": {
                            "color": "#C8D4E3"
                          },
                          "line": {
                            "color": "white"
                          }
                        },
                        "type": "table"
                      }
                    ]
                  },
                  "layout": {
                    "annotationdefaults": {
                      "arrowcolor": "#2a3f5f",
                      "arrowhead": 0,
                      "arrowwidth": 1
                    },
                    "autotypenumbers": "strict",
                    "coloraxis": {
                      "colorbar": {
                        "outlinewidth": 0,
                        "ticks": ""
                      }
                    },
                    "colorscale": {
                      "diverging": [
                        [
                          0,
                          "#8e0152"
                        ],
                        [
                          0.1,
                          "#c51b7d"
                        ],
                        [
                          0.2,
                          "#de77ae"
                        ],
                        [
                          0.3,
                          "#f1b6da"
                        ],
                        [
                          0.4,
                          "#fde0ef"
                        ],
                        [
                          0.5,
                          "#f7f7f7"
                        ],
                        [
                          0.6,
                          "#e6f5d0"
                        ],
                        [
                          0.7,
                          "#b8e186"
                        ],
                        [
                          0.8,
                          "#7fbc41"
                        ],
                        [
                          0.9,
                          "#4d9221"
                        ],
                        [
                          1,
                          "#276419"
                        ]
                      ],
                      "sequential": [
                        [
                          0,
                          "#0d0887"
                        ],
                        [
                          0.1111111111111111,
                          "#46039f"
                        ],
                        [
                          0.2222222222222222,
                          "#7201a8"
                        ],
                        [
                          0.3333333333333333,
                          "#9c179e"
                        ],
                        [
                          0.4444444444444444,
                          "#bd3786"
                        ],
                        [
                          0.5555555555555556,
                          "#d8576b"
                        ],
                        [
                          0.6666666666666666,
                          "#ed7953"
                        ],
                        [
                          0.7777777777777778,
                          "#fb9f3a"
                        ],
                        [
                          0.8888888888888888,
                          "#fdca26"
                        ],
                        [
                          1,
                          "#f0f921"
                        ]
                      ],
                      "sequentialminus": [
                        [
                          0,
                          "#0d0887"
                        ],
                        [
                          0.1111111111111111,
                          "#46039f"
                        ],
                        [
                          0.2222222222222222,
                          "#7201a8"
                        ],
                        [
                          0.3333333333333333,
                          "#9c179e"
                        ],
                        [
                          0.4444444444444444,
                          "#bd3786"
                        ],
                        [
                          0.5555555555555556,
                          "#d8576b"
                        ],
                        [
                          0.6666666666666666,
                          "#ed7953"
                        ],
                        [
                          0.7777777777777778,
                          "#fb9f3a"
                        ],
                        [
                          0.8888888888888888,
                          "#fdca26"
                        ],
                        [
                          1,
                          "#f0f921"
                        ]
                      ]
                    },
                    "colorway": [
                      "#636efa",
                      "#EF553B",
                      "#00cc96",
                      "#ab63fa",
                      "#FFA15A",
                      "#19d3f3",
                      "#FF6692",
                      "#B6E880",
                      "#FF97FF",
                      "#FECB52"
                    ],
                    "font": {
                      "color": "#2a3f5f"
                    },
                    "geo": {
                      "bgcolor": "white",
                      "lakecolor": "white",
                      "landcolor": "#E5ECF6",
                      "showlakes": true,
                      "showland": true,
                      "subunitcolor": "white"
                    },
                    "hoverlabel": {
                      "align": "left"
                    },
                    "hovermode": "closest",
                    "mapbox": {
                      "style": "light"
                    },
                    "paper_bgcolor": "white",
                    "plot_bgcolor": "#E5ECF6",
                    "polar": {
                      "angularaxis": {
                        "gridcolor": "white",
                        "linecolor": "white",
                        "ticks": ""
                      },
                      "bgcolor": "#E5ECF6",
                      "radialaxis": {
                        "gridcolor": "white",
                        "linecolor": "white",
                        "ticks": ""
                      }
                    },
                    "scene": {
                      "xaxis": {
                        "backgroundcolor": "#E5ECF6",
                        "gridcolor": "white",
                        "gridwidth": 2,
                        "linecolor": "white",
                        "showbackground": true,
                        "ticks": "",
                        "zerolinecolor": "white"
                      },
                      "yaxis": {
                        "backgroundcolor": "#E5ECF6",
                        "gridcolor": "white",
                        "gridwidth": 2,
                        "linecolor": "white",
                        "showbackground": true,
                        "ticks": "",
                        "zerolinecolor": "white"
                      },
                      "zaxis": {
                        "backgroundcolor": "#E5ECF6",
                        "gridcolor": "white",
                        "gridwidth": 2,
                        "linecolor": "white",
                        "showbackground": true,
                        "ticks": "",
                        "zerolinecolor": "white"
                      }
                    },
                    "shapedefaults": {
                      "line": {
                        "color": "#2a3f5f"
                      }
                    },
                    "ternary": {
                      "aaxis": {
                        "gridcolor": "white",
                        "linecolor": "white",
                        "ticks": ""
                      },
                      "baxis": {
                        "gridcolor": "white",
                        "linecolor": "white",
                        "ticks": ""
                      },
                      "bgcolor": "#E5ECF6",
                      "caxis": {
                        "gridcolor": "white",
                        "linecolor": "white",
                        "ticks": ""
                      }
                    },
                    "title": {
                      "x": 0.05
                    },
                    "xaxis": {
                      "automargin": true,
                      "gridcolor": "white",
                      "linecolor": "white",
                      "ticks": "",
                      "title": {
                        "standoff": 15
                      },
                      "zerolinecolor": "white",
                      "zerolinewidth": 2
                    },
                    "yaxis": {
                      "automargin": true,
                      "gridcolor": "white",
                      "linecolor": "white",
                      "ticks": "",
                      "title": {
                        "standoff": 15
                      },
                      "zerolinecolor": "white",
                      "zerolinewidth": 2
                    }
                  }
                },
                "title": {
                  "text": "sodium"
                },
                "xaxis": {
                  "anchor": "y",
                  "domain": [
                    0,
                    1
                  ],
                  "title": {
                    "text": "sodium"
                  }
                },
                "yaxis": {
                  "anchor": "x",
                  "domain": [
                    0,
                    1
                  ],
                  "title": {
                    "text": "count"
                  }
                }
              }
            }
          },
          "metadata": {},
          "output_type": "display_data"
        },
        {
          "data": {
            "application/vnd.plotly.v1+json": {
              "config": {
                "plotlyServerURL": "https://plot.ly"
              },
              "data": [
                {
                  "alignmentgroup": "True",
                  "bingroup": "x",
                  "hovertemplate": "total_carb=%{x}<br>count=%{y}<extra></extra>",
                  "legendgroup": "",
                  "marker": {
                    "color": "#636efa",
                    "pattern": {
                      "shape": ""
                    }
                  },
                  "name": "",
                  "offsetgroup": "",
                  "orientation": "v",
                  "showlegend": false,
                  "type": "histogram",
                  "x": [
                    44,
                    62,
                    63,
                    62,
                    81,
                    46,
                    33,
                    49,
                    35,
                    42,
                    38,
                    48,
                    48,
                    67,
                    31,
                    35,
                    40,
                    50,
                    69,
                    40,
                    34,
                    45,
                    41,
                    50,
                    69,
                    64,
                    59,
                    41,
                    56,
                    56,
                    75,
                    51,
                    61,
                    80,
                    16,
                    21,
                    32,
                    52,
                    64,
                    103,
                    11,
                    16,
                    26,
                    53,
                    105,
                    63,
                    94,
                    156,
                    13,
                    18,
                    28,
                    9,
                    9,
                    28,
                    26,
                    27,
                    46,
                    37,
                    36,
                    26,
                    6,
                    13,
                    22,
                    29,
                    42,
                    5,
                    7,
                    9,
                    14,
                    35,
                    55,
                    40,
                    1,
                    2,
                    2,
                    3,
                    47,
                    48,
                    46,
                    41,
                    43,
                    29,
                    70,
                    65,
                    44,
                    42,
                    34,
                    32,
                    32,
                    33,
                    35,
                    45,
                    43,
                    46,
                    44,
                    43,
                    47,
                    44,
                    44,
                    44,
                    47,
                    45,
                    43,
                    67,
                    64,
                    64,
                    44,
                    53,
                    33,
                    47,
                    43,
                    16,
                    26,
                    63,
                    70,
                    69,
                    27,
                    41,
                    30,
                    51,
                    109,
                    118,
                    126,
                    25,
                    34,
                    42,
                    62,
                    65,
                    40,
                    49,
                    30,
                    30,
                    27,
                    46,
                    23,
                    54,
                    27,
                    40,
                    58,
                    45,
                    48,
                    51,
                    66,
                    66,
                    53,
                    56,
                    53,
                    52,
                    50,
                    37,
                    38,
                    46,
                    37,
                    55,
                    48,
                    51,
                    38,
                    37,
                    49,
                    53,
                    81,
                    19,
                    28,
                    47,
                    62,
                    48,
                    79,
                    39,
                    79,
                    39,
                    62,
                    59,
                    42,
                    45,
                    44,
                    83,
                    80,
                    48,
                    80,
                    31,
                    30,
                    21,
                    21,
                    21,
                    23,
                    21,
                    21,
                    4,
                    26,
                    11,
                    8,
                    39,
                    21,
                    48,
                    32,
                    28,
                    48,
                    63,
                    51,
                    28,
                    33,
                    29,
                    28,
                    50,
                    45,
                    62,
                    28,
                    48,
                    46,
                    45,
                    38,
                    69,
                    52,
                    52,
                    59,
                    47,
                    51,
                    53,
                    49,
                    53,
                    28,
                    29,
                    18,
                    32,
                    17,
                    31,
                    26,
                    40,
                    40,
                    54,
                    16,
                    30,
                    7,
                    7,
                    57,
                    44,
                    54,
                    44,
                    42,
                    63,
                    18,
                    10,
                    15,
                    50,
                    34,
                    57,
                    56,
                    34,
                    54,
                    39,
                    28,
                    32,
                    19,
                    46,
                    21,
                    53,
                    62,
                    11,
                    28,
                    35,
                    57,
                    58,
                    40,
                    44,
                    44,
                    44,
                    39,
                    34,
                    34,
                    105,
                    121,
                    26,
                    26,
                    23,
                    24,
                    22,
                    30,
                    41,
                    36,
                    0,
                    52,
                    48,
                    26,
                    53,
                    35,
                    35,
                    34,
                    34,
                    34,
                    48,
                    95,
                    22,
                    45,
                    68,
                    25,
                    24,
                    59,
                    30,
                    11,
                    10,
                    32,
                    22,
                    5,
                    45,
                    43,
                    86,
                    47,
                    94,
                    47,
                    94,
                    51,
                    102,
                    30,
                    46,
                    92,
                    45,
                    90,
                    46,
                    92,
                    47,
                    94,
                    49,
                    98,
                    46,
                    92,
                    45,
                    90,
                    46,
                    92,
                    47,
                    94,
                    59,
                    118,
                    47,
                    44,
                    30,
                    45,
                    90,
                    44,
                    88,
                    46,
                    92,
                    48,
                    96,
                    46,
                    92,
                    47,
                    94,
                    51,
                    102,
                    59,
                    118,
                    44,
                    88,
                    49,
                    98,
                    30,
                    46,
                    92,
                    46,
                    92,
                    47,
                    94,
                    29,
                    44,
                    88,
                    56,
                    112,
                    26,
                    10,
                    12,
                    17,
                    11,
                    13,
                    11,
                    8,
                    14,
                    12,
                    10,
                    12,
                    13,
                    25,
                    10,
                    10,
                    11,
                    14,
                    11,
                    13,
                    24,
                    10,
                    11,
                    11,
                    9,
                    65,
                    53,
                    62,
                    100,
                    96,
                    96,
                    97,
                    59,
                    53,
                    68,
                    56,
                    68,
                    55,
                    62,
                    53,
                    52,
                    52,
                    96,
                    98,
                    107,
                    55,
                    41,
                    74,
                    75,
                    76,
                    52,
                    64,
                    64,
                    65,
                    45,
                    70,
                    67,
                    68,
                    66,
                    66,
                    68,
                    50,
                    94,
                    91,
                    91,
                    18,
                    36,
                    13,
                    15,
                    12,
                    15,
                    37,
                    40,
                    32,
                    30,
                    39,
                    36,
                    12,
                    15,
                    19,
                    36,
                    13,
                    15,
                    22,
                    19,
                    28,
                    29,
                    29,
                    31,
                    50,
                    23,
                    22,
                    52,
                    57,
                    50,
                    50,
                    18,
                    13,
                    19,
                    20,
                    39,
                    40,
                    40,
                    40,
                    44,
                    31,
                    29,
                    29,
                    73,
                    82,
                    44,
                    41,
                    19,
                    46,
                    17,
                    49,
                    43,
                    64,
                    66,
                    75,
                    40,
                    18,
                    41,
                    53,
                    41,
                    22,
                    51,
                    71,
                    32,
                    59,
                    55,
                    47,
                    21,
                    36,
                    37,
                    38,
                    15,
                    42,
                    22,
                    39,
                    41,
                    85,
                    87,
                    59,
                    74,
                    70,
                    70
                  ],
                  "xaxis": "x",
                  "yaxis": "y"
                }
              ],
              "layout": {
                "barmode": "relative",
                "legend": {
                  "tracegroupgap": 0
                },
                "template": {
                  "data": {
                    "bar": [
                      {
                        "error_x": {
                          "color": "#2a3f5f"
                        },
                        "error_y": {
                          "color": "#2a3f5f"
                        },
                        "marker": {
                          "line": {
                            "color": "#E5ECF6",
                            "width": 0.5
                          },
                          "pattern": {
                            "fillmode": "overlay",
                            "size": 10,
                            "solidity": 0.2
                          }
                        },
                        "type": "bar"
                      }
                    ],
                    "barpolar": [
                      {
                        "marker": {
                          "line": {
                            "color": "#E5ECF6",
                            "width": 0.5
                          },
                          "pattern": {
                            "fillmode": "overlay",
                            "size": 10,
                            "solidity": 0.2
                          }
                        },
                        "type": "barpolar"
                      }
                    ],
                    "carpet": [
                      {
                        "aaxis": {
                          "endlinecolor": "#2a3f5f",
                          "gridcolor": "white",
                          "linecolor": "white",
                          "minorgridcolor": "white",
                          "startlinecolor": "#2a3f5f"
                        },
                        "baxis": {
                          "endlinecolor": "#2a3f5f",
                          "gridcolor": "white",
                          "linecolor": "white",
                          "minorgridcolor": "white",
                          "startlinecolor": "#2a3f5f"
                        },
                        "type": "carpet"
                      }
                    ],
                    "choropleth": [
                      {
                        "colorbar": {
                          "outlinewidth": 0,
                          "ticks": ""
                        },
                        "type": "choropleth"
                      }
                    ],
                    "contour": [
                      {
                        "colorbar": {
                          "outlinewidth": 0,
                          "ticks": ""
                        },
                        "colorscale": [
                          [
                            0,
                            "#0d0887"
                          ],
                          [
                            0.1111111111111111,
                            "#46039f"
                          ],
                          [
                            0.2222222222222222,
                            "#7201a8"
                          ],
                          [
                            0.3333333333333333,
                            "#9c179e"
                          ],
                          [
                            0.4444444444444444,
                            "#bd3786"
                          ],
                          [
                            0.5555555555555556,
                            "#d8576b"
                          ],
                          [
                            0.6666666666666666,
                            "#ed7953"
                          ],
                          [
                            0.7777777777777778,
                            "#fb9f3a"
                          ],
                          [
                            0.8888888888888888,
                            "#fdca26"
                          ],
                          [
                            1,
                            "#f0f921"
                          ]
                        ],
                        "type": "contour"
                      }
                    ],
                    "contourcarpet": [
                      {
                        "colorbar": {
                          "outlinewidth": 0,
                          "ticks": ""
                        },
                        "type": "contourcarpet"
                      }
                    ],
                    "heatmap": [
                      {
                        "colorbar": {
                          "outlinewidth": 0,
                          "ticks": ""
                        },
                        "colorscale": [
                          [
                            0,
                            "#0d0887"
                          ],
                          [
                            0.1111111111111111,
                            "#46039f"
                          ],
                          [
                            0.2222222222222222,
                            "#7201a8"
                          ],
                          [
                            0.3333333333333333,
                            "#9c179e"
                          ],
                          [
                            0.4444444444444444,
                            "#bd3786"
                          ],
                          [
                            0.5555555555555556,
                            "#d8576b"
                          ],
                          [
                            0.6666666666666666,
                            "#ed7953"
                          ],
                          [
                            0.7777777777777778,
                            "#fb9f3a"
                          ],
                          [
                            0.8888888888888888,
                            "#fdca26"
                          ],
                          [
                            1,
                            "#f0f921"
                          ]
                        ],
                        "type": "heatmap"
                      }
                    ],
                    "heatmapgl": [
                      {
                        "colorbar": {
                          "outlinewidth": 0,
                          "ticks": ""
                        },
                        "colorscale": [
                          [
                            0,
                            "#0d0887"
                          ],
                          [
                            0.1111111111111111,
                            "#46039f"
                          ],
                          [
                            0.2222222222222222,
                            "#7201a8"
                          ],
                          [
                            0.3333333333333333,
                            "#9c179e"
                          ],
                          [
                            0.4444444444444444,
                            "#bd3786"
                          ],
                          [
                            0.5555555555555556,
                            "#d8576b"
                          ],
                          [
                            0.6666666666666666,
                            "#ed7953"
                          ],
                          [
                            0.7777777777777778,
                            "#fb9f3a"
                          ],
                          [
                            0.8888888888888888,
                            "#fdca26"
                          ],
                          [
                            1,
                            "#f0f921"
                          ]
                        ],
                        "type": "heatmapgl"
                      }
                    ],
                    "histogram": [
                      {
                        "marker": {
                          "pattern": {
                            "fillmode": "overlay",
                            "size": 10,
                            "solidity": 0.2
                          }
                        },
                        "type": "histogram"
                      }
                    ],
                    "histogram2d": [
                      {
                        "colorbar": {
                          "outlinewidth": 0,
                          "ticks": ""
                        },
                        "colorscale": [
                          [
                            0,
                            "#0d0887"
                          ],
                          [
                            0.1111111111111111,
                            "#46039f"
                          ],
                          [
                            0.2222222222222222,
                            "#7201a8"
                          ],
                          [
                            0.3333333333333333,
                            "#9c179e"
                          ],
                          [
                            0.4444444444444444,
                            "#bd3786"
                          ],
                          [
                            0.5555555555555556,
                            "#d8576b"
                          ],
                          [
                            0.6666666666666666,
                            "#ed7953"
                          ],
                          [
                            0.7777777777777778,
                            "#fb9f3a"
                          ],
                          [
                            0.8888888888888888,
                            "#fdca26"
                          ],
                          [
                            1,
                            "#f0f921"
                          ]
                        ],
                        "type": "histogram2d"
                      }
                    ],
                    "histogram2dcontour": [
                      {
                        "colorbar": {
                          "outlinewidth": 0,
                          "ticks": ""
                        },
                        "colorscale": [
                          [
                            0,
                            "#0d0887"
                          ],
                          [
                            0.1111111111111111,
                            "#46039f"
                          ],
                          [
                            0.2222222222222222,
                            "#7201a8"
                          ],
                          [
                            0.3333333333333333,
                            "#9c179e"
                          ],
                          [
                            0.4444444444444444,
                            "#bd3786"
                          ],
                          [
                            0.5555555555555556,
                            "#d8576b"
                          ],
                          [
                            0.6666666666666666,
                            "#ed7953"
                          ],
                          [
                            0.7777777777777778,
                            "#fb9f3a"
                          ],
                          [
                            0.8888888888888888,
                            "#fdca26"
                          ],
                          [
                            1,
                            "#f0f921"
                          ]
                        ],
                        "type": "histogram2dcontour"
                      }
                    ],
                    "mesh3d": [
                      {
                        "colorbar": {
                          "outlinewidth": 0,
                          "ticks": ""
                        },
                        "type": "mesh3d"
                      }
                    ],
                    "parcoords": [
                      {
                        "line": {
                          "colorbar": {
                            "outlinewidth": 0,
                            "ticks": ""
                          }
                        },
                        "type": "parcoords"
                      }
                    ],
                    "pie": [
                      {
                        "automargin": true,
                        "type": "pie"
                      }
                    ],
                    "scatter": [
                      {
                        "fillpattern": {
                          "fillmode": "overlay",
                          "size": 10,
                          "solidity": 0.2
                        },
                        "type": "scatter"
                      }
                    ],
                    "scatter3d": [
                      {
                        "line": {
                          "colorbar": {
                            "outlinewidth": 0,
                            "ticks": ""
                          }
                        },
                        "marker": {
                          "colorbar": {
                            "outlinewidth": 0,
                            "ticks": ""
                          }
                        },
                        "type": "scatter3d"
                      }
                    ],
                    "scattercarpet": [
                      {
                        "marker": {
                          "colorbar": {
                            "outlinewidth": 0,
                            "ticks": ""
                          }
                        },
                        "type": "scattercarpet"
                      }
                    ],
                    "scattergeo": [
                      {
                        "marker": {
                          "colorbar": {
                            "outlinewidth": 0,
                            "ticks": ""
                          }
                        },
                        "type": "scattergeo"
                      }
                    ],
                    "scattergl": [
                      {
                        "marker": {
                          "colorbar": {
                            "outlinewidth": 0,
                            "ticks": ""
                          }
                        },
                        "type": "scattergl"
                      }
                    ],
                    "scattermapbox": [
                      {
                        "marker": {
                          "colorbar": {
                            "outlinewidth": 0,
                            "ticks": ""
                          }
                        },
                        "type": "scattermapbox"
                      }
                    ],
                    "scatterpolar": [
                      {
                        "marker": {
                          "colorbar": {
                            "outlinewidth": 0,
                            "ticks": ""
                          }
                        },
                        "type": "scatterpolar"
                      }
                    ],
                    "scatterpolargl": [
                      {
                        "marker": {
                          "colorbar": {
                            "outlinewidth": 0,
                            "ticks": ""
                          }
                        },
                        "type": "scatterpolargl"
                      }
                    ],
                    "scatterternary": [
                      {
                        "marker": {
                          "colorbar": {
                            "outlinewidth": 0,
                            "ticks": ""
                          }
                        },
                        "type": "scatterternary"
                      }
                    ],
                    "surface": [
                      {
                        "colorbar": {
                          "outlinewidth": 0,
                          "ticks": ""
                        },
                        "colorscale": [
                          [
                            0,
                            "#0d0887"
                          ],
                          [
                            0.1111111111111111,
                            "#46039f"
                          ],
                          [
                            0.2222222222222222,
                            "#7201a8"
                          ],
                          [
                            0.3333333333333333,
                            "#9c179e"
                          ],
                          [
                            0.4444444444444444,
                            "#bd3786"
                          ],
                          [
                            0.5555555555555556,
                            "#d8576b"
                          ],
                          [
                            0.6666666666666666,
                            "#ed7953"
                          ],
                          [
                            0.7777777777777778,
                            "#fb9f3a"
                          ],
                          [
                            0.8888888888888888,
                            "#fdca26"
                          ],
                          [
                            1,
                            "#f0f921"
                          ]
                        ],
                        "type": "surface"
                      }
                    ],
                    "table": [
                      {
                        "cells": {
                          "fill": {
                            "color": "#EBF0F8"
                          },
                          "line": {
                            "color": "white"
                          }
                        },
                        "header": {
                          "fill": {
                            "color": "#C8D4E3"
                          },
                          "line": {
                            "color": "white"
                          }
                        },
                        "type": "table"
                      }
                    ]
                  },
                  "layout": {
                    "annotationdefaults": {
                      "arrowcolor": "#2a3f5f",
                      "arrowhead": 0,
                      "arrowwidth": 1
                    },
                    "autotypenumbers": "strict",
                    "coloraxis": {
                      "colorbar": {
                        "outlinewidth": 0,
                        "ticks": ""
                      }
                    },
                    "colorscale": {
                      "diverging": [
                        [
                          0,
                          "#8e0152"
                        ],
                        [
                          0.1,
                          "#c51b7d"
                        ],
                        [
                          0.2,
                          "#de77ae"
                        ],
                        [
                          0.3,
                          "#f1b6da"
                        ],
                        [
                          0.4,
                          "#fde0ef"
                        ],
                        [
                          0.5,
                          "#f7f7f7"
                        ],
                        [
                          0.6,
                          "#e6f5d0"
                        ],
                        [
                          0.7,
                          "#b8e186"
                        ],
                        [
                          0.8,
                          "#7fbc41"
                        ],
                        [
                          0.9,
                          "#4d9221"
                        ],
                        [
                          1,
                          "#276419"
                        ]
                      ],
                      "sequential": [
                        [
                          0,
                          "#0d0887"
                        ],
                        [
                          0.1111111111111111,
                          "#46039f"
                        ],
                        [
                          0.2222222222222222,
                          "#7201a8"
                        ],
                        [
                          0.3333333333333333,
                          "#9c179e"
                        ],
                        [
                          0.4444444444444444,
                          "#bd3786"
                        ],
                        [
                          0.5555555555555556,
                          "#d8576b"
                        ],
                        [
                          0.6666666666666666,
                          "#ed7953"
                        ],
                        [
                          0.7777777777777778,
                          "#fb9f3a"
                        ],
                        [
                          0.8888888888888888,
                          "#fdca26"
                        ],
                        [
                          1,
                          "#f0f921"
                        ]
                      ],
                      "sequentialminus": [
                        [
                          0,
                          "#0d0887"
                        ],
                        [
                          0.1111111111111111,
                          "#46039f"
                        ],
                        [
                          0.2222222222222222,
                          "#7201a8"
                        ],
                        [
                          0.3333333333333333,
                          "#9c179e"
                        ],
                        [
                          0.4444444444444444,
                          "#bd3786"
                        ],
                        [
                          0.5555555555555556,
                          "#d8576b"
                        ],
                        [
                          0.6666666666666666,
                          "#ed7953"
                        ],
                        [
                          0.7777777777777778,
                          "#fb9f3a"
                        ],
                        [
                          0.8888888888888888,
                          "#fdca26"
                        ],
                        [
                          1,
                          "#f0f921"
                        ]
                      ]
                    },
                    "colorway": [
                      "#636efa",
                      "#EF553B",
                      "#00cc96",
                      "#ab63fa",
                      "#FFA15A",
                      "#19d3f3",
                      "#FF6692",
                      "#B6E880",
                      "#FF97FF",
                      "#FECB52"
                    ],
                    "font": {
                      "color": "#2a3f5f"
                    },
                    "geo": {
                      "bgcolor": "white",
                      "lakecolor": "white",
                      "landcolor": "#E5ECF6",
                      "showlakes": true,
                      "showland": true,
                      "subunitcolor": "white"
                    },
                    "hoverlabel": {
                      "align": "left"
                    },
                    "hovermode": "closest",
                    "mapbox": {
                      "style": "light"
                    },
                    "paper_bgcolor": "white",
                    "plot_bgcolor": "#E5ECF6",
                    "polar": {
                      "angularaxis": {
                        "gridcolor": "white",
                        "linecolor": "white",
                        "ticks": ""
                      },
                      "bgcolor": "#E5ECF6",
                      "radialaxis": {
                        "gridcolor": "white",
                        "linecolor": "white",
                        "ticks": ""
                      }
                    },
                    "scene": {
                      "xaxis": {
                        "backgroundcolor": "#E5ECF6",
                        "gridcolor": "white",
                        "gridwidth": 2,
                        "linecolor": "white",
                        "showbackground": true,
                        "ticks": "",
                        "zerolinecolor": "white"
                      },
                      "yaxis": {
                        "backgroundcolor": "#E5ECF6",
                        "gridcolor": "white",
                        "gridwidth": 2,
                        "linecolor": "white",
                        "showbackground": true,
                        "ticks": "",
                        "zerolinecolor": "white"
                      },
                      "zaxis": {
                        "backgroundcolor": "#E5ECF6",
                        "gridcolor": "white",
                        "gridwidth": 2,
                        "linecolor": "white",
                        "showbackground": true,
                        "ticks": "",
                        "zerolinecolor": "white"
                      }
                    },
                    "shapedefaults": {
                      "line": {
                        "color": "#2a3f5f"
                      }
                    },
                    "ternary": {
                      "aaxis": {
                        "gridcolor": "white",
                        "linecolor": "white",
                        "ticks": ""
                      },
                      "baxis": {
                        "gridcolor": "white",
                        "linecolor": "white",
                        "ticks": ""
                      },
                      "bgcolor": "#E5ECF6",
                      "caxis": {
                        "gridcolor": "white",
                        "linecolor": "white",
                        "ticks": ""
                      }
                    },
                    "title": {
                      "x": 0.05
                    },
                    "xaxis": {
                      "automargin": true,
                      "gridcolor": "white",
                      "linecolor": "white",
                      "ticks": "",
                      "title": {
                        "standoff": 15
                      },
                      "zerolinecolor": "white",
                      "zerolinewidth": 2
                    },
                    "yaxis": {
                      "automargin": true,
                      "gridcolor": "white",
                      "linecolor": "white",
                      "ticks": "",
                      "title": {
                        "standoff": 15
                      },
                      "zerolinecolor": "white",
                      "zerolinewidth": 2
                    }
                  }
                },
                "title": {
                  "text": "total_carb"
                },
                "xaxis": {
                  "anchor": "y",
                  "domain": [
                    0,
                    1
                  ],
                  "title": {
                    "text": "total_carb"
                  }
                },
                "yaxis": {
                  "anchor": "x",
                  "domain": [
                    0,
                    1
                  ],
                  "title": {
                    "text": "count"
                  }
                }
              }
            }
          },
          "metadata": {},
          "output_type": "display_data"
        },
        {
          "data": {
            "application/vnd.plotly.v1+json": {
              "config": {
                "plotlyServerURL": "https://plot.ly"
              },
              "data": [
                {
                  "alignmentgroup": "True",
                  "bingroup": "x",
                  "hovertemplate": "fiber=%{x}<br>count=%{y}<extra></extra>",
                  "legendgroup": "",
                  "marker": {
                    "color": "#636efa",
                    "pattern": {
                      "shape": ""
                    }
                  },
                  "name": "",
                  "offsetgroup": "",
                  "orientation": "v",
                  "showlegend": false,
                  "type": "histogram",
                  "x": [
                    3,
                    2,
                    3,
                    2,
                    4,
                    3,
                    2,
                    3,
                    2,
                    3,
                    2,
                    3,
                    3,
                    5,
                    2,
                    2,
                    3,
                    3,
                    5,
                    2,
                    2,
                    2,
                    4,
                    4,
                    6,
                    4,
                    3,
                    3,
                    4,
                    4,
                    5,
                    3,
                    4,
                    5,
                    0,
                    0,
                    1,
                    1,
                    1,
                    2,
                    1,
                    1,
                    2,
                    4,
                    7,
                    2,
                    3,
                    5,
                    5,
                    5,
                    4,
                    3,
                    3,
                    4,
                    6,
                    6,
                    8,
                    3,
                    3,
                    1,
                    0,
                    1,
                    1,
                    1,
                    3,
                    1,
                    1,
                    1,
                    2,
                    4,
                    5,
                    2,
                    0,
                    0,
                    0,
                    0,
                    5,
                    4,
                    2,
                    1,
                    2,
                    15,
                    null,
                    null,
                    2,
                    2,
                    1,
                    1,
                    1,
                    1,
                    1,
                    2,
                    2,
                    2,
                    2,
                    2,
                    2,
                    2,
                    2,
                    2,
                    2,
                    2,
                    2,
                    5,
                    5,
                    5,
                    3,
                    4,
                    2,
                    4,
                    1,
                    0,
                    0,
                    4,
                    5,
                    4,
                    3,
                    5,
                    2,
                    3,
                    7,
                    8,
                    8,
                    2,
                    2,
                    3,
                    3,
                    4,
                    1,
                    1,
                    2,
                    3,
                    1,
                    2,
                    2,
                    3,
                    1,
                    2,
                    3,
                    2,
                    2,
                    2,
                    3,
                    3,
                    2,
                    2,
                    1,
                    2,
                    2,
                    2,
                    2,
                    3,
                    2,
                    4,
                    2,
                    2,
                    2,
                    2,
                    3,
                    4,
                    6,
                    1,
                    2,
                    3,
                    4,
                    3,
                    5,
                    4,
                    5,
                    4,
                    4,
                    4,
                    2,
                    3,
                    2,
                    5,
                    6,
                    3,
                    6,
                    2,
                    1,
                    1,
                    1,
                    1,
                    1,
                    1,
                    1,
                    1,
                    4,
                    2,
                    2,
                    5,
                    3,
                    2,
                    1,
                    1,
                    1,
                    0,
                    null,
                    1,
                    1,
                    1,
                    1,
                    2,
                    2,
                    null,
                    1,
                    2,
                    2,
                    null,
                    1,
                    3,
                    2,
                    2,
                    null,
                    2,
                    3,
                    3,
                    2,
                    3,
                    2,
                    2,
                    3,
                    5,
                    3,
                    4,
                    3,
                    5,
                    4,
                    5,
                    2,
                    5,
                    2,
                    2,
                    null,
                    null,
                    2,
                    7,
                    2,
                    null,
                    1,
                    1,
                    1,
                    5,
                    5,
                    null,
                    null,
                    2,
                    2,
                    2,
                    2,
                    2,
                    1,
                    3,
                    1,
                    2,
                    3,
                    2,
                    null,
                    2,
                    3,
                    3,
                    2,
                    3,
                    2,
                    3,
                    2,
                    1,
                    1,
                    9,
                    12,
                    1,
                    1,
                    1,
                    1,
                    1,
                    1,
                    2,
                    2,
                    0,
                    0,
                    2,
                    1,
                    2,
                    1,
                    1,
                    1,
                    1,
                    1,
                    2,
                    5,
                    10,
                    3,
                    4,
                    9,
                    9,
                    7,
                    2,
                    3,
                    3,
                    1,
                    1,
                    2,
                    3,
                    5,
                    10,
                    5,
                    10,
                    5,
                    10,
                    6,
                    12,
                    3,
                    5,
                    10,
                    5,
                    10,
                    5,
                    10,
                    5,
                    10,
                    6,
                    12,
                    5,
                    10,
                    7,
                    14,
                    5,
                    10,
                    5,
                    10,
                    8,
                    16,
                    5,
                    10,
                    4,
                    5,
                    10,
                    5,
                    10,
                    5,
                    10,
                    5,
                    10,
                    5,
                    10,
                    5,
                    10,
                    5,
                    10,
                    5,
                    10,
                    5,
                    10,
                    8,
                    16,
                    3,
                    5,
                    10,
                    5,
                    10,
                    5,
                    10,
                    3,
                    5,
                    10,
                    8,
                    16,
                    3,
                    4,
                    4,
                    5,
                    4,
                    4,
                    4,
                    3,
                    4,
                    4,
                    4,
                    4,
                    4,
                    6,
                    4,
                    4,
                    4,
                    4,
                    4,
                    4,
                    4,
                    4,
                    4,
                    4,
                    4,
                    4,
                    3,
                    3,
                    5,
                    4,
                    4,
                    4,
                    7,
                    9,
                    11,
                    9,
                    8,
                    4,
                    8,
                    8,
                    7,
                    7,
                    12,
                    13,
                    17,
                    6,
                    5,
                    5,
                    5,
                    7,
                    7,
                    4,
                    3,
                    6,
                    3,
                    10,
                    8,
                    7,
                    5,
                    5,
                    7,
                    4,
                    12,
                    10,
                    10,
                    1,
                    6,
                    2,
                    3,
                    3,
                    3,
                    7,
                    7,
                    4,
                    4,
                    5,
                    7,
                    3,
                    3,
                    2,
                    7,
                    2,
                    3,
                    3,
                    3,
                    3,
                    3,
                    3,
                    4,
                    6,
                    4,
                    3,
                    7,
                    9,
                    7,
                    7,
                    2,
                    3,
                    2,
                    3,
                    5,
                    5,
                    5,
                    5,
                    7,
                    4,
                    2,
                    2,
                    10,
                    13,
                    7,
                    6,
                    3,
                    4,
                    3,
                    5,
                    3,
                    9,
                    10,
                    14,
                    4,
                    2,
                    4,
                    4,
                    5,
                    1,
                    5,
                    7,
                    8,
                    8,
                    4,
                    7,
                    3,
                    3,
                    3,
                    4,
                    2,
                    3,
                    4,
                    4,
                    4,
                    9,
                    9,
                    8,
                    11,
                    8,
                    8
                  ],
                  "xaxis": "x",
                  "yaxis": "y"
                }
              ],
              "layout": {
                "barmode": "relative",
                "legend": {
                  "tracegroupgap": 0
                },
                "template": {
                  "data": {
                    "bar": [
                      {
                        "error_x": {
                          "color": "#2a3f5f"
                        },
                        "error_y": {
                          "color": "#2a3f5f"
                        },
                        "marker": {
                          "line": {
                            "color": "#E5ECF6",
                            "width": 0.5
                          },
                          "pattern": {
                            "fillmode": "overlay",
                            "size": 10,
                            "solidity": 0.2
                          }
                        },
                        "type": "bar"
                      }
                    ],
                    "barpolar": [
                      {
                        "marker": {
                          "line": {
                            "color": "#E5ECF6",
                            "width": 0.5
                          },
                          "pattern": {
                            "fillmode": "overlay",
                            "size": 10,
                            "solidity": 0.2
                          }
                        },
                        "type": "barpolar"
                      }
                    ],
                    "carpet": [
                      {
                        "aaxis": {
                          "endlinecolor": "#2a3f5f",
                          "gridcolor": "white",
                          "linecolor": "white",
                          "minorgridcolor": "white",
                          "startlinecolor": "#2a3f5f"
                        },
                        "baxis": {
                          "endlinecolor": "#2a3f5f",
                          "gridcolor": "white",
                          "linecolor": "white",
                          "minorgridcolor": "white",
                          "startlinecolor": "#2a3f5f"
                        },
                        "type": "carpet"
                      }
                    ],
                    "choropleth": [
                      {
                        "colorbar": {
                          "outlinewidth": 0,
                          "ticks": ""
                        },
                        "type": "choropleth"
                      }
                    ],
                    "contour": [
                      {
                        "colorbar": {
                          "outlinewidth": 0,
                          "ticks": ""
                        },
                        "colorscale": [
                          [
                            0,
                            "#0d0887"
                          ],
                          [
                            0.1111111111111111,
                            "#46039f"
                          ],
                          [
                            0.2222222222222222,
                            "#7201a8"
                          ],
                          [
                            0.3333333333333333,
                            "#9c179e"
                          ],
                          [
                            0.4444444444444444,
                            "#bd3786"
                          ],
                          [
                            0.5555555555555556,
                            "#d8576b"
                          ],
                          [
                            0.6666666666666666,
                            "#ed7953"
                          ],
                          [
                            0.7777777777777778,
                            "#fb9f3a"
                          ],
                          [
                            0.8888888888888888,
                            "#fdca26"
                          ],
                          [
                            1,
                            "#f0f921"
                          ]
                        ],
                        "type": "contour"
                      }
                    ],
                    "contourcarpet": [
                      {
                        "colorbar": {
                          "outlinewidth": 0,
                          "ticks": ""
                        },
                        "type": "contourcarpet"
                      }
                    ],
                    "heatmap": [
                      {
                        "colorbar": {
                          "outlinewidth": 0,
                          "ticks": ""
                        },
                        "colorscale": [
                          [
                            0,
                            "#0d0887"
                          ],
                          [
                            0.1111111111111111,
                            "#46039f"
                          ],
                          [
                            0.2222222222222222,
                            "#7201a8"
                          ],
                          [
                            0.3333333333333333,
                            "#9c179e"
                          ],
                          [
                            0.4444444444444444,
                            "#bd3786"
                          ],
                          [
                            0.5555555555555556,
                            "#d8576b"
                          ],
                          [
                            0.6666666666666666,
                            "#ed7953"
                          ],
                          [
                            0.7777777777777778,
                            "#fb9f3a"
                          ],
                          [
                            0.8888888888888888,
                            "#fdca26"
                          ],
                          [
                            1,
                            "#f0f921"
                          ]
                        ],
                        "type": "heatmap"
                      }
                    ],
                    "heatmapgl": [
                      {
                        "colorbar": {
                          "outlinewidth": 0,
                          "ticks": ""
                        },
                        "colorscale": [
                          [
                            0,
                            "#0d0887"
                          ],
                          [
                            0.1111111111111111,
                            "#46039f"
                          ],
                          [
                            0.2222222222222222,
                            "#7201a8"
                          ],
                          [
                            0.3333333333333333,
                            "#9c179e"
                          ],
                          [
                            0.4444444444444444,
                            "#bd3786"
                          ],
                          [
                            0.5555555555555556,
                            "#d8576b"
                          ],
                          [
                            0.6666666666666666,
                            "#ed7953"
                          ],
                          [
                            0.7777777777777778,
                            "#fb9f3a"
                          ],
                          [
                            0.8888888888888888,
                            "#fdca26"
                          ],
                          [
                            1,
                            "#f0f921"
                          ]
                        ],
                        "type": "heatmapgl"
                      }
                    ],
                    "histogram": [
                      {
                        "marker": {
                          "pattern": {
                            "fillmode": "overlay",
                            "size": 10,
                            "solidity": 0.2
                          }
                        },
                        "type": "histogram"
                      }
                    ],
                    "histogram2d": [
                      {
                        "colorbar": {
                          "outlinewidth": 0,
                          "ticks": ""
                        },
                        "colorscale": [
                          [
                            0,
                            "#0d0887"
                          ],
                          [
                            0.1111111111111111,
                            "#46039f"
                          ],
                          [
                            0.2222222222222222,
                            "#7201a8"
                          ],
                          [
                            0.3333333333333333,
                            "#9c179e"
                          ],
                          [
                            0.4444444444444444,
                            "#bd3786"
                          ],
                          [
                            0.5555555555555556,
                            "#d8576b"
                          ],
                          [
                            0.6666666666666666,
                            "#ed7953"
                          ],
                          [
                            0.7777777777777778,
                            "#fb9f3a"
                          ],
                          [
                            0.8888888888888888,
                            "#fdca26"
                          ],
                          [
                            1,
                            "#f0f921"
                          ]
                        ],
                        "type": "histogram2d"
                      }
                    ],
                    "histogram2dcontour": [
                      {
                        "colorbar": {
                          "outlinewidth": 0,
                          "ticks": ""
                        },
                        "colorscale": [
                          [
                            0,
                            "#0d0887"
                          ],
                          [
                            0.1111111111111111,
                            "#46039f"
                          ],
                          [
                            0.2222222222222222,
                            "#7201a8"
                          ],
                          [
                            0.3333333333333333,
                            "#9c179e"
                          ],
                          [
                            0.4444444444444444,
                            "#bd3786"
                          ],
                          [
                            0.5555555555555556,
                            "#d8576b"
                          ],
                          [
                            0.6666666666666666,
                            "#ed7953"
                          ],
                          [
                            0.7777777777777778,
                            "#fb9f3a"
                          ],
                          [
                            0.8888888888888888,
                            "#fdca26"
                          ],
                          [
                            1,
                            "#f0f921"
                          ]
                        ],
                        "type": "histogram2dcontour"
                      }
                    ],
                    "mesh3d": [
                      {
                        "colorbar": {
                          "outlinewidth": 0,
                          "ticks": ""
                        },
                        "type": "mesh3d"
                      }
                    ],
                    "parcoords": [
                      {
                        "line": {
                          "colorbar": {
                            "outlinewidth": 0,
                            "ticks": ""
                          }
                        },
                        "type": "parcoords"
                      }
                    ],
                    "pie": [
                      {
                        "automargin": true,
                        "type": "pie"
                      }
                    ],
                    "scatter": [
                      {
                        "fillpattern": {
                          "fillmode": "overlay",
                          "size": 10,
                          "solidity": 0.2
                        },
                        "type": "scatter"
                      }
                    ],
                    "scatter3d": [
                      {
                        "line": {
                          "colorbar": {
                            "outlinewidth": 0,
                            "ticks": ""
                          }
                        },
                        "marker": {
                          "colorbar": {
                            "outlinewidth": 0,
                            "ticks": ""
                          }
                        },
                        "type": "scatter3d"
                      }
                    ],
                    "scattercarpet": [
                      {
                        "marker": {
                          "colorbar": {
                            "outlinewidth": 0,
                            "ticks": ""
                          }
                        },
                        "type": "scattercarpet"
                      }
                    ],
                    "scattergeo": [
                      {
                        "marker": {
                          "colorbar": {
                            "outlinewidth": 0,
                            "ticks": ""
                          }
                        },
                        "type": "scattergeo"
                      }
                    ],
                    "scattergl": [
                      {
                        "marker": {
                          "colorbar": {
                            "outlinewidth": 0,
                            "ticks": ""
                          }
                        },
                        "type": "scattergl"
                      }
                    ],
                    "scattermapbox": [
                      {
                        "marker": {
                          "colorbar": {
                            "outlinewidth": 0,
                            "ticks": ""
                          }
                        },
                        "type": "scattermapbox"
                      }
                    ],
                    "scatterpolar": [
                      {
                        "marker": {
                          "colorbar": {
                            "outlinewidth": 0,
                            "ticks": ""
                          }
                        },
                        "type": "scatterpolar"
                      }
                    ],
                    "scatterpolargl": [
                      {
                        "marker": {
                          "colorbar": {
                            "outlinewidth": 0,
                            "ticks": ""
                          }
                        },
                        "type": "scatterpolargl"
                      }
                    ],
                    "scatterternary": [
                      {
                        "marker": {
                          "colorbar": {
                            "outlinewidth": 0,
                            "ticks": ""
                          }
                        },
                        "type": "scatterternary"
                      }
                    ],
                    "surface": [
                      {
                        "colorbar": {
                          "outlinewidth": 0,
                          "ticks": ""
                        },
                        "colorscale": [
                          [
                            0,
                            "#0d0887"
                          ],
                          [
                            0.1111111111111111,
                            "#46039f"
                          ],
                          [
                            0.2222222222222222,
                            "#7201a8"
                          ],
                          [
                            0.3333333333333333,
                            "#9c179e"
                          ],
                          [
                            0.4444444444444444,
                            "#bd3786"
                          ],
                          [
                            0.5555555555555556,
                            "#d8576b"
                          ],
                          [
                            0.6666666666666666,
                            "#ed7953"
                          ],
                          [
                            0.7777777777777778,
                            "#fb9f3a"
                          ],
                          [
                            0.8888888888888888,
                            "#fdca26"
                          ],
                          [
                            1,
                            "#f0f921"
                          ]
                        ],
                        "type": "surface"
                      }
                    ],
                    "table": [
                      {
                        "cells": {
                          "fill": {
                            "color": "#EBF0F8"
                          },
                          "line": {
                            "color": "white"
                          }
                        },
                        "header": {
                          "fill": {
                            "color": "#C8D4E3"
                          },
                          "line": {
                            "color": "white"
                          }
                        },
                        "type": "table"
                      }
                    ]
                  },
                  "layout": {
                    "annotationdefaults": {
                      "arrowcolor": "#2a3f5f",
                      "arrowhead": 0,
                      "arrowwidth": 1
                    },
                    "autotypenumbers": "strict",
                    "coloraxis": {
                      "colorbar": {
                        "outlinewidth": 0,
                        "ticks": ""
                      }
                    },
                    "colorscale": {
                      "diverging": [
                        [
                          0,
                          "#8e0152"
                        ],
                        [
                          0.1,
                          "#c51b7d"
                        ],
                        [
                          0.2,
                          "#de77ae"
                        ],
                        [
                          0.3,
                          "#f1b6da"
                        ],
                        [
                          0.4,
                          "#fde0ef"
                        ],
                        [
                          0.5,
                          "#f7f7f7"
                        ],
                        [
                          0.6,
                          "#e6f5d0"
                        ],
                        [
                          0.7,
                          "#b8e186"
                        ],
                        [
                          0.8,
                          "#7fbc41"
                        ],
                        [
                          0.9,
                          "#4d9221"
                        ],
                        [
                          1,
                          "#276419"
                        ]
                      ],
                      "sequential": [
                        [
                          0,
                          "#0d0887"
                        ],
                        [
                          0.1111111111111111,
                          "#46039f"
                        ],
                        [
                          0.2222222222222222,
                          "#7201a8"
                        ],
                        [
                          0.3333333333333333,
                          "#9c179e"
                        ],
                        [
                          0.4444444444444444,
                          "#bd3786"
                        ],
                        [
                          0.5555555555555556,
                          "#d8576b"
                        ],
                        [
                          0.6666666666666666,
                          "#ed7953"
                        ],
                        [
                          0.7777777777777778,
                          "#fb9f3a"
                        ],
                        [
                          0.8888888888888888,
                          "#fdca26"
                        ],
                        [
                          1,
                          "#f0f921"
                        ]
                      ],
                      "sequentialminus": [
                        [
                          0,
                          "#0d0887"
                        ],
                        [
                          0.1111111111111111,
                          "#46039f"
                        ],
                        [
                          0.2222222222222222,
                          "#7201a8"
                        ],
                        [
                          0.3333333333333333,
                          "#9c179e"
                        ],
                        [
                          0.4444444444444444,
                          "#bd3786"
                        ],
                        [
                          0.5555555555555556,
                          "#d8576b"
                        ],
                        [
                          0.6666666666666666,
                          "#ed7953"
                        ],
                        [
                          0.7777777777777778,
                          "#fb9f3a"
                        ],
                        [
                          0.8888888888888888,
                          "#fdca26"
                        ],
                        [
                          1,
                          "#f0f921"
                        ]
                      ]
                    },
                    "colorway": [
                      "#636efa",
                      "#EF553B",
                      "#00cc96",
                      "#ab63fa",
                      "#FFA15A",
                      "#19d3f3",
                      "#FF6692",
                      "#B6E880",
                      "#FF97FF",
                      "#FECB52"
                    ],
                    "font": {
                      "color": "#2a3f5f"
                    },
                    "geo": {
                      "bgcolor": "white",
                      "lakecolor": "white",
                      "landcolor": "#E5ECF6",
                      "showlakes": true,
                      "showland": true,
                      "subunitcolor": "white"
                    },
                    "hoverlabel": {
                      "align": "left"
                    },
                    "hovermode": "closest",
                    "mapbox": {
                      "style": "light"
                    },
                    "paper_bgcolor": "white",
                    "plot_bgcolor": "#E5ECF6",
                    "polar": {
                      "angularaxis": {
                        "gridcolor": "white",
                        "linecolor": "white",
                        "ticks": ""
                      },
                      "bgcolor": "#E5ECF6",
                      "radialaxis": {
                        "gridcolor": "white",
                        "linecolor": "white",
                        "ticks": ""
                      }
                    },
                    "scene": {
                      "xaxis": {
                        "backgroundcolor": "#E5ECF6",
                        "gridcolor": "white",
                        "gridwidth": 2,
                        "linecolor": "white",
                        "showbackground": true,
                        "ticks": "",
                        "zerolinecolor": "white"
                      },
                      "yaxis": {
                        "backgroundcolor": "#E5ECF6",
                        "gridcolor": "white",
                        "gridwidth": 2,
                        "linecolor": "white",
                        "showbackground": true,
                        "ticks": "",
                        "zerolinecolor": "white"
                      },
                      "zaxis": {
                        "backgroundcolor": "#E5ECF6",
                        "gridcolor": "white",
                        "gridwidth": 2,
                        "linecolor": "white",
                        "showbackground": true,
                        "ticks": "",
                        "zerolinecolor": "white"
                      }
                    },
                    "shapedefaults": {
                      "line": {
                        "color": "#2a3f5f"
                      }
                    },
                    "ternary": {
                      "aaxis": {
                        "gridcolor": "white",
                        "linecolor": "white",
                        "ticks": ""
                      },
                      "baxis": {
                        "gridcolor": "white",
                        "linecolor": "white",
                        "ticks": ""
                      },
                      "bgcolor": "#E5ECF6",
                      "caxis": {
                        "gridcolor": "white",
                        "linecolor": "white",
                        "ticks": ""
                      }
                    },
                    "title": {
                      "x": 0.05
                    },
                    "xaxis": {
                      "automargin": true,
                      "gridcolor": "white",
                      "linecolor": "white",
                      "ticks": "",
                      "title": {
                        "standoff": 15
                      },
                      "zerolinecolor": "white",
                      "zerolinewidth": 2
                    },
                    "yaxis": {
                      "automargin": true,
                      "gridcolor": "white",
                      "linecolor": "white",
                      "ticks": "",
                      "title": {
                        "standoff": 15
                      },
                      "zerolinecolor": "white",
                      "zerolinewidth": 2
                    }
                  }
                },
                "title": {
                  "text": "fiber"
                },
                "xaxis": {
                  "anchor": "y",
                  "domain": [
                    0,
                    1
                  ],
                  "title": {
                    "text": "fiber"
                  }
                },
                "yaxis": {
                  "anchor": "x",
                  "domain": [
                    0,
                    1
                  ],
                  "title": {
                    "text": "count"
                  }
                }
              }
            }
          },
          "metadata": {},
          "output_type": "display_data"
        },
        {
          "data": {
            "application/vnd.plotly.v1+json": {
              "config": {
                "plotlyServerURL": "https://plot.ly"
              },
              "data": [
                {
                  "alignmentgroup": "True",
                  "bingroup": "x",
                  "hovertemplate": "sugar=%{x}<br>count=%{y}<extra></extra>",
                  "legendgroup": "",
                  "marker": {
                    "color": "#636efa",
                    "pattern": {
                      "shape": ""
                    }
                  },
                  "name": "",
                  "offsetgroup": "",
                  "orientation": "v",
                  "showlegend": false,
                  "type": "histogram",
                  "x": [
                    11,
                    18,
                    18,
                    18,
                    18,
                    9,
                    7,
                    6,
                    7,
                    10,
                    5,
                    11,
                    11,
                    11,
                    6,
                    3,
                    10,
                    14,
                    14,
                    5,
                    7,
                    12,
                    7,
                    12,
                    12,
                    11,
                    13,
                    10,
                    13,
                    14,
                    13,
                    14,
                    18,
                    18,
                    0,
                    1,
                    1,
                    4,
                    2,
                    3,
                    0,
                    0,
                    0,
                    0,
                    1,
                    35,
                    52,
                    87,
                    7,
                    10,
                    4,
                    3,
                    4,
                    4,
                    9,
                    9,
                    9,
                    7,
                    7,
                    4,
                    1,
                    1,
                    3,
                    4,
                    6,
                    0,
                    0,
                    1,
                    1,
                    1,
                    12,
                    5,
                    0,
                    0,
                    0,
                    1,
                    9,
                    10,
                    10,
                    5,
                    6,
                    3,
                    8,
                    7,
                    7,
                    6,
                    6,
                    4,
                    4,
                    4,
                    7,
                    7,
                    7,
                    10,
                    7,
                    7,
                    10,
                    7,
                    7,
                    8,
                    11,
                    8,
                    7,
                    11,
                    8,
                    8,
                    8,
                    7,
                    6,
                    6,
                    4,
                    0,
                    0,
                    12,
                    12,
                    10,
                    1,
                    2,
                    0,
                    0,
                    9,
                    9,
                    9,
                    0,
                    1,
                    1,
                    11,
                    12,
                    15,
                    17,
                    4,
                    4,
                    3,
                    7,
                    4,
                    9,
                    2,
                    5,
                    23,
                    9,
                    9,
                    15,
                    16,
                    16,
                    6,
                    9,
                    7,
                    6,
                    3,
                    5,
                    5,
                    4,
                    9,
                    6,
                    9,
                    3,
                    5,
                    6,
                    7,
                    9,
                    20,
                    0,
                    0,
                    0,
                    5,
                    5,
                    15,
                    6,
                    16,
                    6,
                    17,
                    14,
                    7,
                    11,
                    9,
                    19,
                    16,
                    5,
                    19,
                    2,
                    1,
                    1,
                    2,
                    1,
                    2,
                    1,
                    2,
                    2,
                    4,
                    4,
                    5,
                    7,
                    7,
                    8,
                    7,
                    7,
                    10,
                    16,
                    13,
                    6,
                    8,
                    6,
                    6,
                    11,
                    9,
                    15,
                    6,
                    10,
                    7,
                    8,
                    9,
                    14,
                    12,
                    12,
                    13,
                    9,
                    11,
                    11,
                    11,
                    11,
                    6,
                    6,
                    6,
                    7,
                    5,
                    8,
                    6,
                    8,
                    34,
                    37,
                    4,
                    6,
                    3,
                    3,
                    9,
                    13,
                    7,
                    8,
                    10,
                    16,
                    1,
                    0,
                    0,
                    0,
                    0,
                    9,
                    8,
                    4,
                    7,
                    6,
                    5,
                    10,
                    1,
                    4,
                    1,
                    14,
                    7,
                    0,
                    0,
                    5,
                    8,
                    8,
                    9,
                    13,
                    13,
                    13,
                    8,
                    8,
                    9,
                    4,
                    4,
                    3,
                    3,
                    3,
                    5,
                    4,
                    6,
                    9,
                    1,
                    0,
                    30,
                    6,
                    7,
                    7,
                    9,
                    9,
                    9,
                    9,
                    7,
                    6,
                    2,
                    0,
                    3,
                    3,
                    6,
                    6,
                    8,
                    1,
                    6,
                    6,
                    5,
                    1,
                    3,
                    3,
                    6,
                    12,
                    8,
                    16,
                    7,
                    14,
                    8,
                    16,
                    5,
                    8,
                    16,
                    7,
                    14,
                    8,
                    16,
                    8,
                    16,
                    9,
                    18,
                    7,
                    14,
                    12,
                    24,
                    8,
                    16,
                    9,
                    18,
                    12,
                    24,
                    8,
                    16,
                    5,
                    7,
                    14,
                    7,
                    14,
                    8,
                    16,
                    8,
                    16,
                    7,
                    14,
                    8,
                    16,
                    8,
                    16,
                    18,
                    36,
                    6,
                    12,
                    7,
                    14,
                    5,
                    7,
                    14,
                    8,
                    16,
                    8,
                    16,
                    4,
                    6,
                    12,
                    8,
                    16,
                    22,
                    5,
                    4,
                    6,
                    6,
                    6,
                    5,
                    3,
                    7,
                    5,
                    4,
                    6,
                    8,
                    10,
                    4,
                    5,
                    6,
                    6,
                    5,
                    6,
                    16,
                    4,
                    5,
                    5,
                    4,
                    7,
                    4,
                    6,
                    9,
                    7,
                    8,
                    8,
                    4,
                    3,
                    4,
                    3,
                    5,
                    3,
                    3,
                    5,
                    5,
                    5,
                    7,
                    7,
                    8,
                    4,
                    2,
                    5,
                    5,
                    5,
                    4,
                    4,
                    4,
                    5,
                    3,
                    4,
                    4,
                    4,
                    5,
                    5,
                    5,
                    3,
                    6,
                    6,
                    7,
                    1,
                    2,
                    1,
                    3,
                    1,
                    2,
                    2,
                    3,
                    6,
                    3,
                    2,
                    2,
                    1,
                    2,
                    2,
                    2,
                    1,
                    2,
                    3,
                    1,
                    1,
                    4,
                    4,
                    4,
                    5,
                    2,
                    1,
                    5,
                    3,
                    4,
                    4,
                    2,
                    1,
                    2,
                    2,
                    6,
                    5,
                    4,
                    5,
                    5,
                    6,
                    6,
                    6,
                    4,
                    5,
                    3,
                    2,
                    1,
                    3,
                    1,
                    3,
                    4,
                    4,
                    4,
                    4,
                    3,
                    1,
                    3,
                    4,
                    2,
                    1,
                    3,
                    7,
                    2,
                    7,
                    5,
                    2,
                    2,
                    3,
                    3,
                    3,
                    1,
                    3,
                    1,
                    3,
                    3,
                    7,
                    8,
                    7,
                    7,
                    8,
                    8
                  ],
                  "xaxis": "x",
                  "yaxis": "y"
                }
              ],
              "layout": {
                "barmode": "relative",
                "legend": {
                  "tracegroupgap": 0
                },
                "template": {
                  "data": {
                    "bar": [
                      {
                        "error_x": {
                          "color": "#2a3f5f"
                        },
                        "error_y": {
                          "color": "#2a3f5f"
                        },
                        "marker": {
                          "line": {
                            "color": "#E5ECF6",
                            "width": 0.5
                          },
                          "pattern": {
                            "fillmode": "overlay",
                            "size": 10,
                            "solidity": 0.2
                          }
                        },
                        "type": "bar"
                      }
                    ],
                    "barpolar": [
                      {
                        "marker": {
                          "line": {
                            "color": "#E5ECF6",
                            "width": 0.5
                          },
                          "pattern": {
                            "fillmode": "overlay",
                            "size": 10,
                            "solidity": 0.2
                          }
                        },
                        "type": "barpolar"
                      }
                    ],
                    "carpet": [
                      {
                        "aaxis": {
                          "endlinecolor": "#2a3f5f",
                          "gridcolor": "white",
                          "linecolor": "white",
                          "minorgridcolor": "white",
                          "startlinecolor": "#2a3f5f"
                        },
                        "baxis": {
                          "endlinecolor": "#2a3f5f",
                          "gridcolor": "white",
                          "linecolor": "white",
                          "minorgridcolor": "white",
                          "startlinecolor": "#2a3f5f"
                        },
                        "type": "carpet"
                      }
                    ],
                    "choropleth": [
                      {
                        "colorbar": {
                          "outlinewidth": 0,
                          "ticks": ""
                        },
                        "type": "choropleth"
                      }
                    ],
                    "contour": [
                      {
                        "colorbar": {
                          "outlinewidth": 0,
                          "ticks": ""
                        },
                        "colorscale": [
                          [
                            0,
                            "#0d0887"
                          ],
                          [
                            0.1111111111111111,
                            "#46039f"
                          ],
                          [
                            0.2222222222222222,
                            "#7201a8"
                          ],
                          [
                            0.3333333333333333,
                            "#9c179e"
                          ],
                          [
                            0.4444444444444444,
                            "#bd3786"
                          ],
                          [
                            0.5555555555555556,
                            "#d8576b"
                          ],
                          [
                            0.6666666666666666,
                            "#ed7953"
                          ],
                          [
                            0.7777777777777778,
                            "#fb9f3a"
                          ],
                          [
                            0.8888888888888888,
                            "#fdca26"
                          ],
                          [
                            1,
                            "#f0f921"
                          ]
                        ],
                        "type": "contour"
                      }
                    ],
                    "contourcarpet": [
                      {
                        "colorbar": {
                          "outlinewidth": 0,
                          "ticks": ""
                        },
                        "type": "contourcarpet"
                      }
                    ],
                    "heatmap": [
                      {
                        "colorbar": {
                          "outlinewidth": 0,
                          "ticks": ""
                        },
                        "colorscale": [
                          [
                            0,
                            "#0d0887"
                          ],
                          [
                            0.1111111111111111,
                            "#46039f"
                          ],
                          [
                            0.2222222222222222,
                            "#7201a8"
                          ],
                          [
                            0.3333333333333333,
                            "#9c179e"
                          ],
                          [
                            0.4444444444444444,
                            "#bd3786"
                          ],
                          [
                            0.5555555555555556,
                            "#d8576b"
                          ],
                          [
                            0.6666666666666666,
                            "#ed7953"
                          ],
                          [
                            0.7777777777777778,
                            "#fb9f3a"
                          ],
                          [
                            0.8888888888888888,
                            "#fdca26"
                          ],
                          [
                            1,
                            "#f0f921"
                          ]
                        ],
                        "type": "heatmap"
                      }
                    ],
                    "heatmapgl": [
                      {
                        "colorbar": {
                          "outlinewidth": 0,
                          "ticks": ""
                        },
                        "colorscale": [
                          [
                            0,
                            "#0d0887"
                          ],
                          [
                            0.1111111111111111,
                            "#46039f"
                          ],
                          [
                            0.2222222222222222,
                            "#7201a8"
                          ],
                          [
                            0.3333333333333333,
                            "#9c179e"
                          ],
                          [
                            0.4444444444444444,
                            "#bd3786"
                          ],
                          [
                            0.5555555555555556,
                            "#d8576b"
                          ],
                          [
                            0.6666666666666666,
                            "#ed7953"
                          ],
                          [
                            0.7777777777777778,
                            "#fb9f3a"
                          ],
                          [
                            0.8888888888888888,
                            "#fdca26"
                          ],
                          [
                            1,
                            "#f0f921"
                          ]
                        ],
                        "type": "heatmapgl"
                      }
                    ],
                    "histogram": [
                      {
                        "marker": {
                          "pattern": {
                            "fillmode": "overlay",
                            "size": 10,
                            "solidity": 0.2
                          }
                        },
                        "type": "histogram"
                      }
                    ],
                    "histogram2d": [
                      {
                        "colorbar": {
                          "outlinewidth": 0,
                          "ticks": ""
                        },
                        "colorscale": [
                          [
                            0,
                            "#0d0887"
                          ],
                          [
                            0.1111111111111111,
                            "#46039f"
                          ],
                          [
                            0.2222222222222222,
                            "#7201a8"
                          ],
                          [
                            0.3333333333333333,
                            "#9c179e"
                          ],
                          [
                            0.4444444444444444,
                            "#bd3786"
                          ],
                          [
                            0.5555555555555556,
                            "#d8576b"
                          ],
                          [
                            0.6666666666666666,
                            "#ed7953"
                          ],
                          [
                            0.7777777777777778,
                            "#fb9f3a"
                          ],
                          [
                            0.8888888888888888,
                            "#fdca26"
                          ],
                          [
                            1,
                            "#f0f921"
                          ]
                        ],
                        "type": "histogram2d"
                      }
                    ],
                    "histogram2dcontour": [
                      {
                        "colorbar": {
                          "outlinewidth": 0,
                          "ticks": ""
                        },
                        "colorscale": [
                          [
                            0,
                            "#0d0887"
                          ],
                          [
                            0.1111111111111111,
                            "#46039f"
                          ],
                          [
                            0.2222222222222222,
                            "#7201a8"
                          ],
                          [
                            0.3333333333333333,
                            "#9c179e"
                          ],
                          [
                            0.4444444444444444,
                            "#bd3786"
                          ],
                          [
                            0.5555555555555556,
                            "#d8576b"
                          ],
                          [
                            0.6666666666666666,
                            "#ed7953"
                          ],
                          [
                            0.7777777777777778,
                            "#fb9f3a"
                          ],
                          [
                            0.8888888888888888,
                            "#fdca26"
                          ],
                          [
                            1,
                            "#f0f921"
                          ]
                        ],
                        "type": "histogram2dcontour"
                      }
                    ],
                    "mesh3d": [
                      {
                        "colorbar": {
                          "outlinewidth": 0,
                          "ticks": ""
                        },
                        "type": "mesh3d"
                      }
                    ],
                    "parcoords": [
                      {
                        "line": {
                          "colorbar": {
                            "outlinewidth": 0,
                            "ticks": ""
                          }
                        },
                        "type": "parcoords"
                      }
                    ],
                    "pie": [
                      {
                        "automargin": true,
                        "type": "pie"
                      }
                    ],
                    "scatter": [
                      {
                        "fillpattern": {
                          "fillmode": "overlay",
                          "size": 10,
                          "solidity": 0.2
                        },
                        "type": "scatter"
                      }
                    ],
                    "scatter3d": [
                      {
                        "line": {
                          "colorbar": {
                            "outlinewidth": 0,
                            "ticks": ""
                          }
                        },
                        "marker": {
                          "colorbar": {
                            "outlinewidth": 0,
                            "ticks": ""
                          }
                        },
                        "type": "scatter3d"
                      }
                    ],
                    "scattercarpet": [
                      {
                        "marker": {
                          "colorbar": {
                            "outlinewidth": 0,
                            "ticks": ""
                          }
                        },
                        "type": "scattercarpet"
                      }
                    ],
                    "scattergeo": [
                      {
                        "marker": {
                          "colorbar": {
                            "outlinewidth": 0,
                            "ticks": ""
                          }
                        },
                        "type": "scattergeo"
                      }
                    ],
                    "scattergl": [
                      {
                        "marker": {
                          "colorbar": {
                            "outlinewidth": 0,
                            "ticks": ""
                          }
                        },
                        "type": "scattergl"
                      }
                    ],
                    "scattermapbox": [
                      {
                        "marker": {
                          "colorbar": {
                            "outlinewidth": 0,
                            "ticks": ""
                          }
                        },
                        "type": "scattermapbox"
                      }
                    ],
                    "scatterpolar": [
                      {
                        "marker": {
                          "colorbar": {
                            "outlinewidth": 0,
                            "ticks": ""
                          }
                        },
                        "type": "scatterpolar"
                      }
                    ],
                    "scatterpolargl": [
                      {
                        "marker": {
                          "colorbar": {
                            "outlinewidth": 0,
                            "ticks": ""
                          }
                        },
                        "type": "scatterpolargl"
                      }
                    ],
                    "scatterternary": [
                      {
                        "marker": {
                          "colorbar": {
                            "outlinewidth": 0,
                            "ticks": ""
                          }
                        },
                        "type": "scatterternary"
                      }
                    ],
                    "surface": [
                      {
                        "colorbar": {
                          "outlinewidth": 0,
                          "ticks": ""
                        },
                        "colorscale": [
                          [
                            0,
                            "#0d0887"
                          ],
                          [
                            0.1111111111111111,
                            "#46039f"
                          ],
                          [
                            0.2222222222222222,
                            "#7201a8"
                          ],
                          [
                            0.3333333333333333,
                            "#9c179e"
                          ],
                          [
                            0.4444444444444444,
                            "#bd3786"
                          ],
                          [
                            0.5555555555555556,
                            "#d8576b"
                          ],
                          [
                            0.6666666666666666,
                            "#ed7953"
                          ],
                          [
                            0.7777777777777778,
                            "#fb9f3a"
                          ],
                          [
                            0.8888888888888888,
                            "#fdca26"
                          ],
                          [
                            1,
                            "#f0f921"
                          ]
                        ],
                        "type": "surface"
                      }
                    ],
                    "table": [
                      {
                        "cells": {
                          "fill": {
                            "color": "#EBF0F8"
                          },
                          "line": {
                            "color": "white"
                          }
                        },
                        "header": {
                          "fill": {
                            "color": "#C8D4E3"
                          },
                          "line": {
                            "color": "white"
                          }
                        },
                        "type": "table"
                      }
                    ]
                  },
                  "layout": {
                    "annotationdefaults": {
                      "arrowcolor": "#2a3f5f",
                      "arrowhead": 0,
                      "arrowwidth": 1
                    },
                    "autotypenumbers": "strict",
                    "coloraxis": {
                      "colorbar": {
                        "outlinewidth": 0,
                        "ticks": ""
                      }
                    },
                    "colorscale": {
                      "diverging": [
                        [
                          0,
                          "#8e0152"
                        ],
                        [
                          0.1,
                          "#c51b7d"
                        ],
                        [
                          0.2,
                          "#de77ae"
                        ],
                        [
                          0.3,
                          "#f1b6da"
                        ],
                        [
                          0.4,
                          "#fde0ef"
                        ],
                        [
                          0.5,
                          "#f7f7f7"
                        ],
                        [
                          0.6,
                          "#e6f5d0"
                        ],
                        [
                          0.7,
                          "#b8e186"
                        ],
                        [
                          0.8,
                          "#7fbc41"
                        ],
                        [
                          0.9,
                          "#4d9221"
                        ],
                        [
                          1,
                          "#276419"
                        ]
                      ],
                      "sequential": [
                        [
                          0,
                          "#0d0887"
                        ],
                        [
                          0.1111111111111111,
                          "#46039f"
                        ],
                        [
                          0.2222222222222222,
                          "#7201a8"
                        ],
                        [
                          0.3333333333333333,
                          "#9c179e"
                        ],
                        [
                          0.4444444444444444,
                          "#bd3786"
                        ],
                        [
                          0.5555555555555556,
                          "#d8576b"
                        ],
                        [
                          0.6666666666666666,
                          "#ed7953"
                        ],
                        [
                          0.7777777777777778,
                          "#fb9f3a"
                        ],
                        [
                          0.8888888888888888,
                          "#fdca26"
                        ],
                        [
                          1,
                          "#f0f921"
                        ]
                      ],
                      "sequentialminus": [
                        [
                          0,
                          "#0d0887"
                        ],
                        [
                          0.1111111111111111,
                          "#46039f"
                        ],
                        [
                          0.2222222222222222,
                          "#7201a8"
                        ],
                        [
                          0.3333333333333333,
                          "#9c179e"
                        ],
                        [
                          0.4444444444444444,
                          "#bd3786"
                        ],
                        [
                          0.5555555555555556,
                          "#d8576b"
                        ],
                        [
                          0.6666666666666666,
                          "#ed7953"
                        ],
                        [
                          0.7777777777777778,
                          "#fb9f3a"
                        ],
                        [
                          0.8888888888888888,
                          "#fdca26"
                        ],
                        [
                          1,
                          "#f0f921"
                        ]
                      ]
                    },
                    "colorway": [
                      "#636efa",
                      "#EF553B",
                      "#00cc96",
                      "#ab63fa",
                      "#FFA15A",
                      "#19d3f3",
                      "#FF6692",
                      "#B6E880",
                      "#FF97FF",
                      "#FECB52"
                    ],
                    "font": {
                      "color": "#2a3f5f"
                    },
                    "geo": {
                      "bgcolor": "white",
                      "lakecolor": "white",
                      "landcolor": "#E5ECF6",
                      "showlakes": true,
                      "showland": true,
                      "subunitcolor": "white"
                    },
                    "hoverlabel": {
                      "align": "left"
                    },
                    "hovermode": "closest",
                    "mapbox": {
                      "style": "light"
                    },
                    "paper_bgcolor": "white",
                    "plot_bgcolor": "#E5ECF6",
                    "polar": {
                      "angularaxis": {
                        "gridcolor": "white",
                        "linecolor": "white",
                        "ticks": ""
                      },
                      "bgcolor": "#E5ECF6",
                      "radialaxis": {
                        "gridcolor": "white",
                        "linecolor": "white",
                        "ticks": ""
                      }
                    },
                    "scene": {
                      "xaxis": {
                        "backgroundcolor": "#E5ECF6",
                        "gridcolor": "white",
                        "gridwidth": 2,
                        "linecolor": "white",
                        "showbackground": true,
                        "ticks": "",
                        "zerolinecolor": "white"
                      },
                      "yaxis": {
                        "backgroundcolor": "#E5ECF6",
                        "gridcolor": "white",
                        "gridwidth": 2,
                        "linecolor": "white",
                        "showbackground": true,
                        "ticks": "",
                        "zerolinecolor": "white"
                      },
                      "zaxis": {
                        "backgroundcolor": "#E5ECF6",
                        "gridcolor": "white",
                        "gridwidth": 2,
                        "linecolor": "white",
                        "showbackground": true,
                        "ticks": "",
                        "zerolinecolor": "white"
                      }
                    },
                    "shapedefaults": {
                      "line": {
                        "color": "#2a3f5f"
                      }
                    },
                    "ternary": {
                      "aaxis": {
                        "gridcolor": "white",
                        "linecolor": "white",
                        "ticks": ""
                      },
                      "baxis": {
                        "gridcolor": "white",
                        "linecolor": "white",
                        "ticks": ""
                      },
                      "bgcolor": "#E5ECF6",
                      "caxis": {
                        "gridcolor": "white",
                        "linecolor": "white",
                        "ticks": ""
                      }
                    },
                    "title": {
                      "x": 0.05
                    },
                    "xaxis": {
                      "automargin": true,
                      "gridcolor": "white",
                      "linecolor": "white",
                      "ticks": "",
                      "title": {
                        "standoff": 15
                      },
                      "zerolinecolor": "white",
                      "zerolinewidth": 2
                    },
                    "yaxis": {
                      "automargin": true,
                      "gridcolor": "white",
                      "linecolor": "white",
                      "ticks": "",
                      "title": {
                        "standoff": 15
                      },
                      "zerolinecolor": "white",
                      "zerolinewidth": 2
                    }
                  }
                },
                "title": {
                  "text": "sugar"
                },
                "xaxis": {
                  "anchor": "y",
                  "domain": [
                    0,
                    1
                  ],
                  "title": {
                    "text": "sugar"
                  }
                },
                "yaxis": {
                  "anchor": "x",
                  "domain": [
                    0,
                    1
                  ],
                  "title": {
                    "text": "count"
                  }
                }
              }
            }
          },
          "metadata": {},
          "output_type": "display_data"
        },
        {
          "data": {
            "application/vnd.plotly.v1+json": {
              "config": {
                "plotlyServerURL": "https://plot.ly"
              },
              "data": [
                {
                  "alignmentgroup": "True",
                  "bingroup": "x",
                  "hovertemplate": "protein=%{x}<br>count=%{y}<extra></extra>",
                  "legendgroup": "",
                  "marker": {
                    "color": "#636efa",
                    "pattern": {
                      "shape": ""
                    }
                  },
                  "name": "",
                  "offsetgroup": "",
                  "orientation": "v",
                  "showlegend": false,
                  "type": "histogram",
                  "x": [
                    37,
                    46,
                    70,
                    55,
                    46,
                    25,
                    15,
                    25,
                    25,
                    51,
                    15,
                    32,
                    42,
                    33,
                    13,
                    24,
                    37,
                    48,
                    39,
                    15,
                    23,
                    25,
                    29,
                    40,
                    31,
                    28,
                    25,
                    31,
                    32,
                    41,
                    32,
                    38,
                    48,
                    39,
                    28,
                    38,
                    58,
                    94,
                    115,
                    186,
                    10,
                    15,
                    24,
                    49,
                    98,
                    39,
                    58,
                    97,
                    7,
                    31,
                    33,
                    14,
                    42,
                    33,
                    8,
                    37,
                    28,
                    37,
                    29,
                    16,
                    11,
                    22,
                    28,
                    37,
                    31,
                    14,
                    21,
                    28,
                    41,
                    103,
                    28,
                    28,
                    13,
                    19,
                    25,
                    38,
                    33,
                    34,
                    33,
                    29,
                    34,
                    37,
                    39,
                    48,
                    35,
                    31,
                    15,
                    20,
                    15,
                    19,
                    31,
                    39,
                    31,
                    32,
                    31,
                    35,
                    35,
                    35,
                    67,
                    63,
                    63,
                    63,
                    63,
                    15,
                    15,
                    15,
                    40,
                    31,
                    28,
                    23,
                    19,
                    22,
                    37,
                    33,
                    23,
                    23,
                    18,
                    27,
                    21,
                    36,
                    30,
                    37,
                    44,
                    22,
                    29,
                    36,
                    32,
                    39,
                    12,
                    14,
                    17,
                    13,
                    11,
                    15,
                    6,
                    30,
                    11,
                    18,
                    18,
                    23,
                    39,
                    38,
                    38,
                    38,
                    29,
                    39,
                    41,
                    29,
                    35,
                    23,
                    38,
                    42,
                    30,
                    23,
                    49,
                    55,
                    48,
                    18,
                    32,
                    22,
                    33,
                    16,
                    23,
                    39,
                    37,
                    24,
                    38,
                    30,
                    45,
                    37,
                    43,
                    26,
                    33,
                    23,
                    30,
                    62,
                    41,
                    25,
                    43,
                    12,
                    15,
                    14,
                    13,
                    14,
                    13,
                    14,
                    14,
                    5,
                    28,
                    10,
                    22,
                    22,
                    134,
                    56,
                    18,
                    12,
                    57,
                    32,
                    57,
                    16,
                    31,
                    26,
                    22,
                    56,
                    26,
                    null,
                    13,
                    30,
                    55,
                    49,
                    9,
                    60,
                    35,
                    55,
                    50,
                    29,
                    47,
                    52,
                    28,
                    33,
                    14,
                    16,
                    42,
                    36,
                    36,
                    35,
                    35,
                    34,
                    29,
                    28,
                    36,
                    29,
                    6,
                    5,
                    34,
                    7,
                    17,
                    22,
                    22,
                    32,
                    16,
                    10,
                    15,
                    51,
                    21,
                    32,
                    30,
                    12,
                    23,
                    37,
                    14,
                    11,
                    15,
                    24,
                    16,
                    12,
                    32,
                    8,
                    20,
                    12,
                    25,
                    32,
                    46,
                    40,
                    30,
                    23,
                    24,
                    19,
                    34,
                    35,
                    49,
                    19,
                    16,
                    16,
                    13,
                    11,
                    13,
                    17,
                    7,
                    35,
                    43,
                    32,
                    6,
                    17,
                    20,
                    34,
                    29,
                    17,
                    41,
                    19,
                    23,
                    22,
                    33,
                    34,
                    37,
                    17,
                    24,
                    12,
                    42,
                    23,
                    25,
                    15,
                    1,
                    30,
                    15,
                    30,
                    19,
                    38,
                    29,
                    58,
                    38,
                    76,
                    10,
                    18,
                    36,
                    25,
                    50,
                    33,
                    66,
                    35,
                    70,
                    32,
                    64,
                    18,
                    36,
                    39,
                    78,
                    20,
                    40,
                    26,
                    52,
                    21,
                    42,
                    23,
                    46,
                    14,
                    24,
                    48,
                    29,
                    58,
                    20,
                    40,
                    26,
                    52,
                    23,
                    46,
                    23,
                    46,
                    13,
                    26,
                    26,
                    52,
                    20,
                    40,
                    22,
                    44,
                    10,
                    18,
                    36,
                    18,
                    36,
                    24,
                    48,
                    6,
                    8,
                    16,
                    23,
                    46,
                    25,
                    10,
                    23,
                    32,
                    12,
                    20,
                    28,
                    19,
                    30,
                    12,
                    36,
                    14,
                    14,
                    16,
                    19,
                    18,
                    15,
                    20,
                    17,
                    18,
                    20,
                    15,
                    12,
                    12,
                    3,
                    43,
                    55,
                    43,
                    36,
                    32,
                    38,
                    39,
                    19,
                    21,
                    16,
                    13,
                    19,
                    13,
                    14,
                    16,
                    19,
                    17,
                    32,
                    33,
                    20,
                    11,
                    16,
                    25,
                    25,
                    22,
                    20,
                    24,
                    25,
                    22,
                    16,
                    28,
                    34,
                    35,
                    24,
                    24,
                    22,
                    15,
                    31,
                    37,
                    33,
                    12,
                    13,
                    8,
                    9,
                    8,
                    9,
                    13,
                    14,
                    12,
                    13,
                    13,
                    14,
                    8,
                    9,
                    11,
                    14,
                    8,
                    9,
                    10,
                    10,
                    6,
                    16,
                    14,
                    13,
                    21,
                    19,
                    20,
                    21,
                    11,
                    17,
                    15,
                    11,
                    6,
                    9,
                    8,
                    20,
                    20,
                    20,
                    20,
                    25,
                    13,
                    16,
                    14,
                    13,
                    18,
                    12,
                    7,
                    10,
                    14,
                    9,
                    12,
                    12,
                    26,
                    27,
                    14,
                    19,
                    9,
                    27,
                    17,
                    16,
                    9,
                    26,
                    16,
                    12,
                    23,
                    13,
                    20,
                    14,
                    22,
                    22,
                    19,
                    12,
                    15,
                    7,
                    18,
                    25,
                    23,
                    23,
                    23,
                    26,
                    32,
                    28
                  ],
                  "xaxis": "x",
                  "yaxis": "y"
                }
              ],
              "layout": {
                "barmode": "relative",
                "legend": {
                  "tracegroupgap": 0
                },
                "template": {
                  "data": {
                    "bar": [
                      {
                        "error_x": {
                          "color": "#2a3f5f"
                        },
                        "error_y": {
                          "color": "#2a3f5f"
                        },
                        "marker": {
                          "line": {
                            "color": "#E5ECF6",
                            "width": 0.5
                          },
                          "pattern": {
                            "fillmode": "overlay",
                            "size": 10,
                            "solidity": 0.2
                          }
                        },
                        "type": "bar"
                      }
                    ],
                    "barpolar": [
                      {
                        "marker": {
                          "line": {
                            "color": "#E5ECF6",
                            "width": 0.5
                          },
                          "pattern": {
                            "fillmode": "overlay",
                            "size": 10,
                            "solidity": 0.2
                          }
                        },
                        "type": "barpolar"
                      }
                    ],
                    "carpet": [
                      {
                        "aaxis": {
                          "endlinecolor": "#2a3f5f",
                          "gridcolor": "white",
                          "linecolor": "white",
                          "minorgridcolor": "white",
                          "startlinecolor": "#2a3f5f"
                        },
                        "baxis": {
                          "endlinecolor": "#2a3f5f",
                          "gridcolor": "white",
                          "linecolor": "white",
                          "minorgridcolor": "white",
                          "startlinecolor": "#2a3f5f"
                        },
                        "type": "carpet"
                      }
                    ],
                    "choropleth": [
                      {
                        "colorbar": {
                          "outlinewidth": 0,
                          "ticks": ""
                        },
                        "type": "choropleth"
                      }
                    ],
                    "contour": [
                      {
                        "colorbar": {
                          "outlinewidth": 0,
                          "ticks": ""
                        },
                        "colorscale": [
                          [
                            0,
                            "#0d0887"
                          ],
                          [
                            0.1111111111111111,
                            "#46039f"
                          ],
                          [
                            0.2222222222222222,
                            "#7201a8"
                          ],
                          [
                            0.3333333333333333,
                            "#9c179e"
                          ],
                          [
                            0.4444444444444444,
                            "#bd3786"
                          ],
                          [
                            0.5555555555555556,
                            "#d8576b"
                          ],
                          [
                            0.6666666666666666,
                            "#ed7953"
                          ],
                          [
                            0.7777777777777778,
                            "#fb9f3a"
                          ],
                          [
                            0.8888888888888888,
                            "#fdca26"
                          ],
                          [
                            1,
                            "#f0f921"
                          ]
                        ],
                        "type": "contour"
                      }
                    ],
                    "contourcarpet": [
                      {
                        "colorbar": {
                          "outlinewidth": 0,
                          "ticks": ""
                        },
                        "type": "contourcarpet"
                      }
                    ],
                    "heatmap": [
                      {
                        "colorbar": {
                          "outlinewidth": 0,
                          "ticks": ""
                        },
                        "colorscale": [
                          [
                            0,
                            "#0d0887"
                          ],
                          [
                            0.1111111111111111,
                            "#46039f"
                          ],
                          [
                            0.2222222222222222,
                            "#7201a8"
                          ],
                          [
                            0.3333333333333333,
                            "#9c179e"
                          ],
                          [
                            0.4444444444444444,
                            "#bd3786"
                          ],
                          [
                            0.5555555555555556,
                            "#d8576b"
                          ],
                          [
                            0.6666666666666666,
                            "#ed7953"
                          ],
                          [
                            0.7777777777777778,
                            "#fb9f3a"
                          ],
                          [
                            0.8888888888888888,
                            "#fdca26"
                          ],
                          [
                            1,
                            "#f0f921"
                          ]
                        ],
                        "type": "heatmap"
                      }
                    ],
                    "heatmapgl": [
                      {
                        "colorbar": {
                          "outlinewidth": 0,
                          "ticks": ""
                        },
                        "colorscale": [
                          [
                            0,
                            "#0d0887"
                          ],
                          [
                            0.1111111111111111,
                            "#46039f"
                          ],
                          [
                            0.2222222222222222,
                            "#7201a8"
                          ],
                          [
                            0.3333333333333333,
                            "#9c179e"
                          ],
                          [
                            0.4444444444444444,
                            "#bd3786"
                          ],
                          [
                            0.5555555555555556,
                            "#d8576b"
                          ],
                          [
                            0.6666666666666666,
                            "#ed7953"
                          ],
                          [
                            0.7777777777777778,
                            "#fb9f3a"
                          ],
                          [
                            0.8888888888888888,
                            "#fdca26"
                          ],
                          [
                            1,
                            "#f0f921"
                          ]
                        ],
                        "type": "heatmapgl"
                      }
                    ],
                    "histogram": [
                      {
                        "marker": {
                          "pattern": {
                            "fillmode": "overlay",
                            "size": 10,
                            "solidity": 0.2
                          }
                        },
                        "type": "histogram"
                      }
                    ],
                    "histogram2d": [
                      {
                        "colorbar": {
                          "outlinewidth": 0,
                          "ticks": ""
                        },
                        "colorscale": [
                          [
                            0,
                            "#0d0887"
                          ],
                          [
                            0.1111111111111111,
                            "#46039f"
                          ],
                          [
                            0.2222222222222222,
                            "#7201a8"
                          ],
                          [
                            0.3333333333333333,
                            "#9c179e"
                          ],
                          [
                            0.4444444444444444,
                            "#bd3786"
                          ],
                          [
                            0.5555555555555556,
                            "#d8576b"
                          ],
                          [
                            0.6666666666666666,
                            "#ed7953"
                          ],
                          [
                            0.7777777777777778,
                            "#fb9f3a"
                          ],
                          [
                            0.8888888888888888,
                            "#fdca26"
                          ],
                          [
                            1,
                            "#f0f921"
                          ]
                        ],
                        "type": "histogram2d"
                      }
                    ],
                    "histogram2dcontour": [
                      {
                        "colorbar": {
                          "outlinewidth": 0,
                          "ticks": ""
                        },
                        "colorscale": [
                          [
                            0,
                            "#0d0887"
                          ],
                          [
                            0.1111111111111111,
                            "#46039f"
                          ],
                          [
                            0.2222222222222222,
                            "#7201a8"
                          ],
                          [
                            0.3333333333333333,
                            "#9c179e"
                          ],
                          [
                            0.4444444444444444,
                            "#bd3786"
                          ],
                          [
                            0.5555555555555556,
                            "#d8576b"
                          ],
                          [
                            0.6666666666666666,
                            "#ed7953"
                          ],
                          [
                            0.7777777777777778,
                            "#fb9f3a"
                          ],
                          [
                            0.8888888888888888,
                            "#fdca26"
                          ],
                          [
                            1,
                            "#f0f921"
                          ]
                        ],
                        "type": "histogram2dcontour"
                      }
                    ],
                    "mesh3d": [
                      {
                        "colorbar": {
                          "outlinewidth": 0,
                          "ticks": ""
                        },
                        "type": "mesh3d"
                      }
                    ],
                    "parcoords": [
                      {
                        "line": {
                          "colorbar": {
                            "outlinewidth": 0,
                            "ticks": ""
                          }
                        },
                        "type": "parcoords"
                      }
                    ],
                    "pie": [
                      {
                        "automargin": true,
                        "type": "pie"
                      }
                    ],
                    "scatter": [
                      {
                        "fillpattern": {
                          "fillmode": "overlay",
                          "size": 10,
                          "solidity": 0.2
                        },
                        "type": "scatter"
                      }
                    ],
                    "scatter3d": [
                      {
                        "line": {
                          "colorbar": {
                            "outlinewidth": 0,
                            "ticks": ""
                          }
                        },
                        "marker": {
                          "colorbar": {
                            "outlinewidth": 0,
                            "ticks": ""
                          }
                        },
                        "type": "scatter3d"
                      }
                    ],
                    "scattercarpet": [
                      {
                        "marker": {
                          "colorbar": {
                            "outlinewidth": 0,
                            "ticks": ""
                          }
                        },
                        "type": "scattercarpet"
                      }
                    ],
                    "scattergeo": [
                      {
                        "marker": {
                          "colorbar": {
                            "outlinewidth": 0,
                            "ticks": ""
                          }
                        },
                        "type": "scattergeo"
                      }
                    ],
                    "scattergl": [
                      {
                        "marker": {
                          "colorbar": {
                            "outlinewidth": 0,
                            "ticks": ""
                          }
                        },
                        "type": "scattergl"
                      }
                    ],
                    "scattermapbox": [
                      {
                        "marker": {
                          "colorbar": {
                            "outlinewidth": 0,
                            "ticks": ""
                          }
                        },
                        "type": "scattermapbox"
                      }
                    ],
                    "scatterpolar": [
                      {
                        "marker": {
                          "colorbar": {
                            "outlinewidth": 0,
                            "ticks": ""
                          }
                        },
                        "type": "scatterpolar"
                      }
                    ],
                    "scatterpolargl": [
                      {
                        "marker": {
                          "colorbar": {
                            "outlinewidth": 0,
                            "ticks": ""
                          }
                        },
                        "type": "scatterpolargl"
                      }
                    ],
                    "scatterternary": [
                      {
                        "marker": {
                          "colorbar": {
                            "outlinewidth": 0,
                            "ticks": ""
                          }
                        },
                        "type": "scatterternary"
                      }
                    ],
                    "surface": [
                      {
                        "colorbar": {
                          "outlinewidth": 0,
                          "ticks": ""
                        },
                        "colorscale": [
                          [
                            0,
                            "#0d0887"
                          ],
                          [
                            0.1111111111111111,
                            "#46039f"
                          ],
                          [
                            0.2222222222222222,
                            "#7201a8"
                          ],
                          [
                            0.3333333333333333,
                            "#9c179e"
                          ],
                          [
                            0.4444444444444444,
                            "#bd3786"
                          ],
                          [
                            0.5555555555555556,
                            "#d8576b"
                          ],
                          [
                            0.6666666666666666,
                            "#ed7953"
                          ],
                          [
                            0.7777777777777778,
                            "#fb9f3a"
                          ],
                          [
                            0.8888888888888888,
                            "#fdca26"
                          ],
                          [
                            1,
                            "#f0f921"
                          ]
                        ],
                        "type": "surface"
                      }
                    ],
                    "table": [
                      {
                        "cells": {
                          "fill": {
                            "color": "#EBF0F8"
                          },
                          "line": {
                            "color": "white"
                          }
                        },
                        "header": {
                          "fill": {
                            "color": "#C8D4E3"
                          },
                          "line": {
                            "color": "white"
                          }
                        },
                        "type": "table"
                      }
                    ]
                  },
                  "layout": {
                    "annotationdefaults": {
                      "arrowcolor": "#2a3f5f",
                      "arrowhead": 0,
                      "arrowwidth": 1
                    },
                    "autotypenumbers": "strict",
                    "coloraxis": {
                      "colorbar": {
                        "outlinewidth": 0,
                        "ticks": ""
                      }
                    },
                    "colorscale": {
                      "diverging": [
                        [
                          0,
                          "#8e0152"
                        ],
                        [
                          0.1,
                          "#c51b7d"
                        ],
                        [
                          0.2,
                          "#de77ae"
                        ],
                        [
                          0.3,
                          "#f1b6da"
                        ],
                        [
                          0.4,
                          "#fde0ef"
                        ],
                        [
                          0.5,
                          "#f7f7f7"
                        ],
                        [
                          0.6,
                          "#e6f5d0"
                        ],
                        [
                          0.7,
                          "#b8e186"
                        ],
                        [
                          0.8,
                          "#7fbc41"
                        ],
                        [
                          0.9,
                          "#4d9221"
                        ],
                        [
                          1,
                          "#276419"
                        ]
                      ],
                      "sequential": [
                        [
                          0,
                          "#0d0887"
                        ],
                        [
                          0.1111111111111111,
                          "#46039f"
                        ],
                        [
                          0.2222222222222222,
                          "#7201a8"
                        ],
                        [
                          0.3333333333333333,
                          "#9c179e"
                        ],
                        [
                          0.4444444444444444,
                          "#bd3786"
                        ],
                        [
                          0.5555555555555556,
                          "#d8576b"
                        ],
                        [
                          0.6666666666666666,
                          "#ed7953"
                        ],
                        [
                          0.7777777777777778,
                          "#fb9f3a"
                        ],
                        [
                          0.8888888888888888,
                          "#fdca26"
                        ],
                        [
                          1,
                          "#f0f921"
                        ]
                      ],
                      "sequentialminus": [
                        [
                          0,
                          "#0d0887"
                        ],
                        [
                          0.1111111111111111,
                          "#46039f"
                        ],
                        [
                          0.2222222222222222,
                          "#7201a8"
                        ],
                        [
                          0.3333333333333333,
                          "#9c179e"
                        ],
                        [
                          0.4444444444444444,
                          "#bd3786"
                        ],
                        [
                          0.5555555555555556,
                          "#d8576b"
                        ],
                        [
                          0.6666666666666666,
                          "#ed7953"
                        ],
                        [
                          0.7777777777777778,
                          "#fb9f3a"
                        ],
                        [
                          0.8888888888888888,
                          "#fdca26"
                        ],
                        [
                          1,
                          "#f0f921"
                        ]
                      ]
                    },
                    "colorway": [
                      "#636efa",
                      "#EF553B",
                      "#00cc96",
                      "#ab63fa",
                      "#FFA15A",
                      "#19d3f3",
                      "#FF6692",
                      "#B6E880",
                      "#FF97FF",
                      "#FECB52"
                    ],
                    "font": {
                      "color": "#2a3f5f"
                    },
                    "geo": {
                      "bgcolor": "white",
                      "lakecolor": "white",
                      "landcolor": "#E5ECF6",
                      "showlakes": true,
                      "showland": true,
                      "subunitcolor": "white"
                    },
                    "hoverlabel": {
                      "align": "left"
                    },
                    "hovermode": "closest",
                    "mapbox": {
                      "style": "light"
                    },
                    "paper_bgcolor": "white",
                    "plot_bgcolor": "#E5ECF6",
                    "polar": {
                      "angularaxis": {
                        "gridcolor": "white",
                        "linecolor": "white",
                        "ticks": ""
                      },
                      "bgcolor": "#E5ECF6",
                      "radialaxis": {
                        "gridcolor": "white",
                        "linecolor": "white",
                        "ticks": ""
                      }
                    },
                    "scene": {
                      "xaxis": {
                        "backgroundcolor": "#E5ECF6",
                        "gridcolor": "white",
                        "gridwidth": 2,
                        "linecolor": "white",
                        "showbackground": true,
                        "ticks": "",
                        "zerolinecolor": "white"
                      },
                      "yaxis": {
                        "backgroundcolor": "#E5ECF6",
                        "gridcolor": "white",
                        "gridwidth": 2,
                        "linecolor": "white",
                        "showbackground": true,
                        "ticks": "",
                        "zerolinecolor": "white"
                      },
                      "zaxis": {
                        "backgroundcolor": "#E5ECF6",
                        "gridcolor": "white",
                        "gridwidth": 2,
                        "linecolor": "white",
                        "showbackground": true,
                        "ticks": "",
                        "zerolinecolor": "white"
                      }
                    },
                    "shapedefaults": {
                      "line": {
                        "color": "#2a3f5f"
                      }
                    },
                    "ternary": {
                      "aaxis": {
                        "gridcolor": "white",
                        "linecolor": "white",
                        "ticks": ""
                      },
                      "baxis": {
                        "gridcolor": "white",
                        "linecolor": "white",
                        "ticks": ""
                      },
                      "bgcolor": "#E5ECF6",
                      "caxis": {
                        "gridcolor": "white",
                        "linecolor": "white",
                        "ticks": ""
                      }
                    },
                    "title": {
                      "x": 0.05
                    },
                    "xaxis": {
                      "automargin": true,
                      "gridcolor": "white",
                      "linecolor": "white",
                      "ticks": "",
                      "title": {
                        "standoff": 15
                      },
                      "zerolinecolor": "white",
                      "zerolinewidth": 2
                    },
                    "yaxis": {
                      "automargin": true,
                      "gridcolor": "white",
                      "linecolor": "white",
                      "ticks": "",
                      "title": {
                        "standoff": 15
                      },
                      "zerolinecolor": "white",
                      "zerolinewidth": 2
                    }
                  }
                },
                "title": {
                  "text": "protein"
                },
                "xaxis": {
                  "anchor": "y",
                  "domain": [
                    0,
                    1
                  ],
                  "title": {
                    "text": "protein"
                  }
                },
                "yaxis": {
                  "anchor": "x",
                  "domain": [
                    0,
                    1
                  ],
                  "title": {
                    "text": "count"
                  }
                }
              }
            }
          },
          "metadata": {},
          "output_type": "display_data"
        },
        {
          "data": {
            "application/vnd.plotly.v1+json": {
              "config": {
                "plotlyServerURL": "https://plot.ly"
              },
              "data": [
                {
                  "alignmentgroup": "True",
                  "bingroup": "x",
                  "hovertemplate": "vit_a=%{x}<br>count=%{y}<extra></extra>",
                  "legendgroup": "",
                  "marker": {
                    "color": "#636efa",
                    "pattern": {
                      "shape": ""
                    }
                  },
                  "name": "",
                  "offsetgroup": "",
                  "orientation": "v",
                  "showlegend": false,
                  "type": "histogram",
                  "x": [
                    4,
                    6,
                    10,
                    6,
                    6,
                    10,
                    10,
                    0,
                    20,
                    20,
                    2,
                    10,
                    10,
                    10,
                    2,
                    4,
                    6,
                    4,
                    4,
                    2,
                    10,
                    2,
                    8,
                    8,
                    8,
                    4,
                    6,
                    20,
                    20,
                    20,
                    20,
                    6,
                    4,
                    4,
                    0,
                    0,
                    0,
                    0,
                    0,
                    0,
                    0,
                    0,
                    0,
                    0,
                    0,
                    4,
                    4,
                    8,
                    180,
                    180,
                    180,
                    180,
                    180,
                    180,
                    180,
                    180,
                    180,
                    30,
                    25,
                    null,
                    0,
                    0,
                    2,
                    2,
                    30,
                    0,
                    0,
                    0,
                    0,
                    null,
                    35,
                    2,
                    0,
                    0,
                    0,
                    0,
                    null,
                    null,
                    45,
                    4,
                    30,
                    60,
                    null,
                    null,
                    10,
                    4,
                    2,
                    7,
                    2,
                    6,
                    15,
                    10,
                    6,
                    8,
                    6,
                    10,
                    15,
                    10,
                    15,
                    15,
                    20,
                    15,
                    15,
                    6,
                    6,
                    6,
                    11,
                    11,
                    6,
                    6,
                    0,
                    null,
                    null,
                    10,
                    null,
                    null,
                    0,
                    0,
                    10,
                    17,
                    1,
                    1,
                    2,
                    1,
                    1,
                    1,
                    4,
                    15,
                    2,
                    4,
                    10,
                    2,
                    0,
                    1,
                    0,
                    15,
                    0,
                    2,
                    4,
                    2,
                    2,
                    null,
                    null,
                    null,
                    null,
                    null,
                    null,
                    null,
                    2,
                    0,
                    0,
                    null,
                    15,
                    null,
                    null,
                    null,
                    null,
                    2,
                    null,
                    null,
                    10,
                    0,
                    0,
                    0,
                    6,
                    10,
                    20,
                    20,
                    20,
                    20,
                    null,
                    null,
                    4,
                    10,
                    null,
                    null,
                    null,
                    10,
                    null,
                    null,
                    null,
                    null,
                    null,
                    null,
                    null,
                    null,
                    null,
                    35,
                    60,
                    null,
                    60,
                    null,
                    null,
                    null,
                    null,
                    null,
                    null,
                    null,
                    null,
                    null,
                    null,
                    null,
                    null,
                    null,
                    null,
                    null,
                    null,
                    null,
                    null,
                    null,
                    null,
                    null,
                    null,
                    null,
                    null,
                    null,
                    null,
                    null,
                    null,
                    null,
                    null,
                    null,
                    null,
                    null,
                    null,
                    null,
                    null,
                    null,
                    null,
                    null,
                    null,
                    null,
                    null,
                    null,
                    null,
                    null,
                    null,
                    null,
                    null,
                    null,
                    null,
                    null,
                    null,
                    null,
                    null,
                    null,
                    null,
                    null,
                    null,
                    null,
                    null,
                    null,
                    null,
                    null,
                    null,
                    null,
                    null,
                    null,
                    null,
                    null,
                    null,
                    null,
                    25,
                    25,
                    20,
                    20,
                    2,
                    10,
                    15,
                    2,
                    2,
                    null,
                    null,
                    10,
                    8,
                    4,
                    null,
                    10,
                    0,
                    30,
                    null,
                    null,
                    0,
                    10,
                    20,
                    25,
                    15,
                    15,
                    20,
                    null,
                    null,
                    null,
                    null,
                    null,
                    null,
                    null,
                    10,
                    10,
                    null,
                    null,
                    10,
                    10,
                    50,
                    null,
                    8,
                    16,
                    8,
                    16,
                    10,
                    20,
                    15,
                    30,
                    6,
                    8,
                    16,
                    8,
                    16,
                    10,
                    20,
                    15,
                    30,
                    15,
                    30,
                    10,
                    20,
                    10,
                    20,
                    8,
                    16,
                    10,
                    20,
                    25,
                    50,
                    8,
                    16,
                    6,
                    8,
                    16,
                    8,
                    16,
                    8,
                    16,
                    10,
                    20,
                    8,
                    16,
                    10,
                    20,
                    10,
                    20,
                    8,
                    16,
                    8,
                    16,
                    10,
                    20,
                    6,
                    8,
                    16,
                    8,
                    16,
                    10,
                    20,
                    6,
                    8,
                    16,
                    15,
                    30,
                    40,
                    50,
                    25,
                    60,
                    25,
                    50,
                    50,
                    40,
                    60,
                    50,
                    50,
                    50,
                    40,
                    60,
                    50,
                    25,
                    50,
                    50,
                    25,
                    50,
                    25,
                    50,
                    25,
                    25,
                    25,
                    15,
                    15,
                    10,
                    35,
                    25,
                    30,
                    30,
                    null,
                    null,
                    null,
                    null,
                    null,
                    null,
                    null,
                    null,
                    null,
                    null,
                    null,
                    null,
                    null,
                    null,
                    null,
                    10,
                    10,
                    15,
                    15,
                    null,
                    null,
                    null,
                    null,
                    null,
                    null,
                    null,
                    15,
                    10,
                    15,
                    6,
                    null,
                    null,
                    null,
                    null,
                    null,
                    null,
                    null,
                    null,
                    null,
                    null,
                    null,
                    10,
                    15,
                    8,
                    null,
                    null,
                    null,
                    null,
                    null,
                    null,
                    null,
                    null,
                    null,
                    null,
                    null,
                    null,
                    null,
                    15,
                    6,
                    6,
                    15,
                    null,
                    null,
                    null,
                    null,
                    null,
                    null,
                    null,
                    null,
                    null,
                    null,
                    null,
                    15,
                    null,
                    null,
                    null,
                    10,
                    null,
                    null,
                    null,
                    6,
                    null,
                    null,
                    null,
                    null,
                    null,
                    null,
                    null,
                    null,
                    null,
                    null,
                    8,
                    null,
                    null,
                    10,
                    null,
                    null,
                    null,
                    null,
                    null,
                    null,
                    15,
                    15,
                    15,
                    null,
                    null,
                    null,
                    8,
                    null,
                    15,
                    20,
                    null,
                    null,
                    null,
                    null
                  ],
                  "xaxis": "x",
                  "yaxis": "y"
                }
              ],
              "layout": {
                "barmode": "relative",
                "legend": {
                  "tracegroupgap": 0
                },
                "template": {
                  "data": {
                    "bar": [
                      {
                        "error_x": {
                          "color": "#2a3f5f"
                        },
                        "error_y": {
                          "color": "#2a3f5f"
                        },
                        "marker": {
                          "line": {
                            "color": "#E5ECF6",
                            "width": 0.5
                          },
                          "pattern": {
                            "fillmode": "overlay",
                            "size": 10,
                            "solidity": 0.2
                          }
                        },
                        "type": "bar"
                      }
                    ],
                    "barpolar": [
                      {
                        "marker": {
                          "line": {
                            "color": "#E5ECF6",
                            "width": 0.5
                          },
                          "pattern": {
                            "fillmode": "overlay",
                            "size": 10,
                            "solidity": 0.2
                          }
                        },
                        "type": "barpolar"
                      }
                    ],
                    "carpet": [
                      {
                        "aaxis": {
                          "endlinecolor": "#2a3f5f",
                          "gridcolor": "white",
                          "linecolor": "white",
                          "minorgridcolor": "white",
                          "startlinecolor": "#2a3f5f"
                        },
                        "baxis": {
                          "endlinecolor": "#2a3f5f",
                          "gridcolor": "white",
                          "linecolor": "white",
                          "minorgridcolor": "white",
                          "startlinecolor": "#2a3f5f"
                        },
                        "type": "carpet"
                      }
                    ],
                    "choropleth": [
                      {
                        "colorbar": {
                          "outlinewidth": 0,
                          "ticks": ""
                        },
                        "type": "choropleth"
                      }
                    ],
                    "contour": [
                      {
                        "colorbar": {
                          "outlinewidth": 0,
                          "ticks": ""
                        },
                        "colorscale": [
                          [
                            0,
                            "#0d0887"
                          ],
                          [
                            0.1111111111111111,
                            "#46039f"
                          ],
                          [
                            0.2222222222222222,
                            "#7201a8"
                          ],
                          [
                            0.3333333333333333,
                            "#9c179e"
                          ],
                          [
                            0.4444444444444444,
                            "#bd3786"
                          ],
                          [
                            0.5555555555555556,
                            "#d8576b"
                          ],
                          [
                            0.6666666666666666,
                            "#ed7953"
                          ],
                          [
                            0.7777777777777778,
                            "#fb9f3a"
                          ],
                          [
                            0.8888888888888888,
                            "#fdca26"
                          ],
                          [
                            1,
                            "#f0f921"
                          ]
                        ],
                        "type": "contour"
                      }
                    ],
                    "contourcarpet": [
                      {
                        "colorbar": {
                          "outlinewidth": 0,
                          "ticks": ""
                        },
                        "type": "contourcarpet"
                      }
                    ],
                    "heatmap": [
                      {
                        "colorbar": {
                          "outlinewidth": 0,
                          "ticks": ""
                        },
                        "colorscale": [
                          [
                            0,
                            "#0d0887"
                          ],
                          [
                            0.1111111111111111,
                            "#46039f"
                          ],
                          [
                            0.2222222222222222,
                            "#7201a8"
                          ],
                          [
                            0.3333333333333333,
                            "#9c179e"
                          ],
                          [
                            0.4444444444444444,
                            "#bd3786"
                          ],
                          [
                            0.5555555555555556,
                            "#d8576b"
                          ],
                          [
                            0.6666666666666666,
                            "#ed7953"
                          ],
                          [
                            0.7777777777777778,
                            "#fb9f3a"
                          ],
                          [
                            0.8888888888888888,
                            "#fdca26"
                          ],
                          [
                            1,
                            "#f0f921"
                          ]
                        ],
                        "type": "heatmap"
                      }
                    ],
                    "heatmapgl": [
                      {
                        "colorbar": {
                          "outlinewidth": 0,
                          "ticks": ""
                        },
                        "colorscale": [
                          [
                            0,
                            "#0d0887"
                          ],
                          [
                            0.1111111111111111,
                            "#46039f"
                          ],
                          [
                            0.2222222222222222,
                            "#7201a8"
                          ],
                          [
                            0.3333333333333333,
                            "#9c179e"
                          ],
                          [
                            0.4444444444444444,
                            "#bd3786"
                          ],
                          [
                            0.5555555555555556,
                            "#d8576b"
                          ],
                          [
                            0.6666666666666666,
                            "#ed7953"
                          ],
                          [
                            0.7777777777777778,
                            "#fb9f3a"
                          ],
                          [
                            0.8888888888888888,
                            "#fdca26"
                          ],
                          [
                            1,
                            "#f0f921"
                          ]
                        ],
                        "type": "heatmapgl"
                      }
                    ],
                    "histogram": [
                      {
                        "marker": {
                          "pattern": {
                            "fillmode": "overlay",
                            "size": 10,
                            "solidity": 0.2
                          }
                        },
                        "type": "histogram"
                      }
                    ],
                    "histogram2d": [
                      {
                        "colorbar": {
                          "outlinewidth": 0,
                          "ticks": ""
                        },
                        "colorscale": [
                          [
                            0,
                            "#0d0887"
                          ],
                          [
                            0.1111111111111111,
                            "#46039f"
                          ],
                          [
                            0.2222222222222222,
                            "#7201a8"
                          ],
                          [
                            0.3333333333333333,
                            "#9c179e"
                          ],
                          [
                            0.4444444444444444,
                            "#bd3786"
                          ],
                          [
                            0.5555555555555556,
                            "#d8576b"
                          ],
                          [
                            0.6666666666666666,
                            "#ed7953"
                          ],
                          [
                            0.7777777777777778,
                            "#fb9f3a"
                          ],
                          [
                            0.8888888888888888,
                            "#fdca26"
                          ],
                          [
                            1,
                            "#f0f921"
                          ]
                        ],
                        "type": "histogram2d"
                      }
                    ],
                    "histogram2dcontour": [
                      {
                        "colorbar": {
                          "outlinewidth": 0,
                          "ticks": ""
                        },
                        "colorscale": [
                          [
                            0,
                            "#0d0887"
                          ],
                          [
                            0.1111111111111111,
                            "#46039f"
                          ],
                          [
                            0.2222222222222222,
                            "#7201a8"
                          ],
                          [
                            0.3333333333333333,
                            "#9c179e"
                          ],
                          [
                            0.4444444444444444,
                            "#bd3786"
                          ],
                          [
                            0.5555555555555556,
                            "#d8576b"
                          ],
                          [
                            0.6666666666666666,
                            "#ed7953"
                          ],
                          [
                            0.7777777777777778,
                            "#fb9f3a"
                          ],
                          [
                            0.8888888888888888,
                            "#fdca26"
                          ],
                          [
                            1,
                            "#f0f921"
                          ]
                        ],
                        "type": "histogram2dcontour"
                      }
                    ],
                    "mesh3d": [
                      {
                        "colorbar": {
                          "outlinewidth": 0,
                          "ticks": ""
                        },
                        "type": "mesh3d"
                      }
                    ],
                    "parcoords": [
                      {
                        "line": {
                          "colorbar": {
                            "outlinewidth": 0,
                            "ticks": ""
                          }
                        },
                        "type": "parcoords"
                      }
                    ],
                    "pie": [
                      {
                        "automargin": true,
                        "type": "pie"
                      }
                    ],
                    "scatter": [
                      {
                        "fillpattern": {
                          "fillmode": "overlay",
                          "size": 10,
                          "solidity": 0.2
                        },
                        "type": "scatter"
                      }
                    ],
                    "scatter3d": [
                      {
                        "line": {
                          "colorbar": {
                            "outlinewidth": 0,
                            "ticks": ""
                          }
                        },
                        "marker": {
                          "colorbar": {
                            "outlinewidth": 0,
                            "ticks": ""
                          }
                        },
                        "type": "scatter3d"
                      }
                    ],
                    "scattercarpet": [
                      {
                        "marker": {
                          "colorbar": {
                            "outlinewidth": 0,
                            "ticks": ""
                          }
                        },
                        "type": "scattercarpet"
                      }
                    ],
                    "scattergeo": [
                      {
                        "marker": {
                          "colorbar": {
                            "outlinewidth": 0,
                            "ticks": ""
                          }
                        },
                        "type": "scattergeo"
                      }
                    ],
                    "scattergl": [
                      {
                        "marker": {
                          "colorbar": {
                            "outlinewidth": 0,
                            "ticks": ""
                          }
                        },
                        "type": "scattergl"
                      }
                    ],
                    "scattermapbox": [
                      {
                        "marker": {
                          "colorbar": {
                            "outlinewidth": 0,
                            "ticks": ""
                          }
                        },
                        "type": "scattermapbox"
                      }
                    ],
                    "scatterpolar": [
                      {
                        "marker": {
                          "colorbar": {
                            "outlinewidth": 0,
                            "ticks": ""
                          }
                        },
                        "type": "scatterpolar"
                      }
                    ],
                    "scatterpolargl": [
                      {
                        "marker": {
                          "colorbar": {
                            "outlinewidth": 0,
                            "ticks": ""
                          }
                        },
                        "type": "scatterpolargl"
                      }
                    ],
                    "scatterternary": [
                      {
                        "marker": {
                          "colorbar": {
                            "outlinewidth": 0,
                            "ticks": ""
                          }
                        },
                        "type": "scatterternary"
                      }
                    ],
                    "surface": [
                      {
                        "colorbar": {
                          "outlinewidth": 0,
                          "ticks": ""
                        },
                        "colorscale": [
                          [
                            0,
                            "#0d0887"
                          ],
                          [
                            0.1111111111111111,
                            "#46039f"
                          ],
                          [
                            0.2222222222222222,
                            "#7201a8"
                          ],
                          [
                            0.3333333333333333,
                            "#9c179e"
                          ],
                          [
                            0.4444444444444444,
                            "#bd3786"
                          ],
                          [
                            0.5555555555555556,
                            "#d8576b"
                          ],
                          [
                            0.6666666666666666,
                            "#ed7953"
                          ],
                          [
                            0.7777777777777778,
                            "#fb9f3a"
                          ],
                          [
                            0.8888888888888888,
                            "#fdca26"
                          ],
                          [
                            1,
                            "#f0f921"
                          ]
                        ],
                        "type": "surface"
                      }
                    ],
                    "table": [
                      {
                        "cells": {
                          "fill": {
                            "color": "#EBF0F8"
                          },
                          "line": {
                            "color": "white"
                          }
                        },
                        "header": {
                          "fill": {
                            "color": "#C8D4E3"
                          },
                          "line": {
                            "color": "white"
                          }
                        },
                        "type": "table"
                      }
                    ]
                  },
                  "layout": {
                    "annotationdefaults": {
                      "arrowcolor": "#2a3f5f",
                      "arrowhead": 0,
                      "arrowwidth": 1
                    },
                    "autotypenumbers": "strict",
                    "coloraxis": {
                      "colorbar": {
                        "outlinewidth": 0,
                        "ticks": ""
                      }
                    },
                    "colorscale": {
                      "diverging": [
                        [
                          0,
                          "#8e0152"
                        ],
                        [
                          0.1,
                          "#c51b7d"
                        ],
                        [
                          0.2,
                          "#de77ae"
                        ],
                        [
                          0.3,
                          "#f1b6da"
                        ],
                        [
                          0.4,
                          "#fde0ef"
                        ],
                        [
                          0.5,
                          "#f7f7f7"
                        ],
                        [
                          0.6,
                          "#e6f5d0"
                        ],
                        [
                          0.7,
                          "#b8e186"
                        ],
                        [
                          0.8,
                          "#7fbc41"
                        ],
                        [
                          0.9,
                          "#4d9221"
                        ],
                        [
                          1,
                          "#276419"
                        ]
                      ],
                      "sequential": [
                        [
                          0,
                          "#0d0887"
                        ],
                        [
                          0.1111111111111111,
                          "#46039f"
                        ],
                        [
                          0.2222222222222222,
                          "#7201a8"
                        ],
                        [
                          0.3333333333333333,
                          "#9c179e"
                        ],
                        [
                          0.4444444444444444,
                          "#bd3786"
                        ],
                        [
                          0.5555555555555556,
                          "#d8576b"
                        ],
                        [
                          0.6666666666666666,
                          "#ed7953"
                        ],
                        [
                          0.7777777777777778,
                          "#fb9f3a"
                        ],
                        [
                          0.8888888888888888,
                          "#fdca26"
                        ],
                        [
                          1,
                          "#f0f921"
                        ]
                      ],
                      "sequentialminus": [
                        [
                          0,
                          "#0d0887"
                        ],
                        [
                          0.1111111111111111,
                          "#46039f"
                        ],
                        [
                          0.2222222222222222,
                          "#7201a8"
                        ],
                        [
                          0.3333333333333333,
                          "#9c179e"
                        ],
                        [
                          0.4444444444444444,
                          "#bd3786"
                        ],
                        [
                          0.5555555555555556,
                          "#d8576b"
                        ],
                        [
                          0.6666666666666666,
                          "#ed7953"
                        ],
                        [
                          0.7777777777777778,
                          "#fb9f3a"
                        ],
                        [
                          0.8888888888888888,
                          "#fdca26"
                        ],
                        [
                          1,
                          "#f0f921"
                        ]
                      ]
                    },
                    "colorway": [
                      "#636efa",
                      "#EF553B",
                      "#00cc96",
                      "#ab63fa",
                      "#FFA15A",
                      "#19d3f3",
                      "#FF6692",
                      "#B6E880",
                      "#FF97FF",
                      "#FECB52"
                    ],
                    "font": {
                      "color": "#2a3f5f"
                    },
                    "geo": {
                      "bgcolor": "white",
                      "lakecolor": "white",
                      "landcolor": "#E5ECF6",
                      "showlakes": true,
                      "showland": true,
                      "subunitcolor": "white"
                    },
                    "hoverlabel": {
                      "align": "left"
                    },
                    "hovermode": "closest",
                    "mapbox": {
                      "style": "light"
                    },
                    "paper_bgcolor": "white",
                    "plot_bgcolor": "#E5ECF6",
                    "polar": {
                      "angularaxis": {
                        "gridcolor": "white",
                        "linecolor": "white",
                        "ticks": ""
                      },
                      "bgcolor": "#E5ECF6",
                      "radialaxis": {
                        "gridcolor": "white",
                        "linecolor": "white",
                        "ticks": ""
                      }
                    },
                    "scene": {
                      "xaxis": {
                        "backgroundcolor": "#E5ECF6",
                        "gridcolor": "white",
                        "gridwidth": 2,
                        "linecolor": "white",
                        "showbackground": true,
                        "ticks": "",
                        "zerolinecolor": "white"
                      },
                      "yaxis": {
                        "backgroundcolor": "#E5ECF6",
                        "gridcolor": "white",
                        "gridwidth": 2,
                        "linecolor": "white",
                        "showbackground": true,
                        "ticks": "",
                        "zerolinecolor": "white"
                      },
                      "zaxis": {
                        "backgroundcolor": "#E5ECF6",
                        "gridcolor": "white",
                        "gridwidth": 2,
                        "linecolor": "white",
                        "showbackground": true,
                        "ticks": "",
                        "zerolinecolor": "white"
                      }
                    },
                    "shapedefaults": {
                      "line": {
                        "color": "#2a3f5f"
                      }
                    },
                    "ternary": {
                      "aaxis": {
                        "gridcolor": "white",
                        "linecolor": "white",
                        "ticks": ""
                      },
                      "baxis": {
                        "gridcolor": "white",
                        "linecolor": "white",
                        "ticks": ""
                      },
                      "bgcolor": "#E5ECF6",
                      "caxis": {
                        "gridcolor": "white",
                        "linecolor": "white",
                        "ticks": ""
                      }
                    },
                    "title": {
                      "x": 0.05
                    },
                    "xaxis": {
                      "automargin": true,
                      "gridcolor": "white",
                      "linecolor": "white",
                      "ticks": "",
                      "title": {
                        "standoff": 15
                      },
                      "zerolinecolor": "white",
                      "zerolinewidth": 2
                    },
                    "yaxis": {
                      "automargin": true,
                      "gridcolor": "white",
                      "linecolor": "white",
                      "ticks": "",
                      "title": {
                        "standoff": 15
                      },
                      "zerolinecolor": "white",
                      "zerolinewidth": 2
                    }
                  }
                },
                "title": {
                  "text": "vit_a"
                },
                "xaxis": {
                  "anchor": "y",
                  "domain": [
                    0,
                    1
                  ],
                  "title": {
                    "text": "vit_a"
                  }
                },
                "yaxis": {
                  "anchor": "x",
                  "domain": [
                    0,
                    1
                  ],
                  "title": {
                    "text": "count"
                  }
                }
              }
            }
          },
          "metadata": {},
          "output_type": "display_data"
        },
        {
          "data": {
            "application/vnd.plotly.v1+json": {
              "config": {
                "plotlyServerURL": "https://plot.ly"
              },
              "data": [
                {
                  "alignmentgroup": "True",
                  "bingroup": "x",
                  "hovertemplate": "vit_c=%{x}<br>count=%{y}<extra></extra>",
                  "legendgroup": "",
                  "marker": {
                    "color": "#636efa",
                    "pattern": {
                      "shape": ""
                    }
                  },
                  "name": "",
                  "offsetgroup": "",
                  "orientation": "v",
                  "showlegend": false,
                  "type": "histogram",
                  "x": [
                    20,
                    20,
                    20,
                    25,
                    20,
                    2,
                    2,
                    4,
                    4,
                    6,
                    0,
                    10,
                    20,
                    15,
                    2,
                    6,
                    15,
                    30,
                    20,
                    2,
                    2,
                    2,
                    15,
                    25,
                    15,
                    10,
                    10,
                    6,
                    15,
                    25,
                    20,
                    15,
                    30,
                    20,
                    0,
                    0,
                    0,
                    0,
                    2,
                    2,
                    2,
                    2,
                    4,
                    8,
                    15,
                    15,
                    25,
                    40,
                    45,
                    70,
                    60,
                    50,
                    60,
                    60,
                    40,
                    50,
                    40,
                    40,
                    40,
                    0,
                    0,
                    2,
                    2,
                    4,
                    10,
                    2,
                    4,
                    2,
                    8,
                    20,
                    8,
                    4,
                    6,
                    8,
                    10,
                    20,
                    25,
                    50,
                    40,
                    2,
                    10,
                    35,
                    null,
                    null,
                    25,
                    2,
                    4,
                    1,
                    4,
                    4,
                    4,
                    8,
                    8,
                    10,
                    8,
                    8,
                    10,
                    8,
                    6,
                    8,
                    10,
                    8,
                    2,
                    8,
                    8,
                    8,
                    20,
                    7,
                    8,
                    8,
                    0,
                    null,
                    null,
                    8,
                    null,
                    null,
                    0,
                    0,
                    0,
                    0,
                    6,
                    7,
                    8,
                    2,
                    2,
                    3,
                    2,
                    8,
                    4,
                    6,
                    2,
                    10,
                    2,
                    3,
                    0,
                    4,
                    0,
                    0,
                    10,
                    2,
                    2,
                    null,
                    null,
                    null,
                    null,
                    null,
                    null,
                    null,
                    8,
                    0,
                    0,
                    null,
                    10,
                    null,
                    null,
                    null,
                    null,
                    0,
                    null,
                    null,
                    8,
                    0,
                    4,
                    8,
                    20,
                    15,
                    10,
                    10,
                    10,
                    10,
                    null,
                    null,
                    8,
                    10,
                    null,
                    null,
                    null,
                    15,
                    null,
                    null,
                    null,
                    null,
                    null,
                    null,
                    null,
                    null,
                    null,
                    10,
                    20,
                    null,
                    20,
                    null,
                    null,
                    null,
                    null,
                    null,
                    null,
                    null,
                    null,
                    null,
                    null,
                    null,
                    null,
                    null,
                    null,
                    null,
                    null,
                    null,
                    null,
                    null,
                    null,
                    null,
                    null,
                    null,
                    null,
                    null,
                    null,
                    null,
                    null,
                    null,
                    null,
                    null,
                    null,
                    null,
                    null,
                    null,
                    null,
                    null,
                    null,
                    null,
                    null,
                    null,
                    null,
                    null,
                    null,
                    null,
                    null,
                    null,
                    null,
                    null,
                    null,
                    null,
                    null,
                    null,
                    null,
                    null,
                    null,
                    null,
                    null,
                    null,
                    null,
                    null,
                    null,
                    null,
                    null,
                    null,
                    null,
                    null,
                    null,
                    null,
                    null,
                    null,
                    8,
                    6,
                    6,
                    6,
                    0,
                    0,
                    0,
                    0,
                    0,
                    null,
                    null,
                    0,
                    0,
                    0,
                    null,
                    4,
                    2,
                    0,
                    null,
                    null,
                    4,
                    2,
                    6,
                    6,
                    6,
                    6,
                    6,
                    null,
                    null,
                    null,
                    null,
                    null,
                    null,
                    null,
                    6,
                    2,
                    null,
                    null,
                    8,
                    4,
                    30,
                    null,
                    8,
                    16,
                    20,
                    40,
                    45,
                    90,
                    20,
                    40,
                    15,
                    20,
                    40,
                    20,
                    40,
                    20,
                    40,
                    25,
                    50,
                    30,
                    60,
                    20,
                    40,
                    35,
                    70,
                    20,
                    40,
                    20,
                    40,
                    35,
                    70,
                    30,
                    60,
                    15,
                    20,
                    40,
                    20,
                    40,
                    20,
                    40,
                    20,
                    40,
                    20,
                    40,
                    20,
                    40,
                    20,
                    40,
                    30,
                    60,
                    20,
                    40,
                    200,
                    400,
                    15,
                    20,
                    40,
                    20,
                    40,
                    20,
                    40,
                    15,
                    20,
                    40,
                    20,
                    20,
                    40,
                    50,
                    70,
                    50,
                    45,
                    60,
                    50,
                    40,
                    60,
                    50,
                    60,
                    50,
                    60,
                    70,
                    60,
                    45,
                    50,
                    50,
                    45,
                    50,
                    50,
                    50,
                    45,
                    45,
                    45,
                    45,
                    8,
                    30,
                    30,
                    4,
                    4,
                    4,
                    null,
                    null,
                    null,
                    null,
                    null,
                    null,
                    null,
                    null,
                    null,
                    null,
                    null,
                    null,
                    null,
                    null,
                    null,
                    4,
                    4,
                    4,
                    6,
                    null,
                    null,
                    null,
                    null,
                    null,
                    null,
                    null,
                    8,
                    6,
                    6,
                    2,
                    null,
                    null,
                    null,
                    null,
                    null,
                    null,
                    null,
                    null,
                    null,
                    null,
                    null,
                    2,
                    2,
                    2,
                    null,
                    null,
                    null,
                    null,
                    null,
                    null,
                    null,
                    null,
                    null,
                    null,
                    null,
                    null,
                    null,
                    4,
                    4,
                    4,
                    8,
                    null,
                    null,
                    null,
                    null,
                    null,
                    null,
                    null,
                    null,
                    null,
                    null,
                    null,
                    2,
                    null,
                    null,
                    null,
                    4,
                    null,
                    null,
                    null,
                    0,
                    null,
                    null,
                    null,
                    null,
                    null,
                    null,
                    null,
                    null,
                    null,
                    null,
                    6,
                    null,
                    null,
                    2,
                    null,
                    null,
                    null,
                    null,
                    null,
                    null,
                    6,
                    8,
                    6,
                    null,
                    null,
                    null,
                    2,
                    null,
                    6,
                    10,
                    null,
                    null,
                    null,
                    null
                  ],
                  "xaxis": "x",
                  "yaxis": "y"
                }
              ],
              "layout": {
                "barmode": "relative",
                "legend": {
                  "tracegroupgap": 0
                },
                "template": {
                  "data": {
                    "bar": [
                      {
                        "error_x": {
                          "color": "#2a3f5f"
                        },
                        "error_y": {
                          "color": "#2a3f5f"
                        },
                        "marker": {
                          "line": {
                            "color": "#E5ECF6",
                            "width": 0.5
                          },
                          "pattern": {
                            "fillmode": "overlay",
                            "size": 10,
                            "solidity": 0.2
                          }
                        },
                        "type": "bar"
                      }
                    ],
                    "barpolar": [
                      {
                        "marker": {
                          "line": {
                            "color": "#E5ECF6",
                            "width": 0.5
                          },
                          "pattern": {
                            "fillmode": "overlay",
                            "size": 10,
                            "solidity": 0.2
                          }
                        },
                        "type": "barpolar"
                      }
                    ],
                    "carpet": [
                      {
                        "aaxis": {
                          "endlinecolor": "#2a3f5f",
                          "gridcolor": "white",
                          "linecolor": "white",
                          "minorgridcolor": "white",
                          "startlinecolor": "#2a3f5f"
                        },
                        "baxis": {
                          "endlinecolor": "#2a3f5f",
                          "gridcolor": "white",
                          "linecolor": "white",
                          "minorgridcolor": "white",
                          "startlinecolor": "#2a3f5f"
                        },
                        "type": "carpet"
                      }
                    ],
                    "choropleth": [
                      {
                        "colorbar": {
                          "outlinewidth": 0,
                          "ticks": ""
                        },
                        "type": "choropleth"
                      }
                    ],
                    "contour": [
                      {
                        "colorbar": {
                          "outlinewidth": 0,
                          "ticks": ""
                        },
                        "colorscale": [
                          [
                            0,
                            "#0d0887"
                          ],
                          [
                            0.1111111111111111,
                            "#46039f"
                          ],
                          [
                            0.2222222222222222,
                            "#7201a8"
                          ],
                          [
                            0.3333333333333333,
                            "#9c179e"
                          ],
                          [
                            0.4444444444444444,
                            "#bd3786"
                          ],
                          [
                            0.5555555555555556,
                            "#d8576b"
                          ],
                          [
                            0.6666666666666666,
                            "#ed7953"
                          ],
                          [
                            0.7777777777777778,
                            "#fb9f3a"
                          ],
                          [
                            0.8888888888888888,
                            "#fdca26"
                          ],
                          [
                            1,
                            "#f0f921"
                          ]
                        ],
                        "type": "contour"
                      }
                    ],
                    "contourcarpet": [
                      {
                        "colorbar": {
                          "outlinewidth": 0,
                          "ticks": ""
                        },
                        "type": "contourcarpet"
                      }
                    ],
                    "heatmap": [
                      {
                        "colorbar": {
                          "outlinewidth": 0,
                          "ticks": ""
                        },
                        "colorscale": [
                          [
                            0,
                            "#0d0887"
                          ],
                          [
                            0.1111111111111111,
                            "#46039f"
                          ],
                          [
                            0.2222222222222222,
                            "#7201a8"
                          ],
                          [
                            0.3333333333333333,
                            "#9c179e"
                          ],
                          [
                            0.4444444444444444,
                            "#bd3786"
                          ],
                          [
                            0.5555555555555556,
                            "#d8576b"
                          ],
                          [
                            0.6666666666666666,
                            "#ed7953"
                          ],
                          [
                            0.7777777777777778,
                            "#fb9f3a"
                          ],
                          [
                            0.8888888888888888,
                            "#fdca26"
                          ],
                          [
                            1,
                            "#f0f921"
                          ]
                        ],
                        "type": "heatmap"
                      }
                    ],
                    "heatmapgl": [
                      {
                        "colorbar": {
                          "outlinewidth": 0,
                          "ticks": ""
                        },
                        "colorscale": [
                          [
                            0,
                            "#0d0887"
                          ],
                          [
                            0.1111111111111111,
                            "#46039f"
                          ],
                          [
                            0.2222222222222222,
                            "#7201a8"
                          ],
                          [
                            0.3333333333333333,
                            "#9c179e"
                          ],
                          [
                            0.4444444444444444,
                            "#bd3786"
                          ],
                          [
                            0.5555555555555556,
                            "#d8576b"
                          ],
                          [
                            0.6666666666666666,
                            "#ed7953"
                          ],
                          [
                            0.7777777777777778,
                            "#fb9f3a"
                          ],
                          [
                            0.8888888888888888,
                            "#fdca26"
                          ],
                          [
                            1,
                            "#f0f921"
                          ]
                        ],
                        "type": "heatmapgl"
                      }
                    ],
                    "histogram": [
                      {
                        "marker": {
                          "pattern": {
                            "fillmode": "overlay",
                            "size": 10,
                            "solidity": 0.2
                          }
                        },
                        "type": "histogram"
                      }
                    ],
                    "histogram2d": [
                      {
                        "colorbar": {
                          "outlinewidth": 0,
                          "ticks": ""
                        },
                        "colorscale": [
                          [
                            0,
                            "#0d0887"
                          ],
                          [
                            0.1111111111111111,
                            "#46039f"
                          ],
                          [
                            0.2222222222222222,
                            "#7201a8"
                          ],
                          [
                            0.3333333333333333,
                            "#9c179e"
                          ],
                          [
                            0.4444444444444444,
                            "#bd3786"
                          ],
                          [
                            0.5555555555555556,
                            "#d8576b"
                          ],
                          [
                            0.6666666666666666,
                            "#ed7953"
                          ],
                          [
                            0.7777777777777778,
                            "#fb9f3a"
                          ],
                          [
                            0.8888888888888888,
                            "#fdca26"
                          ],
                          [
                            1,
                            "#f0f921"
                          ]
                        ],
                        "type": "histogram2d"
                      }
                    ],
                    "histogram2dcontour": [
                      {
                        "colorbar": {
                          "outlinewidth": 0,
                          "ticks": ""
                        },
                        "colorscale": [
                          [
                            0,
                            "#0d0887"
                          ],
                          [
                            0.1111111111111111,
                            "#46039f"
                          ],
                          [
                            0.2222222222222222,
                            "#7201a8"
                          ],
                          [
                            0.3333333333333333,
                            "#9c179e"
                          ],
                          [
                            0.4444444444444444,
                            "#bd3786"
                          ],
                          [
                            0.5555555555555556,
                            "#d8576b"
                          ],
                          [
                            0.6666666666666666,
                            "#ed7953"
                          ],
                          [
                            0.7777777777777778,
                            "#fb9f3a"
                          ],
                          [
                            0.8888888888888888,
                            "#fdca26"
                          ],
                          [
                            1,
                            "#f0f921"
                          ]
                        ],
                        "type": "histogram2dcontour"
                      }
                    ],
                    "mesh3d": [
                      {
                        "colorbar": {
                          "outlinewidth": 0,
                          "ticks": ""
                        },
                        "type": "mesh3d"
                      }
                    ],
                    "parcoords": [
                      {
                        "line": {
                          "colorbar": {
                            "outlinewidth": 0,
                            "ticks": ""
                          }
                        },
                        "type": "parcoords"
                      }
                    ],
                    "pie": [
                      {
                        "automargin": true,
                        "type": "pie"
                      }
                    ],
                    "scatter": [
                      {
                        "fillpattern": {
                          "fillmode": "overlay",
                          "size": 10,
                          "solidity": 0.2
                        },
                        "type": "scatter"
                      }
                    ],
                    "scatter3d": [
                      {
                        "line": {
                          "colorbar": {
                            "outlinewidth": 0,
                            "ticks": ""
                          }
                        },
                        "marker": {
                          "colorbar": {
                            "outlinewidth": 0,
                            "ticks": ""
                          }
                        },
                        "type": "scatter3d"
                      }
                    ],
                    "scattercarpet": [
                      {
                        "marker": {
                          "colorbar": {
                            "outlinewidth": 0,
                            "ticks": ""
                          }
                        },
                        "type": "scattercarpet"
                      }
                    ],
                    "scattergeo": [
                      {
                        "marker": {
                          "colorbar": {
                            "outlinewidth": 0,
                            "ticks": ""
                          }
                        },
                        "type": "scattergeo"
                      }
                    ],
                    "scattergl": [
                      {
                        "marker": {
                          "colorbar": {
                            "outlinewidth": 0,
                            "ticks": ""
                          }
                        },
                        "type": "scattergl"
                      }
                    ],
                    "scattermapbox": [
                      {
                        "marker": {
                          "colorbar": {
                            "outlinewidth": 0,
                            "ticks": ""
                          }
                        },
                        "type": "scattermapbox"
                      }
                    ],
                    "scatterpolar": [
                      {
                        "marker": {
                          "colorbar": {
                            "outlinewidth": 0,
                            "ticks": ""
                          }
                        },
                        "type": "scatterpolar"
                      }
                    ],
                    "scatterpolargl": [
                      {
                        "marker": {
                          "colorbar": {
                            "outlinewidth": 0,
                            "ticks": ""
                          }
                        },
                        "type": "scatterpolargl"
                      }
                    ],
                    "scatterternary": [
                      {
                        "marker": {
                          "colorbar": {
                            "outlinewidth": 0,
                            "ticks": ""
                          }
                        },
                        "type": "scatterternary"
                      }
                    ],
                    "surface": [
                      {
                        "colorbar": {
                          "outlinewidth": 0,
                          "ticks": ""
                        },
                        "colorscale": [
                          [
                            0,
                            "#0d0887"
                          ],
                          [
                            0.1111111111111111,
                            "#46039f"
                          ],
                          [
                            0.2222222222222222,
                            "#7201a8"
                          ],
                          [
                            0.3333333333333333,
                            "#9c179e"
                          ],
                          [
                            0.4444444444444444,
                            "#bd3786"
                          ],
                          [
                            0.5555555555555556,
                            "#d8576b"
                          ],
                          [
                            0.6666666666666666,
                            "#ed7953"
                          ],
                          [
                            0.7777777777777778,
                            "#fb9f3a"
                          ],
                          [
                            0.8888888888888888,
                            "#fdca26"
                          ],
                          [
                            1,
                            "#f0f921"
                          ]
                        ],
                        "type": "surface"
                      }
                    ],
                    "table": [
                      {
                        "cells": {
                          "fill": {
                            "color": "#EBF0F8"
                          },
                          "line": {
                            "color": "white"
                          }
                        },
                        "header": {
                          "fill": {
                            "color": "#C8D4E3"
                          },
                          "line": {
                            "color": "white"
                          }
                        },
                        "type": "table"
                      }
                    ]
                  },
                  "layout": {
                    "annotationdefaults": {
                      "arrowcolor": "#2a3f5f",
                      "arrowhead": 0,
                      "arrowwidth": 1
                    },
                    "autotypenumbers": "strict",
                    "coloraxis": {
                      "colorbar": {
                        "outlinewidth": 0,
                        "ticks": ""
                      }
                    },
                    "colorscale": {
                      "diverging": [
                        [
                          0,
                          "#8e0152"
                        ],
                        [
                          0.1,
                          "#c51b7d"
                        ],
                        [
                          0.2,
                          "#de77ae"
                        ],
                        [
                          0.3,
                          "#f1b6da"
                        ],
                        [
                          0.4,
                          "#fde0ef"
                        ],
                        [
                          0.5,
                          "#f7f7f7"
                        ],
                        [
                          0.6,
                          "#e6f5d0"
                        ],
                        [
                          0.7,
                          "#b8e186"
                        ],
                        [
                          0.8,
                          "#7fbc41"
                        ],
                        [
                          0.9,
                          "#4d9221"
                        ],
                        [
                          1,
                          "#276419"
                        ]
                      ],
                      "sequential": [
                        [
                          0,
                          "#0d0887"
                        ],
                        [
                          0.1111111111111111,
                          "#46039f"
                        ],
                        [
                          0.2222222222222222,
                          "#7201a8"
                        ],
                        [
                          0.3333333333333333,
                          "#9c179e"
                        ],
                        [
                          0.4444444444444444,
                          "#bd3786"
                        ],
                        [
                          0.5555555555555556,
                          "#d8576b"
                        ],
                        [
                          0.6666666666666666,
                          "#ed7953"
                        ],
                        [
                          0.7777777777777778,
                          "#fb9f3a"
                        ],
                        [
                          0.8888888888888888,
                          "#fdca26"
                        ],
                        [
                          1,
                          "#f0f921"
                        ]
                      ],
                      "sequentialminus": [
                        [
                          0,
                          "#0d0887"
                        ],
                        [
                          0.1111111111111111,
                          "#46039f"
                        ],
                        [
                          0.2222222222222222,
                          "#7201a8"
                        ],
                        [
                          0.3333333333333333,
                          "#9c179e"
                        ],
                        [
                          0.4444444444444444,
                          "#bd3786"
                        ],
                        [
                          0.5555555555555556,
                          "#d8576b"
                        ],
                        [
                          0.6666666666666666,
                          "#ed7953"
                        ],
                        [
                          0.7777777777777778,
                          "#fb9f3a"
                        ],
                        [
                          0.8888888888888888,
                          "#fdca26"
                        ],
                        [
                          1,
                          "#f0f921"
                        ]
                      ]
                    },
                    "colorway": [
                      "#636efa",
                      "#EF553B",
                      "#00cc96",
                      "#ab63fa",
                      "#FFA15A",
                      "#19d3f3",
                      "#FF6692",
                      "#B6E880",
                      "#FF97FF",
                      "#FECB52"
                    ],
                    "font": {
                      "color": "#2a3f5f"
                    },
                    "geo": {
                      "bgcolor": "white",
                      "lakecolor": "white",
                      "landcolor": "#E5ECF6",
                      "showlakes": true,
                      "showland": true,
                      "subunitcolor": "white"
                    },
                    "hoverlabel": {
                      "align": "left"
                    },
                    "hovermode": "closest",
                    "mapbox": {
                      "style": "light"
                    },
                    "paper_bgcolor": "white",
                    "plot_bgcolor": "#E5ECF6",
                    "polar": {
                      "angularaxis": {
                        "gridcolor": "white",
                        "linecolor": "white",
                        "ticks": ""
                      },
                      "bgcolor": "#E5ECF6",
                      "radialaxis": {
                        "gridcolor": "white",
                        "linecolor": "white",
                        "ticks": ""
                      }
                    },
                    "scene": {
                      "xaxis": {
                        "backgroundcolor": "#E5ECF6",
                        "gridcolor": "white",
                        "gridwidth": 2,
                        "linecolor": "white",
                        "showbackground": true,
                        "ticks": "",
                        "zerolinecolor": "white"
                      },
                      "yaxis": {
                        "backgroundcolor": "#E5ECF6",
                        "gridcolor": "white",
                        "gridwidth": 2,
                        "linecolor": "white",
                        "showbackground": true,
                        "ticks": "",
                        "zerolinecolor": "white"
                      },
                      "zaxis": {
                        "backgroundcolor": "#E5ECF6",
                        "gridcolor": "white",
                        "gridwidth": 2,
                        "linecolor": "white",
                        "showbackground": true,
                        "ticks": "",
                        "zerolinecolor": "white"
                      }
                    },
                    "shapedefaults": {
                      "line": {
                        "color": "#2a3f5f"
                      }
                    },
                    "ternary": {
                      "aaxis": {
                        "gridcolor": "white",
                        "linecolor": "white",
                        "ticks": ""
                      },
                      "baxis": {
                        "gridcolor": "white",
                        "linecolor": "white",
                        "ticks": ""
                      },
                      "bgcolor": "#E5ECF6",
                      "caxis": {
                        "gridcolor": "white",
                        "linecolor": "white",
                        "ticks": ""
                      }
                    },
                    "title": {
                      "x": 0.05
                    },
                    "xaxis": {
                      "automargin": true,
                      "gridcolor": "white",
                      "linecolor": "white",
                      "ticks": "",
                      "title": {
                        "standoff": 15
                      },
                      "zerolinecolor": "white",
                      "zerolinewidth": 2
                    },
                    "yaxis": {
                      "automargin": true,
                      "gridcolor": "white",
                      "linecolor": "white",
                      "ticks": "",
                      "title": {
                        "standoff": 15
                      },
                      "zerolinecolor": "white",
                      "zerolinewidth": 2
                    }
                  }
                },
                "title": {
                  "text": "vit_c"
                },
                "xaxis": {
                  "anchor": "y",
                  "domain": [
                    0,
                    1
                  ],
                  "title": {
                    "text": "vit_c"
                  }
                },
                "yaxis": {
                  "anchor": "x",
                  "domain": [
                    0,
                    1
                  ],
                  "title": {
                    "text": "count"
                  }
                }
              }
            }
          },
          "metadata": {},
          "output_type": "display_data"
        },
        {
          "data": {
            "application/vnd.plotly.v1+json": {
              "config": {
                "plotlyServerURL": "https://plot.ly"
              },
              "data": [
                {
                  "alignmentgroup": "True",
                  "bingroup": "x",
                  "hovertemplate": "calcium=%{x}<br>count=%{y}<extra></extra>",
                  "legendgroup": "",
                  "marker": {
                    "color": "#636efa",
                    "pattern": {
                      "shape": ""
                    }
                  },
                  "name": "",
                  "offsetgroup": "",
                  "orientation": "v",
                  "showlegend": false,
                  "type": "histogram",
                  "x": [
                    20,
                    20,
                    50,
                    20,
                    20,
                    15,
                    10,
                    2,
                    15,
                    20,
                    15,
                    35,
                    35,
                    35,
                    4,
                    15,
                    15,
                    30,
                    290,
                    4,
                    10,
                    6,
                    15,
                    30,
                    30,
                    20,
                    20,
                    15,
                    30,
                    30,
                    30,
                    15,
                    25,
                    30,
                    2,
                    2,
                    2,
                    4,
                    6,
                    8,
                    0,
                    0,
                    2,
                    4,
                    6,
                    4,
                    8,
                    10,
                    10,
                    10,
                    15,
                    15,
                    15,
                    15,
                    20,
                    20,
                    20,
                    25,
                    10,
                    2,
                    2,
                    4,
                    6,
                    8,
                    20,
                    2,
                    2,
                    4,
                    4,
                    10,
                    15,
                    15,
                    0,
                    0,
                    2,
                    2,
                    25,
                    25,
                    20,
                    15,
                    30,
                    35,
                    null,
                    null,
                    30,
                    20,
                    6,
                    15,
                    6,
                    15,
                    25,
                    30,
                    20,
                    20,
                    20,
                    30,
                    30,
                    30,
                    40,
                    40,
                    40,
                    40,
                    40,
                    25,
                    27,
                    25,
                    16,
                    16,
                    10,
                    10,
                    4,
                    null,
                    null,
                    15,
                    null,
                    null,
                    2,
                    4,
                    2,
                    3,
                    13,
                    13,
                    14,
                    1,
                    1,
                    2,
                    15,
                    30,
                    8,
                    10,
                    20,
                    8,
                    8,
                    8,
                    4,
                    30,
                    4,
                    8,
                    10,
                    15,
                    15,
                    null,
                    null,
                    null,
                    null,
                    null,
                    null,
                    null,
                    15,
                    6,
                    6,
                    null,
                    15,
                    null,
                    null,
                    null,
                    null,
                    15,
                    null,
                    null,
                    25,
                    2,
                    2,
                    2,
                    35,
                    10,
                    45,
                    35,
                    45,
                    30,
                    null,
                    null,
                    20,
                    8,
                    null,
                    null,
                    null,
                    10,
                    null,
                    null,
                    null,
                    null,
                    null,
                    null,
                    null,
                    null,
                    null,
                    10,
                    25,
                    null,
                    25,
                    null,
                    null,
                    null,
                    null,
                    null,
                    null,
                    null,
                    null,
                    null,
                    null,
                    null,
                    null,
                    null,
                    null,
                    null,
                    null,
                    null,
                    null,
                    null,
                    null,
                    null,
                    null,
                    null,
                    null,
                    null,
                    null,
                    null,
                    null,
                    null,
                    null,
                    null,
                    null,
                    null,
                    null,
                    null,
                    null,
                    null,
                    null,
                    null,
                    null,
                    null,
                    null,
                    null,
                    null,
                    null,
                    null,
                    null,
                    null,
                    null,
                    null,
                    null,
                    null,
                    null,
                    null,
                    null,
                    null,
                    null,
                    null,
                    null,
                    null,
                    null,
                    null,
                    null,
                    null,
                    null,
                    null,
                    null,
                    null,
                    null,
                    null,
                    null,
                    30,
                    35,
                    25,
                    25,
                    25,
                    10,
                    20,
                    10,
                    10,
                    null,
                    null,
                    15,
                    6,
                    6,
                    null,
                    4,
                    2,
                    100,
                    null,
                    null,
                    0,
                    6,
                    10,
                    20,
                    4,
                    4,
                    20,
                    null,
                    null,
                    null,
                    null,
                    null,
                    null,
                    null,
                    15,
                    10,
                    null,
                    null,
                    6,
                    10,
                    15,
                    null,
                    30,
                    60,
                    30,
                    60,
                    40,
                    80,
                    50,
                    100,
                    20,
                    30,
                    60,
                    30,
                    60,
                    40,
                    80,
                    50,
                    100,
                    45,
                    90,
                    35,
                    70,
                    20,
                    40,
                    30,
                    60,
                    40,
                    80,
                    35,
                    70,
                    30,
                    60,
                    20,
                    30,
                    60,
                    30,
                    60,
                    30,
                    60,
                    40,
                    80,
                    30,
                    60,
                    40,
                    80,
                    35,
                    70,
                    35,
                    70,
                    30,
                    60,
                    30,
                    60,
                    20,
                    30,
                    60,
                    30,
                    60,
                    45,
                    90,
                    20,
                    30,
                    60,
                    35,
                    70,
                    15,
                    6,
                    10,
                    25,
                    4,
                    8,
                    15,
                    6,
                    30,
                    10,
                    8,
                    6,
                    4,
                    10,
                    8,
                    4,
                    8,
                    15,
                    6,
                    15,
                    6,
                    6,
                    6,
                    6,
                    4,
                    30,
                    45,
                    30,
                    60,
                    45,
                    60,
                    60,
                    null,
                    null,
                    null,
                    null,
                    null,
                    null,
                    null,
                    null,
                    null,
                    null,
                    null,
                    null,
                    null,
                    null,
                    null,
                    35,
                    40,
                    35,
                    20,
                    null,
                    null,
                    null,
                    null,
                    null,
                    null,
                    null,
                    35,
                    35,
                    35,
                    20,
                    null,
                    null,
                    null,
                    null,
                    null,
                    null,
                    null,
                    null,
                    null,
                    null,
                    null,
                    15,
                    20,
                    20,
                    null,
                    null,
                    null,
                    null,
                    null,
                    null,
                    null,
                    null,
                    null,
                    null,
                    null,
                    null,
                    null,
                    15,
                    6,
                    6,
                    15,
                    null,
                    null,
                    null,
                    null,
                    null,
                    null,
                    null,
                    null,
                    null,
                    null,
                    null,
                    30,
                    null,
                    null,
                    null,
                    8,
                    null,
                    null,
                    null,
                    10,
                    null,
                    null,
                    null,
                    null,
                    null,
                    null,
                    null,
                    null,
                    null,
                    null,
                    15,
                    null,
                    null,
                    45,
                    null,
                    null,
                    null,
                    null,
                    null,
                    null,
                    35,
                    35,
                    35,
                    null,
                    null,
                    null,
                    30,
                    null,
                    25,
                    25,
                    null,
                    null,
                    null,
                    null
                  ],
                  "xaxis": "x",
                  "yaxis": "y"
                }
              ],
              "layout": {
                "barmode": "relative",
                "legend": {
                  "tracegroupgap": 0
                },
                "template": {
                  "data": {
                    "bar": [
                      {
                        "error_x": {
                          "color": "#2a3f5f"
                        },
                        "error_y": {
                          "color": "#2a3f5f"
                        },
                        "marker": {
                          "line": {
                            "color": "#E5ECF6",
                            "width": 0.5
                          },
                          "pattern": {
                            "fillmode": "overlay",
                            "size": 10,
                            "solidity": 0.2
                          }
                        },
                        "type": "bar"
                      }
                    ],
                    "barpolar": [
                      {
                        "marker": {
                          "line": {
                            "color": "#E5ECF6",
                            "width": 0.5
                          },
                          "pattern": {
                            "fillmode": "overlay",
                            "size": 10,
                            "solidity": 0.2
                          }
                        },
                        "type": "barpolar"
                      }
                    ],
                    "carpet": [
                      {
                        "aaxis": {
                          "endlinecolor": "#2a3f5f",
                          "gridcolor": "white",
                          "linecolor": "white",
                          "minorgridcolor": "white",
                          "startlinecolor": "#2a3f5f"
                        },
                        "baxis": {
                          "endlinecolor": "#2a3f5f",
                          "gridcolor": "white",
                          "linecolor": "white",
                          "minorgridcolor": "white",
                          "startlinecolor": "#2a3f5f"
                        },
                        "type": "carpet"
                      }
                    ],
                    "choropleth": [
                      {
                        "colorbar": {
                          "outlinewidth": 0,
                          "ticks": ""
                        },
                        "type": "choropleth"
                      }
                    ],
                    "contour": [
                      {
                        "colorbar": {
                          "outlinewidth": 0,
                          "ticks": ""
                        },
                        "colorscale": [
                          [
                            0,
                            "#0d0887"
                          ],
                          [
                            0.1111111111111111,
                            "#46039f"
                          ],
                          [
                            0.2222222222222222,
                            "#7201a8"
                          ],
                          [
                            0.3333333333333333,
                            "#9c179e"
                          ],
                          [
                            0.4444444444444444,
                            "#bd3786"
                          ],
                          [
                            0.5555555555555556,
                            "#d8576b"
                          ],
                          [
                            0.6666666666666666,
                            "#ed7953"
                          ],
                          [
                            0.7777777777777778,
                            "#fb9f3a"
                          ],
                          [
                            0.8888888888888888,
                            "#fdca26"
                          ],
                          [
                            1,
                            "#f0f921"
                          ]
                        ],
                        "type": "contour"
                      }
                    ],
                    "contourcarpet": [
                      {
                        "colorbar": {
                          "outlinewidth": 0,
                          "ticks": ""
                        },
                        "type": "contourcarpet"
                      }
                    ],
                    "heatmap": [
                      {
                        "colorbar": {
                          "outlinewidth": 0,
                          "ticks": ""
                        },
                        "colorscale": [
                          [
                            0,
                            "#0d0887"
                          ],
                          [
                            0.1111111111111111,
                            "#46039f"
                          ],
                          [
                            0.2222222222222222,
                            "#7201a8"
                          ],
                          [
                            0.3333333333333333,
                            "#9c179e"
                          ],
                          [
                            0.4444444444444444,
                            "#bd3786"
                          ],
                          [
                            0.5555555555555556,
                            "#d8576b"
                          ],
                          [
                            0.6666666666666666,
                            "#ed7953"
                          ],
                          [
                            0.7777777777777778,
                            "#fb9f3a"
                          ],
                          [
                            0.8888888888888888,
                            "#fdca26"
                          ],
                          [
                            1,
                            "#f0f921"
                          ]
                        ],
                        "type": "heatmap"
                      }
                    ],
                    "heatmapgl": [
                      {
                        "colorbar": {
                          "outlinewidth": 0,
                          "ticks": ""
                        },
                        "colorscale": [
                          [
                            0,
                            "#0d0887"
                          ],
                          [
                            0.1111111111111111,
                            "#46039f"
                          ],
                          [
                            0.2222222222222222,
                            "#7201a8"
                          ],
                          [
                            0.3333333333333333,
                            "#9c179e"
                          ],
                          [
                            0.4444444444444444,
                            "#bd3786"
                          ],
                          [
                            0.5555555555555556,
                            "#d8576b"
                          ],
                          [
                            0.6666666666666666,
                            "#ed7953"
                          ],
                          [
                            0.7777777777777778,
                            "#fb9f3a"
                          ],
                          [
                            0.8888888888888888,
                            "#fdca26"
                          ],
                          [
                            1,
                            "#f0f921"
                          ]
                        ],
                        "type": "heatmapgl"
                      }
                    ],
                    "histogram": [
                      {
                        "marker": {
                          "pattern": {
                            "fillmode": "overlay",
                            "size": 10,
                            "solidity": 0.2
                          }
                        },
                        "type": "histogram"
                      }
                    ],
                    "histogram2d": [
                      {
                        "colorbar": {
                          "outlinewidth": 0,
                          "ticks": ""
                        },
                        "colorscale": [
                          [
                            0,
                            "#0d0887"
                          ],
                          [
                            0.1111111111111111,
                            "#46039f"
                          ],
                          [
                            0.2222222222222222,
                            "#7201a8"
                          ],
                          [
                            0.3333333333333333,
                            "#9c179e"
                          ],
                          [
                            0.4444444444444444,
                            "#bd3786"
                          ],
                          [
                            0.5555555555555556,
                            "#d8576b"
                          ],
                          [
                            0.6666666666666666,
                            "#ed7953"
                          ],
                          [
                            0.7777777777777778,
                            "#fb9f3a"
                          ],
                          [
                            0.8888888888888888,
                            "#fdca26"
                          ],
                          [
                            1,
                            "#f0f921"
                          ]
                        ],
                        "type": "histogram2d"
                      }
                    ],
                    "histogram2dcontour": [
                      {
                        "colorbar": {
                          "outlinewidth": 0,
                          "ticks": ""
                        },
                        "colorscale": [
                          [
                            0,
                            "#0d0887"
                          ],
                          [
                            0.1111111111111111,
                            "#46039f"
                          ],
                          [
                            0.2222222222222222,
                            "#7201a8"
                          ],
                          [
                            0.3333333333333333,
                            "#9c179e"
                          ],
                          [
                            0.4444444444444444,
                            "#bd3786"
                          ],
                          [
                            0.5555555555555556,
                            "#d8576b"
                          ],
                          [
                            0.6666666666666666,
                            "#ed7953"
                          ],
                          [
                            0.7777777777777778,
                            "#fb9f3a"
                          ],
                          [
                            0.8888888888888888,
                            "#fdca26"
                          ],
                          [
                            1,
                            "#f0f921"
                          ]
                        ],
                        "type": "histogram2dcontour"
                      }
                    ],
                    "mesh3d": [
                      {
                        "colorbar": {
                          "outlinewidth": 0,
                          "ticks": ""
                        },
                        "type": "mesh3d"
                      }
                    ],
                    "parcoords": [
                      {
                        "line": {
                          "colorbar": {
                            "outlinewidth": 0,
                            "ticks": ""
                          }
                        },
                        "type": "parcoords"
                      }
                    ],
                    "pie": [
                      {
                        "automargin": true,
                        "type": "pie"
                      }
                    ],
                    "scatter": [
                      {
                        "fillpattern": {
                          "fillmode": "overlay",
                          "size": 10,
                          "solidity": 0.2
                        },
                        "type": "scatter"
                      }
                    ],
                    "scatter3d": [
                      {
                        "line": {
                          "colorbar": {
                            "outlinewidth": 0,
                            "ticks": ""
                          }
                        },
                        "marker": {
                          "colorbar": {
                            "outlinewidth": 0,
                            "ticks": ""
                          }
                        },
                        "type": "scatter3d"
                      }
                    ],
                    "scattercarpet": [
                      {
                        "marker": {
                          "colorbar": {
                            "outlinewidth": 0,
                            "ticks": ""
                          }
                        },
                        "type": "scattercarpet"
                      }
                    ],
                    "scattergeo": [
                      {
                        "marker": {
                          "colorbar": {
                            "outlinewidth": 0,
                            "ticks": ""
                          }
                        },
                        "type": "scattergeo"
                      }
                    ],
                    "scattergl": [
                      {
                        "marker": {
                          "colorbar": {
                            "outlinewidth": 0,
                            "ticks": ""
                          }
                        },
                        "type": "scattergl"
                      }
                    ],
                    "scattermapbox": [
                      {
                        "marker": {
                          "colorbar": {
                            "outlinewidth": 0,
                            "ticks": ""
                          }
                        },
                        "type": "scattermapbox"
                      }
                    ],
                    "scatterpolar": [
                      {
                        "marker": {
                          "colorbar": {
                            "outlinewidth": 0,
                            "ticks": ""
                          }
                        },
                        "type": "scatterpolar"
                      }
                    ],
                    "scatterpolargl": [
                      {
                        "marker": {
                          "colorbar": {
                            "outlinewidth": 0,
                            "ticks": ""
                          }
                        },
                        "type": "scatterpolargl"
                      }
                    ],
                    "scatterternary": [
                      {
                        "marker": {
                          "colorbar": {
                            "outlinewidth": 0,
                            "ticks": ""
                          }
                        },
                        "type": "scatterternary"
                      }
                    ],
                    "surface": [
                      {
                        "colorbar": {
                          "outlinewidth": 0,
                          "ticks": ""
                        },
                        "colorscale": [
                          [
                            0,
                            "#0d0887"
                          ],
                          [
                            0.1111111111111111,
                            "#46039f"
                          ],
                          [
                            0.2222222222222222,
                            "#7201a8"
                          ],
                          [
                            0.3333333333333333,
                            "#9c179e"
                          ],
                          [
                            0.4444444444444444,
                            "#bd3786"
                          ],
                          [
                            0.5555555555555556,
                            "#d8576b"
                          ],
                          [
                            0.6666666666666666,
                            "#ed7953"
                          ],
                          [
                            0.7777777777777778,
                            "#fb9f3a"
                          ],
                          [
                            0.8888888888888888,
                            "#fdca26"
                          ],
                          [
                            1,
                            "#f0f921"
                          ]
                        ],
                        "type": "surface"
                      }
                    ],
                    "table": [
                      {
                        "cells": {
                          "fill": {
                            "color": "#EBF0F8"
                          },
                          "line": {
                            "color": "white"
                          }
                        },
                        "header": {
                          "fill": {
                            "color": "#C8D4E3"
                          },
                          "line": {
                            "color": "white"
                          }
                        },
                        "type": "table"
                      }
                    ]
                  },
                  "layout": {
                    "annotationdefaults": {
                      "arrowcolor": "#2a3f5f",
                      "arrowhead": 0,
                      "arrowwidth": 1
                    },
                    "autotypenumbers": "strict",
                    "coloraxis": {
                      "colorbar": {
                        "outlinewidth": 0,
                        "ticks": ""
                      }
                    },
                    "colorscale": {
                      "diverging": [
                        [
                          0,
                          "#8e0152"
                        ],
                        [
                          0.1,
                          "#c51b7d"
                        ],
                        [
                          0.2,
                          "#de77ae"
                        ],
                        [
                          0.3,
                          "#f1b6da"
                        ],
                        [
                          0.4,
                          "#fde0ef"
                        ],
                        [
                          0.5,
                          "#f7f7f7"
                        ],
                        [
                          0.6,
                          "#e6f5d0"
                        ],
                        [
                          0.7,
                          "#b8e186"
                        ],
                        [
                          0.8,
                          "#7fbc41"
                        ],
                        [
                          0.9,
                          "#4d9221"
                        ],
                        [
                          1,
                          "#276419"
                        ]
                      ],
                      "sequential": [
                        [
                          0,
                          "#0d0887"
                        ],
                        [
                          0.1111111111111111,
                          "#46039f"
                        ],
                        [
                          0.2222222222222222,
                          "#7201a8"
                        ],
                        [
                          0.3333333333333333,
                          "#9c179e"
                        ],
                        [
                          0.4444444444444444,
                          "#bd3786"
                        ],
                        [
                          0.5555555555555556,
                          "#d8576b"
                        ],
                        [
                          0.6666666666666666,
                          "#ed7953"
                        ],
                        [
                          0.7777777777777778,
                          "#fb9f3a"
                        ],
                        [
                          0.8888888888888888,
                          "#fdca26"
                        ],
                        [
                          1,
                          "#f0f921"
                        ]
                      ],
                      "sequentialminus": [
                        [
                          0,
                          "#0d0887"
                        ],
                        [
                          0.1111111111111111,
                          "#46039f"
                        ],
                        [
                          0.2222222222222222,
                          "#7201a8"
                        ],
                        [
                          0.3333333333333333,
                          "#9c179e"
                        ],
                        [
                          0.4444444444444444,
                          "#bd3786"
                        ],
                        [
                          0.5555555555555556,
                          "#d8576b"
                        ],
                        [
                          0.6666666666666666,
                          "#ed7953"
                        ],
                        [
                          0.7777777777777778,
                          "#fb9f3a"
                        ],
                        [
                          0.8888888888888888,
                          "#fdca26"
                        ],
                        [
                          1,
                          "#f0f921"
                        ]
                      ]
                    },
                    "colorway": [
                      "#636efa",
                      "#EF553B",
                      "#00cc96",
                      "#ab63fa",
                      "#FFA15A",
                      "#19d3f3",
                      "#FF6692",
                      "#B6E880",
                      "#FF97FF",
                      "#FECB52"
                    ],
                    "font": {
                      "color": "#2a3f5f"
                    },
                    "geo": {
                      "bgcolor": "white",
                      "lakecolor": "white",
                      "landcolor": "#E5ECF6",
                      "showlakes": true,
                      "showland": true,
                      "subunitcolor": "white"
                    },
                    "hoverlabel": {
                      "align": "left"
                    },
                    "hovermode": "closest",
                    "mapbox": {
                      "style": "light"
                    },
                    "paper_bgcolor": "white",
                    "plot_bgcolor": "#E5ECF6",
                    "polar": {
                      "angularaxis": {
                        "gridcolor": "white",
                        "linecolor": "white",
                        "ticks": ""
                      },
                      "bgcolor": "#E5ECF6",
                      "radialaxis": {
                        "gridcolor": "white",
                        "linecolor": "white",
                        "ticks": ""
                      }
                    },
                    "scene": {
                      "xaxis": {
                        "backgroundcolor": "#E5ECF6",
                        "gridcolor": "white",
                        "gridwidth": 2,
                        "linecolor": "white",
                        "showbackground": true,
                        "ticks": "",
                        "zerolinecolor": "white"
                      },
                      "yaxis": {
                        "backgroundcolor": "#E5ECF6",
                        "gridcolor": "white",
                        "gridwidth": 2,
                        "linecolor": "white",
                        "showbackground": true,
                        "ticks": "",
                        "zerolinecolor": "white"
                      },
                      "zaxis": {
                        "backgroundcolor": "#E5ECF6",
                        "gridcolor": "white",
                        "gridwidth": 2,
                        "linecolor": "white",
                        "showbackground": true,
                        "ticks": "",
                        "zerolinecolor": "white"
                      }
                    },
                    "shapedefaults": {
                      "line": {
                        "color": "#2a3f5f"
                      }
                    },
                    "ternary": {
                      "aaxis": {
                        "gridcolor": "white",
                        "linecolor": "white",
                        "ticks": ""
                      },
                      "baxis": {
                        "gridcolor": "white",
                        "linecolor": "white",
                        "ticks": ""
                      },
                      "bgcolor": "#E5ECF6",
                      "caxis": {
                        "gridcolor": "white",
                        "linecolor": "white",
                        "ticks": ""
                      }
                    },
                    "title": {
                      "x": 0.05
                    },
                    "xaxis": {
                      "automargin": true,
                      "gridcolor": "white",
                      "linecolor": "white",
                      "ticks": "",
                      "title": {
                        "standoff": 15
                      },
                      "zerolinecolor": "white",
                      "zerolinewidth": 2
                    },
                    "yaxis": {
                      "automargin": true,
                      "gridcolor": "white",
                      "linecolor": "white",
                      "ticks": "",
                      "title": {
                        "standoff": 15
                      },
                      "zerolinecolor": "white",
                      "zerolinewidth": 2
                    }
                  }
                },
                "title": {
                  "text": "calcium"
                },
                "xaxis": {
                  "anchor": "y",
                  "domain": [
                    0,
                    1
                  ],
                  "title": {
                    "text": "calcium"
                  }
                },
                "yaxis": {
                  "anchor": "x",
                  "domain": [
                    0,
                    1
                  ],
                  "title": {
                    "text": "count"
                  }
                }
              }
            }
          },
          "metadata": {},
          "output_type": "display_data"
        }
      ],
      "source": [
        "from plotly.express import histogram\n",
        "for column in ['calories', 'cal_fat', 'total_fat', 'sat_fat',\n",
        "       'trans_fat', 'cholesterol', 'sodium', 'total_carb', 'fiber', 'sugar',\n",
        "       'protein', 'vit_a', 'vit_c', 'calcium']:\n",
        "    histogram(data_frame=df, x=column, title=column).show()"
      ]
    },
    {
      "cell_type": "markdown",
      "metadata": {
        "id": "eAAvVuwUohZg"
      },
      "source": [
        "### 1. Impor fungsi histogram:\n",
        "\n",
        "from plotly.express import histogram: Baris ini mengimpor fungsi histogram dari Plotly Express, yang digunakan untuk membuat diagram histogram.\n",
        "\n",
        "### 2. Perulangan Kolom:\n",
        "\n",
        "for column in ['calories', 'cal_fat', ...]:: Loop for ini ber iterasi melalui daftar nama kolom yang mewakili berbagai nilai nutrisi (\"calories\", \"cal_fat\", dll).\n",
        "\n",
        "### 3. Membuat Histogram:\n",
        "\n",
        "histogram(data_frame=df, x=column, title=column).show(): Di dalam loop, baris ini membuat histogram untuk setiap kolom.\n",
        "data_frame=df: Argumen ini menentukan DataFrame yang berisi data (df).\n",
        "\n",
        "x=column: Argumen ini menentukan kolom yang akan diplot pada sumbu x. Dalam setiap iterasi, nilai saat ini dari daftar column digunakan (misalnya, \"calories\" untuk loop pertama).\n",
        "\n",
        "title=column: Argumen ini menetapkan judul histogram ke nama kolom saat ini (misalnya, \"Histogram Kalori\").\n",
        ".show(): Metode ini menampilkan histogram yang dibuat.\n",
        "\n",
        "### 4. Menggunakan kode show().\n",
        "Kode ini akan ber iterasi melalui daftar kolom nutrisi yang ditentukan. Untuk setiap kolom, ia membuat histogram terpisah di mana sumbu x mewakili nilai dalam kolom itu dan sumbu y mewakili frekuensi setiap nilai. Judul setiap histogram diatur ke nama kolom yang sesuai. Terakhir, setiap histogram yang dihasilkan ditampilkan secara otomatis menggunakan metode .show()."
      ]
    },
    {
      "cell_type": "code",
      "execution_count": null,
      "metadata": {
        "id": "C7hXn9ssohZh",
        "outputId": "6e2361ab-8309-4c88-8a4a-f5ebe783557b"
      },
      "outputs": [
        {
          "data": {
            "application/vnd.plotly.v1+json": {
              "config": {
                "plotlyServerURL": "https://plot.ly"
              },
              "data": [
                {
                  "hovertemplate": "<b>%{hovertext}</b><br><br>restaurant=Mcdonalds<br>calories=%{x}<br>sodium=%{y}<extra></extra>",
                  "hovertext": [
                    "Artisan Grilled Chicken Sandwich",
                    "Single Bacon Smokehouse Burger",
                    "Double Bacon Smokehouse Burger",
                    "Grilled Bacon Smokehouse Chicken Sandwich",
                    "Crispy Bacon Smokehouse Chicken Sandwich",
                    "Big Mac",
                    "Cheeseburger",
                    "Classic Chicken Sandwich",
                    "Double Cheeseburger",
                    "Double Quarter Pounder® with Cheese",
                    "Filet-O-Fish®",
                    "Garlic White Cheddar Burger",
                    "Grilled Garlic White Cheddar Chicken Sandwich",
                    "Crispy Garlic White Cheddar Chicken Sandwich",
                    "Hamburger",
                    "Lobster Roll",
                    "Maple Bacon Dijon 1/4 lb Burger",
                    "Grilled Maple Bacon Dijon Chicken Sandwich",
                    "Crispy Maple Bacon Dijon Chicken Sandwich",
                    "McChicken",
                    "McDouble",
                    "McRib",
                    "Pico Guacamole 1/4 lb Burger",
                    "Grilled Pico Guacamole Chicken Sandwich",
                    "Crispy Pico Guacamole Chicken Sandwich",
                    "Premium Buttermilk Crispy Chicken Deluxe Sandwich",
                    "Premium Crispy Chicken Deluxe Sandwich",
                    "Quarter Pounder® with Cheese",
                    "Signature Sriracha Burger",
                    "Grilled Signature Sriracha Chicken Sandwich",
                    "Crispy Signature Sriracha Chicken Sandwich",
                    "Sweet BBQ Bacon 1/4 lb Burger",
                    "Grilled Sweet BBQ Bacon Chicken Sandwich",
                    "Crispy Sweet BBQ Bacon Chicken Sandwich",
                    "3 piece Buttermilk Crispy Chicken Tenders",
                    "4 piece Buttermilk Crispy Chicken Tenders",
                    "6 piece Buttermilk Crispy Chicken Tenders",
                    "10 piece Buttermilk Crispy Chicken Tenders",
                    "12 piece Buttermilk Crispy Chicken Tenders",
                    "20 piece Buttermilk Crispy Chicken Tenders",
                    "4 Piece Chicken McNuggets",
                    "6 Piece Chicken McNuggets",
                    "10 Piece Chicken McNuggets",
                    "20 Piece Chicken McNuggets",
                    "40 piece Chicken McNuggets",
                    "4 piece Sweet N' Spicy Honey BBQ Glazed Tenders",
                    "6 piece Sweet N' Spicy Honey BBQ Glazed Tenders",
                    "10 piece Sweet N' Spicy Honey BBQ Glazed Tenders",
                    "Premium Asian Salad w/o Chicken",
                    "Premium Asian Salad w/ Grilled Chicken",
                    "Premium Asian Salad w/ Crispy Chicken",
                    "Premium Bacon Ranch Salad w/o Chicken",
                    "Premium Bacon Ranch Salad w/ Grilled Chicken",
                    "Premium Bacon Ranch Salad w/ Crispy Chicken",
                    "Premium Southwest Salad w/o Chicken",
                    "Premium Southwest Salad w/ Grilled Chicken",
                    "Premium Southwest Salad w/ Crispy Chicken"
                  ],
                  "legendgroup": "Mcdonalds",
                  "marker": {
                    "color": "#636efa",
                    "symbol": "circle"
                  },
                  "mode": "markers",
                  "name": "Mcdonalds",
                  "orientation": "v",
                  "showlegend": true,
                  "type": "scatter",
                  "x": [
                    380,
                    840,
                    1130,
                    750,
                    920,
                    540,
                    300,
                    510,
                    430,
                    770,
                    380,
                    620,
                    530,
                    700,
                    250,
                    290,
                    640,
                    580,
                    740,
                    350,
                    380,
                    480,
                    580,
                    520,
                    680,
                    570,
                    530,
                    530,
                    670,
                    560,
                    730,
                    690,
                    630,
                    800,
                    370,
                    480,
                    760,
                    1210,
                    1510,
                    2430,
                    180,
                    270,
                    440,
                    890,
                    1770,
                    640,
                    960,
                    1600,
                    140,
                    270,
                    490,
                    190,
                    320,
                    490,
                    220,
                    350,
                    520
                  ],
                  "xaxis": "x",
                  "y": [
                    1110,
                    1580,
                    1920,
                    1940,
                    1980,
                    950,
                    680,
                    1040,
                    1040,
                    1290,
                    640,
                    790,
                    1150,
                    1190,
                    480,
                    630,
                    1260,
                    1890,
                    1780,
                    600,
                    840,
                    870,
                    920,
                    1540,
                    1430,
                    1050,
                    1000,
                    1090,
                    1010,
                    1550,
                    1430,
                    1310,
                    1930,
                    1820,
                    910,
                    1290,
                    1890,
                    3230,
                    3770,
                    6080,
                    340,
                    510,
                    840,
                    1680,
                    3370,
                    1780,
                    2670,
                    4450,
                    20,
                    740,
                    1120,
                    660,
                    1230,
                    1120,
                    500,
                    1070,
                    960
                  ],
                  "yaxis": "y"
                },
                {
                  "hovertemplate": "<b>%{hovertext}</b><br><br>restaurant=Chick Fil-A<br>calories=%{x}<br>sodium=%{y}<extra></extra>",
                  "hovertext": [
                    "Chargrilled Chicken Club Sandwich",
                    "Chargrilled Chicken Sandwich",
                    "Chick-n-Slider",
                    "1 Piece Chick-n-Strips",
                    "2 Piece Chick-n-Strips",
                    "3 Piece Chick-n-Strips",
                    "4 piece Chick-n-Strips",
                    "Chicken Deluxe",
                    "4 piece Chicken Nuggets",
                    "6 piece Chicken Nuggets",
                    "8 piece Chicken Nuggets",
                    "12 piece Chicken Nuggets",
                    "30 piece Chicken Nuggets",
                    "Chicken Salad Sandwich",
                    "Chicken Sandwich",
                    "4 Piece Grilled Chicken Nuggets",
                    "6 Piece Grilled Chicken Nuggets",
                    "8 piece Grilled Chicken Nuggets",
                    "12 Piece Grilled Chicken Nuggets",
                    "Spicy Grilled Chicken Sub Sandwich",
                    "Regular Grilled Chicken Sub Sandwich",
                    "Smokehouse BBQ Bacon Sandwich",
                    "Spicy Chicken Sandwich",
                    "Spicy Deluxe",
                    "Chargrilled Chicken Cool Wrap",
                    "Chicken Enchiladas Meal Kit",
                    "Chicken Parmesan Meal Kit"
                  ],
                  "legendgroup": "Chick Fil-A",
                  "marker": {
                    "color": "#EF553B",
                    "symbol": "circle"
                  },
                  "mode": "markers",
                  "name": "Chick Fil-A",
                  "orientation": "v",
                  "showlegend": true,
                  "type": "scatter",
                  "x": [
                    430,
                    310,
                    270,
                    120,
                    230,
                    350,
                    470,
                    500,
                    130,
                    190,
                    260,
                    390,
                    970,
                    490,
                    440,
                    70,
                    110,
                    140,
                    210,
                    430,
                    450,
                    500,
                    450,
                    540,
                    350,
                    860,
                    720
                  ],
                  "xaxis": "x",
                  "y": [
                    1120,
                    820,
                    800,
                    320,
                    630,
                    940,
                    1250,
                    1590,
                    490,
                    730,
                    990,
                    1460,
                    3660,
                    1130,
                    1350,
                    220,
                    330,
                    440,
                    670,
                    1310,
                    1000,
                    1200,
                    1620,
                    1760,
                    960,
                    2520,
                    1780
                  ],
                  "yaxis": "y"
                },
                {
                  "hovertemplate": "<b>%{hovertext}</b><br><br>restaurant=Sonic<br>calories=%{x}<br>sodium=%{y}<extra></extra>",
                  "hovertext": [
                    "Hatch Green Chile Cheeseburger",
                    "Jalapeno Burger",
                    "Jr. Burger",
                    "Jr. Chili Cheeseburger",
                    "Jr. Deluxe Burger",
                    "Jr. Deluxe Cheeseburger",
                    "Jr. Double Cheeseburger",
                    "Sonic Bacon Cheeseburger (w/mayo)",
                    "Sonic Burger W/ Mustard",
                    "Sonic Burger W/ Ketchup",
                    "Sonic Burger W/ Mayonnaise",
                    "Sonic Cheeseburger W/ Mustard",
                    "Sonic Cheeseburger W/ Ketchup",
                    "Sonic Cheeseburger W/ Mayonnaise",
                    "Super Sonic Bacon Double Cheeseburger (w/mayo)",
                    "Super Sonic Double Cheeseburger W/ Mustard",
                    "Super Sonic Double Cheeseburger W/ Ketchup",
                    "Super Sonic Double Cheeseburger W/ Mayo",
                    "Super Sonic Jalapeno Double Cheeseburger",
                    "Veggie Burger W/ Ketchup",
                    "Veggie Burger With Mustard",
                    "Veggie Burger W/ Mustard",
                    "Grilled Asiago Caesar Chicken Club Sandwich",
                    "Crispy Asiago Caesar Chicken Club Sandwich",
                    "Grilled Chicken Sandwich",
                    "Crispy Chicken Sandwich",
                    "Chicken Strip Sandwich",
                    "3 Piece Crispy Chicken Tender Dinner",
                    "5 Piece Crispy Chicken Tender Dinner",
                    "Deluxe Ultimate Chicken Sandwich",
                    "Buffalo Dunked Ultimate Chicken Sandwich",
                    "Garlic Parmesan Dunked Ultimate Chicken Sandwich",
                    "Small Jumbo Popcorn Chicken",
                    "Large Jumbo Popcorn Chicken",
                    "Small Spicy Jumbo Popcorn Chicken",
                    "Large Spicy Jumbo Popcorn Chicken",
                    "3 Piece Super Crunch Chicken Strip Dinner",
                    "4 Piece Super Crunch Chicken Strip Dinner",
                    "5 Piece Super Crunch Chicken Strip Dinner",
                    "3 Piece Super Crunch Chicken Strips",
                    "4 Piece Super Crunch Chicken Strips",
                    "5 Piece Super Crunch Chicken Strips",
                    "Traditional Ultimate Chicken Sandwich",
                    "Ultimate Chicken Club",
                    "All Beef All-american Style Dog – 6\"",
                    "All Beef Chicago Dog – 6\"",
                    "All Beef Chili Cheese Coney – 6\"",
                    "All Beef New York Dog – 6\"",
                    "All Beef Regular Hot Dog – 6\"",
                    "Cheesy Bacon Pretzel Dog - 6 In.",
                    "Corn Dog",
                    "Footlong Quarter Pound Coney",
                    "The Original Pretzel Dog"
                  ],
                  "legendgroup": "Sonic",
                  "marker": {
                    "color": "#00cc96",
                    "symbol": "circle"
                  },
                  "mode": "markers",
                  "name": "Sonic",
                  "orientation": "v",
                  "showlegend": true,
                  "type": "scatter",
                  "x": [
                    710,
                    640,
                    340,
                    410,
                    380,
                    450,
                    600,
                    870,
                    640,
                    650,
                    740,
                    710,
                    720,
                    800,
                    1280,
                    1120,
                    1130,
                    1220,
                    1120,
                    450,
                    450,
                    450,
                    610,
                    680,
                    430,
                    570,
                    450,
                    280,
                    470,
                    740,
                    1000,
                    1350,
                    380,
                    560,
                    350,
                    610,
                    970,
                    1080,
                    1190,
                    330,
                    440,
                    550,
                    730,
                    100,
                    370,
                    430,
                    410,
                    340,
                    320,
                    500,
                    210,
                    830,
                    320
                  ],
                  "xaxis": "x",
                  "y": [
                    1120,
                    930,
                    640,
                    730,
                    470,
                    800,
                    1350,
                    1350,
                    790,
                    860,
                    760,
                    1120,
                    1190,
                    1090,
                    1630,
                    1550,
                    1620,
                    1520,
                    1690,
                    1410,
                    1350,
                    1300,
                    1570,
                    1120,
                    940,
                    1060,
                    740,
                    800,
                    1340,
                    1550,
                    4520,
                    2180,
                    1250,
                    1890,
                    860,
                    1500,
                    2160,
                    2390,
                    2610,
                    670,
                    900,
                    1120,
                    1540,
                    2070,
                    1180,
                    2310,
                    1140,
                    1250,
                    870,
                    1410,
                    530,
                    1940,
                    910
                  ],
                  "yaxis": "y"
                },
                {
                  "hovertemplate": "<b>%{hovertext}</b><br><br>restaurant=Arbys<br>calories=%{x}<br>sodium=%{y}<extra></extra>",
                  "hovertext": [
                    "Arby's Melt",
                    "Arby-Q Sandwich",
                    "Beef 'n Cheddar Classic",
                    "Beef 'n Cheddar Mid",
                    "Bourbon BBQ Brisket Sandwich",
                    "Bourbon BBQ Chicken Sandwich",
                    "Bourbon BBQ Steak Sandwich",
                    "Buttermilk Buffalo Chicken Sandwich",
                    "Buttermilk Chicken Bacon & Swiss",
                    "Buttermilk Chicken Cordon Bleu Sandwich",
                    "Buttermilk Crispy Chicken Sandwich",
                    "Classic French Dip & Swiss/Au Jus",
                    "Classic Roast Beef",
                    "Double Roast Beef",
                    "Fire-Roasted Philly Steak",
                    "Grand Turkey Club",
                    "Greek Gyro",
                    "Half Pound Beef 'n Cheddar Sandwich",
                    "Half Pound French Dip & Swiss",
                    "Half Pound Roast Beef Sandwich",
                    "Ham & Swiss Melt",
                    "Loaded Italian Sandwich",
                    "Pecan Chicken Salad Flatbread",
                    "Pecan Chicken Salad Sandwich",
                    "2 piece Prime-Cut Chicken Tenders",
                    "3 piece Prime-Cut Chicken Tenders",
                    "5 piece Prime-Cut Chicken Tenders",
                    "Reuben Sandwich",
                    "Roast Beef Gyro",
                    "Roast Turkey & Swiss Sandwich",
                    "Roast Turkey & Swiss Wrap",
                    "Roast Turkey, Ranch & Bacon Sandwich",
                    "Roast Turkey, Ranch & Bacon Wrap",
                    "Smoke Mountain w/ Beef Short Rib",
                    "Smokehouse Beef Short Rib Sandwich",
                    "Smokehouse Brisket",
                    "Super Roast Beef",
                    "Three Cheese Steak Sandwich",
                    "Triple Decker Sandwich",
                    "Turkey Avocado Club",
                    "Turkey Gyro",
                    "Ultimate BLT",
                    "Buffalo Chicken Slider",
                    "Chicken Tender 'n Cheese Slider",
                    "Corned Beef 'n Cheese Slider",
                    "Ham 'n Cheese Slider",
                    "Jalapeno Roast Beef 'n Cheese Slider",
                    "Pizza Slider",
                    "Roast Beef 'n Cheese Slider",
                    "Turkey 'n Cheese Slider",
                    "Chopped Side Salad",
                    "Crispy Chicken Farmhouse Salad",
                    "Greek Gyro Salad",
                    "Roast Turkey Farmhouse Salad",
                    "Super Greek Salad"
                  ],
                  "legendgroup": "Arbys",
                  "marker": {
                    "color": "#ab63fa",
                    "symbol": "circle"
                  },
                  "mode": "markers",
                  "name": "Arbys",
                  "orientation": "v",
                  "showlegend": true,
                  "type": "scatter",
                  "x": [
                    330,
                    400,
                    450,
                    630,
                    650,
                    690,
                    690,
                    540,
                    650,
                    690,
                    550,
                    540,
                    360,
                    510,
                    640,
                    480,
                    710,
                    740,
                    750,
                    610,
                    300,
                    680,
                    710,
                    840,
                    240,
                    360,
                    600,
                    680,
                    550,
                    710,
                    520,
                    800,
                    620,
                    740,
                    590,
                    600,
                    430,
                    650,
                    1030,
                    730,
                    470,
                    980,
                    290,
                    290,
                    220,
                    210,
                    240,
                    300,
                    240,
                    200,
                    70,
                    430,
                    420,
                    230,
                    720
                  ],
                  "xaxis": "x",
                  "y": [
                    920,
                    1230,
                    1280,
                    2100,
                    1460,
                    1990,
                    1990,
                    2110,
                    1750,
                    2000,
                    1480,
                    2500,
                    970,
                    1610,
                    1950,
                    1610,
                    1360,
                    2530,
                    3350,
                    2040,
                    1030,
                    2270,
                    980,
                    1210,
                    640,
                    950,
                    1590,
                    2420,
                    1290,
                    1930,
                    1640,
                    2420,
                    2130,
                    2050,
                    1510,
                    1240,
                    1060,
                    1760,
                    2940,
                    2140,
                    1520,
                    2130,
                    860,
                    720,
                    890,
                    780,
                    670,
                    930,
                    670,
                    760,
                    100,
                    1000,
                    700,
                    870,
                    1310
                  ],
                  "yaxis": "y"
                },
                {
                  "hovertemplate": "<b>%{hovertext}</b><br><br>restaurant=Burger King<br>calories=%{x}<br>sodium=%{y}<extra></extra>",
                  "hovertext": [
                    "American Brewhouse King",
                    "Bacon & Swiss Sourdough King",
                    "Bacon Cheeseburger",
                    "Bacon Cheeseburger Deluxe",
                    "Bacon King",
                    "Bacon King Jr",
                    "BBQ Bacon King",
                    "Cheeseburger",
                    "Double Bacon Cheeseburger",
                    "Double Cheeseburger",
                    "Double Hamburger",
                    "Double Quarter Pound King",
                    "Extra Long Cheeseburger",
                    "Farmhouse King",
                    "Hamburger",
                    "Homestyle Cheeseburger",
                    "Jalapeno King Sandwich",
                    "Mushroom & Swiss King",
                    "Rodeo Burger",
                    "Rodeo King",
                    "Sourdough King Single",
                    "Sourdough King Double",
                    "Steakhouse King",
                    "Bacon & Cheese Whopper",
                    "DOUBLE WHOPPER w/o Cheese",
                    "DOUBLE WHOPPER w/ Cheese",
                    "WHOPPER w/o Cheese",
                    "WHOPPER w/ Cheese",
                    "WHOPPER JR. w/o Cheese",
                    "WHOPPER JR. w/ Cheese",
                    "Bacon Cheddar Ranch Chicken Salad w/ grilled Chicken & Dressing",
                    "Bacon Cheddar Ranch Chicken Salad w/ crispy Chicken & Dressing",
                    "Chicken BLT Salad w/ Grilled Chicken",
                    "Chicken BLT Salad w/ Crispy Chicken",
                    "Chicken Caesar Salad w/ Grilled Chicken",
                    "Chicken Caesar Salad w/ Crispy Chicken",
                    "Chicken, Apple & Cranberry Salad w/ Grilled Chicken",
                    "Chicken, Apple & Cranberry Salad w/ Crispy Chicken",
                    "Garden Grilled Chicken Salad w/ Grilled Chicken, no dressing",
                    "Garden Grilled Chicken Salad w/ Crispy Chicken, no dressing",
                    "Side Caesar Salad with dressing",
                    "Side Garden Salad and Avocado Ranch Dressing",
                    "Bacon Cheddar Ranch Crispy Chicken Sandwich",
                    "BBQ Bacon Crispy Chicken Sandwich",
                    "Big Fish Sandwich",
                    "BK VEGGIE Burger",
                    "Chicken Burger",
                    "Chicken Cordon Bleu Sandwich",
                    "Chicken Fries",
                    "4 Piece Chicken Nuggets",
                    "6 Piece Chicken Nuggets",
                    "20 Piece Chicken Nuggets",
                    "Chicken Nuggets (10pc)",
                    "Chicken Parmesan Sandwich",
                    "Crispy Buffalo Chicken Melt",
                    "Crispy Chicken Jr.",
                    "Crispy Chicken Sandwich",
                    "Grilled Chicken Sandwich",
                    "Grilled Chili Cheese Dog",
                    "Grilled Hot Dog",
                    "Jalapeno Chicken Fries",
                    "Original Chicken Sandwich",
                    "Pretzel Chicken Fries",
                    "Rodeo Crispy Chicken Sandwich",
                    "Sourdough Chicken Club",
                    "4 Piece Spicy Chicken Nuggets",
                    "Spicy Chicken Nuggets",
                    "Spicy Crispy Chicken Jr.",
                    "Spicy Crispy Chicken Sandwich",
                    "Spicy Crispy Jalapeno Chicken Sandwich"
                  ],
                  "legendgroup": "Burger King",
                  "marker": {
                    "color": "#FFA15A",
                    "symbol": "circle"
                  },
                  "mode": "markers",
                  "name": "Burger King",
                  "orientation": "v",
                  "showlegend": true,
                  "type": "scatter",
                  "x": [
                    1550,
                    1000,
                    330,
                    290,
                    1040,
                    730,
                    1100,
                    300,
                    520,
                    450,
                    360,
                    900,
                    580,
                    1220,
                    260,
                    550,
                    990,
                    940,
                    310,
                    1250,
                    730,
                    970,
                    1100,
                    770,
                    900,
                    990,
                    660,
                    760,
                    340,
                    380,
                    590,
                    720,
                    550,
                    690,
                    530,
                    670,
                    560,
                    700,
                    320,
                    450,
                    220,
                    230,
                    830,
                    440,
                    530,
                    410,
                    480,
                    730,
                    290,
                    190,
                    290,
                    950,
                    470,
                    570,
                    580,
                    430,
                    670,
                    470,
                    330,
                    310,
                    300,
                    630,
                    340,
                    410,
                    840,
                    210,
                    530,
                    410,
                    700,
                    760
                  ],
                  "xaxis": "x",
                  "y": [
                    1820,
                    1320,
                    830,
                    720,
                    1900,
                    1930,
                    1850,
                    710,
                    1180,
                    960,
                    520,
                    1740,
                    1030,
                    2050,
                    490,
                    1140,
                    1550,
                    1380,
                    450,
                    2270,
                    1570,
                    1640,
                    1620,
                    1360,
                    1050,
                    1480,
                    980,
                    1410,
                    510,
                    730,
                    1540,
                    1960,
                    1640,
                    1750,
                    1640,
                    1760,
                    980,
                    1090,
                    650,
                    1070,
                    540,
                    520,
                    2100,
                    630,
                    1360,
                    1030,
                    1160,
                    1930,
                    780,
                    310,
                    460,
                    1530,
                    890,
                    1340,
                    2310,
                    760,
                    1070,
                    850,
                    980,
                    960,
                    950,
                    1390,
                    1200,
                    870,
                    1760,
                    570,
                    1420,
                    850,
                    1140,
                    1720
                  ],
                  "yaxis": "y"
                },
                {
                  "hovertemplate": "<b>%{hovertext}</b><br><br>restaurant=Dairy Queen<br>calories=%{x}<br>sodium=%{y}<extra></extra>",
                  "hovertext": [
                    "1/2 lb. FlameThrower® GrillBurger",
                    "1/2 lb. GrillBurger with Cheese",
                    "1/4 lb. Bacon Cheese GrillBurger",
                    "1/4 lb. GrillBurger with Cheese",
                    "1/4 lb. Mushroom Swiss GrillBurger",
                    "Original Cheeseburger",
                    "Original Double Cheeseburger",
                    "4 Piece Chicken Strip Basket w/ Country Gravy",
                    "6 Piece Chicken Strip Basket w/ Country Gravy",
                    "Bacon Cheese Dog",
                    "Cheese Dog",
                    "Chili Cheese Dog",
                    "Chili Dog",
                    "Hot Dog",
                    "Relish Dog",
                    "Barbecue Pork Sandwich",
                    "Breaded Mushrooms",
                    "Regular Cheese Curds",
                    "Large Cheese Curds",
                    "Chili Cheese Mega Dog",
                    "Corn Dog",
                    "Crispy Fish Sandwich",
                    "Deluxe Cheeseburger",
                    "Deluxe Double Cheeseburger",
                    "Deluxe Double Hamburger",
                    "Deluxe Hamburger",
                    "DQ Ultimate® Burger",
                    "Pork Tenderloin Sandwich",
                    "Steak Finger Basket",
                    "3 chicken strips Chicken Strips",
                    "Chicken Bacon Ranch Sandwich",
                    "Chicken Mozzarella Sandwich",
                    "Crispy Chicken BLT Salad",
                    "Crispy Chicken Garden Greens Salad",
                    "Crispy Chicken Sandwich",
                    "Crispy Chicken Wrap",
                    "Grilled Chicken BLT Salad",
                    "Grilled Chicken Garden Greens Salad",
                    "Grilled Chicken Sandwich",
                    "Grilled Chicken Wrap",
                    "Side Salad",
                    "Turkey BLT Sandwich"
                  ],
                  "legendgroup": "Dairy Queen",
                  "marker": {
                    "color": "#19d3f3",
                    "symbol": "circle"
                  },
                  "mode": "markers",
                  "name": "Dairy Queen",
                  "orientation": "v",
                  "showlegend": true,
                  "type": "scatter",
                  "x": [
                    1000,
                    800,
                    630,
                    540,
                    570,
                    400,
                    630,
                    1030,
                    1260,
                    420,
                    390,
                    380,
                    330,
                    290,
                    350,
                    310,
                    250,
                    550,
                    1050,
                    760,
                    260,
                    470,
                    400,
                    640,
                    540,
                    350,
                    780,
                    580,
                    910,
                    350,
                    500,
                    640,
                    520,
                    280,
                    600,
                    350,
                    380,
                    150,
                    360,
                    280,
                    20,
                    550
                  ],
                  "xaxis": "x",
                  "y": [
                    1610,
                    1280,
                    1250,
                    1020,
                    820,
                    930,
                    1240,
                    2780,
                    3500,
                    1140,
                    1000,
                    900,
                    1050,
                    900,
                    1000,
                    830,
                    500,
                    900,
                    2210,
                    1570,
                    450,
                    1210,
                    930,
                    1240,
                    750,
                    680,
                    1390,
                    910,
                    2210,
                    960,
                    1190,
                    1530,
                    1470,
                    670,
                    1250,
                    820,
                    1540,
                    730,
                    1040,
                    800,
                    15,
                    1420
                  ],
                  "yaxis": "y"
                },
                {
                  "hovertemplate": "<b>%{hovertext}</b><br><br>restaurant=Subway<br>calories=%{x}<br>sodium=%{y}<extra></extra>",
                  "hovertext": [
                    "6\" B.L.T.",
                    "Footlong B.L.T.",
                    "6\" BBQ Rib Sandwich",
                    "Footlong BBQ Rib Sandwich",
                    "6\" Big Hot Pastrami",
                    "Footlong Big Hot Pastrami",
                    "6\" Big Philly Cheesesteak",
                    "Footlong Big Philly Cheesesteak",
                    "Kids Mini Sub Black Forest Ham",
                    "6\" Black Forest Ham",
                    "Footlong Black Forest Ham",
                    "6\" Carved Turkey",
                    "Footlong Carved Turkey",
                    "6\" Carved Turkey & Bacon w/ Cheese",
                    "Footlong Carved Turkey & Bacon w/ Cheese",
                    "6\" Chicken & Bacon Ranch Melt",
                    "Footlong Chicken & Bacon Ranch Melt",
                    "6\" Chicken Pizziola Melt",
                    "Footlong Chicken Pizziola Melt",
                    "6\" Cold Cut Combo",
                    "Footlong Cold Cut Combo",
                    "6\" Corned Beef Reuben",
                    "Footlong Corned Beef Reuben",
                    "6\" Italian B.M.T.",
                    "Footlong Italian B.M.T.",
                    "6\" Italian Hero",
                    "Footlong Italian Hero",
                    "6\" Meatball Marinara",
                    "Footlong Meatball Marinara",
                    "6\" Oven Roasted Chicken",
                    "Footlong Oven Roasted Chicken",
                    "Kids Mini Sub Roast Beef",
                    "6\" Roast Beef",
                    "Footlong Roast Beef",
                    "6\" Rotisserie Style Chicken",
                    "Footlong Rotisserie Style Chicken",
                    "6\" Spicy Italian",
                    "Footlong Spicy Italian",
                    "6\" Steak and Cheese",
                    "Footlong Steak and Cheese",
                    "6\" Subway Club",
                    "Footlong Subway Club",
                    "6\" Subway Melt (includes cheese)",
                    "Footlong Subway Melt (includes cheese)",
                    "6\" Subway Seafood Sensation",
                    "Footlong Subway Seafood Sensation",
                    "6\" Sweet Onion Chicken Teriyaki",
                    "Footlong Sweet Onion Chicken Teriyaki",
                    "6\" Tuna",
                    "Footlong Tuna",
                    "6\" Turkey & Bacon Avocado",
                    "Footlong Turkey & Bacon Avocado",
                    "Kids Mini Sub Turkey Breast",
                    "6\" Turkey Breast",
                    "Footlong Turkey Breast",
                    "6\" Turkey Breast & Ham",
                    "Footlong Turkey Breast & Ham",
                    "6\" Turkey Italiano Melt (with Provolone)",
                    "Footlong Turkey Italiano Melt (with Provolone)",
                    "Kids Mini Sub Veggie Delite",
                    "6\" Veggie Delite",
                    "Footlong Veggie Delite",
                    "6\" Veggie Patty",
                    "Footlong Veggie Patty",
                    "Autumn Carved Turkey Salad",
                    "B.L.T. Salad",
                    "Big Hot Pastrami Melt Salad",
                    "Big Philly Cheesesteak Salad",
                    "Black Forest Ham Salad",
                    "Buffalo Chicken Salad (with Ranch dressing)",
                    "Carved Turkey & Bacon w/ Cheese Salad",
                    "Carved Turkey Salad",
                    "Chicken & Bacon Ranch Melt Salad (includes Ranch dressing)",
                    "Cold Cut Combo Salad",
                    "Double Chicken Salad",
                    "Italian B.M.T.® Salad",
                    "Italian Hero Salad",
                    "Meatball Marinara Salad",
                    "Oven Roasted Chicken Salad",
                    "Roast Beef Salad",
                    "Spicy Italian Salad",
                    "Steak & Cheese Salad",
                    "Subway Club Salad",
                    "Subway Melt® Salad",
                    "Sweet Onion Chicken Teriyaki Salad",
                    "Tuna Salad",
                    "Turkey Breast & Ham Salad",
                    "Turkey Breast Salad",
                    "Veggie Delite Salad",
                    "Chipotle Southwest Steak & Cheese Wrap",
                    "Rotisserie-Style Chicken Caesar Wrap",
                    "Turkey, Bacon & Guacamole Wrap",
                    "Cheese & Veggies Pizza",
                    "Cheese Pizza",
                    "Pepperoni Pizza",
                    "Sausage Pizza"
                  ],
                  "legendgroup": "Subway",
                  "marker": {
                    "color": "#FF6692",
                    "symbol": "circle"
                  },
                  "mode": "markers",
                  "name": "Subway",
                  "orientation": "v",
                  "showlegend": true,
                  "type": "scatter",
                  "x": [
                    320,
                    640,
                    430,
                    860,
                    580,
                    1160,
                    500,
                    1000,
                    180,
                    290,
                    580,
                    330,
                    660,
                    570,
                    1140,
                    570,
                    1140,
                    460,
                    920,
                    370,
                    740,
                    470,
                    940,
                    410,
                    820,
                    550,
                    1100,
                    480,
                    960,
                    320,
                    640,
                    200,
                    320,
                    640,
                    350,
                    700,
                    480,
                    960,
                    380,
                    760,
                    310,
                    620,
                    370,
                    740,
                    420,
                    840,
                    380,
                    760,
                    470,
                    940,
                    390,
                    780,
                    180,
                    280,
                    560,
                    280,
                    560,
                    490,
                    980,
                    150,
                    230,
                    460,
                    390,
                    780,
                    300,
                    150,
                    400,
                    330,
                    110,
                    360,
                    280,
                    150,
                    510,
                    180,
                    220,
                    230,
                    230,
                    310,
                    140,
                    140,
                    310,
                    210,
                    140,
                    200,
                    200,
                    310,
                    110,
                    110,
                    50,
                    760,
                    730,
                    810,
                    740,
                    680,
                    790,
                    820
                  ],
                  "xaxis": "x",
                  "y": [
                    680,
                    1360,
                    590,
                    1180,
                    1470,
                    2940,
                    1310,
                    2620,
                    450,
                    830,
                    1660,
                    890,
                    1780,
                    1600,
                    3200,
                    1080,
                    2160,
                    1140,
                    2280,
                    1140,
                    2280,
                    1770,
                    3540,
                    1300,
                    2600,
                    1470,
                    2940,
                    950,
                    1900,
                    640,
                    1280,
                    390,
                    700,
                    1400,
                    540,
                    1080,
                    1520,
                    3040,
                    1060,
                    2120,
                    880,
                    1760,
                    1210,
                    1420,
                    690,
                    1380,
                    900,
                    1800,
                    620,
                    1240,
                    860,
                    1720,
                    380,
                    810,
                    1620,
                    820,
                    1640,
                    1480,
                    2960,
                    190,
                    310,
                    620,
                    800,
                    1600,
                    1120,
                    420,
                    1250,
                    1080,
                    590,
                    1100,
                    1320,
                    680,
                    1040,
                    820,
                    490,
                    1060,
                    1060,
                    720,
                    280,
                    450,
                    1280,
                    830,
                    640,
                    910,
                    660,
                    370,
                    580,
                    570,
                    65,
                    2250,
                    1900,
                    2970,
                    1270,
                    1070,
                    1350,
                    1420
                  ],
                  "yaxis": "y"
                },
                {
                  "hovertemplate": "<b>%{hovertext}</b><br><br>restaurant=Taco Bell<br>calories=%{x}<br>sodium=%{y}<extra></extra>",
                  "hovertext": [
                    "1/2 lb.* Cheesy Potato Burrito",
                    "1/2 lb.* Combo Burrito",
                    "7-Layer Burrito",
                    "Bean Burrito",
                    "Beefy 5-Layer Burrito",
                    "Beefy Fritos® Burrito",
                    "Black Bean Burrito",
                    "Burrito Supreme® – Beef",
                    "Burrito Supreme® - Chicken",
                    "Burrito Supreme® - Steak",
                    "Cantina Power Burrito - Chicken",
                    "Cantina Power Burrito - Steak",
                    "Cantina Power Burrito - Veggie",
                    "Cheesy Bean and Rice Burrito",
                    "Chili Cheese Burrito",
                    "Chicken Crunchy Cheesy Core Burrito",
                    "Steak Crunchy Cheesy Core Burrito",
                    "Beef Crunchy Cheesy Core Burrito",
                    "Loaded Taco Burrito",
                    "Chicken Quesarito",
                    "Steak Quesarito",
                    "Beef Quesarito",
                    "Shredded Chicken Burrito",
                    "Smothered Burrito - Beef",
                    "Smothered Burrito - Shredded Chicken",
                    "Smothered Burrito - Steak",
                    "Chicken Spicy Cheesy Core Burrito",
                    "Steak Spicy Cheesy Core Burrito",
                    "Beef Spicy Cheesy Core Burrito",
                    "Triple Melt Burrito",
                    "XXL Grilled Stuft Burrito - Beef",
                    "XXL Grilled Stuft Burrito - Chicken",
                    "XXL Grilled Stuft Burrito - Steak",
                    "Chicken Soft Taco",
                    "Cool Ranch® Doritos® Double Decker® Taco",
                    "Cool Ranch® Doritos® Locos Taco",
                    "Cool Ranch® Doritos® Locos Taco Supreme",
                    "Crunchy Taco",
                    "Crunchy Taco Supreme®",
                    "Double Decker® Taco",
                    "DOUBLE DECKER® Taco Supreme®",
                    "Spicy Sweet Double Stacked Taco",
                    "Cool Ranch Habanero Double Stacked Taco",
                    "Nacho Crunch Double Stacked Taco",
                    "Fiery Doritos® Double Decker® Taco",
                    "Fiery Doritos® Locos Taco",
                    "Fiery Doritos® Locos Taco Supreme",
                    "Grilled Steak Soft Taco",
                    "Nacho Cheese Doritos® Double Decker® Taco",
                    "Nacho Cheese Doritos® Locos Tacos",
                    "Nacho Cheese Doritos® Locos Tacos Supreme",
                    "Soft Taco Supreme® – Beef",
                    "Soft Taco-Beef",
                    "Spicy Potato Soft Taco",
                    "Chalupa Supreme® - Chicken",
                    "Chalupa Supreme® - Steak",
                    "Chalupa Supreme®–Beef",
                    "Double Chalupa",
                    "Wild Naked Chicken Chalupa",
                    "Mild Naked Chicken Chalupa",
                    "Spicy Double Chalupa",
                    "Fresco Bean Burrito",
                    "Fresco Burrito Supreme® – Chicken",
                    "Fresco Burrito Supreme® – Steak",
                    "Fresco Chicken Soft Taco",
                    "Fresco Crunchy Taco",
                    "Fresco Grilled Steak Soft Taco",
                    "Fresco Soft Taco",
                    "Cheesy Gordita Crunch",
                    "Doritos® Cheesy Gordita Crunch - Cool Ranch",
                    "Doritos® Cheesy Gordita Crunch - Fiery",
                    "Doritos® Cheesy Gordita Crunch - Nacho Cheese",
                    "Double Cheesy Gordita Crunch",
                    "Gordita Supreme® – Beef",
                    "Gordita Supreme® - Chicken",
                    "Gordita Supreme® - Steak",
                    "Nacho Fries Bellgrande",
                    "Nachos BellGrande®",
                    "Nachos Supreme",
                    "Triple Layer Nachos",
                    "Triple Melt Nachos",
                    "Beefy Cheddar Crunchwrap Slider",
                    "Beefy Mini Quesadilla",
                    "Beefy Nacho Griller",
                    "BLT Crunchwrap Slider",
                    "Cantina Power Bowl - Chicken",
                    "Cantina Power Bowl - Steak",
                    "Cantina Power Bowl - Veggie",
                    "Cheese Quesadilla",
                    "Cheese Roll-Up",
                    "Chicken Quesadilla",
                    "Chickstar",
                    "Chili Cheese Burrito",
                    "Chipotle Crispy Chicken Griller",
                    "Crispy Chicken Quesadilla",
                    "Crunchwrap Supreme®",
                    "Double Tostada",
                    "Express Taco Salad w/ Chips",
                    "Loaded Potato Griller",
                    "Mexican Pizza",
                    "MexiMelt®",
                    "Steak Quesalupa",
                    "Chicken Quesalupa",
                    "Beef Quesalupa",
                    "Shredded Chicken Mini Quesadilla",
                    "Spicy Chicken Crunchwrap Slider",
                    "Spicy Tostada",
                    "Stacker",
                    "Steak Quesadilla",
                    "Original Triple Double Crunchwrap",
                    "Spicy Triple Double Crunchwrap",
                    "Express Taco Salad w/ Chips",
                    "Fiesta Taco Salad-Beef",
                    "Fiesta Taco Salad-Chicken",
                    "Fiesta Taco Salad-Steak"
                  ],
                  "legendgroup": "Taco Bell",
                  "marker": {
                    "color": "#B6E880",
                    "symbol": "circle"
                  },
                  "mode": "markers",
                  "name": "Taco Bell",
                  "orientation": "v",
                  "showlegend": true,
                  "type": "scatter",
                  "x": [
                    540,
                    460,
                    510,
                    370,
                    550,
                    440,
                    410,
                    420,
                    390,
                    390,
                    760,
                    780,
                    740,
                    420,
                    380,
                    610,
                    610,
                    630,
                    550,
                    620,
                    630,
                    650,
                    400,
                    710,
                    650,
                    670,
                    540,
                    550,
                    570,
                    410,
                    880,
                    830,
                    820,
                    170,
                    320,
                    160,
                    200,
                    170,
                    200,
                    320,
                    350,
                    340,
                    350,
                    380,
                    320,
                    170,
                    200,
                    250,
                    320,
                    170,
                    200,
                    230,
                    200,
                    250,
                    340,
                    340,
                    370,
                    600,
                    420,
                    440,
                    600,
                    350,
                    340,
                    340,
                    150,
                    140,
                    150,
                    170,
                    490,
                    490,
                    490,
                    490,
                    570,
                    300,
                    270,
                    270,
                    710,
                    760,
                    430,
                    320,
                    260,
                    410,
                    210,
                    420,
                    430,
                    560,
                    580,
                    540,
                    480,
                    190,
                    520,
                    620,
                    380,
                    290,
                    650,
                    540,
                    270,
                    580,
                    470,
                    540,
                    270,
                    440,
                    440,
                    460,
                    180,
                    400,
                    200,
                    390,
                    520,
                    700,
                    780,
                    580,
                    780,
                    720,
                    720
                  ],
                  "xaxis": "x",
                  "y": [
                    1360,
                    1320,
                    1090,
                    960,
                    1270,
                    1030,
                    1100,
                    1090,
                    1050,
                    1090,
                    1960,
                    1900,
                    1750,
                    930,
                    930,
                    1510,
                    1520,
                    1530,
                    1130,
                    1440,
                    1410,
                    1450,
                    960,
                    2260,
                    2230,
                    2080,
                    1740,
                    1750,
                    1760,
                    1030,
                    2020,
                    1940,
                    2020,
                    460,
                    770,
                    350,
                    370,
                    290,
                    320,
                    640,
                    670,
                    640,
                    630,
                    650,
                    770,
                    370,
                    390,
                    550,
                    760,
                    340,
                    370,
                    530,
                    510,
                    510,
                    530,
                    570,
                    570,
                    1010,
                    1070,
                    1090,
                    1240,
                    950,
                    1020,
                    1060,
                    460,
                    290,
                    500,
                    500,
                    810,
                    890,
                    890,
                    880,
                    1110,
                    550,
                    510,
                    550,
                    1420,
                    1100,
                    690,
                    600,
                    550,
                    960,
                    560,
                    870,
                    900,
                    1520,
                    1460,
                    1310,
                    1000,
                    450,
                    1210,
                    1290,
                    930,
                    640,
                    1480,
                    1110,
                    650,
                    1270,
                    1120,
                    860,
                    740,
                    840,
                    840,
                    890,
                    540,
                    900,
                    440,
                    1050,
                    1250,
                    1550,
                    1850,
                    1270,
                    1340,
                    1260,
                    1340
                  ],
                  "yaxis": "y"
                }
              ],
              "layout": {
                "legend": {
                  "title": {
                    "text": "restaurant"
                  },
                  "tracegroupgap": 0
                },
                "margin": {
                  "t": 60
                },
                "template": {
                  "data": {
                    "bar": [
                      {
                        "error_x": {
                          "color": "#2a3f5f"
                        },
                        "error_y": {
                          "color": "#2a3f5f"
                        },
                        "marker": {
                          "line": {
                            "color": "#E5ECF6",
                            "width": 0.5
                          },
                          "pattern": {
                            "fillmode": "overlay",
                            "size": 10,
                            "solidity": 0.2
                          }
                        },
                        "type": "bar"
                      }
                    ],
                    "barpolar": [
                      {
                        "marker": {
                          "line": {
                            "color": "#E5ECF6",
                            "width": 0.5
                          },
                          "pattern": {
                            "fillmode": "overlay",
                            "size": 10,
                            "solidity": 0.2
                          }
                        },
                        "type": "barpolar"
                      }
                    ],
                    "carpet": [
                      {
                        "aaxis": {
                          "endlinecolor": "#2a3f5f",
                          "gridcolor": "white",
                          "linecolor": "white",
                          "minorgridcolor": "white",
                          "startlinecolor": "#2a3f5f"
                        },
                        "baxis": {
                          "endlinecolor": "#2a3f5f",
                          "gridcolor": "white",
                          "linecolor": "white",
                          "minorgridcolor": "white",
                          "startlinecolor": "#2a3f5f"
                        },
                        "type": "carpet"
                      }
                    ],
                    "choropleth": [
                      {
                        "colorbar": {
                          "outlinewidth": 0,
                          "ticks": ""
                        },
                        "type": "choropleth"
                      }
                    ],
                    "contour": [
                      {
                        "colorbar": {
                          "outlinewidth": 0,
                          "ticks": ""
                        },
                        "colorscale": [
                          [
                            0,
                            "#0d0887"
                          ],
                          [
                            0.1111111111111111,
                            "#46039f"
                          ],
                          [
                            0.2222222222222222,
                            "#7201a8"
                          ],
                          [
                            0.3333333333333333,
                            "#9c179e"
                          ],
                          [
                            0.4444444444444444,
                            "#bd3786"
                          ],
                          [
                            0.5555555555555556,
                            "#d8576b"
                          ],
                          [
                            0.6666666666666666,
                            "#ed7953"
                          ],
                          [
                            0.7777777777777778,
                            "#fb9f3a"
                          ],
                          [
                            0.8888888888888888,
                            "#fdca26"
                          ],
                          [
                            1,
                            "#f0f921"
                          ]
                        ],
                        "type": "contour"
                      }
                    ],
                    "contourcarpet": [
                      {
                        "colorbar": {
                          "outlinewidth": 0,
                          "ticks": ""
                        },
                        "type": "contourcarpet"
                      }
                    ],
                    "heatmap": [
                      {
                        "colorbar": {
                          "outlinewidth": 0,
                          "ticks": ""
                        },
                        "colorscale": [
                          [
                            0,
                            "#0d0887"
                          ],
                          [
                            0.1111111111111111,
                            "#46039f"
                          ],
                          [
                            0.2222222222222222,
                            "#7201a8"
                          ],
                          [
                            0.3333333333333333,
                            "#9c179e"
                          ],
                          [
                            0.4444444444444444,
                            "#bd3786"
                          ],
                          [
                            0.5555555555555556,
                            "#d8576b"
                          ],
                          [
                            0.6666666666666666,
                            "#ed7953"
                          ],
                          [
                            0.7777777777777778,
                            "#fb9f3a"
                          ],
                          [
                            0.8888888888888888,
                            "#fdca26"
                          ],
                          [
                            1,
                            "#f0f921"
                          ]
                        ],
                        "type": "heatmap"
                      }
                    ],
                    "heatmapgl": [
                      {
                        "colorbar": {
                          "outlinewidth": 0,
                          "ticks": ""
                        },
                        "colorscale": [
                          [
                            0,
                            "#0d0887"
                          ],
                          [
                            0.1111111111111111,
                            "#46039f"
                          ],
                          [
                            0.2222222222222222,
                            "#7201a8"
                          ],
                          [
                            0.3333333333333333,
                            "#9c179e"
                          ],
                          [
                            0.4444444444444444,
                            "#bd3786"
                          ],
                          [
                            0.5555555555555556,
                            "#d8576b"
                          ],
                          [
                            0.6666666666666666,
                            "#ed7953"
                          ],
                          [
                            0.7777777777777778,
                            "#fb9f3a"
                          ],
                          [
                            0.8888888888888888,
                            "#fdca26"
                          ],
                          [
                            1,
                            "#f0f921"
                          ]
                        ],
                        "type": "heatmapgl"
                      }
                    ],
                    "histogram": [
                      {
                        "marker": {
                          "pattern": {
                            "fillmode": "overlay",
                            "size": 10,
                            "solidity": 0.2
                          }
                        },
                        "type": "histogram"
                      }
                    ],
                    "histogram2d": [
                      {
                        "colorbar": {
                          "outlinewidth": 0,
                          "ticks": ""
                        },
                        "colorscale": [
                          [
                            0,
                            "#0d0887"
                          ],
                          [
                            0.1111111111111111,
                            "#46039f"
                          ],
                          [
                            0.2222222222222222,
                            "#7201a8"
                          ],
                          [
                            0.3333333333333333,
                            "#9c179e"
                          ],
                          [
                            0.4444444444444444,
                            "#bd3786"
                          ],
                          [
                            0.5555555555555556,
                            "#d8576b"
                          ],
                          [
                            0.6666666666666666,
                            "#ed7953"
                          ],
                          [
                            0.7777777777777778,
                            "#fb9f3a"
                          ],
                          [
                            0.8888888888888888,
                            "#fdca26"
                          ],
                          [
                            1,
                            "#f0f921"
                          ]
                        ],
                        "type": "histogram2d"
                      }
                    ],
                    "histogram2dcontour": [
                      {
                        "colorbar": {
                          "outlinewidth": 0,
                          "ticks": ""
                        },
                        "colorscale": [
                          [
                            0,
                            "#0d0887"
                          ],
                          [
                            0.1111111111111111,
                            "#46039f"
                          ],
                          [
                            0.2222222222222222,
                            "#7201a8"
                          ],
                          [
                            0.3333333333333333,
                            "#9c179e"
                          ],
                          [
                            0.4444444444444444,
                            "#bd3786"
                          ],
                          [
                            0.5555555555555556,
                            "#d8576b"
                          ],
                          [
                            0.6666666666666666,
                            "#ed7953"
                          ],
                          [
                            0.7777777777777778,
                            "#fb9f3a"
                          ],
                          [
                            0.8888888888888888,
                            "#fdca26"
                          ],
                          [
                            1,
                            "#f0f921"
                          ]
                        ],
                        "type": "histogram2dcontour"
                      }
                    ],
                    "mesh3d": [
                      {
                        "colorbar": {
                          "outlinewidth": 0,
                          "ticks": ""
                        },
                        "type": "mesh3d"
                      }
                    ],
                    "parcoords": [
                      {
                        "line": {
                          "colorbar": {
                            "outlinewidth": 0,
                            "ticks": ""
                          }
                        },
                        "type": "parcoords"
                      }
                    ],
                    "pie": [
                      {
                        "automargin": true,
                        "type": "pie"
                      }
                    ],
                    "scatter": [
                      {
                        "fillpattern": {
                          "fillmode": "overlay",
                          "size": 10,
                          "solidity": 0.2
                        },
                        "type": "scatter"
                      }
                    ],
                    "scatter3d": [
                      {
                        "line": {
                          "colorbar": {
                            "outlinewidth": 0,
                            "ticks": ""
                          }
                        },
                        "marker": {
                          "colorbar": {
                            "outlinewidth": 0,
                            "ticks": ""
                          }
                        },
                        "type": "scatter3d"
                      }
                    ],
                    "scattercarpet": [
                      {
                        "marker": {
                          "colorbar": {
                            "outlinewidth": 0,
                            "ticks": ""
                          }
                        },
                        "type": "scattercarpet"
                      }
                    ],
                    "scattergeo": [
                      {
                        "marker": {
                          "colorbar": {
                            "outlinewidth": 0,
                            "ticks": ""
                          }
                        },
                        "type": "scattergeo"
                      }
                    ],
                    "scattergl": [
                      {
                        "marker": {
                          "colorbar": {
                            "outlinewidth": 0,
                            "ticks": ""
                          }
                        },
                        "type": "scattergl"
                      }
                    ],
                    "scattermapbox": [
                      {
                        "marker": {
                          "colorbar": {
                            "outlinewidth": 0,
                            "ticks": ""
                          }
                        },
                        "type": "scattermapbox"
                      }
                    ],
                    "scatterpolar": [
                      {
                        "marker": {
                          "colorbar": {
                            "outlinewidth": 0,
                            "ticks": ""
                          }
                        },
                        "type": "scatterpolar"
                      }
                    ],
                    "scatterpolargl": [
                      {
                        "marker": {
                          "colorbar": {
                            "outlinewidth": 0,
                            "ticks": ""
                          }
                        },
                        "type": "scatterpolargl"
                      }
                    ],
                    "scatterternary": [
                      {
                        "marker": {
                          "colorbar": {
                            "outlinewidth": 0,
                            "ticks": ""
                          }
                        },
                        "type": "scatterternary"
                      }
                    ],
                    "surface": [
                      {
                        "colorbar": {
                          "outlinewidth": 0,
                          "ticks": ""
                        },
                        "colorscale": [
                          [
                            0,
                            "#0d0887"
                          ],
                          [
                            0.1111111111111111,
                            "#46039f"
                          ],
                          [
                            0.2222222222222222,
                            "#7201a8"
                          ],
                          [
                            0.3333333333333333,
                            "#9c179e"
                          ],
                          [
                            0.4444444444444444,
                            "#bd3786"
                          ],
                          [
                            0.5555555555555556,
                            "#d8576b"
                          ],
                          [
                            0.6666666666666666,
                            "#ed7953"
                          ],
                          [
                            0.7777777777777778,
                            "#fb9f3a"
                          ],
                          [
                            0.8888888888888888,
                            "#fdca26"
                          ],
                          [
                            1,
                            "#f0f921"
                          ]
                        ],
                        "type": "surface"
                      }
                    ],
                    "table": [
                      {
                        "cells": {
                          "fill": {
                            "color": "#EBF0F8"
                          },
                          "line": {
                            "color": "white"
                          }
                        },
                        "header": {
                          "fill": {
                            "color": "#C8D4E3"
                          },
                          "line": {
                            "color": "white"
                          }
                        },
                        "type": "table"
                      }
                    ]
                  },
                  "layout": {
                    "annotationdefaults": {
                      "arrowcolor": "#2a3f5f",
                      "arrowhead": 0,
                      "arrowwidth": 1
                    },
                    "autotypenumbers": "strict",
                    "coloraxis": {
                      "colorbar": {
                        "outlinewidth": 0,
                        "ticks": ""
                      }
                    },
                    "colorscale": {
                      "diverging": [
                        [
                          0,
                          "#8e0152"
                        ],
                        [
                          0.1,
                          "#c51b7d"
                        ],
                        [
                          0.2,
                          "#de77ae"
                        ],
                        [
                          0.3,
                          "#f1b6da"
                        ],
                        [
                          0.4,
                          "#fde0ef"
                        ],
                        [
                          0.5,
                          "#f7f7f7"
                        ],
                        [
                          0.6,
                          "#e6f5d0"
                        ],
                        [
                          0.7,
                          "#b8e186"
                        ],
                        [
                          0.8,
                          "#7fbc41"
                        ],
                        [
                          0.9,
                          "#4d9221"
                        ],
                        [
                          1,
                          "#276419"
                        ]
                      ],
                      "sequential": [
                        [
                          0,
                          "#0d0887"
                        ],
                        [
                          0.1111111111111111,
                          "#46039f"
                        ],
                        [
                          0.2222222222222222,
                          "#7201a8"
                        ],
                        [
                          0.3333333333333333,
                          "#9c179e"
                        ],
                        [
                          0.4444444444444444,
                          "#bd3786"
                        ],
                        [
                          0.5555555555555556,
                          "#d8576b"
                        ],
                        [
                          0.6666666666666666,
                          "#ed7953"
                        ],
                        [
                          0.7777777777777778,
                          "#fb9f3a"
                        ],
                        [
                          0.8888888888888888,
                          "#fdca26"
                        ],
                        [
                          1,
                          "#f0f921"
                        ]
                      ],
                      "sequentialminus": [
                        [
                          0,
                          "#0d0887"
                        ],
                        [
                          0.1111111111111111,
                          "#46039f"
                        ],
                        [
                          0.2222222222222222,
                          "#7201a8"
                        ],
                        [
                          0.3333333333333333,
                          "#9c179e"
                        ],
                        [
                          0.4444444444444444,
                          "#bd3786"
                        ],
                        [
                          0.5555555555555556,
                          "#d8576b"
                        ],
                        [
                          0.6666666666666666,
                          "#ed7953"
                        ],
                        [
                          0.7777777777777778,
                          "#fb9f3a"
                        ],
                        [
                          0.8888888888888888,
                          "#fdca26"
                        ],
                        [
                          1,
                          "#f0f921"
                        ]
                      ]
                    },
                    "colorway": [
                      "#636efa",
                      "#EF553B",
                      "#00cc96",
                      "#ab63fa",
                      "#FFA15A",
                      "#19d3f3",
                      "#FF6692",
                      "#B6E880",
                      "#FF97FF",
                      "#FECB52"
                    ],
                    "font": {
                      "color": "#2a3f5f"
                    },
                    "geo": {
                      "bgcolor": "white",
                      "lakecolor": "white",
                      "landcolor": "#E5ECF6",
                      "showlakes": true,
                      "showland": true,
                      "subunitcolor": "white"
                    },
                    "hoverlabel": {
                      "align": "left"
                    },
                    "hovermode": "closest",
                    "mapbox": {
                      "style": "light"
                    },
                    "paper_bgcolor": "white",
                    "plot_bgcolor": "#E5ECF6",
                    "polar": {
                      "angularaxis": {
                        "gridcolor": "white",
                        "linecolor": "white",
                        "ticks": ""
                      },
                      "bgcolor": "#E5ECF6",
                      "radialaxis": {
                        "gridcolor": "white",
                        "linecolor": "white",
                        "ticks": ""
                      }
                    },
                    "scene": {
                      "xaxis": {
                        "backgroundcolor": "#E5ECF6",
                        "gridcolor": "white",
                        "gridwidth": 2,
                        "linecolor": "white",
                        "showbackground": true,
                        "ticks": "",
                        "zerolinecolor": "white"
                      },
                      "yaxis": {
                        "backgroundcolor": "#E5ECF6",
                        "gridcolor": "white",
                        "gridwidth": 2,
                        "linecolor": "white",
                        "showbackground": true,
                        "ticks": "",
                        "zerolinecolor": "white"
                      },
                      "zaxis": {
                        "backgroundcolor": "#E5ECF6",
                        "gridcolor": "white",
                        "gridwidth": 2,
                        "linecolor": "white",
                        "showbackground": true,
                        "ticks": "",
                        "zerolinecolor": "white"
                      }
                    },
                    "shapedefaults": {
                      "line": {
                        "color": "#2a3f5f"
                      }
                    },
                    "ternary": {
                      "aaxis": {
                        "gridcolor": "white",
                        "linecolor": "white",
                        "ticks": ""
                      },
                      "baxis": {
                        "gridcolor": "white",
                        "linecolor": "white",
                        "ticks": ""
                      },
                      "bgcolor": "#E5ECF6",
                      "caxis": {
                        "gridcolor": "white",
                        "linecolor": "white",
                        "ticks": ""
                      }
                    },
                    "title": {
                      "x": 0.05
                    },
                    "xaxis": {
                      "automargin": true,
                      "gridcolor": "white",
                      "linecolor": "white",
                      "ticks": "",
                      "title": {
                        "standoff": 15
                      },
                      "zerolinecolor": "white",
                      "zerolinewidth": 2
                    },
                    "yaxis": {
                      "automargin": true,
                      "gridcolor": "white",
                      "linecolor": "white",
                      "ticks": "",
                      "title": {
                        "standoff": 15
                      },
                      "zerolinecolor": "white",
                      "zerolinewidth": 2
                    }
                  }
                },
                "xaxis": {
                  "anchor": "y",
                  "domain": [
                    0,
                    1
                  ],
                  "title": {
                    "text": "calories"
                  },
                  "type": "log"
                },
                "yaxis": {
                  "anchor": "x",
                  "domain": [
                    0,
                    1
                  ],
                  "title": {
                    "text": "sodium"
                  },
                  "type": "log"
                }
              }
            }
          },
          "metadata": {},
          "output_type": "display_data"
        }
      ],
      "source": [
        "from plotly.express import scatter\n",
        "scatter(data_frame=df, x='calories', y='sodium', color='restaurant', hover_name='item', log_x=True, log_y=True, )"
      ]
    },
    {
      "cell_type": "markdown",
      "metadata": {
        "id": "NCN9U0LrohZj"
      },
      "source": [
        "from plotly.express import scatter\n",
        "\n",
        "scatter(data_frame=df, x='calories', y='sodium', color='restaurant', hover_name='item', log_x=True, log_y=True, )\n",
        "\n",
        "Kode di atas menggunakan Plotly Express untuk membuat diagram sebar (scatter plot) guna memvisualisasikan hubungan antara dua nilai nutrisi dalam DataFrame df Anda.\n",
        "\n",
        "Dalam kode untuk membuat diagram sebar di mana setiap titik data mewakili item dari DataFrame Anda. Sumbu x menunjukkan kandungan kalori, sumbu y menunjukkan kandungan sodium, dan warna titik sesuai dengan restorannya. Saat Anda mengarahkan kursor ke suatu titik, nama \"item\" (atau kolom lain yang ditentukan dalam hover_name) akan ditampilkan. Selain itu, kedua sumbu menggunakan skala logaritmik untuk memvisualisasikan data dengan rentang nilai yang besar dengan lebih baik."
      ]
    },
    {
      "cell_type": "code",
      "execution_count": null,
      "metadata": {
        "id": "mW2G4AbkohZj",
        "outputId": "c7a7ac32-891d-40bb-9c66-10bf5d49bf96"
      },
      "outputs": [
        {
          "data": {
            "application/vnd.plotly.v1+json": {
              "config": {
                "plotlyServerURL": "https://plot.ly"
              },
              "data": [
                {
                  "hovertemplate": "<b>%{hovertext}</b><br><br>restaurant=Mcdonalds<br>cholesterol=%{x}<br>sodium=%{y}<extra></extra>",
                  "hovertext": [
                    "Artisan Grilled Chicken Sandwich",
                    "Single Bacon Smokehouse Burger",
                    "Double Bacon Smokehouse Burger",
                    "Grilled Bacon Smokehouse Chicken Sandwich",
                    "Crispy Bacon Smokehouse Chicken Sandwich",
                    "Big Mac",
                    "Cheeseburger",
                    "Classic Chicken Sandwich",
                    "Double Cheeseburger",
                    "Double Quarter Pounder® with Cheese",
                    "Filet-O-Fish®",
                    "Garlic White Cheddar Burger",
                    "Grilled Garlic White Cheddar Chicken Sandwich",
                    "Crispy Garlic White Cheddar Chicken Sandwich",
                    "Hamburger",
                    "Lobster Roll",
                    "Maple Bacon Dijon 1/4 lb Burger",
                    "Grilled Maple Bacon Dijon Chicken Sandwich",
                    "Crispy Maple Bacon Dijon Chicken Sandwich",
                    "McChicken",
                    "McDouble",
                    "McRib",
                    "Pico Guacamole 1/4 lb Burger",
                    "Grilled Pico Guacamole Chicken Sandwich",
                    "Crispy Pico Guacamole Chicken Sandwich",
                    "Premium Buttermilk Crispy Chicken Deluxe Sandwich",
                    "Premium Crispy Chicken Deluxe Sandwich",
                    "Quarter Pounder® with Cheese",
                    "Signature Sriracha Burger",
                    "Grilled Signature Sriracha Chicken Sandwich",
                    "Crispy Signature Sriracha Chicken Sandwich",
                    "Sweet BBQ Bacon 1/4 lb Burger",
                    "Grilled Sweet BBQ Bacon Chicken Sandwich",
                    "Crispy Sweet BBQ Bacon Chicken Sandwich",
                    "3 piece Buttermilk Crispy Chicken Tenders",
                    "4 piece Buttermilk Crispy Chicken Tenders",
                    "6 piece Buttermilk Crispy Chicken Tenders",
                    "10 piece Buttermilk Crispy Chicken Tenders",
                    "12 piece Buttermilk Crispy Chicken Tenders",
                    "20 piece Buttermilk Crispy Chicken Tenders",
                    "4 Piece Chicken McNuggets",
                    "6 Piece Chicken McNuggets",
                    "10 Piece Chicken McNuggets",
                    "20 Piece Chicken McNuggets",
                    "40 piece Chicken McNuggets",
                    "4 piece Sweet N' Spicy Honey BBQ Glazed Tenders",
                    "6 piece Sweet N' Spicy Honey BBQ Glazed Tenders",
                    "10 piece Sweet N' Spicy Honey BBQ Glazed Tenders",
                    "Premium Asian Salad w/o Chicken",
                    "Premium Asian Salad w/ Grilled Chicken",
                    "Premium Asian Salad w/ Crispy Chicken",
                    "Premium Bacon Ranch Salad w/o Chicken",
                    "Premium Bacon Ranch Salad w/ Grilled Chicken",
                    "Premium Bacon Ranch Salad w/ Crispy Chicken",
                    "Premium Southwest Salad w/o Chicken",
                    "Premium Southwest Salad w/ Grilled Chicken",
                    "Premium Southwest Salad w/ Crispy Chicken"
                  ],
                  "legendgroup": "Mcdonalds",
                  "marker": {
                    "color": "#636efa",
                    "symbol": "circle"
                  },
                  "mode": "markers",
                  "name": "Mcdonalds",
                  "orientation": "v",
                  "showlegend": true,
                  "type": "scatter",
                  "x": [
                    95,
                    130,
                    220,
                    155,
                    120,
                    80,
                    40,
                    65,
                    85,
                    175,
                    40,
                    95,
                    125,
                    85,
                    30,
                    65,
                    110,
                    135,
                    95,
                    40,
                    70,
                    80,
                    95,
                    115,
                    80,
                    60,
                    45,
                    100,
                    95,
                    115,
                    80,
                    110,
                    135,
                    95,
                    70,
                    95,
                    145,
                    240,
                    295,
                    475,
                    30,
                    45,
                    75,
                    145,
                    295,
                    105,
                    160,
                    265,
                    0,
                    80,
                    95,
                    40,
                    45,
                    95,
                    15,
                    110,
                    75
                  ],
                  "xaxis": "x",
                  "y": [
                    1110,
                    1580,
                    1920,
                    1940,
                    1980,
                    950,
                    680,
                    1040,
                    1040,
                    1290,
                    640,
                    790,
                    1150,
                    1190,
                    480,
                    630,
                    1260,
                    1890,
                    1780,
                    600,
                    840,
                    870,
                    920,
                    1540,
                    1430,
                    1050,
                    1000,
                    1090,
                    1010,
                    1550,
                    1430,
                    1310,
                    1930,
                    1820,
                    910,
                    1290,
                    1890,
                    3230,
                    3770,
                    6080,
                    340,
                    510,
                    840,
                    1680,
                    3370,
                    1780,
                    2670,
                    4450,
                    20,
                    740,
                    1120,
                    660,
                    1230,
                    1120,
                    500,
                    1070,
                    960
                  ],
                  "yaxis": "y"
                },
                {
                  "hovertemplate": "<b>%{hovertext}</b><br><br>restaurant=Chick Fil-A<br>cholesterol=%{x}<br>sodium=%{y}<extra></extra>",
                  "hovertext": [
                    "Chargrilled Chicken Club Sandwich",
                    "Chargrilled Chicken Sandwich",
                    "Chick-n-Slider",
                    "1 Piece Chick-n-Strips",
                    "2 Piece Chick-n-Strips",
                    "3 Piece Chick-n-Strips",
                    "4 piece Chick-n-Strips",
                    "Chicken Deluxe",
                    "4 piece Chicken Nuggets",
                    "6 piece Chicken Nuggets",
                    "8 piece Chicken Nuggets",
                    "12 piece Chicken Nuggets",
                    "30 piece Chicken Nuggets",
                    "Chicken Salad Sandwich",
                    "Chicken Sandwich",
                    "4 Piece Grilled Chicken Nuggets",
                    "6 Piece Grilled Chicken Nuggets",
                    "8 piece Grilled Chicken Nuggets",
                    "12 Piece Grilled Chicken Nuggets",
                    "Spicy Grilled Chicken Sub Sandwich",
                    "Regular Grilled Chicken Sub Sandwich",
                    "Smokehouse BBQ Bacon Sandwich",
                    "Spicy Chicken Sandwich",
                    "Spicy Deluxe",
                    "Chargrilled Chicken Cool Wrap",
                    "Chicken Enchiladas Meal Kit",
                    "Chicken Parmesan Meal Kit"
                  ],
                  "legendgroup": "Chick Fil-A",
                  "marker": {
                    "color": "#EF553B",
                    "symbol": "circle"
                  },
                  "mode": "markers",
                  "name": "Chick Fil-A",
                  "orientation": "v",
                  "showlegend": true,
                  "type": "scatter",
                  "x": [
                    85,
                    55,
                    45,
                    25,
                    55,
                    70,
                    90,
                    75,
                    40,
                    55,
                    70,
                    115,
                    285,
                    80,
                    60,
                    35,
                    50,
                    70,
                    100,
                    85,
                    75,
                    95,
                    60,
                    80,
                    60,
                    100,
                    120
                  ],
                  "xaxis": "x",
                  "y": [
                    1120,
                    820,
                    800,
                    320,
                    630,
                    940,
                    1250,
                    1590,
                    490,
                    730,
                    990,
                    1460,
                    3660,
                    1130,
                    1350,
                    220,
                    330,
                    440,
                    670,
                    1310,
                    1000,
                    1200,
                    1620,
                    1760,
                    960,
                    2520,
                    1780
                  ],
                  "yaxis": "y"
                },
                {
                  "hovertemplate": "<b>%{hovertext}</b><br><br>restaurant=Sonic<br>cholesterol=%{x}<br>sodium=%{y}<extra></extra>",
                  "hovertext": [
                    "Hatch Green Chile Cheeseburger",
                    "Jalapeno Burger",
                    "Jr. Burger",
                    "Jr. Chili Cheeseburger",
                    "Jr. Deluxe Burger",
                    "Jr. Deluxe Cheeseburger",
                    "Jr. Double Cheeseburger",
                    "Sonic Bacon Cheeseburger (w/mayo)",
                    "Sonic Burger W/ Mustard",
                    "Sonic Burger W/ Ketchup",
                    "Sonic Burger W/ Mayonnaise",
                    "Sonic Cheeseburger W/ Mustard",
                    "Sonic Cheeseburger W/ Ketchup",
                    "Sonic Cheeseburger W/ Mayonnaise",
                    "Super Sonic Bacon Double Cheeseburger (w/mayo)",
                    "Super Sonic Double Cheeseburger W/ Mustard",
                    "Super Sonic Double Cheeseburger W/ Ketchup",
                    "Super Sonic Double Cheeseburger W/ Mayo",
                    "Super Sonic Jalapeno Double Cheeseburger",
                    "Veggie Burger W/ Ketchup",
                    "Veggie Burger With Mustard",
                    "Veggie Burger W/ Mustard",
                    "Grilled Asiago Caesar Chicken Club Sandwich",
                    "Crispy Asiago Caesar Chicken Club Sandwich",
                    "Grilled Chicken Sandwich",
                    "Crispy Chicken Sandwich",
                    "Chicken Strip Sandwich",
                    "3 Piece Crispy Chicken Tender Dinner",
                    "5 Piece Crispy Chicken Tender Dinner",
                    "Deluxe Ultimate Chicken Sandwich",
                    "Buffalo Dunked Ultimate Chicken Sandwich",
                    "Garlic Parmesan Dunked Ultimate Chicken Sandwich",
                    "Small Jumbo Popcorn Chicken",
                    "Large Jumbo Popcorn Chicken",
                    "Small Spicy Jumbo Popcorn Chicken",
                    "Large Spicy Jumbo Popcorn Chicken",
                    "3 Piece Super Crunch Chicken Strip Dinner",
                    "4 Piece Super Crunch Chicken Strip Dinner",
                    "5 Piece Super Crunch Chicken Strip Dinner",
                    "3 Piece Super Crunch Chicken Strips",
                    "4 Piece Super Crunch Chicken Strips",
                    "5 Piece Super Crunch Chicken Strips",
                    "Traditional Ultimate Chicken Sandwich",
                    "Ultimate Chicken Club",
                    "All Beef All-american Style Dog – 6\"",
                    "All Beef Chicago Dog – 6\"",
                    "All Beef Chili Cheese Coney – 6\"",
                    "All Beef New York Dog – 6\"",
                    "All Beef Regular Hot Dog – 6\"",
                    "Cheesy Bacon Pretzel Dog - 6 In.",
                    "Corn Dog",
                    "Footlong Quarter Pound Coney",
                    "The Original Pretzel Dog"
                  ],
                  "legendgroup": "Sonic",
                  "marker": {
                    "color": "#00cc96",
                    "symbol": "circle"
                  },
                  "mode": "markers",
                  "name": "Sonic",
                  "orientation": "v",
                  "showlegend": true,
                  "type": "scatter",
                  "x": [
                    120,
                    100,
                    35,
                    55,
                    40,
                    60,
                    110,
                    140,
                    100,
                    100,
                    110,
                    120,
                    120,
                    130,
                    260,
                    235,
                    235,
                    245,
                    235,
                    10,
                    10,
                    10,
                    110,
                    80,
                    80,
                    45,
                    35,
                    0,
                    0,
                    90,
                    125,
                    190,
                    45,
                    65,
                    45,
                    80,
                    55,
                    75,
                    90,
                    55,
                    70,
                    90,
                    90,
                    100,
                    40,
                    40,
                    65,
                    40,
                    40,
                    50,
                    20,
                    85,
                    35
                  ],
                  "xaxis": "x",
                  "y": [
                    1120,
                    930,
                    640,
                    730,
                    470,
                    800,
                    1350,
                    1350,
                    790,
                    860,
                    760,
                    1120,
                    1190,
                    1090,
                    1630,
                    1550,
                    1620,
                    1520,
                    1690,
                    1410,
                    1350,
                    1300,
                    1570,
                    1120,
                    940,
                    1060,
                    740,
                    800,
                    1340,
                    1550,
                    4520,
                    2180,
                    1250,
                    1890,
                    860,
                    1500,
                    2160,
                    2390,
                    2610,
                    670,
                    900,
                    1120,
                    1540,
                    2070,
                    1180,
                    2310,
                    1140,
                    1250,
                    870,
                    1410,
                    530,
                    1940,
                    910
                  ],
                  "yaxis": "y"
                },
                {
                  "hovertemplate": "<b>%{hovertext}</b><br><br>restaurant=Arbys<br>cholesterol=%{x}<br>sodium=%{y}<extra></extra>",
                  "hovertext": [
                    "Arby's Melt",
                    "Arby-Q Sandwich",
                    "Beef 'n Cheddar Classic",
                    "Beef 'n Cheddar Mid",
                    "Bourbon BBQ Brisket Sandwich",
                    "Bourbon BBQ Chicken Sandwich",
                    "Bourbon BBQ Steak Sandwich",
                    "Buttermilk Buffalo Chicken Sandwich",
                    "Buttermilk Chicken Bacon & Swiss",
                    "Buttermilk Chicken Cordon Bleu Sandwich",
                    "Buttermilk Crispy Chicken Sandwich",
                    "Classic French Dip & Swiss/Au Jus",
                    "Classic Roast Beef",
                    "Double Roast Beef",
                    "Fire-Roasted Philly Steak",
                    "Grand Turkey Club",
                    "Greek Gyro",
                    "Half Pound Beef 'n Cheddar Sandwich",
                    "Half Pound French Dip & Swiss",
                    "Half Pound Roast Beef Sandwich",
                    "Ham & Swiss Melt",
                    "Loaded Italian Sandwich",
                    "Pecan Chicken Salad Flatbread",
                    "Pecan Chicken Salad Sandwich",
                    "2 piece Prime-Cut Chicken Tenders",
                    "3 piece Prime-Cut Chicken Tenders",
                    "5 piece Prime-Cut Chicken Tenders",
                    "Reuben Sandwich",
                    "Roast Beef Gyro",
                    "Roast Turkey & Swiss Sandwich",
                    "Roast Turkey & Swiss Wrap",
                    "Roast Turkey, Ranch & Bacon Sandwich",
                    "Roast Turkey, Ranch & Bacon Wrap",
                    "Smoke Mountain w/ Beef Short Rib",
                    "Smokehouse Beef Short Rib Sandwich",
                    "Smokehouse Brisket",
                    "Super Roast Beef",
                    "Three Cheese Steak Sandwich",
                    "Triple Decker Sandwich",
                    "Turkey Avocado Club",
                    "Turkey Gyro",
                    "Ultimate BLT",
                    "Buffalo Chicken Slider",
                    "Chicken Tender 'n Cheese Slider",
                    "Corned Beef 'n Cheese Slider",
                    "Ham 'n Cheese Slider",
                    "Jalapeno Roast Beef 'n Cheese Slider",
                    "Pizza Slider",
                    "Roast Beef 'n Cheese Slider",
                    "Turkey 'n Cheese Slider",
                    "Chopped Side Salad",
                    "Crispy Chicken Farmhouse Salad",
                    "Greek Gyro Salad",
                    "Roast Turkey Farmhouse Salad",
                    "Super Greek Salad"
                  ],
                  "legendgroup": "Arbys",
                  "marker": {
                    "color": "#ab63fa",
                    "symbol": "circle"
                  },
                  "mode": "markers",
                  "name": "Arbys",
                  "orientation": "v",
                  "showlegend": true,
                  "type": "scatter",
                  "x": [
                    30,
                    30,
                    50,
                    100,
                    105,
                    90,
                    90,
                    60,
                    90,
                    110,
                    60,
                    85,
                    50,
                    95,
                    105,
                    65,
                    75,
                    130,
                    150,
                    130,
                    35,
                    100,
                    65,
                    75,
                    30,
                    45,
                    75,
                    80,
                    60,
                    65,
                    65,
                    80,
                    85,
                    125,
                    75,
                    110,
                    45,
                    115,
                    155,
                    65,
                    45,
                    85,
                    20,
                    25,
                    30,
                    25,
                    30,
                    35,
                    30,
                    25,
                    15,
                    65,
                    55,
                    55,
                    85
                  ],
                  "xaxis": "x",
                  "y": [
                    920,
                    1230,
                    1280,
                    2100,
                    1460,
                    1990,
                    1990,
                    2110,
                    1750,
                    2000,
                    1480,
                    2500,
                    970,
                    1610,
                    1950,
                    1610,
                    1360,
                    2530,
                    3350,
                    2040,
                    1030,
                    2270,
                    980,
                    1210,
                    640,
                    950,
                    1590,
                    2420,
                    1290,
                    1930,
                    1640,
                    2420,
                    2130,
                    2050,
                    1510,
                    1240,
                    1060,
                    1760,
                    2940,
                    2140,
                    1520,
                    2130,
                    860,
                    720,
                    890,
                    780,
                    670,
                    930,
                    670,
                    760,
                    100,
                    1000,
                    700,
                    870,
                    1310
                  ],
                  "yaxis": "y"
                },
                {
                  "hovertemplate": "<b>%{hovertext}</b><br><br>restaurant=Burger King<br>cholesterol=%{x}<br>sodium=%{y}<extra></extra>",
                  "hovertext": [
                    "American Brewhouse King",
                    "Bacon & Swiss Sourdough King",
                    "Bacon Cheeseburger",
                    "Bacon Cheeseburger Deluxe",
                    "Bacon King",
                    "Bacon King Jr",
                    "BBQ Bacon King",
                    "Cheeseburger",
                    "Double Bacon Cheeseburger",
                    "Double Cheeseburger",
                    "Double Hamburger",
                    "Double Quarter Pound King",
                    "Extra Long Cheeseburger",
                    "Farmhouse King",
                    "Hamburger",
                    "Homestyle Cheeseburger",
                    "Jalapeno King Sandwich",
                    "Mushroom & Swiss King",
                    "Rodeo Burger",
                    "Rodeo King",
                    "Sourdough King Single",
                    "Sourdough King Double",
                    "Steakhouse King",
                    "Bacon & Cheese Whopper",
                    "DOUBLE WHOPPER w/o Cheese",
                    "DOUBLE WHOPPER w/ Cheese",
                    "WHOPPER w/o Cheese",
                    "WHOPPER w/ Cheese",
                    "WHOPPER JR. w/o Cheese",
                    "WHOPPER JR. w/ Cheese",
                    "Bacon Cheddar Ranch Chicken Salad w/ grilled Chicken & Dressing",
                    "Bacon Cheddar Ranch Chicken Salad w/ crispy Chicken & Dressing",
                    "Chicken BLT Salad w/ Grilled Chicken",
                    "Chicken BLT Salad w/ Crispy Chicken",
                    "Chicken Caesar Salad w/ Grilled Chicken",
                    "Chicken Caesar Salad w/ Crispy Chicken",
                    "Chicken, Apple & Cranberry Salad w/ Grilled Chicken",
                    "Chicken, Apple & Cranberry Salad w/ Crispy Chicken",
                    "Garden Grilled Chicken Salad w/ Grilled Chicken, no dressing",
                    "Garden Grilled Chicken Salad w/ Crispy Chicken, no dressing",
                    "Side Caesar Salad with dressing",
                    "Side Garden Salad and Avocado Ranch Dressing",
                    "Bacon Cheddar Ranch Crispy Chicken Sandwich",
                    "BBQ Bacon Crispy Chicken Sandwich",
                    "Big Fish Sandwich",
                    "BK VEGGIE Burger",
                    "Chicken Burger",
                    "Chicken Cordon Bleu Sandwich",
                    "Chicken Fries",
                    "4 Piece Chicken Nuggets",
                    "6 Piece Chicken Nuggets",
                    "20 Piece Chicken Nuggets",
                    "Chicken Nuggets (10pc)",
                    "Chicken Parmesan Sandwich",
                    "Crispy Buffalo Chicken Melt",
                    "Crispy Chicken Jr.",
                    "Crispy Chicken Sandwich",
                    "Grilled Chicken Sandwich",
                    "Grilled Chili Cheese Dog",
                    "Grilled Hot Dog",
                    "Jalapeno Chicken Fries",
                    "Original Chicken Sandwich",
                    "Pretzel Chicken Fries",
                    "Rodeo Crispy Chicken Sandwich",
                    "Sourdough Chicken Club",
                    "4 Piece Spicy Chicken Nuggets",
                    "Spicy Chicken Nuggets",
                    "Spicy Crispy Chicken Jr.",
                    "Spicy Crispy Chicken Sandwich",
                    "Spicy Crispy Jalapeno Chicken Sandwich"
                  ],
                  "legendgroup": "Burger King",
                  "marker": {
                    "color": "#FFA15A",
                    "symbol": "circle"
                  },
                  "mode": "markers",
                  "name": "Burger King",
                  "orientation": "v",
                  "showlegend": true,
                  "type": "scatter",
                  "x": [
                    805,
                    200,
                    55,
                    40,
                    220,
                    90,
                    220,
                    45,
                    105,
                    95,
                    70,
                    210,
                    85,
                    335,
                    35,
                    95,
                    205,
                    175,
                    25,
                    230,
                    125,
                    205,
                    180,
                    95,
                    140,
                    160,
                    90,
                    100,
                    40,
                    55,
                    150,
                    120,
                    115,
                    100,
                    95,
                    80,
                    90,
                    80,
                    115,
                    85,
                    10,
                    30,
                    110,
                    15,
                    30,
                    5,
                    5,
                    90,
                    40,
                    25,
                    40,
                    130,
                    50,
                    70,
                    70,
                    30,
                    60,
                    85,
                    40,
                    30,
                    40,
                    65,
                    45,
                    20,
                    95,
                    20,
                    55,
                    35,
                    65,
                    95
                  ],
                  "xaxis": "x",
                  "y": [
                    1820,
                    1320,
                    830,
                    720,
                    1900,
                    1930,
                    1850,
                    710,
                    1180,
                    960,
                    520,
                    1740,
                    1030,
                    2050,
                    490,
                    1140,
                    1550,
                    1380,
                    450,
                    2270,
                    1570,
                    1640,
                    1620,
                    1360,
                    1050,
                    1480,
                    980,
                    1410,
                    510,
                    730,
                    1540,
                    1960,
                    1640,
                    1750,
                    1640,
                    1760,
                    980,
                    1090,
                    650,
                    1070,
                    540,
                    520,
                    2100,
                    630,
                    1360,
                    1030,
                    1160,
                    1930,
                    780,
                    310,
                    460,
                    1530,
                    890,
                    1340,
                    2310,
                    760,
                    1070,
                    850,
                    980,
                    960,
                    950,
                    1390,
                    1200,
                    870,
                    1760,
                    570,
                    1420,
                    850,
                    1140,
                    1720
                  ],
                  "yaxis": "y"
                },
                {
                  "hovertemplate": "<b>%{hovertext}</b><br><br>restaurant=Dairy Queen<br>cholesterol=%{x}<br>sodium=%{y}<extra></extra>",
                  "hovertext": [
                    "1/2 lb. FlameThrower® GrillBurger",
                    "1/2 lb. GrillBurger with Cheese",
                    "1/4 lb. Bacon Cheese GrillBurger",
                    "1/4 lb. GrillBurger with Cheese",
                    "1/4 lb. Mushroom Swiss GrillBurger",
                    "Original Cheeseburger",
                    "Original Double Cheeseburger",
                    "4 Piece Chicken Strip Basket w/ Country Gravy",
                    "6 Piece Chicken Strip Basket w/ Country Gravy",
                    "Bacon Cheese Dog",
                    "Cheese Dog",
                    "Chili Cheese Dog",
                    "Chili Dog",
                    "Hot Dog",
                    "Relish Dog",
                    "Barbecue Pork Sandwich",
                    "Breaded Mushrooms",
                    "Regular Cheese Curds",
                    "Large Cheese Curds",
                    "Chili Cheese Mega Dog",
                    "Corn Dog",
                    "Crispy Fish Sandwich",
                    "Deluxe Cheeseburger",
                    "Deluxe Double Cheeseburger",
                    "Deluxe Double Hamburger",
                    "Deluxe Hamburger",
                    "DQ Ultimate® Burger",
                    "Pork Tenderloin Sandwich",
                    "Steak Finger Basket",
                    "3 chicken strips Chicken Strips",
                    "Chicken Bacon Ranch Sandwich",
                    "Chicken Mozzarella Sandwich",
                    "Crispy Chicken BLT Salad",
                    "Crispy Chicken Garden Greens Salad",
                    "Crispy Chicken Sandwich",
                    "Crispy Chicken Wrap",
                    "Grilled Chicken BLT Salad",
                    "Grilled Chicken Garden Greens Salad",
                    "Grilled Chicken Sandwich",
                    "Grilled Chicken Wrap",
                    "Side Salad",
                    "Turkey BLT Sandwich"
                  ],
                  "legendgroup": "Dairy Queen",
                  "marker": {
                    "color": "#19d3f3",
                    "symbol": "circle"
                  },
                  "mode": "markers",
                  "name": "Dairy Queen",
                  "orientation": "v",
                  "showlegend": true,
                  "type": "scatter",
                  "x": [
                    170,
                    135,
                    95,
                    70,
                    75,
                    65,
                    125,
                    80,
                    120,
                    60,
                    50,
                    55,
                    40,
                    35,
                    35,
                    50,
                    0,
                    150,
                    180,
                    100,
                    20,
                    20,
                    65,
                    125,
                    100,
                    50,
                    150,
                    45,
                    45,
                    60,
                    65,
                    60,
                    100,
                    40,
                    55,
                    35,
                    100,
                    40,
                    50,
                    30,
                    0,
                    60
                  ],
                  "xaxis": "x",
                  "y": [
                    1610,
                    1280,
                    1250,
                    1020,
                    820,
                    930,
                    1240,
                    2780,
                    3500,
                    1140,
                    1000,
                    900,
                    1050,
                    900,
                    1000,
                    830,
                    500,
                    900,
                    2210,
                    1570,
                    450,
                    1210,
                    930,
                    1240,
                    750,
                    680,
                    1390,
                    910,
                    2210,
                    960,
                    1190,
                    1530,
                    1470,
                    670,
                    1250,
                    820,
                    1540,
                    730,
                    1040,
                    800,
                    15,
                    1420
                  ],
                  "yaxis": "y"
                },
                {
                  "hovertemplate": "<b>%{hovertext}</b><br><br>restaurant=Subway<br>cholesterol=%{x}<br>sodium=%{y}<extra></extra>",
                  "hovertext": [
                    "6\" B.L.T.",
                    "Footlong B.L.T.",
                    "6\" BBQ Rib Sandwich",
                    "Footlong BBQ Rib Sandwich",
                    "6\" Big Hot Pastrami",
                    "Footlong Big Hot Pastrami",
                    "6\" Big Philly Cheesesteak",
                    "Footlong Big Philly Cheesesteak",
                    "Kids Mini Sub Black Forest Ham",
                    "6\" Black Forest Ham",
                    "Footlong Black Forest Ham",
                    "6\" Carved Turkey",
                    "Footlong Carved Turkey",
                    "6\" Carved Turkey & Bacon w/ Cheese",
                    "Footlong Carved Turkey & Bacon w/ Cheese",
                    "6\" Chicken & Bacon Ranch Melt",
                    "Footlong Chicken & Bacon Ranch Melt",
                    "6\" Chicken Pizziola Melt",
                    "Footlong Chicken Pizziola Melt",
                    "6\" Cold Cut Combo",
                    "Footlong Cold Cut Combo",
                    "6\" Corned Beef Reuben",
                    "Footlong Corned Beef Reuben",
                    "6\" Italian B.M.T.",
                    "Footlong Italian B.M.T.",
                    "6\" Italian Hero",
                    "Footlong Italian Hero",
                    "6\" Meatball Marinara",
                    "Footlong Meatball Marinara",
                    "6\" Oven Roasted Chicken",
                    "Footlong Oven Roasted Chicken",
                    "Kids Mini Sub Roast Beef",
                    "6\" Roast Beef",
                    "Footlong Roast Beef",
                    "6\" Rotisserie Style Chicken",
                    "Footlong Rotisserie Style Chicken",
                    "6\" Spicy Italian",
                    "Footlong Spicy Italian",
                    "6\" Steak and Cheese",
                    "Footlong Steak and Cheese",
                    "6\" Subway Club",
                    "Footlong Subway Club",
                    "6\" Subway Melt (includes cheese)",
                    "Footlong Subway Melt (includes cheese)",
                    "6\" Subway Seafood Sensation",
                    "Footlong Subway Seafood Sensation",
                    "6\" Sweet Onion Chicken Teriyaki",
                    "Footlong Sweet Onion Chicken Teriyaki",
                    "6\" Tuna",
                    "Footlong Tuna",
                    "6\" Turkey & Bacon Avocado",
                    "Footlong Turkey & Bacon Avocado",
                    "Kids Mini Sub Turkey Breast",
                    "6\" Turkey Breast",
                    "Footlong Turkey Breast",
                    "6\" Turkey Breast & Ham",
                    "Footlong Turkey Breast & Ham",
                    "6\" Turkey Italiano Melt (with Provolone)",
                    "Footlong Turkey Italiano Melt (with Provolone)",
                    "Kids Mini Sub Veggie Delite",
                    "6\" Veggie Delite",
                    "Footlong Veggie Delite",
                    "6\" Veggie Patty",
                    "Footlong Veggie Patty",
                    "Autumn Carved Turkey Salad",
                    "B.L.T. Salad",
                    "Big Hot Pastrami Melt Salad",
                    "Big Philly Cheesesteak Salad",
                    "Black Forest Ham Salad",
                    "Buffalo Chicken Salad (with Ranch dressing)",
                    "Carved Turkey & Bacon w/ Cheese Salad",
                    "Carved Turkey Salad",
                    "Chicken & Bacon Ranch Melt Salad (includes Ranch dressing)",
                    "Cold Cut Combo Salad",
                    "Double Chicken Salad",
                    "Italian B.M.T.® Salad",
                    "Italian Hero Salad",
                    "Meatball Marinara Salad",
                    "Oven Roasted Chicken Salad",
                    "Roast Beef Salad",
                    "Spicy Italian Salad",
                    "Steak & Cheese Salad",
                    "Subway Club Salad",
                    "Subway Melt® Salad",
                    "Sweet Onion Chicken Teriyaki Salad",
                    "Tuna Salad",
                    "Turkey Breast & Ham Salad",
                    "Turkey Breast Salad",
                    "Veggie Delite Salad",
                    "Chipotle Southwest Steak & Cheese Wrap",
                    "Rotisserie-Style Chicken Caesar Wrap",
                    "Turkey, Bacon & Guacamole Wrap",
                    "Cheese & Veggies Pizza",
                    "Cheese Pizza",
                    "Pepperoni Pizza",
                    "Sausage Pizza"
                  ],
                  "legendgroup": "Subway",
                  "marker": {
                    "color": "#FF6692",
                    "symbol": "circle"
                  },
                  "mode": "markers",
                  "name": "Subway",
                  "orientation": "v",
                  "showlegend": true,
                  "type": "scatter",
                  "x": [
                    20,
                    40,
                    50,
                    100,
                    85,
                    170,
                    85,
                    170,
                    10,
                    20,
                    40,
                    45,
                    90,
                    70,
                    140,
                    95,
                    190,
                    80,
                    160,
                    50,
                    100,
                    85,
                    170,
                    45,
                    90,
                    75,
                    150,
                    30,
                    60,
                    25,
                    50,
                    25,
                    40,
                    80,
                    50,
                    100,
                    50,
                    100,
                    50,
                    100,
                    40,
                    80,
                    45,
                    90,
                    20,
                    40,
                    50,
                    100,
                    30,
                    60,
                    30,
                    60,
                    10,
                    20,
                    40,
                    20,
                    40,
                    50,
                    100,
                    0,
                    0,
                    0,
                    10,
                    20,
                    60,
                    20,
                    85,
                    85,
                    20,
                    60,
                    65,
                    45,
                    100,
                    45,
                    100,
                    45,
                    45,
                    30,
                    50,
                    40,
                    50,
                    50,
                    40,
                    45,
                    50,
                    40,
                    25,
                    20,
                    0,
                    100,
                    135,
                    75,
                    50,
                    40,
                    60,
                    70
                  ],
                  "xaxis": "x",
                  "y": [
                    680,
                    1360,
                    590,
                    1180,
                    1470,
                    2940,
                    1310,
                    2620,
                    450,
                    830,
                    1660,
                    890,
                    1780,
                    1600,
                    3200,
                    1080,
                    2160,
                    1140,
                    2280,
                    1140,
                    2280,
                    1770,
                    3540,
                    1300,
                    2600,
                    1470,
                    2940,
                    950,
                    1900,
                    640,
                    1280,
                    390,
                    700,
                    1400,
                    540,
                    1080,
                    1520,
                    3040,
                    1060,
                    2120,
                    880,
                    1760,
                    1210,
                    1420,
                    690,
                    1380,
                    900,
                    1800,
                    620,
                    1240,
                    860,
                    1720,
                    380,
                    810,
                    1620,
                    820,
                    1640,
                    1480,
                    2960,
                    190,
                    310,
                    620,
                    800,
                    1600,
                    1120,
                    420,
                    1250,
                    1080,
                    590,
                    1100,
                    1320,
                    680,
                    1040,
                    820,
                    490,
                    1060,
                    1060,
                    720,
                    280,
                    450,
                    1280,
                    830,
                    640,
                    910,
                    660,
                    370,
                    580,
                    570,
                    65,
                    2250,
                    1900,
                    2970,
                    1270,
                    1070,
                    1350,
                    1420
                  ],
                  "yaxis": "y"
                },
                {
                  "hovertemplate": "<b>%{hovertext}</b><br><br>restaurant=Taco Bell<br>cholesterol=%{x}<br>sodium=%{y}<extra></extra>",
                  "hovertext": [
                    "1/2 lb.* Cheesy Potato Burrito",
                    "1/2 lb.* Combo Burrito",
                    "7-Layer Burrito",
                    "Bean Burrito",
                    "Beefy 5-Layer Burrito",
                    "Beefy Fritos® Burrito",
                    "Black Bean Burrito",
                    "Burrito Supreme® – Beef",
                    "Burrito Supreme® - Chicken",
                    "Burrito Supreme® - Steak",
                    "Cantina Power Burrito - Chicken",
                    "Cantina Power Burrito - Steak",
                    "Cantina Power Burrito - Veggie",
                    "Cheesy Bean and Rice Burrito",
                    "Chili Cheese Burrito",
                    "Chicken Crunchy Cheesy Core Burrito",
                    "Steak Crunchy Cheesy Core Burrito",
                    "Beef Crunchy Cheesy Core Burrito",
                    "Loaded Taco Burrito",
                    "Chicken Quesarito",
                    "Steak Quesarito",
                    "Beef Quesarito",
                    "Shredded Chicken Burrito",
                    "Smothered Burrito - Beef",
                    "Smothered Burrito - Shredded Chicken",
                    "Smothered Burrito - Steak",
                    "Chicken Spicy Cheesy Core Burrito",
                    "Steak Spicy Cheesy Core Burrito",
                    "Beef Spicy Cheesy Core Burrito",
                    "Triple Melt Burrito",
                    "XXL Grilled Stuft Burrito - Beef",
                    "XXL Grilled Stuft Burrito - Chicken",
                    "XXL Grilled Stuft Burrito - Steak",
                    "Chicken Soft Taco",
                    "Cool Ranch® Doritos® Double Decker® Taco",
                    "Cool Ranch® Doritos® Locos Taco",
                    "Cool Ranch® Doritos® Locos Taco Supreme",
                    "Crunchy Taco",
                    "Crunchy Taco Supreme®",
                    "Double Decker® Taco",
                    "DOUBLE DECKER® Taco Supreme®",
                    "Spicy Sweet Double Stacked Taco",
                    "Cool Ranch Habanero Double Stacked Taco",
                    "Nacho Crunch Double Stacked Taco",
                    "Fiery Doritos® Double Decker® Taco",
                    "Fiery Doritos® Locos Taco",
                    "Fiery Doritos® Locos Taco Supreme",
                    "Grilled Steak Soft Taco",
                    "Nacho Cheese Doritos® Double Decker® Taco",
                    "Nacho Cheese Doritos® Locos Tacos",
                    "Nacho Cheese Doritos® Locos Tacos Supreme",
                    "Soft Taco Supreme® – Beef",
                    "Soft Taco-Beef",
                    "Spicy Potato Soft Taco",
                    "Chalupa Supreme® - Chicken",
                    "Chalupa Supreme® - Steak",
                    "Chalupa Supreme®–Beef",
                    "Double Chalupa",
                    "Wild Naked Chicken Chalupa",
                    "Mild Naked Chicken Chalupa",
                    "Spicy Double Chalupa",
                    "Fresco Bean Burrito",
                    "Fresco Burrito Supreme® – Chicken",
                    "Fresco Burrito Supreme® – Steak",
                    "Fresco Chicken Soft Taco",
                    "Fresco Crunchy Taco",
                    "Fresco Grilled Steak Soft Taco",
                    "Fresco Soft Taco",
                    "Cheesy Gordita Crunch",
                    "Doritos® Cheesy Gordita Crunch - Cool Ranch",
                    "Doritos® Cheesy Gordita Crunch - Fiery",
                    "Doritos® Cheesy Gordita Crunch - Nacho Cheese",
                    "Double Cheesy Gordita Crunch",
                    "Gordita Supreme® – Beef",
                    "Gordita Supreme® - Chicken",
                    "Gordita Supreme® - Steak",
                    "Nacho Fries Bellgrande",
                    "Nachos BellGrande®",
                    "Nachos Supreme",
                    "Triple Layer Nachos",
                    "Triple Melt Nachos",
                    "Beefy Cheddar Crunchwrap Slider",
                    "Beefy Mini Quesadilla",
                    "Beefy Nacho Griller",
                    "BLT Crunchwrap Slider",
                    "Cantina Power Bowl - Chicken",
                    "Cantina Power Bowl - Steak",
                    "Cantina Power Bowl - Veggie",
                    "Cheese Quesadilla",
                    "Cheese Roll-Up",
                    "Chicken Quesadilla",
                    "Chickstar",
                    "Chili Cheese Burrito",
                    "Chipotle Crispy Chicken Griller",
                    "Crispy Chicken Quesadilla",
                    "Crunchwrap Supreme®",
                    "Double Tostada",
                    "Express Taco Salad w/ Chips",
                    "Loaded Potato Griller",
                    "Mexican Pizza",
                    "MexiMelt®",
                    "Steak Quesalupa",
                    "Chicken Quesalupa",
                    "Beef Quesalupa",
                    "Shredded Chicken Mini Quesadilla",
                    "Spicy Chicken Crunchwrap Slider",
                    "Spicy Tostada",
                    "Stacker",
                    "Steak Quesadilla",
                    "Original Triple Double Crunchwrap",
                    "Spicy Triple Double Crunchwrap",
                    "Express Taco Salad w/ Chips",
                    "Fiesta Taco Salad-Beef",
                    "Fiesta Taco Salad-Chicken",
                    "Fiesta Taco Salad-Steak"
                  ],
                  "legendgroup": "Taco Bell",
                  "marker": {
                    "color": "#B6E880",
                    "symbol": "circle"
                  },
                  "mode": "markers",
                  "name": "Taco Bell",
                  "orientation": "v",
                  "showlegend": true,
                  "type": "scatter",
                  "x": [
                    45,
                    45,
                    20,
                    5,
                    35,
                    20,
                    10,
                    35,
                    40,
                    30,
                    60,
                    50,
                    10,
                    0,
                    35,
                    55,
                    50,
                    45,
                    50,
                    60,
                    65,
                    60,
                    30,
                    75,
                    70,
                    80,
                    55,
                    50,
                    45,
                    30,
                    75,
                    85,
                    70,
                    30,
                    25,
                    25,
                    35,
                    25,
                    35,
                    25,
                    35,
                    35,
                    40,
                    35,
                    25,
                    25,
                    30,
                    30,
                    25,
                    25,
                    35,
                    35,
                    25,
                    10,
                    40,
                    30,
                    30,
                    50,
                    65,
                    70,
                    50,
                    0,
                    25,
                    15,
                    25,
                    20,
                    15,
                    20,
                    55,
                    55,
                    55,
                    55,
                    70,
                    30,
                    40,
                    30,
                    30,
                    30,
                    30,
                    0,
                    30,
                    25,
                    25,
                    20,
                    20,
                    60,
                    50,
                    10,
                    50,
                    20,
                    75,
                    50,
                    35,
                    25,
                    75,
                    30,
                    15,
                    60,
                    25,
                    40,
                    40,
                    60,
                    60,
                    50,
                    25,
                    25,
                    10,
                    40,
                    65,
                    45,
                    50,
                    60,
                    60,
                    70,
                    55
                  ],
                  "xaxis": "x",
                  "y": [
                    1360,
                    1320,
                    1090,
                    960,
                    1270,
                    1030,
                    1100,
                    1090,
                    1050,
                    1090,
                    1960,
                    1900,
                    1750,
                    930,
                    930,
                    1510,
                    1520,
                    1530,
                    1130,
                    1440,
                    1410,
                    1450,
                    960,
                    2260,
                    2230,
                    2080,
                    1740,
                    1750,
                    1760,
                    1030,
                    2020,
                    1940,
                    2020,
                    460,
                    770,
                    350,
                    370,
                    290,
                    320,
                    640,
                    670,
                    640,
                    630,
                    650,
                    770,
                    370,
                    390,
                    550,
                    760,
                    340,
                    370,
                    530,
                    510,
                    510,
                    530,
                    570,
                    570,
                    1010,
                    1070,
                    1090,
                    1240,
                    950,
                    1020,
                    1060,
                    460,
                    290,
                    500,
                    500,
                    810,
                    890,
                    890,
                    880,
                    1110,
                    550,
                    510,
                    550,
                    1420,
                    1100,
                    690,
                    600,
                    550,
                    960,
                    560,
                    870,
                    900,
                    1520,
                    1460,
                    1310,
                    1000,
                    450,
                    1210,
                    1290,
                    930,
                    640,
                    1480,
                    1110,
                    650,
                    1270,
                    1120,
                    860,
                    740,
                    840,
                    840,
                    890,
                    540,
                    900,
                    440,
                    1050,
                    1250,
                    1550,
                    1850,
                    1270,
                    1340,
                    1260,
                    1340
                  ],
                  "yaxis": "y"
                }
              ],
              "layout": {
                "legend": {
                  "title": {
                    "text": "restaurant"
                  },
                  "tracegroupgap": 0
                },
                "margin": {
                  "t": 60
                },
                "template": {
                  "data": {
                    "bar": [
                      {
                        "error_x": {
                          "color": "#2a3f5f"
                        },
                        "error_y": {
                          "color": "#2a3f5f"
                        },
                        "marker": {
                          "line": {
                            "color": "#E5ECF6",
                            "width": 0.5
                          },
                          "pattern": {
                            "fillmode": "overlay",
                            "size": 10,
                            "solidity": 0.2
                          }
                        },
                        "type": "bar"
                      }
                    ],
                    "barpolar": [
                      {
                        "marker": {
                          "line": {
                            "color": "#E5ECF6",
                            "width": 0.5
                          },
                          "pattern": {
                            "fillmode": "overlay",
                            "size": 10,
                            "solidity": 0.2
                          }
                        },
                        "type": "barpolar"
                      }
                    ],
                    "carpet": [
                      {
                        "aaxis": {
                          "endlinecolor": "#2a3f5f",
                          "gridcolor": "white",
                          "linecolor": "white",
                          "minorgridcolor": "white",
                          "startlinecolor": "#2a3f5f"
                        },
                        "baxis": {
                          "endlinecolor": "#2a3f5f",
                          "gridcolor": "white",
                          "linecolor": "white",
                          "minorgridcolor": "white",
                          "startlinecolor": "#2a3f5f"
                        },
                        "type": "carpet"
                      }
                    ],
                    "choropleth": [
                      {
                        "colorbar": {
                          "outlinewidth": 0,
                          "ticks": ""
                        },
                        "type": "choropleth"
                      }
                    ],
                    "contour": [
                      {
                        "colorbar": {
                          "outlinewidth": 0,
                          "ticks": ""
                        },
                        "colorscale": [
                          [
                            0,
                            "#0d0887"
                          ],
                          [
                            0.1111111111111111,
                            "#46039f"
                          ],
                          [
                            0.2222222222222222,
                            "#7201a8"
                          ],
                          [
                            0.3333333333333333,
                            "#9c179e"
                          ],
                          [
                            0.4444444444444444,
                            "#bd3786"
                          ],
                          [
                            0.5555555555555556,
                            "#d8576b"
                          ],
                          [
                            0.6666666666666666,
                            "#ed7953"
                          ],
                          [
                            0.7777777777777778,
                            "#fb9f3a"
                          ],
                          [
                            0.8888888888888888,
                            "#fdca26"
                          ],
                          [
                            1,
                            "#f0f921"
                          ]
                        ],
                        "type": "contour"
                      }
                    ],
                    "contourcarpet": [
                      {
                        "colorbar": {
                          "outlinewidth": 0,
                          "ticks": ""
                        },
                        "type": "contourcarpet"
                      }
                    ],
                    "heatmap": [
                      {
                        "colorbar": {
                          "outlinewidth": 0,
                          "ticks": ""
                        },
                        "colorscale": [
                          [
                            0,
                            "#0d0887"
                          ],
                          [
                            0.1111111111111111,
                            "#46039f"
                          ],
                          [
                            0.2222222222222222,
                            "#7201a8"
                          ],
                          [
                            0.3333333333333333,
                            "#9c179e"
                          ],
                          [
                            0.4444444444444444,
                            "#bd3786"
                          ],
                          [
                            0.5555555555555556,
                            "#d8576b"
                          ],
                          [
                            0.6666666666666666,
                            "#ed7953"
                          ],
                          [
                            0.7777777777777778,
                            "#fb9f3a"
                          ],
                          [
                            0.8888888888888888,
                            "#fdca26"
                          ],
                          [
                            1,
                            "#f0f921"
                          ]
                        ],
                        "type": "heatmap"
                      }
                    ],
                    "heatmapgl": [
                      {
                        "colorbar": {
                          "outlinewidth": 0,
                          "ticks": ""
                        },
                        "colorscale": [
                          [
                            0,
                            "#0d0887"
                          ],
                          [
                            0.1111111111111111,
                            "#46039f"
                          ],
                          [
                            0.2222222222222222,
                            "#7201a8"
                          ],
                          [
                            0.3333333333333333,
                            "#9c179e"
                          ],
                          [
                            0.4444444444444444,
                            "#bd3786"
                          ],
                          [
                            0.5555555555555556,
                            "#d8576b"
                          ],
                          [
                            0.6666666666666666,
                            "#ed7953"
                          ],
                          [
                            0.7777777777777778,
                            "#fb9f3a"
                          ],
                          [
                            0.8888888888888888,
                            "#fdca26"
                          ],
                          [
                            1,
                            "#f0f921"
                          ]
                        ],
                        "type": "heatmapgl"
                      }
                    ],
                    "histogram": [
                      {
                        "marker": {
                          "pattern": {
                            "fillmode": "overlay",
                            "size": 10,
                            "solidity": 0.2
                          }
                        },
                        "type": "histogram"
                      }
                    ],
                    "histogram2d": [
                      {
                        "colorbar": {
                          "outlinewidth": 0,
                          "ticks": ""
                        },
                        "colorscale": [
                          [
                            0,
                            "#0d0887"
                          ],
                          [
                            0.1111111111111111,
                            "#46039f"
                          ],
                          [
                            0.2222222222222222,
                            "#7201a8"
                          ],
                          [
                            0.3333333333333333,
                            "#9c179e"
                          ],
                          [
                            0.4444444444444444,
                            "#bd3786"
                          ],
                          [
                            0.5555555555555556,
                            "#d8576b"
                          ],
                          [
                            0.6666666666666666,
                            "#ed7953"
                          ],
                          [
                            0.7777777777777778,
                            "#fb9f3a"
                          ],
                          [
                            0.8888888888888888,
                            "#fdca26"
                          ],
                          [
                            1,
                            "#f0f921"
                          ]
                        ],
                        "type": "histogram2d"
                      }
                    ],
                    "histogram2dcontour": [
                      {
                        "colorbar": {
                          "outlinewidth": 0,
                          "ticks": ""
                        },
                        "colorscale": [
                          [
                            0,
                            "#0d0887"
                          ],
                          [
                            0.1111111111111111,
                            "#46039f"
                          ],
                          [
                            0.2222222222222222,
                            "#7201a8"
                          ],
                          [
                            0.3333333333333333,
                            "#9c179e"
                          ],
                          [
                            0.4444444444444444,
                            "#bd3786"
                          ],
                          [
                            0.5555555555555556,
                            "#d8576b"
                          ],
                          [
                            0.6666666666666666,
                            "#ed7953"
                          ],
                          [
                            0.7777777777777778,
                            "#fb9f3a"
                          ],
                          [
                            0.8888888888888888,
                            "#fdca26"
                          ],
                          [
                            1,
                            "#f0f921"
                          ]
                        ],
                        "type": "histogram2dcontour"
                      }
                    ],
                    "mesh3d": [
                      {
                        "colorbar": {
                          "outlinewidth": 0,
                          "ticks": ""
                        },
                        "type": "mesh3d"
                      }
                    ],
                    "parcoords": [
                      {
                        "line": {
                          "colorbar": {
                            "outlinewidth": 0,
                            "ticks": ""
                          }
                        },
                        "type": "parcoords"
                      }
                    ],
                    "pie": [
                      {
                        "automargin": true,
                        "type": "pie"
                      }
                    ],
                    "scatter": [
                      {
                        "fillpattern": {
                          "fillmode": "overlay",
                          "size": 10,
                          "solidity": 0.2
                        },
                        "type": "scatter"
                      }
                    ],
                    "scatter3d": [
                      {
                        "line": {
                          "colorbar": {
                            "outlinewidth": 0,
                            "ticks": ""
                          }
                        },
                        "marker": {
                          "colorbar": {
                            "outlinewidth": 0,
                            "ticks": ""
                          }
                        },
                        "type": "scatter3d"
                      }
                    ],
                    "scattercarpet": [
                      {
                        "marker": {
                          "colorbar": {
                            "outlinewidth": 0,
                            "ticks": ""
                          }
                        },
                        "type": "scattercarpet"
                      }
                    ],
                    "scattergeo": [
                      {
                        "marker": {
                          "colorbar": {
                            "outlinewidth": 0,
                            "ticks": ""
                          }
                        },
                        "type": "scattergeo"
                      }
                    ],
                    "scattergl": [
                      {
                        "marker": {
                          "colorbar": {
                            "outlinewidth": 0,
                            "ticks": ""
                          }
                        },
                        "type": "scattergl"
                      }
                    ],
                    "scattermapbox": [
                      {
                        "marker": {
                          "colorbar": {
                            "outlinewidth": 0,
                            "ticks": ""
                          }
                        },
                        "type": "scattermapbox"
                      }
                    ],
                    "scatterpolar": [
                      {
                        "marker": {
                          "colorbar": {
                            "outlinewidth": 0,
                            "ticks": ""
                          }
                        },
                        "type": "scatterpolar"
                      }
                    ],
                    "scatterpolargl": [
                      {
                        "marker": {
                          "colorbar": {
                            "outlinewidth": 0,
                            "ticks": ""
                          }
                        },
                        "type": "scatterpolargl"
                      }
                    ],
                    "scatterternary": [
                      {
                        "marker": {
                          "colorbar": {
                            "outlinewidth": 0,
                            "ticks": ""
                          }
                        },
                        "type": "scatterternary"
                      }
                    ],
                    "surface": [
                      {
                        "colorbar": {
                          "outlinewidth": 0,
                          "ticks": ""
                        },
                        "colorscale": [
                          [
                            0,
                            "#0d0887"
                          ],
                          [
                            0.1111111111111111,
                            "#46039f"
                          ],
                          [
                            0.2222222222222222,
                            "#7201a8"
                          ],
                          [
                            0.3333333333333333,
                            "#9c179e"
                          ],
                          [
                            0.4444444444444444,
                            "#bd3786"
                          ],
                          [
                            0.5555555555555556,
                            "#d8576b"
                          ],
                          [
                            0.6666666666666666,
                            "#ed7953"
                          ],
                          [
                            0.7777777777777778,
                            "#fb9f3a"
                          ],
                          [
                            0.8888888888888888,
                            "#fdca26"
                          ],
                          [
                            1,
                            "#f0f921"
                          ]
                        ],
                        "type": "surface"
                      }
                    ],
                    "table": [
                      {
                        "cells": {
                          "fill": {
                            "color": "#EBF0F8"
                          },
                          "line": {
                            "color": "white"
                          }
                        },
                        "header": {
                          "fill": {
                            "color": "#C8D4E3"
                          },
                          "line": {
                            "color": "white"
                          }
                        },
                        "type": "table"
                      }
                    ]
                  },
                  "layout": {
                    "annotationdefaults": {
                      "arrowcolor": "#2a3f5f",
                      "arrowhead": 0,
                      "arrowwidth": 1
                    },
                    "autotypenumbers": "strict",
                    "coloraxis": {
                      "colorbar": {
                        "outlinewidth": 0,
                        "ticks": ""
                      }
                    },
                    "colorscale": {
                      "diverging": [
                        [
                          0,
                          "#8e0152"
                        ],
                        [
                          0.1,
                          "#c51b7d"
                        ],
                        [
                          0.2,
                          "#de77ae"
                        ],
                        [
                          0.3,
                          "#f1b6da"
                        ],
                        [
                          0.4,
                          "#fde0ef"
                        ],
                        [
                          0.5,
                          "#f7f7f7"
                        ],
                        [
                          0.6,
                          "#e6f5d0"
                        ],
                        [
                          0.7,
                          "#b8e186"
                        ],
                        [
                          0.8,
                          "#7fbc41"
                        ],
                        [
                          0.9,
                          "#4d9221"
                        ],
                        [
                          1,
                          "#276419"
                        ]
                      ],
                      "sequential": [
                        [
                          0,
                          "#0d0887"
                        ],
                        [
                          0.1111111111111111,
                          "#46039f"
                        ],
                        [
                          0.2222222222222222,
                          "#7201a8"
                        ],
                        [
                          0.3333333333333333,
                          "#9c179e"
                        ],
                        [
                          0.4444444444444444,
                          "#bd3786"
                        ],
                        [
                          0.5555555555555556,
                          "#d8576b"
                        ],
                        [
                          0.6666666666666666,
                          "#ed7953"
                        ],
                        [
                          0.7777777777777778,
                          "#fb9f3a"
                        ],
                        [
                          0.8888888888888888,
                          "#fdca26"
                        ],
                        [
                          1,
                          "#f0f921"
                        ]
                      ],
                      "sequentialminus": [
                        [
                          0,
                          "#0d0887"
                        ],
                        [
                          0.1111111111111111,
                          "#46039f"
                        ],
                        [
                          0.2222222222222222,
                          "#7201a8"
                        ],
                        [
                          0.3333333333333333,
                          "#9c179e"
                        ],
                        [
                          0.4444444444444444,
                          "#bd3786"
                        ],
                        [
                          0.5555555555555556,
                          "#d8576b"
                        ],
                        [
                          0.6666666666666666,
                          "#ed7953"
                        ],
                        [
                          0.7777777777777778,
                          "#fb9f3a"
                        ],
                        [
                          0.8888888888888888,
                          "#fdca26"
                        ],
                        [
                          1,
                          "#f0f921"
                        ]
                      ]
                    },
                    "colorway": [
                      "#636efa",
                      "#EF553B",
                      "#00cc96",
                      "#ab63fa",
                      "#FFA15A",
                      "#19d3f3",
                      "#FF6692",
                      "#B6E880",
                      "#FF97FF",
                      "#FECB52"
                    ],
                    "font": {
                      "color": "#2a3f5f"
                    },
                    "geo": {
                      "bgcolor": "white",
                      "lakecolor": "white",
                      "landcolor": "#E5ECF6",
                      "showlakes": true,
                      "showland": true,
                      "subunitcolor": "white"
                    },
                    "hoverlabel": {
                      "align": "left"
                    },
                    "hovermode": "closest",
                    "mapbox": {
                      "style": "light"
                    },
                    "paper_bgcolor": "white",
                    "plot_bgcolor": "#E5ECF6",
                    "polar": {
                      "angularaxis": {
                        "gridcolor": "white",
                        "linecolor": "white",
                        "ticks": ""
                      },
                      "bgcolor": "#E5ECF6",
                      "radialaxis": {
                        "gridcolor": "white",
                        "linecolor": "white",
                        "ticks": ""
                      }
                    },
                    "scene": {
                      "xaxis": {
                        "backgroundcolor": "#E5ECF6",
                        "gridcolor": "white",
                        "gridwidth": 2,
                        "linecolor": "white",
                        "showbackground": true,
                        "ticks": "",
                        "zerolinecolor": "white"
                      },
                      "yaxis": {
                        "backgroundcolor": "#E5ECF6",
                        "gridcolor": "white",
                        "gridwidth": 2,
                        "linecolor": "white",
                        "showbackground": true,
                        "ticks": "",
                        "zerolinecolor": "white"
                      },
                      "zaxis": {
                        "backgroundcolor": "#E5ECF6",
                        "gridcolor": "white",
                        "gridwidth": 2,
                        "linecolor": "white",
                        "showbackground": true,
                        "ticks": "",
                        "zerolinecolor": "white"
                      }
                    },
                    "shapedefaults": {
                      "line": {
                        "color": "#2a3f5f"
                      }
                    },
                    "ternary": {
                      "aaxis": {
                        "gridcolor": "white",
                        "linecolor": "white",
                        "ticks": ""
                      },
                      "baxis": {
                        "gridcolor": "white",
                        "linecolor": "white",
                        "ticks": ""
                      },
                      "bgcolor": "#E5ECF6",
                      "caxis": {
                        "gridcolor": "white",
                        "linecolor": "white",
                        "ticks": ""
                      }
                    },
                    "title": {
                      "x": 0.05
                    },
                    "xaxis": {
                      "automargin": true,
                      "gridcolor": "white",
                      "linecolor": "white",
                      "ticks": "",
                      "title": {
                        "standoff": 15
                      },
                      "zerolinecolor": "white",
                      "zerolinewidth": 2
                    },
                    "yaxis": {
                      "automargin": true,
                      "gridcolor": "white",
                      "linecolor": "white",
                      "ticks": "",
                      "title": {
                        "standoff": 15
                      },
                      "zerolinecolor": "white",
                      "zerolinewidth": 2
                    }
                  }
                },
                "xaxis": {
                  "anchor": "y",
                  "domain": [
                    0,
                    1
                  ],
                  "title": {
                    "text": "cholesterol"
                  },
                  "type": "log"
                },
                "yaxis": {
                  "anchor": "x",
                  "domain": [
                    0,
                    1
                  ],
                  "title": {
                    "text": "sodium"
                  },
                  "type": "log"
                }
              }
            }
          },
          "metadata": {},
          "output_type": "display_data"
        }
      ],
      "source": [
        "scatter(data_frame=df, x='cholesterol', y='sodium', color='restaurant', hover_name='item', log_x=True, log_y=True, )"
      ]
    },
    {
      "cell_type": "markdown",
      "metadata": {
        "id": "jPptvnzlohZk"
      },
      "source": [
        "### 1.Impor fungsi scatter:\n",
        "\n",
        "from plotly.express import scatter: Mengimpor fungsi scatter untuk membuat diagram sebar dari Plotly Express.\n",
        "\n",
        "### 2.Data dan Sumbu:\n",
        "\n",
        "data_frame=df, x='cholesterol', y='sodium':\n",
        "Mendefinisikan sumber data (df) dan sumbu untuk plot.\n",
        "\n",
        "x='cholesterol': Menetapkan kolom \"cholesterol\" sebagai sumber data untuk sumbu x (sumbu horizontal).\n",
        "\n",
        "y='sodium': Menetapkan kolom \"sodium\" sebagai sumber data untuk sumbu y (sumbu vertikal).\n",
        "\n",
        "### 3.Pemberian Kode Warna:\n",
        "\n",
        "color='restaurant': Menetapkan warna unik untuk setiap titik data berdasarkan nilai di kolom \"restaurant\". Ini membantu membedakan titik data dari restoran yang berbeda secara visual.\n",
        "\n",
        "### 4.Informasi Hover:\n",
        "\n",
        "hover_name='item': Menetapkan teks yang ditampilkan saat mengarahkan kursor ke titik data. Di sini, ini diatur ke kolom \"item\" (dengan asumsi kolom itu ada). Anda dapat menyesuaikan ini untuk menampilkan data relevan lainnya.\n",
        "\n",
        "### 5.Skala Logaritmik:\n",
        "\n",
        "log_x=True, log_y=True: Menggunakan skala logaritmik untuk kedua sumbu x dan y. Ini berguna saat data mencakup rentang nilai yang luas, sehingga memudahkan visualisasi penyebaran di seluruh rentang.\n",
        "\n",
        "Kode di atas dapat membuat diagram sebar yang memvisualisasikan hubungan antara kadar kolesterol dan sodium dalam DataFrame df Anda, diwarnai berdasarkan restorannya."
      ]
    },
    {
      "cell_type": "markdown",
      "metadata": {
        "id": "_4Xnwp8eohZl"
      },
      "source": [
        "Berdasarkan visualisasi data yang telah ditampilkan pada dataset fastfood_calories.csv diatas dapat di tarik beberapa kesimpulan sebagai berikut.\n",
        "\n",
        "1. Restoran Taco Bell cendrung memiliki menu yang sangat beragam daripada restoran lainnya.\n",
        "2. Menu item makanan yang mengandung sodium dan calories yang sangat tinggi dominan berasal dari restoran McDonalds Sedangkan menu item makanan dengan sodium dan calories yang rendah dominan berasal dari restoran Taco Bell.\n",
        "3. Begitupun untuk kandungan makanan yang memiliki potensi cholestrol paling tinggi juga dominan dari restoran McDonald sedangkan kandungan makanan yang memiliki potensi cholestrol yang rendah berasal dari restoran Taco Bell\n",
        "\n",
        "Maka dari itu makanan yang memiliki kandungan sodium dan calories yang terlalu tinggi juga tidak baik untuk kesehatan tubuh terutama yang makanan yang mengandung cholestrol yang sangat tinggi yaitu terdapat pada menu item makanan pada restoran McDonalds. Hal ini akan menimbulkan gejala penyakit jika dikonsumsi terlalu banyak. Makanan yang sehat adalah makanan yang memiliki kandungan sodium dan calories yang cukup atau normal."
      ]
    }
  ],
  "metadata": {
    "colab": {
      "provenance": []
    },
    "interpreter": {
      "hash": "6991831720b726829475ab2fdaae779fa846493d282639f93ea99b469bb29648"
    },
    "kernelspec": {
      "display_name": "Python 3.12.2 64-bit",
      "language": "python",
      "name": "python3"
    },
    "language_info": {
      "codemirror_mode": {
        "name": "ipython",
        "version": 3
      },
      "file_extension": ".py",
      "mimetype": "text/x-python",
      "name": "python",
      "nbconvert_exporter": "python",
      "pygments_lexer": "ipython3",
      "version": "3.12.2"
    }
  },
  "nbformat": 4,
  "nbformat_minor": 0
}