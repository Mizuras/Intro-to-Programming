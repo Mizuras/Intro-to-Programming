{
 "cells": [
  {
   "cell_type": "markdown",
   "metadata": {},
   "source": [
    "# About Dataset"
   ]
  },
  {
   "cell_type": "markdown",
   "metadata": {},
   "source": [
    "# Import Libraries/Setup"
   ]
  },
  {
   "cell_type": "code",
   "execution_count": null,
   "metadata": {
    "vscode": {
     "languageId": "plaintext"
    }
   },
   "outputs": [],
   "source": [
    "import pandas as pd\n",
    "import matplotlib.pyplot as plt\n",
    "import seaborn as sns"
   ]
  },
  {
   "cell_type": "markdown",
   "metadata": {},
   "source": [
    "1. `import pandas as pd`: Kode ini mengimpor pustaka Pandas dengan alias 'pd'. Pandas adalah pustaka Python yang digunakan untuk manipulasi dan analisis data tabular.\n",
    "\n",
    "2. `import matplotlib.pyplot as plt`: Kode ini mengimpor modul pyplot dari pustaka Matplotlib. Matplotlib adalah pustaka yang kuat untuk membuat visualisasi data dalam berbagai bentuk, seperti plot garis, histogram, scatter plot, dan lain-lain.\n",
    "\n",
    "3. `import seaborn as sns`: Kode ini mengimpor pustaka Seaborn dengan alias 'sns'. Seaborn adalah pustaka yang dibangun di atas Matplotlib dan menyediakan antarmuka yang lebih tinggi untuk membuat plot yang lebih menarik dan informatif, terutama untuk plot statistik."
   ]
  },
  {
   "cell_type": "markdown",
   "metadata": {},
   "source": [
    "# Specify the filepath"
   ]
  },
  {
   "cell_type": "markdown",
   "metadata": {},
   "source": [
    "# Load the data"
   ]
  },
  {
   "cell_type": "markdown",
   "metadata": {},
   "source": [
    "# Visualize the data"
   ]
  }
 ],
 "metadata": {
  "language_info": {
   "name": "python"
  }
 },
 "nbformat": 4,
 "nbformat_minor": 2
}
