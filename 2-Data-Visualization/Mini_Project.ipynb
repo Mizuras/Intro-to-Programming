{
 "cells": [
  {
   "cell_type": "markdown",
   "metadata": {},
   "source": [
    "# About Dataset"
   ]
  },
  {
   "cell_type": "markdown",
   "metadata": {},
   "source": [
    "# Import Libraries/Setup"
   ]
  },
  {
   "cell_type": "code",
   "execution_count": null,
   "metadata": {
    "vscode": {
     "languageId": "plaintext"
    }
   },
   "outputs": [],
   "source": [
    "import pandas as pd\n",
    "import matplotlib.pyplot as plt\n",
    "import seaborn as sns"
   ]
  },
  {
   "cell_type": "markdown",
   "metadata": {},
   "source": [
    "1. `import pandas as pd`: Kode ini mengimpor pustaka Pandas dengan alias 'pd'. Pandas adalah pustaka Python yang digunakan untuk manipulasi dan analisis data tabular.\n",
    "\n",
    "2. `import matplotlib.pyplot as plt`: Kode ini mengimpor modul pyplot dari pustaka Matplotlib. Matplotlib adalah pustaka yang kuat untuk membuat visualisasi data dalam berbagai bentuk, seperti plot garis, histogram, scatter plot, dan lain-lain.\n",
    "\n",
    "3. `import seaborn as sns`: Kode ini mengimpor pustaka Seaborn dengan alias 'sns'. Seaborn adalah pustaka yang dibangun di atas Matplotlib dan menyediakan antarmuka yang lebih tinggi untuk membuat plot yang lebih menarik dan informatif, terutama untuk plot statistik."
   ]
  },
  {
   "cell_type": "markdown",
   "metadata": {},
   "source": [
    "# Specify the filepath"
   ]
  },
  {
   "cell_type": "markdown",
   "metadata": {},
   "source": [
    "# Load the data"
   ]
  },
  {
   "cell_type": "markdown",
   "metadata": {},
   "source": [
    "Memuat data dengan Python adalah tugas mendasar ketika bekerja dengan berbagai jenis sumber data. Kita dapat menggunakan berbagai cara untuk memuat data ke Python: "
   ]
  },
  {
   "cell_type": "markdown",
   "metadata": {},
   "source": [
    "**Manual Fuction**\n",
    "\n",
    "Manual fuction mendesain fungsi khusus untuk memuat data dari jenis file tertentu (misalnya CSV). File CSV (Comma Separated Values) sebenarnya adalah file teks, tapi memiliki struktur untuk mengatur datanya. Seperti namanya, struktur yang digunakan CSV adalah koma. Koma digunakan untuk memisah data.\n",
    "\n",
    "Contoh menggunakan file CSV:"
   ]
  },
  {
   "cell_type": "code",
   "execution_count": null,
   "metadata": {},
   "outputs": [],
   "source": [
    "def load_csv(filepath):\n",
    "    data = []\n",
    "    with open(filepath) as f:\n",
    "        for line in f:\n",
    "            data.append(line.strip().split(','))\n",
    "    return data\n"
   ]
  },
  {
   "cell_type": "markdown",
   "metadata": {},
   "source": [
    "**Numpy's loadtxt function**\n",
    "\n",
    "Numpy menyediakan fungsi bawaan yang disebut **loadtxt** untuk memuat data dari file teks (misalnya, CSV, dibatasi tab). Numpy adalah fungsi yang sangat sederhana untuk memuat data. Ini sangat berguna untuk membaca data yang memiliki tipe data yang sama. Selain itu, sangat berguna untuk membaca data yang memiliki tipe data yang sama. Ketika data lebih kompleks, sulit untuk dibaca menggunakan fungsi ini, namun ketika file mudah dan sederhana, fungsi ini sangat berguna."
   ]
  },
  {
   "cell_type": "code",
   "execution_count": null,
   "metadata": {},
   "outputs": [],
   "source": [
    "import numpy as np\n",
    "dataset = np.loadtxt('data.csv', delimiter=',')"
   ]
  },
  {
   "cell_type": "markdown",
   "metadata": {},
   "source": [
    "**Pandas' read_csv()**\n",
    "\n",
    "Pandas adalah perpustakaan manipulasi data yang sangat populer, dan sangat umum digunakan karena kemudahan penggunaannya. alah satu fungsinya yang sangat penting dan matang adalah **read_csv()** yang dapat membaca file .csv "
   ]
  },
  {
   "cell_type": "code",
   "execution_count": null,
   "metadata": {},
   "outputs": [],
   "source": [
    "import pandas as pd\n",
    "df = pd.read_csv('data.csv')"
   ]
  },
  {
   "cell_type": "markdown",
   "metadata": {},
   "source": [
    "# Visualize the data"
   ]
  }
 ],
 "metadata": {
  "language_info": {
   "name": "python"
  }
 },
 "nbformat": 4,
 "nbformat_minor": 2
}
