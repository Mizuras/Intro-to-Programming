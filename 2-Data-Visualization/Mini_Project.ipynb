{
  "cells": [
    {
      "cell_type": "markdown",
      "metadata": {
        "id": "oVsLXUszZ1CU"
      },
      "source": [
        "# About Dataset\n",
        "\n",
        "Selamat datang diFastFood calories data, yang memberikan rincian komprehensif tentang kandungan yang ada didalam berbagai produk makanan cepat saji dari rantai makanan cepat saji populer. Makanan cepat saji terkenal karena kenyamanan dan harganya yang terjangkau, namun juga terkenal karena kandungan kalorinya yang tinggi, lemaknya yang tinggi, dan kandungan gulanya yang tinggi. Kumpulan data ini bertujuan untuk menjelaskan nilai gizi produk makanan cepat saji, membantu konsumen membuat keputusan yang lebih tepat mengenai pilihan makanan mereka. Dengan informasi tentang kalori, lemak, karbohidrat, protein, dan nutrisi penting lainnya, kumpulan data ini memberikan sumber daya berharga bagi ahli gizi, peneliti, dan individu yang sadar kesehatan.\n",
        "\n",
        "Sumber: https://www.kaggle.com/datasets/sujaykapadnis/fast-food-calories-data Data from fastfoodnutrition.com\n",
        "\n"
      ]
    },
    {
      "cell_type": "markdown",
      "metadata": {
        "id": "eQ8BFrUnZ1CW"
      },
      "source": [
        "# Import Libraries/Setup"
      ]
    },
    {
      "cell_type": "code",
      "execution_count": null,
      "metadata": {
        "vscode": {
          "languageId": "plaintext"
        },
        "id": "RNA2cw6BZ1CX"
      },
      "outputs": [],
      "source": [
        "import pandas as pd\n",
        "import matplotlib.pyplot as plt\n",
        "import seaborn as sns"
      ]
    },
    {
      "cell_type": "markdown",
      "metadata": {
        "id": "z3QprtuMZ1CX"
      },
      "source": [
        "1. `import pandas as pd`: Kode ini mengimpor pustaka Pandas dengan alias 'pd'. Pandas adalah pustaka Python yang digunakan untuk manipulasi dan analisis data tabular.\n",
        "\n",
        "2. `import matplotlib.pyplot as plt`: Kode ini mengimpor modul pyplot dari pustaka Matplotlib. Matplotlib adalah pustaka yang kuat untuk membuat visualisasi data dalam berbagai bentuk, seperti plot garis, histogram, scatter plot, dan lain-lain.\n",
        "\n",
        "3. `import seaborn as sns`: Kode ini mengimpor pustaka Seaborn dengan alias 'sns'. Seaborn adalah pustaka yang dibangun di atas Matplotlib dan menyediakan antarmuka yang lebih tinggi untuk membuat plot yang lebih menarik dan informatif, terutama untuk plot statistik."
      ]
    },
    {
      "cell_type": "markdown",
      "metadata": {
        "id": "OoRJAhKVZ1CY"
      },
      "source": [
        "# Specify the filepath"
      ]
    },
    {
      "cell_type": "markdown",
      "metadata": {
        "id": "2za1GptsZ1CY"
      },
      "source": [
        "# Load the data"
      ]
    },
    {
      "cell_type": "markdown",
      "metadata": {
        "id": "qPFbJEPOZ1CY"
      },
      "source": [
        "Memuat data dengan Python adalah tugas mendasar ketika bekerja dengan berbagai jenis sumber data. Kita dapat menggunakan berbagai cara untuk memuat data ke Python:"
      ]
    },
    {
      "cell_type": "markdown",
      "metadata": {
        "id": "81mMxy-xZ1CY"
      },
      "source": [
        "**Manual Fuction**\n",
        "\n",
        "Manual fuction mendesain fungsi khusus untuk memuat data dari jenis file tertentu (misalnya CSV). File CSV (Comma Separated Values) sebenarnya adalah file teks, tapi memiliki struktur untuk mengatur datanya. Seperti namanya, struktur yang digunakan CSV adalah koma. Koma digunakan untuk memisah data.\n",
        "\n",
        "Contoh menggunakan file CSV:"
      ]
    },
    {
      "cell_type": "code",
      "execution_count": 1,
      "metadata": {
        "id": "FOEr2zvMZ1CY"
      },
      "outputs": [],
      "source": [
        "def load_csv(filepath):\n",
        "    data = []\n",
        "    with open(filepath) as f:\n",
        "        for line in f:\n",
        "            data.append(line.strip().split(','))\n",
        "    return data\n"
      ]
    },
    {
      "cell_type": "markdown",
      "metadata": {
        "id": "CYqxcS7UZ1CY"
      },
      "source": [
        "**Numpy's loadtxt function**\n",
        "\n",
        "Numpy menyediakan fungsi bawaan yang disebut **loadtxt** untuk memuat data dari file teks (misalnya, CSV, dibatasi tab). Numpy adalah fungsi yang sangat sederhana untuk memuat data. Ini sangat berguna untuk membaca data yang memiliki tipe data yang sama. Selain itu, sangat berguna untuk membaca data yang memiliki tipe data yang sama. Ketika data lebih kompleks, sulit untuk dibaca menggunakan fungsi ini, namun ketika file mudah dan sederhana, fungsi ini sangat berguna."
      ]
    },
    {
      "cell_type": "code",
      "execution_count": null,
      "metadata": {
        "id": "COnVORUMZ1CZ"
      },
      "outputs": [],
      "source": [
        "import numpy as np\n",
        "dataset = np.loadtxt('data.csv', delimiter=',')"
      ]
    },
    {
      "cell_type": "markdown",
      "metadata": {
        "id": "bKny-m4lZ1CZ"
      },
      "source": [
        "**Pandas' read_csv()**\n",
        "\n",
        "Pandas adalah perpustakaan manipulasi data yang sangat populer, dan sangat umum digunakan karena kemudahan penggunaannya. alah satu fungsinya yang sangat penting dan matang adalah **read_csv()** yang dapat membaca file .csv"
      ]
    },
    {
      "cell_type": "code",
      "execution_count": null,
      "metadata": {
        "id": "dK_JTfb8Z1CZ"
      },
      "outputs": [],
      "source": [
        "import pandas as pd\n",
        "df = pd.read_csv('data.csv')"
      ]
    },
    {
      "cell_type": "markdown",
      "metadata": {
        "id": "NIZSvxsiZ1CZ"
      },
      "source": [
        "# Visualize the data"
      ]
    }
  ],
  "metadata": {
    "language_info": {
      "name": "python"
    },
    "colab": {
      "provenance": []
    },
    "kernelspec": {
      "name": "python3",
      "display_name": "Python 3"
    }
  },
  "nbformat": 4,
  "nbformat_minor": 0
}