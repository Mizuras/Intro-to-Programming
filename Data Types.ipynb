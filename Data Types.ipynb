{
 "cells": [
  {
   "cell_type": "markdown",
   "metadata": {},
   "source": [
    "## DATA TYPES"
   ]
  },
  {
   "cell_type": "markdown",
   "metadata": {},
   "source": [
    "# Integer"
   ]
  },
  {
   "cell_type": "code",
   "execution_count": 2,
   "metadata": {},
   "outputs": [
    {
     "name": "stdout",
     "output_type": "stream",
     "text": [
      "14\n",
      "<class 'int'>\n"
     ]
    }
   ],
   "source": [
    "x = 14\n",
    "print(x)\n",
    "print(type(x))"
   ]
  },
  {
   "cell_type": "markdown",
   "metadata": {},
   "source": [
    "x = 14: Baris ini menginisialisasi variabel x dengan nilai 14. Dalam bahasa pemrograman Python, Anda dapat menginisialisasi variabel dengan menggunakan tanda sama dengan (=). Di sini, nilai 14 adalah bilangan bulat (integer).\n",
    "\n",
    "print(x): Baris ini mencetak nilai variabel x ke layar. print() adalah sebuah fungsi bawaan Python yang digunakan untuk mencetak output ke konsol. Jadi, hasil cetaknya akan menampilkan nilai dari variabel x, yaitu 14.\n",
    "\n",
    "print(type(x)): Baris ini mencetak tipe data dari variabel x ke layar. type() adalah fungsi bawaan Python yang mengembalikan jenis atau tipe dari suatu objek. Dalam hal ini, itu akan mengembalikan tipe data dari variabel x, yang adalah int (singkatan dari integer, yang berarti bilangan bulat). Hasil cetaknya akan menampilkan <class 'int'>, yang menunjukkan bahwa x adalah objek bertipe data integer.\n",
    "\n",
    "Jadi, keseluruhan code tersebut menginisialisasi variabel x dengan nilai 14, mencetak nilai variabel x, dan kemudian mencetak tipe data dari variabel x."
   ]
  },
  {
   "cell_type": "markdown",
   "metadata": {},
   "source": [
    "# Floats"
   ]
  },
  {
   "cell_type": "code",
   "execution_count": 3,
   "metadata": {},
   "outputs": [
    {
     "name": "stdout",
     "output_type": "stream",
     "text": [
      "3.141592653589793\n",
      "<class 'float'>\n"
     ]
    }
   ],
   "source": [
    "nearly_pi = 3.141592653589793238462643383279502884197169399375105820974944\n",
    "print(nearly_pi)\n",
    "print(type(nearly_pi))"
   ]
  },
  {
   "cell_type": "markdown",
   "metadata": {},
   "source": [
    "nearly_pi = 3.141592653589793238462643383279502884197169399375105820974944: Baris ini menginisialisasi variabel nearly_pi dengan nilai yang mendekati nilai Pi. Dalam bahasa pemrograman Python, Anda dapat menggunakan tanda sama dengan (=) untuk menginisialisasi variabel dengan nilai tertentu. Nilai yang ditetapkan dalam contoh ini adalah sebuah float, yang merupakan angka pecahan dengan titik desimal.\n",
    "\n",
    "print(nearly_pi): Baris ini mencetak nilai dari variabel nearly_pi ke layar. Fungsi print() digunakan untuk mencetak output ke konsol. Hasil cetaknya akan menampilkan nilai mendekati Pi yang telah ditetapkan sebelumnya.\n",
    "\n",
    "print(type(nearly_pi)): Baris ini mencetak tipe data dari variabel nearly_pi ke layar. Fungsi type() mengembalikan jenis atau tipe dari suatu objek dalam Python. Dalam hal ini, fungsi ini akan mengembalikan tipe data dari nilai yang ditetapkan ke nearly_pi, yaitu float. Hasil cetaknya akan menampilkan <class 'float'>, yang menunjukkan bahwa nearly_pi adalah objek bertipe data float.\n",
    "\n",
    "Jadi, keseluruhan kode tersebut menginisialisasi variabel nearly_pi dengan nilai mendekati Pi, mencetak nilai variabel nearly_pi, dan kemudian mencetak tipe data dari variabel nearly_pi, yang adalah float.\n"
   ]
  },
  {
   "cell_type": "code",
   "execution_count": 4,
   "metadata": {},
   "outputs": [
    {
     "name": "stdout",
     "output_type": "stream",
     "text": [
      "3.142857142857143\n",
      "<class 'float'>\n"
     ]
    }
   ],
   "source": [
    "almost_pi = 22/7\n",
    "print(almost_pi)\n",
    "print(type(almost_pi))"
   ]
  },
  {
   "cell_type": "markdown",
   "metadata": {},
   "source": [
    "almost_pi = 22/7: Baris ini menginisialisasi variabel almost_pi dengan hasil pembagian 22 dengan 7. Dalam bahasa pemrograman Python, operasi pembagian menggunakan tanda /. Pada kasus ini, 22 dibagi oleh 7 menghasilkan nilai yang mendekati nilai Pi. Nilai ini merupakan sebuah float karena pembagian dua bilangan bulat menghasilkan float jika hasilnya bukan bilangan bulat.\n",
    "\n",
    "print(almost_pi): Baris ini mencetak nilai dari variabel almost_pi ke layar. Fungsi print() digunakan untuk mencetak output ke konsol. Hasil cetaknya akan menampilkan nilai mendekati Pi yang telah dihasilkan oleh operasi pembagian sebelumnya.\n",
    "\n",
    "print(type(almost_pi)): Baris ini mencetak tipe data dari variabel almost_pi ke layar. Fungsi type() mengembalikan jenis atau tipe dari suatu objek dalam Python. Dalam hal ini, nilai yang telah ditetapkan ke almost_pi adalah float. Hasil cetaknya akan menampilkan <class 'float'>, yang menunjukkan bahwa almost_pi adalah objek bertipe data float.\n",
    "\n",
    "Jadi, keseluruhan kode tersebut menginisialisasi variabel almost_pi dengan nilai mendekati Pi hasil dari operasi pembagian, mencetak nilai variabel almost_pi, dan kemudian mencetak tipe data dari variabel almost_pi, yang adalah float."
   ]
  },
  {
   "cell_type": "code",
   "execution_count": 5,
   "metadata": {},
   "outputs": [
    {
     "name": "stdout",
     "output_type": "stream",
     "text": [
      "3.14286\n",
      "<class 'float'>\n"
     ]
    }
   ],
   "source": [
    "# Round to 5 decimal places\n",
    "rounded_pi = round(almost_pi, 5)\n",
    "print(rounded_pi)\n",
    "print(type(rounded_pi))"
   ]
  },
  {
   "cell_type": "markdown",
   "metadata": {},
   "source": [
    "rounded_pi = round(almost_pi, 5): Baris ini menginisialisasi variabel rounded_pi dengan menggunakan fungsi round() untuk membulatkan nilai dari variabel almost_pi ke lima angka desimal. Fungsi round() digunakan untuk membulatkan nilai bilangan pecahan ke angka desimal tertentu, di mana argumen kedua yang diberikan adalah jumlah digit desimal yang diinginkan. Dalam hal ini, kita membulatkan almost_pi ke lima angka desimal.\n",
    "\n",
    "print(rounded_pi): Baris ini mencetak nilai dari variabel rounded_pi ke layar. Fungsi print() digunakan untuk mencetak output ke konsol. Hasil cetaknya akan menampilkan nilai Pi yang telah dibulatkan ke lima angka desimal.\n",
    "\n",
    "print(type(rounded_pi)): Baris ini mencetak tipe data dari variabel rounded_pi ke layar. Fungsi type() mengembalikan jenis atau tipe dari suatu objek dalam Python. Dalam hal ini, nilai yang telah ditetapkan ke rounded_pi adalah float karena telah melalui proses pembulatan. Hasil cetaknya akan menampilkan <class 'float'>, yang menunjukkan bahwa rounded_pi adalah objek bertipe data float.\n",
    "\n",
    "Jadi, keseluruhan kode tersebut menginisialisasi variabel rounded_pi dengan nilai Pi yang telah dibulatkan ke lima angka desimal, mencetak nilai variabel rounded_pi, dan kemudian mencetak tipe data dari variabel rounded_pi, yang adalah float."
   ]
  },
  {
   "cell_type": "code",
   "execution_count": 6,
   "metadata": {},
   "outputs": [
    {
     "name": "stdout",
     "output_type": "stream",
     "text": [
      "1.0\n",
      "<class 'float'>\n"
     ]
    }
   ],
   "source": [
    "y_float = 1.\n",
    "print(y_float)\n",
    "print(type(y_float))"
   ]
  },
  {
   "cell_type": "markdown",
   "metadata": {},
   "source": [
    "y_float = 1.: Baris ini menginisialisasi variabel y_float dengan nilai 1.0. Meskipun tidak ada digit di belakang titik desimal, penulisan titik desimal menunjukkan bahwa nilai tersebut adalah float, bukan integer. Dalam Python, Anda dapat menuliskan float dengan atau tanpa digit di belakang titik desimal.\n",
    "\n",
    "print(y_float): Baris ini mencetak nilai dari variabel y_float ke layar. Fungsi print() digunakan untuk mencetak output ke konsol. Hasil cetaknya akan menampilkan nilai dari y_float, yaitu 1.0.\n",
    "\n",
    "print(type(y_float)): Baris ini mencetak tipe data dari variabel y_float ke layar. Fungsi type() mengembalikan jenis atau tipe dari suatu objek dalam Python. Dalam hal ini, nilai yang telah ditetapkan ke y_float adalah float. Hasil cetaknya akan menampilkan <class 'float'>, yang menunjukkan bahwa y_float adalah objek bertipe data float.\n",
    "\n",
    "Jadi, keseluruhan kode tersebut menginisialisasi variabel y_float dengan nilai 1.0, mencetak nilai variabel y_float, dan kemudian mencetak tipe data dari variabel y_float, yang adalah float."
   ]
  },
  {
   "cell_type": "markdown",
   "metadata": {},
   "source": [
    "# Booleans"
   ]
  },
  {
   "cell_type": "code",
   "execution_count": 7,
   "metadata": {},
   "outputs": [
    {
     "name": "stdout",
     "output_type": "stream",
     "text": [
      "True\n",
      "<class 'bool'>\n"
     ]
    }
   ],
   "source": [
    "z_one = True\n",
    "print(z_one)\n",
    "print(type(z_one))"
   ]
  },
  {
   "cell_type": "markdown",
   "metadata": {},
   "source": [
    "z_one = True: Baris ini menginisialisasi variabel z_one dengan nilai True. Dalam Python, True adalah salah satu dari dua nilai boolean bawaan yang mewakili kebenaran. Nilai boolean True menunjukkan bahwa pernyataan yang dinyatakan adalah benar.\n",
    "\n",
    "print(type(z_one)): Baris ini mencetak tipe data dari variabel z_one ke layar. Fungsi type() mengembalikan jenis atau tipe dari suatu objek dalam Python. Dalam hal ini, nilai yang telah ditetapkan ke z_one adalah boolean. Hasil cetaknya akan menampilkan <class 'bool'>, yang menunjukkan bahwa z_one adalah objek bertipe data boolean.\n",
    "\n",
    "Kode tersebut menginisialisasi variabel z_one dengan nilai boolean True, mencetak nilai variabel z_one, dan kemudian mencetak tipe data dari variabel z_one, yang adalah boolean."
   ]
  },
  {
   "cell_type": "code",
   "execution_count": 8,
   "metadata": {},
   "outputs": [
    {
     "name": "stdout",
     "output_type": "stream",
     "text": [
      "False\n",
      "<class 'bool'>\n"
     ]
    }
   ],
   "source": [
    "z_two = False\n",
    "print(z_two)\n",
    "print(type(z_two))"
   ]
  },
  {
   "cell_type": "markdown",
   "metadata": {},
   "source": [
    "z_two = False: Baris ini menginisialisasi variabel z_two dengan nilai False. Dalam Python, False adalah salah satu dari dua nilai boolean bawaan yang mewakili ketidakbenaran. Nilai boolean False menunjukkan bahwa pernyataan yang dinyatakan adalah salah.\n",
    "\n",
    "Kode tersebut menginisialisasi variabel z_two dengan nilai boolean False, mencetak nilai variabel z_two, dan kemudian mencetak tipe data dari variabel z_two, yang adalah boolean."
   ]
  },
  {
   "cell_type": "code",
   "execution_count": null,
   "metadata": {},
   "outputs": [],
   "source": []
  }
 ],
 "metadata": {
  "interpreter": {
   "hash": "6991831720b726829475ab2fdaae779fa846493d282639f93ea99b469bb29648"
  },
  "kernelspec": {
   "display_name": "Python 3.12.2 64-bit",
   "language": "python",
   "name": "python3"
  },
  "language_info": {
   "codemirror_mode": {
    "name": "ipython",
    "version": 3
   },
   "file_extension": ".py",
   "mimetype": "text/x-python",
   "name": "python",
   "nbconvert_exporter": "python",
   "pygments_lexer": "ipython3",
   "version": "3.12.2"
  },
  "orig_nbformat": 4
 },
 "nbformat": 4,
 "nbformat_minor": 2
}
