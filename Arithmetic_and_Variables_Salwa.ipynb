{
 "cells": [
  {
   "cell_type": "markdown",
   "metadata": {},
   "source": [
    "By Salwa Salsabila | Universitas Dian Nuswantoro"
   ]
  },
  {
   "cell_type": "markdown",
   "metadata": {},
   "source": [
    "# Arithmetic and Variables"
   ]
  },
  {
   "cell_type": "markdown",
   "metadata": {},
   "source": [
    "Make calculations, and define and modify variables."
   ]
  },
  {
   "cell_type": "markdown",
   "metadata": {},
   "source": [
    "## Printing"
   ]
  },
  {
   "cell_type": "markdown",
   "metadata": {},
   "source": [
    "Di Python, kita dapat memerintahkan komputer untuk menampilkan pesan dengan menggunakan fungsi *print()* dan memberikan pesan yang diinginkan di dalam tanda kurung, diapit tanda kutip. Misalnya, jika kita ingin mencetak pesan \"Helo, world!\", kita menulis kode berikut:"
   ]
  },
  {
   "cell_type": "code",
   "execution_count": 1,
   "metadata": {},
   "outputs": [
    {
     "name": "stdout",
     "output_type": "stream",
     "text": [
      "Hello, world!\n"
     ]
    }
   ],
   "source": [
    "print(\"Hello, world!\")"
   ]
  },
  {
   "cell_type": "markdown",
   "metadata": {},
   "source": [
    "Dengan menggunakan perintah print, kita memberi tahu komputer untuk mencetak atau menampilkan teks yang ada di dalam tanda kurung ganda (\") ke layar. Dalam hal ini, teks yang akan dicetak adalah \"Hello, world!\", yang merupakan pesan yang sering digunakan dalam tutorial pemrograman sebagai langkah pertama dalam mempelajari sebuah bahasa pemrograman baru.\n",
    "\n",
    "Jadi, ketika kita menjalankan perintah print(\"Hello, world!\"), kita akan melihat pesan \"Hello, world!\" muncul di layar komputer sebagai hasil dari program yang kita tulis."
   ]
  },
  {
   "cell_type": "markdown",
   "metadata": {},
   "source": [
    "## Arithmetic"
   ]
  },
  {
   "cell_type": "markdown",
   "metadata": {},
   "source": [
    "Kita bisa juga menampilkan hasil dari beberapa operasi matematika (seperti penambahan, pengurangan, perkalian, atau pembagian)."
   ]
  },
  {
   "cell_type": "code",
   "execution_count": 2,
   "metadata": {},
   "outputs": [
    {
     "name": "stdout",
     "output_type": "stream",
     "text": [
      "3\n"
     ]
    }
   ],
   "source": [
    "print(1 + 2)"
   ]
  },
  {
   "cell_type": "markdown",
   "metadata": {},
   "source": [
    "Perintah *print(1 + 2)* dalam bahasa pemrograman Python adalah cara untuk menampilkan hasil penjumlahan dari angka 1 dan 2 ke layar komputer. Dalam kasus ini, tanda kurung digunakan untuk menunjukkan bahwa kita ingin mencetak hasil operasi matematika yang terdapat di dalamnya.\n",
    "\n",
    "Python akan menjumlahkan angka 1 dan 2, dan output yang dihasilkan 3. Jadi, hasil dari perintah ini adalah angka 3. Ini adalah contoh sederhana dari bagaimana kita dapat menggunakan Python untuk melakukan operasi matematika dasar dan menampilkan hasilnya kepada pengguna."
   ]
  },
  {
   "cell_type": "code",
   "execution_count": 3,
   "metadata": {},
   "outputs": [
    {
     "name": "stdout",
     "output_type": "stream",
     "text": [
      "4\n"
     ]
    }
   ],
   "source": [
    "print(9 - 5)"
   ]
  },
  {
   "cell_type": "markdown",
   "metadata": {},
   "source": [
    "Perintah *print(9 - 5)* dalam bahasa pemrograman Python adalah cara untuk menampilkan hasil pengurangan dari angka 9 dan 5 ke layar komputer. Ketika kode ini dieksekusi, Python akan mengurangkan angka 5 dari angka 9, yaitu 4, dan kemudian mencetak hasilnya ke layar. Jadi, hasil dari perintah ini adalah angka 4"
   ]
  },
  {
   "cell_type": "code",
   "execution_count": 4,
   "metadata": {},
   "outputs": [
    {
     "name": "stdout",
     "output_type": "stream",
     "text": [
      "196.0\n"
     ]
    }
   ],
   "source": [
    "print(((1 + 3) * (9 - 2) / 2) ** 2)"
   ]
  },
  {
   "cell_type": "markdown",
   "metadata": {},
   "source": [
    "Perintah *print(((1 + 3) * (9 - 2) / 2) ** 2)* dalam bahasa pemrograman Python adalah cara untuk menghitung hasil ekspresi matematika yang kompleks dan menampilkan hasilnya ke layar komputer. Dalam ekspresi ini, terdapat beberapa operasi matematika yang dilakukan secara berurutan."
   ]
  },
  {
   "cell_type": "markdown",
   "metadata": {},
   "source": [
    "1. (1 + 3): Operasi penjumlahan dari angka 1 dan 3, menghasilkan 4.\n",
    "2. (9 - 2): Operasi pengurangan dari angka 9 dan 2, menghasilkan 7.\n",
    "3. (4 * 7): Operasi perkalian dari hasil penjumlahan dan pengurangan sebelumnya, menghasilkan 28.\n",
    "4. (28 / 2): Operasi pembagian hasil perkalian sebelumnya dengan angka 2, menghasilkan 14.\n",
    "5. ** 2: Operasi pemangkatan hasil pembagian sebelumnya ke pangkat 2, menghasilkan 196.\n",
    "\n",
    "Hasil akhir dari ekspresi ini adalah angka 196."
   ]
  },
  {
   "cell_type": "markdown",
   "metadata": {},
   "source": [
    "## Comments"
   ]
  },
  {
   "cell_type": "markdown",
   "metadata": {},
   "source": [
    "Komentar adalah bagian dari kode yang tidak dieksekusi oleh Python. Mereka digunakan untuk memberikan penjelasan atau dokumentasi tentang apa yang dilakukan oleh baris kode yang terkait.\n",
    "\n",
    "Contohnya, di sel kode berikut, kita mengalikan 3 dengan 2. Kita tambahkan komentar (# Multiply 3 by 2) di atas kode untuk menjelaskan apa yang dilakukan oleh kode tersebut."
   ]
  },
  {
   "cell_type": "code",
   "execution_count": 5,
   "metadata": {},
   "outputs": [
    {
     "name": "stdout",
     "output_type": "stream",
     "text": [
      "6\n"
     ]
    }
   ],
   "source": [
    "# Multiply 3 by 2\n",
    "print(3 * 2)"
   ]
  },
  {
   "cell_type": "markdown",
   "metadata": {},
   "source": [
    "Untuk menandai bahwa suatu baris adalah komentar dalam Python, gunakan tanda pagar (#) sebagai karakter pertama.\n",
    "\n",
    "Setelah menemukan tanda pagar, Python akan menganggap baris tersebut sebagai komentar dan akan mengabaikannya sepenuhnya. Ini penting karena Python mengikuti aturan yang sangat ketat, dan hanya akan menghasilkan kesalahan jika tidak dapat memahami kode yang diberikan.\n",
    "\n",
    "Contohnya terlihat pada sel kode di bawah ini. Python akan menghasilkan kesalahan jika tanda pagar dihilangkan karena teks dalam komentar bukanlah kode Python yang valid dan tidak dapat diinterpretasikan dengan benar."
   ]
  },
  {
   "cell_type": "code",
   "execution_count": 7,
   "metadata": {},
   "outputs": [
    {
     "ename": "SyntaxError",
     "evalue": "invalid syntax (3750420471.py, line 1)",
     "output_type": "error",
     "traceback": [
      "\u001b[1;36m  Cell \u001b[1;32mIn[7], line 1\u001b[1;36m\u001b[0m\n\u001b[1;33m    Multiply 3 by 2\u001b[0m\n\u001b[1;37m             ^\u001b[0m\n\u001b[1;31mSyntaxError\u001b[0m\u001b[1;31m:\u001b[0m invalid syntax\n"
     ]
    }
   ],
   "source": [
    "Multiply 3 by 2"
   ]
  },
  {
   "cell_type": "markdown",
   "metadata": {},
   "source": [
    "## Variables"
   ]
  },
  {
   "cell_type": "markdown",
   "metadata": {},
   "source": []
  }
 ],
 "metadata": {
  "kernelspec": {
   "display_name": "Python 3",
   "language": "python",
   "name": "python3"
  },
  "language_info": {
   "codemirror_mode": {
    "name": "ipython",
    "version": 3
   },
   "file_extension": ".py",
   "mimetype": "text/x-python",
   "name": "python",
   "nbconvert_exporter": "python",
   "pygments_lexer": "ipython3",
   "version": "3.12.1"
  }
 },
 "nbformat": 4,
 "nbformat_minor": 2
}
