{
 "cells": [
  {
   "cell_type": "markdown",
   "metadata": {},
   "source": [
    "## Conditions and Conditional Statements"
   ]
  },
  {
   "cell_type": "markdown",
   "metadata": {},
   "source": [
    "Dalam bahasa Python, \"kondisi\" merujuk pada keadaan atau situasi di mana blok kode akan dieksekusi berdasarkan evaluasi dari suatu ekspresi boolean. Kondisi ini biasanya diimplementasikan menggunakan struktur kontrol seperti if, elif (singkatan dari \"else if\"), dan else.\n",
    "\n",
    "Contoh sederhana dari penggunaan kondisi dalam Python adalah sebagai berikut:"
   ]
  },
  {
   "cell_type": "code",
   "execution_count": 1,
   "metadata": {},
   "outputs": [
    {
     "name": "stdout",
     "output_type": "stream",
     "text": [
      "Nilai x lebih besar dari 5\n"
     ]
    }
   ],
   "source": [
    "x = 10\n",
    "\n",
    "if x > 5:\n",
    "    print(\"Nilai x lebih besar dari 5\")\n",
    "elif x == 5:\n",
    "    print(\"Nilai x sama dengan 5\")\n",
    "else:\n",
    "    print(\"Nilai x kurang dari 5\")"
   ]
  },
  {
   "cell_type": "markdown",
   "metadata": {},
   "source": [
    "Dalam contoh ini, blok kode yang akan dieksekusi ditentukan oleh nilai variabel x. Jika x lebih besar dari 5, maka pesan \"Nilai x lebih besar dari 5\" akan dicetak. Jika x sama dengan 5, maka pesan \"Nilai x sama dengan 5\" akan dicetak. Dan jika kedua kondisi tersebut tidak terpenuhi, maka blok kode pada bagian else akan dieksekusi."
   ]
  },
  {
   "cell_type": "markdown",
   "metadata": {},
   "source": [
    "# Perbedaan Condition dan Conditional"
   ]
  },
  {
   "cell_type": "markdown",
   "metadata": {},
   "source": [
    "Dalam konteks bahasa Python, istilah \"kondisi\" dan \"kondisional\" sering digunakan secara bergantian dan bisa merujuk pada konsep yang sama. Namun, secara umum, kita dapat membedakan keduanya sebagai berikut:\n",
    "\n",
    "Kondisi (Condition):\n",
    "Kondisi dalam Python merujuk pada ekspresi boolean atau pernyataan yang mengevaluasi kebenaran atau kefalsafahan suatu kondisi.\n",
    "Biasanya digunakan dalam struktur kontrol seperti if, elif, dan else untuk menentukan jalannya eksekusi program berdasarkan keadaan atau situasi tertentu.\n",
    "Contoh: x > 5, y == 10, z != 0.\n",
    "\n",
    "Kondisional (Conditional):\n",
    "Kondisional dalam Python biasanya merujuk pada struktur kontrol yang bergantung pada kondisi, seperti if, elif, dan else.\n",
    "Ini adalah konstruksi bahasa yang memungkinkan kita untuk menjalankan blok kode berdasarkan evaluasi kondisi tertentu.\n",
    "Kondisional membantu dalam mengatur alur eksekusi program secara kondisional, berdasarkan keadaan atau nilai yang diberikan.\n",
    "Contoh:"
   ]
  },
  {
   "cell_type": "code",
   "execution_count": 2,
   "metadata": {},
   "outputs": [
    {
     "name": "stdout",
     "output_type": "stream",
     "text": [
      "Nilai x lebih besar dari 5\n"
     ]
    }
   ],
   "source": [
    "if x > 5:\n",
    "    print(\"Nilai x lebih besar dari 5\")\n",
    "elif x == 5:\n",
    "    print(\"Nilai x sama dengan 5\")\n",
    "else:\n",
    "    print(\"Nilai x kurang dari 5\")"
   ]
  },
  {
   "cell_type": "markdown",
   "metadata": {},
   "source": [
    "Dengan demikian, kita bisa mengatakan bahwa kondisi adalah kriteria atau syarat yang harus dipenuhi agar suatu kondisional dapat dieksekusi, sedangkan kondisional adalah struktur atau pernyataan yang digunakan untuk mengatur alur eksekusi program berdasarkan kondisi-kondisi tersebut. Dalam praktiknya, kedua istilah ini sering digunakan secara bersamaan untuk menggambarkan konsep yang sama dalam bahasa Python."
   ]
  },
  {
   "cell_type": "markdown",
   "metadata": {},
   "source": [
    "# Simbol yang terdapat pada kondisi dan kondisional"
   ]
  },
  {
   "cell_type": "markdown",
   "metadata": {},
   "source": [
    "Dalam bahasa Python, terdapat beberapa simbol yang digunakan dalam kondisi dan kondisional untuk membandingkan nilai atau ekspresi. Berikut adalah beberapa simbol yang umum digunakan:\n",
    "\n",
    "# 1.Pembanding (Comparison Operators):\n",
    "\n",
    "==: Sama dengan (equality)\n",
    "\n",
    "!=: Tidak sama dengan (inequality)\n",
    "\n",
    ">: Lebih besar dari (greater than)\n",
    "\n",
    "<: Lebih kecil dari (less than)\n",
    "\n",
    ">=: Lebih besar dari atau sama dengan (greater than or equal to)\n",
    "\n",
    "<=: Lebih kecil dari atau sama dengan (less than or equal to)\n",
    "\n",
    "\n",
    "# 2.Logika (Logical Operators):\n",
    "\n",
    "and: Operator logika AND, menghasilkan True jika kedua kondisi benar.\n",
    "\n",
    "or: Operator logika OR, menghasilkan True jika salah satu atau kedua kondisi benar.\n",
    "\n",
    "not: Operator logika NOT, membalikkan nilai kebenaran suatu kondisi.\n",
    "\n",
    "\n",
    "# 3.Identitas (Identity Operators):\n",
    "\n",
    "is: Menguji identitas objek.\n",
    "\n",
    "is not: Menguji ketidakidentikan objek.\n",
    "\n",
    "\n",
    "# 4.Keanggotaan (Membership Operators):\n",
    "\n",
    "in: Menguji keanggotaan suatu nilai dalam sebuah sequence (seperti list, tuple, atau string).\n",
    "\n",
    "not in: Menguji ketidakkeanggotaan suatu nilai dalam sebuah sequence.\n",
    "\n",
    "Contoh penggunaan simbol-simbol tersebut dalam kondisi dan kondisional:"
   ]
  },
  {
   "cell_type": "code",
   "execution_count": 3,
   "metadata": {},
   "outputs": [],
   "source": [
    "x = 5\n",
    "y = 10\n",
    "z = [1, 2, 3]"
   ]
  },
  {
   "cell_type": "code",
   "execution_count": 5,
   "metadata": {},
   "outputs": [
    {
     "name": "stdout",
     "output_type": "stream",
     "text": [
      "x sama dengan 5\n",
      "y lebih besar dari 5\n"
     ]
    }
   ],
   "source": [
    "# Kondisi menggunakan pembanding\n",
    "if x == 5:\n",
    "    print(\"x sama dengan 5\")\n",
    "\n",
    "if y > 5:\n",
    "    print(\"y lebih besar dari 5\")\n"
   ]
  },
  {
   "cell_type": "code",
   "execution_count": 6,
   "metadata": {},
   "outputs": [
    {
     "name": "stdout",
     "output_type": "stream",
     "text": [
      "x sama dengan 5 dan y lebih besar dari 5\n"
     ]
    }
   ],
   "source": [
    "# Kondisi menggunakan operator logika\n",
    "if x == 5 and y > 5:\n",
    "    print(\"x sama dengan 5 dan y lebih besar dari 5\")"
   ]
  },
  {
   "cell_type": "code",
   "execution_count": 7,
   "metadata": {},
   "outputs": [
    {
     "name": "stdout",
     "output_type": "stream",
     "text": [
      "x identik dengan 5\n"
     ]
    },
    {
     "name": "stderr",
     "output_type": "stream",
     "text": [
      "<>:2: SyntaxWarning: \"is\" with 'int' literal. Did you mean \"==\"?\n",
      "<>:2: SyntaxWarning: \"is\" with 'int' literal. Did you mean \"==\"?\n",
      "C:\\Users\\ASUS\\AppData\\Local\\Temp\\ipykernel_2696\\2482084442.py:2: SyntaxWarning: \"is\" with 'int' literal. Did you mean \"==\"?\n",
      "  if x is 5:\n"
     ]
    }
   ],
   "source": [
    "# Kondisi menggunakan operator identitas\n",
    "if x is 5:\n",
    "    print(\"x identik dengan 5\")"
   ]
  },
  {
   "cell_type": "code",
   "execution_count": 8,
   "metadata": {},
   "outputs": [
    {
     "name": "stdout",
     "output_type": "stream",
     "text": [
      "2 ada dalam list z\n"
     ]
    }
   ],
   "source": [
    "# Kondisi menggunakan operator keanggotaan\n",
    "if 2 in z:\n",
    "    print(\"2 ada dalam list z\")"
   ]
  },
  {
   "cell_type": "markdown",
   "metadata": {},
   "source": [
    "Simbol-simbol ini memungkinkan Anda untuk membangun kondisi-kondisi kompleks dan menentukan alur eksekusi program dengan lebih fleksibel dalam bahasa Python."
   ]
  },
  {
   "cell_type": "markdown",
   "metadata": {},
   "source": [
    "# Berikut contoh-contoh lain dari kondisi pada python"
   ]
  },
  {
   "cell_type": "markdown",
   "metadata": {},
   "source": [
    "Contoh kondisi yang lebih lengkap yang melibatkan beberapa operator pembanding, operator logika, serta struktur kontrol seperti if, elif, dan else:"
   ]
  },
  {
   "cell_type": "code",
   "execution_count": 9,
   "metadata": {},
   "outputs": [],
   "source": [
    "# Menentukan nilai variabel\n",
    "nilai = 75\n",
    "usia = 20\n",
    "nama = \"Alice\""
   ]
  },
  {
   "cell_type": "code",
   "execution_count": 10,
   "metadata": {},
   "outputs": [
    {
     "name": "stdout",
     "output_type": "stream",
     "text": [
      "Nilai Anda adalah B\n"
     ]
    }
   ],
   "source": [
    "# Kondisi menggunakan struktur kontrol if, elif, dan else\n",
    "if nilai >= 80:\n",
    "    print(\"Nilai Anda adalah A\")\n",
    "elif nilai >= 70:\n",
    "    print(\"Nilai Anda adalah B\")\n",
    "elif nilai >= 60:\n",
    "    print(\"Nilai Anda adalah C\")\n",
    "else:\n",
    "    print(\"Anda belum mencapai nilai minimal\")"
   ]
  },
  {
   "cell_type": "code",
   "execution_count": 11,
   "metadata": {},
   "outputs": [
    {
     "name": "stdout",
     "output_type": "stream",
     "text": [
      "Anda adalah dewasa muda\n"
     ]
    }
   ],
   "source": [
    "# Kondisi menggunakan operator logika\n",
    "if usia >= 18 and usia <= 30:\n",
    "    print(\"Anda adalah dewasa muda\")\n",
    "else:\n",
    "    print(\"Anda bukan dewasa muda\")"
   ]
  },
  {
   "cell_type": "code",
   "execution_count": 12,
   "metadata": {},
   "outputs": [
    {
     "name": "stdout",
     "output_type": "stream",
     "text": [
      "Nama Anda mengandung huruf 'l'\n"
     ]
    }
   ],
   "source": [
    "# Kondisi menggunakan operator keanggotaan\n",
    "if \"l\" in nama:\n",
    "    print(\"Nama Anda mengandung huruf 'l'\")\n",
    "else:\n",
    "    print(\"Nama Anda tidak mengandung huruf 'l'\")"
   ]
  },
  {
   "cell_type": "markdown",
   "metadata": {},
   "source": [
    "Dalam contoh ini, kita memiliki beberapa kondisi yang berbeda:\n",
    "\n",
    "Kondisi pertama menggunakan struktur kontrol if, elif, dan else untuk menentukan nilai huruf berdasarkan skala nilai.\n",
    "\n",
    "Kondisi kedua menggunakan operator logika and untuk menentukan apakah usia seseorang berada dalam rentang tertentu.\n",
    "\n",
    "Kondisi ketiga menggunakan operator keanggotaan in untuk memeriksa apakah huruf tertentu ada dalam nama seseorang.\n",
    "\n",
    "Semua kondisi ini digunakan untuk mengontrol alur program berdasarkan nilai-nilai yang telah ditentukan sebelumnya atau yang telah diberikan pada saat eksekusi program.\n",
    "\n",
    "\n",
    "\n"
   ]
  },
  {
   "cell_type": "markdown",
   "metadata": {},
   "source": [
    "# Berikut contoh lain dari kondisional pada python"
   ]
  },
  {
   "cell_type": "markdown",
   "metadata": {},
   "source": [
    "Berikut adalah contoh yang lebih lengkap dari penggunaan kondisional dalam Python. Kita akan menggabungkan beberapa kondisi menggunakan berbagai operator logika:"
   ]
  },
  {
   "cell_type": "code",
   "execution_count": 13,
   "metadata": {},
   "outputs": [],
   "source": [
    "# Mendefinisikan variabel\n",
    "umur = 25\n",
    "gaji = 5000\n",
    "pekerjaan_stabil = True"
   ]
  },
  {
   "cell_type": "code",
   "execution_count": 14,
   "metadata": {},
   "outputs": [
    {
     "name": "stdout",
     "output_type": "stream",
     "text": [
      "Anda memenuhi syarat untuk mendapatkan pinjaman.\n"
     ]
    }
   ],
   "source": [
    "# Kondisional kompleks\n",
    "if umur >= 18 and gaji >= 3000 and pekerjaan_stabil:\n",
    "    print(\"Anda memenuhi syarat untuk mendapatkan pinjaman.\")\n",
    "elif umur < 18:\n",
    "    print(\"Anda belum mencapai usia dewasa.\")\n",
    "elif gaji < 3000:\n",
    "    print(\"Penghasilan Anda tidak mencukupi.\")\n",
    "elif not pekerjaan_stabil:\n",
    "    print(\"Anda perlu memiliki pekerjaan tetap untuk mendapatkan pinjaman.\")\n",
    "else:\n",
    "    print(\"Anda tidak memenuhi syarat untuk mendapatkan pinjaman.\")"
   ]
  },
  {
   "cell_type": "markdown",
   "metadata": {},
   "source": [
    "Dalam contoh ini, kita memiliki kondisional yang lebih kompleks yang menggabungkan beberapa kondisi dengan menggunakan operator logika 'and' dan 'not'. Kondisional ini mengevaluasi berbagai aspek yang diperlukan untuk memenuhi syarat untuk mendapatkan pinjaman, seperti usia, gaji, dan status pekerjaan. Program akan mencetak pesan yang sesuai berdasarkan kondisi yang terpenuhi atau tidak terpenuhi."
   ]
  },
  {
   "cell_type": "markdown",
   "metadata": {},
   "source": [
    "# Catatan Kondisi dan Kondisional Yang ada pada Kaggle"
   ]
  },
  {
   "cell_type": "markdown",
   "metadata": {},
   "source": [
    "# Conditions"
   ]
  },
  {
   "cell_type": "code",
   "execution_count": 15,
   "metadata": {},
   "outputs": [
    {
     "name": "stdout",
     "output_type": "stream",
     "text": [
      "False\n"
     ]
    }
   ],
   "source": [
    "print(2 > 3)"
   ]
  },
  {
   "cell_type": "markdown",
   "metadata": {},
   "source": [
    "Hasil dari ekspresi 2 > 3 adalah False. Ini karena angka 2 tidak lebih besar dari 3, sehingga ekspresi tersebut akan bernilai False dalam Python. Jadi, jika Anda menjalankan perintah print(2 > 3), output yang akan ditampilkan adalah False."
   ]
  },
  {
   "cell_type": "code",
   "execution_count": 16,
   "metadata": {},
   "outputs": [
    {
     "name": "stdout",
     "output_type": "stream",
     "text": [
      "False\n",
      "True\n"
     ]
    }
   ],
   "source": [
    "var_one = 1\n",
    "var_two = 2\n",
    "\n",
    "print(var_one < 1)\n",
    "print(var_two >= var_one)"
   ]
  },
  {
   "cell_type": "markdown",
   "metadata": {},
   "source": [
    "Pada baris pertama, var_one diinisialisasi dengan nilai 1. \n",
    "\n",
    "Kemudian, pada baris kedua, var_two diinisialisasi dengan nilai 2.\n",
    "\n",
    "Pada baris ketiga, kita mencetak hasil dari ekspresi var_one < 1. Dalam kasus ini, var_one adalah 1, dan kita memeriksa apakah 1 kurang dari 1. Karena 1 tidak kurang dari 1, maka hasilnya adalah False.\n",
    "\n",
    "Pada baris keempat, kita mencetak hasil dari ekspresi var_two >= var_one. Dalam kasus ini, var_two adalah 2 dan var_one adalah 1. Kita memeriksa apakah 2 lebih besar atau sama dengan 1. Karena 2 lebih besar dari 1, maka hasilnya adalah True."
   ]
  },
  {
   "cell_type": "markdown",
   "metadata": {},
   "source": [
    "# Conditional Statements"
   ]
  },
  {
   "cell_type": "code",
   "execution_count": 17,
   "metadata": {},
   "outputs": [],
   "source": [
    "def evaluate_temp(temp):\n",
    "    # Set an initial message\n",
    "    message = \"Normal temperature.\"\n",
    "    # Update value of message only if temperature greater than 38\n",
    "    if temp > 38:\n",
    "        message = \"Fever!\"\n",
    "    return message"
   ]
  },
  {
   "cell_type": "markdown",
   "metadata": {},
   "source": [
    "Fungsi evaluate_temp(temp) yang Anda berikan memiliki tujuan untuk mengevaluasi suhu tubuh dan memberikan pesan yang sesuai berdasarkan suhu yang diberikan. Jika suhu melebihi 38 derajat Celsius, maka pesan \"Fever!\" akan dikembalikan. Jika tidak, pesan \"Normal temperature.\" akan dikembalikan.\n",
    "\n",
    "Berikut adalah penjelasan kode fungsi tersebut:\n",
    "\n",
    "1.def evaluate_temp(temp): Ini adalah definisi fungsi evaluate_temp yang mengambil satu argumen temp yang mewakili suhu tubuh.\n",
    "\n",
    "2.message = \"Normal temperature.\": Variabel message diinisialisasi dengan nilai awal \"Normal temperature.\". Ini adalah pesan default jika suhu tidak melebihi 38 derajat Celsius.\n",
    "\n",
    "3.if temp > 38:: Ini adalah kondisi yang memeriksa apakah suhu (temp) lebih besar dari 38 derajat Celsius.\n",
    "Jika ya, maka variabel message diperbarui dengan pesan \"Fever!\", menandakan bahwa pasien mengalami demam.\n",
    "\n",
    "4.return message: Fungsi mengembalikan nilai variabel message yang sudah diperbarui.\n",
    "\n",
    "Fungsi ini berguna ketika Anda ingin memberikan respons berdasarkan suhu tubuh, khususnya dalam kasus deteksi demam.\n",
    "\n",
    "\n",
    "\n",
    "\n"
   ]
  },
  {
   "cell_type": "code",
   "execution_count": 18,
   "metadata": {},
   "outputs": [
    {
     "name": "stdout",
     "output_type": "stream",
     "text": [
      "Normal temperature.\n"
     ]
    }
   ],
   "source": [
    "print(evaluate_temp(37))"
   ]
  },
  {
   "cell_type": "markdown",
   "metadata": {},
   "source": [
    "Jika Anda menjalankan print(evaluate_temp(37)), itu akan memanggil fungsi evaluate_temp dengan argumen 37, yang artinya suhu tubuh adalah 37 derajat Celsius.\n",
    "\n",
    "Dalam kasus ini, karena 37 tidak lebih besar dari 38, maka variabel message tetap memiliki nilai awal \"Normal temperature.\". Oleh karena itu, fungsi evaluate_temp akan mengembalikan pesan \"Normal temperature.\"."
   ]
  },
  {
   "cell_type": "code",
   "execution_count": 19,
   "metadata": {},
   "outputs": [
    {
     "name": "stdout",
     "output_type": "stream",
     "text": [
      "Fever!\n"
     ]
    }
   ],
   "source": [
    "print(evaluate_temp(39))"
   ]
  },
  {
   "cell_type": "markdown",
   "metadata": {},
   "source": [
    "Jika Anda menjalankan print(evaluate_temp(39)), itu akan memanggil fungsi evaluate_temp dengan argumen 39, yang artinya suhu tubuh adalah 39 derajat Celsius.\n",
    "\n",
    "Dalam kasus ini, karena 39 lebih besar dari 38, maka variabel message akan diperbarui dengan pesan \"Fever!\". Oleh karena itu, fungsi evaluate_temp akan mengembalikan pesan \"Fever!\"."
   ]
  },
  {
   "cell_type": "markdown",
   "metadata": {},
   "source": [
    "# \"if ... else\" statements"
   ]
  },
  {
   "cell_type": "code",
   "execution_count": 20,
   "metadata": {},
   "outputs": [],
   "source": [
    "def evaluate_temp_with_else(temp):\n",
    "    if temp > 38:\n",
    "        message = \"Fever!\"\n",
    "    else:\n",
    "        message = \"Normal temperature.\"\n",
    "    return message"
   ]
  },
  {
   "cell_type": "markdown",
   "metadata": {},
   "source": [
    "Fungsi evaluate_temp_with_else(temp) yang Anda berikan adalah variasi dari fungsi sebelumnya, yang menggunakan struktur if-else untuk mengevaluasi suhu tubuh dan memberikan pesan yang sesuai berdasarkan suhu yang diberikan. Jika suhu melebihi 38 derajat Celsius, maka pesan \"Fever!\" akan dikembalikan. Jika tidak, pesan \"Normal temperature.\" akan dikembalikan.\n",
    "\n",
    "Berikut adalah penjelasan kode fungsi tersebut:\n",
    "\n",
    "def evaluate_temp_with_else(temp): Ini adalah definisi fungsi evaluate_temp_with_else yang mengambil satu argumen temp yang mewakili suhu tubuh.\n",
    "\n",
    "if temp > 38:: Ini adalah kondisi yang memeriksa apakah suhu (temp) lebih besar dari 38 derajat Celsius.\n",
    "Jika ya, maka variabel message diatur ke \"Fever!\", menandakan bahwa pasien mengalami demam.\n",
    "\n",
    "else:: Jika kondisi sebelumnya tidak terpenuhi, maka blok ini akan dieksekusi.\n",
    "Dalam blok else, variabel message diatur ke \"Normal temperature.\", menunjukkan bahwa suhu tidak melebihi 38 derajat Celsius.\n",
    "\n",
    "return message: Fungsi mengembalikan nilai variabel message.\n",
    "\n",
    "Fungsi ini memberikan respons yang sama seperti fungsi sebelumnya, tetapi menggunakan struktur if-else untuk menjadikan kode lebih sederhana.\n",
    "\n"
   ]
  },
  {
   "cell_type": "code",
   "execution_count": 21,
   "metadata": {},
   "outputs": [
    {
     "name": "stdout",
     "output_type": "stream",
     "text": [
      "Normal temperature.\n"
     ]
    }
   ],
   "source": [
    "print(evaluate_temp_with_else(37))"
   ]
  },
  {
   "cell_type": "markdown",
   "metadata": {},
   "source": [
    "Jika Anda menjalankan print(evaluate_temp_with_else(37)), itu akan memanggil fungsi evaluate_temp_with_else dengan argumen 37, yang artinya suhu tubuh adalah 37 derajat Celsius.\n",
    "\n",
    "Dalam kasus ini, karena 37 tidak lebih besar dari 38, maka blok else akan dieksekusi. Oleh karena itu, variabel message akan diatur ke \"Normal temperature.\". Sehingga, fungsi evaluate_temp_with_else akan mengembalikan pesan \"Normal temperature.\"."
   ]
  },
  {
   "cell_type": "markdown",
   "metadata": {},
   "source": [
    "# \"if ... elif ... else\" statements"
   ]
  },
  {
   "cell_type": "code",
   "execution_count": 22,
   "metadata": {},
   "outputs": [],
   "source": [
    "def evaluate_temp_with_elif(temp):\n",
    "    if temp > 38:\n",
    "        message = \"Fever!\"\n",
    "    elif temp > 35:\n",
    "        message = \"Normal temperature.\"\n",
    "    else:\n",
    "        message = \"Low temperature.\"\n",
    "    return message"
   ]
  },
  {
   "cell_type": "markdown",
   "metadata": {},
   "source": [
    "Fungsi evaluate_temp_with_elif(temp) yang Anda berikan adalah variasi lain dari fungsi sebelumnya, yang menggunakan struktur if-elif-else untuk mengevaluasi suhu tubuh dan memberikan pesan yang sesuai berdasarkan suhu yang diberikan.\n",
    "\n",
    "Berikut adalah penjelasan kode fungsi tersebut:\n",
    "\n",
    "1.def evaluate_temp_with_elif(temp): Ini adalah definisi fungsi evaluate_temp_with_elif yang mengambil satu argumen temp yang mewakili suhu tubuh.\n",
    "\n",
    "2.if temp > 38:: Ini adalah kondisi pertama yang memeriksa apakah suhu (temp) lebih besar dari 38 derajat Celsius.\n",
    "Jika ya, maka variabel message diatur ke \"Fever!\", menandakan bahwa pasien mengalami demam.\n",
    "\n",
    "3.elif temp > 35:: Jika kondisi pertama tidak terpenuhi, maka blok elif akan dieksekusi. Blok ini memeriksa apakah suhu lebih besar dari 35 derajat Celsius.\n",
    "Jika ya, maka variabel message diatur ke \"Normal temperature.\", menandakan bahwa suhu masih normal.\n",
    "\n",
    "4.else:: Jika kedua kondisi sebelumnya tidak terpenuhi, maka blok else akan dieksekusi.\n",
    "Dalam blok else, variabel message diatur ke \"Low temperature.\", menunjukkan bahwa suhu terlalu rendah.\n",
    "\n",
    "5.return message: Fungsi mengembalikan nilai variabel message.\n",
    "\n",
    "Fungsi ini memberikan respons yang lebih terperinci terhadap berbagai kisaran suhu tubuh, yaitu demam, suhu normal, atau suhu rendah."
   ]
  },
  {
   "cell_type": "code",
   "execution_count": 23,
   "metadata": {},
   "outputs": [
    {
     "data": {
      "text/plain": [
       "'Normal temperature.'"
      ]
     },
     "execution_count": 23,
     "metadata": {},
     "output_type": "execute_result"
    }
   ],
   "source": [
    "evaluate_temp_with_elif(36)"
   ]
  },
  {
   "cell_type": "markdown",
   "metadata": {},
   "source": [
    "Jika Anda memanggil fungsi evaluate_temp_with_elif(36), itu akan memeriksa suhu tubuh yang diberikan, yaitu 36 derajat Celsius, dan kemudian memberikan respons yang sesuai berdasarkan kisaran suhu yang telah ditentukan dalam fungsi.\n",
    "\n",
    "Dalam hal ini, karena suhu tubuh (36 derajat Celsius) lebih besar dari 35, tetapi tidak lebih besar dari 38, maka kondisi di blok elif yang memeriksa suhu normal akan dieksekusi. Oleh karena itu, variabel message akan diatur ke \"Normal temperature.\".\n",
    "\n",
    "Jadi, ketika Anda memanggil evaluate_temp_with_elif(36), fungsi akan mengembalikan pesan \"Normal temperature.\"."
   ]
  },
  {
   "cell_type": "code",
   "execution_count": 24,
   "metadata": {},
   "outputs": [
    {
     "data": {
      "text/plain": [
       "'Low temperature.'"
      ]
     },
     "execution_count": 24,
     "metadata": {},
     "output_type": "execute_result"
    }
   ],
   "source": [
    "evaluate_temp_with_elif(34)"
   ]
  },
  {
   "cell_type": "markdown",
   "metadata": {},
   "source": [
    "Ketika Anda memanggil evaluate_temp_with_elif(34), itu akan memeriksa suhu tubuh yang diberikan, yaitu 34 derajat Celsius, dan kemudian memberikan respons yang sesuai berdasarkan kisaran suhu yang telah ditentukan dalam fungsi.\n",
    "\n",
    "Dalam kasus ini, karena suhu tubuh (34 derajat Celsius) tidak memenuhi kondisi pertama (lebih besar dari 38) dan juga tidak memenuhi kondisi kedua (lebih besar dari 35), maka blok else akan dieksekusi. Oleh karena itu, variabel message akan diatur ke \"Low temperature.\".\n",
    "\n",
    "Jadi, ketika Anda memanggil evaluate_temp_with_elif(34), fungsi akan mengembalikan pesan \"Low temperature.\"."
   ]
  },
  {
   "cell_type": "markdown",
   "metadata": {},
   "source": [
    "# Example - Calculations"
   ]
  },
  {
   "cell_type": "code",
   "execution_count": 25,
   "metadata": {},
   "outputs": [],
   "source": [
    "def get_taxes(earnings):\n",
    "    if earnings < 12000:\n",
    "        tax_owed = .25 * earnings\n",
    "    else:\n",
    "        tax_owed = .30 * earnings\n",
    "    return tax_owed"
   ]
  },
  {
   "cell_type": "markdown",
   "metadata": {},
   "source": [
    "Fungsi get_taxes(earnings) yang Anda berikan memiliki tujuan untuk menghitung jumlah pajak yang harus dibayar berdasarkan pendapatan yang diberikan. Jika pendapatan kurang dari 12.000, pajak yang harus dibayar adalah 25% dari pendapatan. Jika pendapatan 12.000 atau lebih, pajak yang harus dibayar adalah 30% dari pendapatan.\n",
    "\n",
    "Berikut adalah penjelasan kode fungsi tersebut:\n",
    "\n",
    "1.def get_taxes(earnings): Ini adalah definisi fungsi get_taxes yang mengambil satu argumen earnings yang mewakili jumlah pendapatan.\n",
    "\n",
    "2.if earnings < 12000:: Ini adalah kondisi yang memeriksa apakah pendapatan (earnings) kurang dari 12.000.\n",
    "Jika ya, maka variabel tax_owed dihitung sebagai 25% dari pendapatan.\n",
    "\n",
    "3.else:: Jika kondisi sebelumnya tidak terpenuhi (pendapatan lebih besar atau sama dengan 12.000), maka blok else akan dieksekusi.\n",
    "Dalam blok else, variabel tax_owed dihitung sebagai 30% dari pendapatan.\n",
    "\n",
    "4.return tax_owed: Fungsi mengembalikan nilai variabel tax_owed, yang merupakan jumlah pajak yang harus dibayar berdasarkan pendapatan yang diberikan.\n",
    "\n",
    "Fungsi ini berguna untuk menghitung jumlah pajak yang harus dibayar berdasarkan aturan perpajakan yang diberikan."
   ]
  },
  {
   "cell_type": "code",
   "execution_count": 26,
   "metadata": {},
   "outputs": [
    {
     "name": "stdout",
     "output_type": "stream",
     "text": [
      "2250.0\n",
      "4500.0\n"
     ]
    }
   ],
   "source": [
    "ana_taxes = get_taxes(9000)\n",
    "bob_taxes = get_taxes(15000)\n",
    "\n",
    "print(ana_taxes)\n",
    "print(bob_taxes)"
   ]
  },
  {
   "cell_type": "markdown",
   "metadata": {},
   "source": [
    "Mari kita lakukan perhitungan pajak untuk Ana dan Bob menggunakan fungsi get_taxes(earnings) yang telah Anda berikan.\n",
    "\n",
    "Untuk Ana:\n",
    "Pendapatannya adalah $9.000.\n",
    "Karena pendapatannya kurang dari $12.000, maka pajak yang harus dibayar adalah 25% dari pendapatannya.\n",
    "Jadi, pajak yang harus dibayar oleh Ana adalah $9.000 * 0,25 = $2.250.\n",
    "\n",
    "\n",
    "Untuk Bob:\n",
    "Pendapatannya adalah $15.000.\n",
    "Karena pendapatannya sama dengan atau lebih besar dari $12.000, maka pajak yang harus dibayar adalah 30% dari pendapatannya.\n",
    "Jadi, pajak yang harus dibayar oleh Bob adalah $15.000 * 0,30 = $4.500.\n",
    "Jadi, ketika Anda mencetak ana_taxes dan bob_taxes, Anda akan mendapatkan:\n",
    "\n",
    "2250.0\n",
    "\n",
    "4500.0\n",
    "\n",
    "Ini adalah jumlah pajak yang harus dibayar oleh Ana dan Bob sesuai dengan pendapatan masing-masing."
   ]
  },
  {
   "cell_type": "markdown",
   "metadata": {},
   "source": [
    "# Example - Multiple \"elif\" statements"
   ]
  },
  {
   "cell_type": "code",
   "execution_count": 27,
   "metadata": {},
   "outputs": [],
   "source": [
    "def get_dose(weight):\n",
    "    # Dosage is 1.25 ml for anyone under 5.2 kg\n",
    "    if weight < 5.2:\n",
    "        dose = 1.25\n",
    "    elif weight < 7.9:\n",
    "        dose = 2.5\n",
    "    elif weight < 10.4:\n",
    "        dose = 3.75\n",
    "    elif weight < 15.9:\n",
    "        dose = 5\n",
    "    elif weight < 21.2:\n",
    "        dose = 7.5\n",
    "    # Dosage is 10 ml for anyone 21.2 kg or over\n",
    "    else:\n",
    "        dose = 10\n",
    "    return dose"
   ]
  },
  {
   "cell_type": "markdown",
   "metadata": {},
   "source": [
    "Fungsi get_dose(weight) yang Anda berikan bertujuan untuk menghitung dosis obat berdasarkan berat badan yang diberikan. Dalam fungsi ini, terdapat beberapa tingkat dosis yang berbeda tergantung pada berat badan pasien.\n",
    "\n",
    "Berikut adalah penjelasan kode fungsi tersebut:\n",
    "\n",
    "def get_dose(weight): Ini adalah definisi fungsi get_dose yang mengambil satu argumen weight yang mewakili berat badan pasien.\n",
    "\n",
    "Kondisi-kondisi if-elif-else di bawah ini memeriksa berat badan pasien dan menetapkan dosis yang sesuai berdasarkan kriteria berat badan.\n",
    "\n",
    "Jika berat badan kurang dari 5.2 kg, dosis yang diberikan adalah 1.25 ml.\n",
    "\n",
    "Jika berat badan kurang dari 7.9 kg, dosis yang diberikan adalah 2.5 ml.\n",
    "\n",
    "Jika berat badan kurang dari 10.4 kg, dosis yang diberikan adalah 3.75 ml.\n",
    "\n",
    "Jika berat badan kurang dari 15.9 kg, dosis yang diberikan adalah 5 ml.\n",
    "\n",
    "Jika berat badan kurang dari 21.2 kg, dosis yang diberikan adalah 7.5 ml.\n",
    "\n",
    "Jika berat badan 21.2 kg atau lebih, dosis yang diberikan adalah 10 ml.\n",
    "\n",
    "return dose: Fungsi mengembalikan nilai variabel dose, yang merupakan dosis obat yang harus diberikan berdasarkan berat badan pasien.\n",
    "\n",
    "Fungsi ini memberikan dosis obat yang sesuai dengan berat badan pasien, sesuai dengan rentang yang ditetapkan dalam kondisi if-elif-else."
   ]
  },
  {
   "cell_type": "code",
   "execution_count": 28,
   "metadata": {},
   "outputs": [
    {
     "name": "stdout",
     "output_type": "stream",
     "text": [
      "5\n"
     ]
    }
   ],
   "source": [
    "print(get_dose(12))"
   ]
  },
  {
   "cell_type": "markdown",
   "metadata": {},
   "source": [
    "Jika Anda memanggil get_dose(12), itu akan memeriksa berat badan yang diberikan, yaitu 12 kg, dan kemudian memberikan dosis yang sesuai berdasarkan berat badan yang diberikan.\n",
    "\n",
    "Dalam kasus ini, berat badan 12 kg memenuhi kondisi weight < 15.9, namun tidak memenuhi kondisi weight < 10.4. Oleh karena itu, dosis yang akan diberikan adalah 5 ml, sesuai dengan kondisi yang ditetapkan dalam blok elif weight < 15.9:.\n",
    "\n",
    "Jadi, ketika Anda memanggil get_dose(12), fungsi akan mengembalikan dosis yang harus diberikan, yaitu 5 ml."
   ]
  }
 ],
 "metadata": {
  "interpreter": {
   "hash": "6991831720b726829475ab2fdaae779fa846493d282639f93ea99b469bb29648"
  },
  "kernelspec": {
   "display_name": "Python 3.12.2 64-bit",
   "language": "python",
   "name": "python3"
  },
  "language_info": {
   "codemirror_mode": {
    "name": "ipython",
    "version": 3
   },
   "file_extension": ".py",
   "mimetype": "text/x-python",
   "name": "python",
   "nbconvert_exporter": "python",
   "pygments_lexer": "ipython3",
   "version": "3.12.2"
  },
  "orig_nbformat": 4
 },
 "nbformat": 4,
 "nbformat_minor": 2
}
