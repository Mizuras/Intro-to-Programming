{
 "cells": [
  {
   "cell_type": "markdown",
   "metadata": {},
   "source": [
    "By Salwa Salsabila | Universitas Dian Nuswantoro"
   ]
  },
  {
   "cell_type": "markdown",
   "metadata": {},
   "source": [
    "# Arithmetic and Variables"
   ]
  },
  {
   "cell_type": "markdown",
   "metadata": {},
   "source": [
    "Make calculations, and define and modify variables."
   ]
  },
  {
   "cell_type": "markdown",
   "metadata": {},
   "source": [
    "## Printing"
   ]
  },
  {
   "cell_type": "markdown",
   "metadata": {},
   "source": [
    "Di Python, kita dapat memerintahkan komputer untuk menampilkan pesan dengan menggunakan fungsi *print()* dan memberikan pesan yang diinginkan di dalam tanda kurung, diapit tanda kutip. Misalnya, jika kita ingin mencetak pesan \"Helo, world!\", kita menulis kode berikut:"
   ]
  },
  {
   "cell_type": "code",
   "execution_count": 1,
   "metadata": {},
   "outputs": [
    {
     "name": "stdout",
     "output_type": "stream",
     "text": [
      "Hello, world!\n"
     ]
    }
   ],
   "source": [
    "print(\"Hello, world!\")"
   ]
  },
  {
   "cell_type": "markdown",
   "metadata": {},
   "source": [
    "Dengan menggunakan perintah print, kita memberi tahu komputer untuk mencetak atau menampilkan teks yang ada di dalam tanda kurung ganda (\") ke layar. Dalam hal ini, teks yang akan dicetak adalah \"Hello, world!\", yang merupakan pesan yang sering digunakan dalam tutorial pemrograman sebagai langkah pertama dalam mempelajari sebuah bahasa pemrograman baru.\n",
    "\n",
    "Jadi, ketika kita menjalankan perintah print(\"Hello, world!\"), kita akan melihat pesan \"Hello, world!\" muncul di layar komputer sebagai hasil dari program yang kita tulis."
   ]
  },
  {
   "cell_type": "markdown",
   "metadata": {},
   "source": [
    "## Arithmetic"
   ]
  },
  {
   "cell_type": "markdown",
   "metadata": {},
   "source": [
    "Kita bisa juga menampilkan hasil dari beberapa operasi matematika (seperti penambahan, pengurangan, perkalian, atau pembagian)."
   ]
  },
  {
   "cell_type": "code",
   "execution_count": 2,
   "metadata": {},
   "outputs": [
    {
     "name": "stdout",
     "output_type": "stream",
     "text": [
      "3\n"
     ]
    }
   ],
   "source": [
    "print(1 + 2)"
   ]
  },
  {
   "cell_type": "markdown",
   "metadata": {},
   "source": [
    "Perintah *print(1 + 2)* dalam bahasa pemrograman Python adalah cara untuk menampilkan hasil penjumlahan dari angka 1 dan 2 ke layar komputer. Dalam kasus ini, tanda kurung digunakan untuk menunjukkan bahwa kita ingin mencetak hasil operasi matematika yang terdapat di dalamnya.\n",
    "\n",
    "Python akan menjumlahkan angka 1 dan 2, dan output yang dihasilkan 3. Jadi, hasil dari perintah ini adalah angka 3. Ini adalah contoh sederhana dari bagaimana kita dapat menggunakan Python untuk melakukan operasi matematika dasar dan menampilkan hasilnya kepada pengguna."
   ]
  },
  {
   "cell_type": "code",
   "execution_count": 3,
   "metadata": {},
   "outputs": [
    {
     "name": "stdout",
     "output_type": "stream",
     "text": [
      "4\n"
     ]
    }
   ],
   "source": [
    "print(9 - 5)"
   ]
  },
  {
   "cell_type": "markdown",
   "metadata": {},
   "source": [
    "Perintah *print(9 - 5)* dalam bahasa pemrograman Python adalah cara untuk menampilkan hasil pengurangan dari angka 9 dan 5 ke layar komputer. Ketika kode ini dieksekusi, Python akan mengurangkan angka 5 dari angka 9, yaitu 4, dan kemudian mencetak hasilnya ke layar. Jadi, hasil dari perintah ini adalah angka 4"
   ]
  },
  {
   "cell_type": "code",
   "execution_count": 4,
   "metadata": {},
   "outputs": [
    {
     "name": "stdout",
     "output_type": "stream",
     "text": [
      "196.0\n"
     ]
    }
   ],
   "source": [
    "print(((1 + 3) * (9 - 2) / 2) ** 2)"
   ]
  },
  {
   "cell_type": "markdown",
   "metadata": {},
   "source": [
    "Perintah *print(((1 + 3) * (9 - 2) / 2) ** 2)* dalam bahasa pemrograman Python adalah cara untuk menghitung hasil ekspresi matematika yang kompleks dan menampilkan hasilnya ke layar komputer. Dalam ekspresi ini, terdapat beberapa operasi matematika yang dilakukan secara berurutan."
   ]
  },
  {
   "cell_type": "markdown",
   "metadata": {},
   "source": [
    "1. (1 + 3): Operasi penjumlahan dari angka 1 dan 3, menghasilkan 4.\n",
    "2. (9 - 2): Operasi pengurangan dari angka 9 dan 2, menghasilkan 7.\n",
    "3. (4 * 7): Operasi perkalian dari hasil penjumlahan dan pengurangan sebelumnya, menghasilkan 28.\n",
    "4. (28 / 2): Operasi pembagian hasil perkalian sebelumnya dengan angka 2, menghasilkan 14.\n",
    "5. ** 2: Operasi pemangkatan hasil pembagian sebelumnya ke pangkat 2, menghasilkan 196.\n",
    "\n",
    "Hasil akhir dari ekspresi ini adalah angka 196."
   ]
  },
  {
   "cell_type": "markdown",
   "metadata": {},
   "source": [
    "## Comments"
   ]
  },
  {
   "cell_type": "markdown",
   "metadata": {},
   "source": [
    "Komentar adalah bagian dari kode yang tidak dieksekusi oleh Python. Mereka digunakan untuk memberikan penjelasan atau dokumentasi tentang apa yang dilakukan oleh baris kode yang terkait.\n",
    "\n",
    "Contohnya, di sel kode berikut, kita mengalikan 3 dengan 2. Kita tambahkan komentar (# Multiply 3 by 2) di atas kode untuk menjelaskan apa yang dilakukan oleh kode tersebut."
   ]
  },
  {
   "cell_type": "code",
   "execution_count": 5,
   "metadata": {},
   "outputs": [
    {
     "name": "stdout",
     "output_type": "stream",
     "text": [
      "6\n"
     ]
    }
   ],
   "source": [
    "# Multiply 3 by 2\n",
    "print(3 * 2)"
   ]
  },
  {
   "cell_type": "markdown",
   "metadata": {},
   "source": [
    "Untuk menandai bahwa suatu baris adalah komentar dalam Python, gunakan tanda pagar (#) sebagai karakter pertama.\n",
    "\n",
    "Setelah menemukan tanda pagar, Python akan menganggap baris tersebut sebagai komentar dan akan mengabaikannya sepenuhnya. Ini penting karena Python mengikuti aturan yang sangat ketat, dan hanya akan menghasilkan kesalahan jika tidak dapat memahami kode yang diberikan.\n",
    "\n",
    "Contohnya terlihat pada sel kode di bawah ini. Python akan menghasilkan kesalahan jika tanda pagar dihilangkan karena teks dalam komentar bukanlah kode Python yang valid dan tidak dapat diinterpretasikan dengan benar."
   ]
  },
  {
   "cell_type": "code",
   "execution_count": 7,
   "metadata": {},
   "outputs": [
    {
     "ename": "SyntaxError",
     "evalue": "invalid syntax (3750420471.py, line 1)",
     "output_type": "error",
     "traceback": [
      "\u001b[1;36m  Cell \u001b[1;32mIn[7], line 1\u001b[1;36m\u001b[0m\n\u001b[1;33m    Multiply 3 by 2\u001b[0m\n\u001b[1;37m             ^\u001b[0m\n\u001b[1;31mSyntaxError\u001b[0m\u001b[1;31m:\u001b[0m invalid syntax\n"
     ]
    }
   ],
   "source": [
    "Multiply 3 by 2"
   ]
  },
  {
   "cell_type": "markdown",
   "metadata": {},
   "source": [
    "## Variables"
   ]
  },
  {
   "cell_type": "markdown",
   "metadata": {},
   "source": [
    "Variabel dalam pemrograman adalah sebuah nama atau identifikasi yang diberikan untuk menyimpan suatu nilai data dalam memori komputer. Nilai ini dapat diubah atau dimanipulasi selama eksekusi program. Setiap variabel memiliki tipe data yang menentukan jenis nilai yang dapat disimpan, seperti angka, teks, atau struktur data yang lebih kompleks. Nama variabel yang dipilih biasanya mendeskripsikan data yang disimpan, memudahkan pemahaman dan pengelolaan kode."
   ]
  },
  {
   "cell_type": "markdown",
   "metadata": {},
   "source": [
    "### Creating variables"
   ]
  },
  {
   "cell_type": "markdown",
   "metadata": {},
   "source": [
    "Sel kode berikutnya membuat variabel bernama test_var dan memberinya nilai yang kita dapatkan saat kita menambahkan 5 ke 4.\n",
    "\n",
    "Kami kemudian mencetak nilai yang ditetapkan ke variabel, yaitu 9."
   ]
  },
  {
   "cell_type": "code",
   "execution_count": 1,
   "metadata": {},
   "outputs": [
    {
     "name": "stdout",
     "output_type": "stream",
     "text": [
      "9\n"
     ]
    }
   ],
   "source": [
    "# Create a variable called test_var and give it a value of 4+5\n",
    "test_var = 4 + 5\n",
    "\n",
    "# Print the value of test_var\n",
    "print(test_var)"
   ]
  },
  {
   "cell_type": "markdown",
   "metadata": {},
   "source": [
    "Jadi, jika mengeksekusi sel di atas, variabel test_var akan diberi nilai 9 (hasil dari 4 + 5), dan hasilnya akan dicetak ke layar sebagai “9”."
   ]
  },
  {
   "cell_type": "markdown",
   "metadata": {},
   "source": [
    "Secara umum, untuk bekerja dengan variabel, harus memulai dengan memilih nama yang ingin digunakan. Nama variabel idealnya pendek dan deskriptif. Mereka juga harus memenuhi beberapa persyaratan:\n",
    "\n",
    "1. Mereka tidak boleh memiliki spasi (misalnya, test var tidak diperbolehkan)\n",
    "2. Mereka hanya dapat menyertakan huruf, angka, dan garis bawah (misalnya, test_var! tidak diperbolehkan)\n",
    "3. Mereka harus dimulai dengan huruf atau garis bawah (misalnya, 1_var tidak diperbolehkan)\n",
    "\n",
    "Kemudian, untuk membuat variabel, perlu menggunakan = untuk menetapkan nilai yang  diinginkan.\n",
    "\n",
    "Selalu dapat melihat nilai yang diberikan ke variabel dengan menggunakan print() dan memasukkan nama variabel dalam tanda kurung."
   ]
  },
  {
   "cell_type": "markdown",
   "metadata": {},
   "source": [
    "### Manipulating variables"
   ]
  },
  {
   "cell_type": "markdown",
   "metadata": {},
   "source": [
    "Dapat juga mengubah nilai yang ditetapkan ke variabel dengan mengganti nilai sebelumnya.\n",
    "\n",
    "Di sel kode di bawah ini, akan mengubah nilai my_var dari 3 menjadi 100."
   ]
  },
  {
   "cell_type": "code",
   "execution_count": 2,
   "metadata": {},
   "outputs": [
    {
     "name": "stdout",
     "output_type": "stream",
     "text": [
      "3\n",
      "100\n"
     ]
    },
    {
     "data": {
      "text/plain": [
       "3"
      ]
     },
     "execution_count": 2,
     "metadata": {},
     "output_type": "execute_result"
    }
   ],
   "source": [
    "# Set the value of a new variable to 3\n",
    "my_var = 3\n",
    "\n",
    "# Print the value assigned to my_var\n",
    "print(my_var)\n",
    "\n",
    "# Change the value of the variable to 100\n",
    "my_var = 100\n",
    "\n",
    "# Print the new value assigned to my_var\n",
    "print(my_var)\n",
    "3"
   ]
  },
  {
   "cell_type": "markdown",
   "metadata": {},
   "source": [
    "Nilai my_var dimulai dari 3, lalu diubah menjadi 100. Saat mencetak my_var, ini akan menampilkan nilai saat ini yang ditetapkan padanya"
   ]
  },
  {
   "cell_type": "markdown",
   "metadata": {},
   "source": [
    "Perhatikan bahwa secara umum, setiap kali mendefinisikan variabel dalam sel kode, semua sel kode berikutnya juga memiliki akses ke variabel tersebut. Misalnya, kita menggunakan sel kode berikutnya untuk mengakses nilai my_var (dari sel kode di atas) dan test_var (dari awal tutorial ini)."
   ]
  },
  {
   "cell_type": "code",
   "execution_count": 3,
   "metadata": {},
   "outputs": [
    {
     "name": "stdout",
     "output_type": "stream",
     "text": [
      "100\n",
      "9\n"
     ]
    }
   ],
   "source": [
    "print(my_var)\n",
    "print(test_var)"
   ]
  },
  {
   "cell_type": "markdown",
   "metadata": {},
   "source": [
    "Nilai my_var adalah 100, dan nilai test_var adalah 9. Saat mencetak variabel-variabel ini, nilai yang ditetapkan saat ini akan ditampilkan."
   ]
  },
  {
   "cell_type": "markdown",
   "metadata": {},
   "source": [
    "Sel kode berikutnya memberitahu Python untuk meningkatkan nilai my_var saat ini sebesar 3.\n",
    "\n",
    "Untuk melakukan ini, kita masih perlu menggunakan my_var = seperti sebelumnya. Dan juga sama seperti sebelumnya, nilai baru yang ingin kita berikan pada variabel ada di sebelah kanan tanda =/sign"
   ]
  },
  {
   "cell_type": "code",
   "execution_count": 4,
   "metadata": {},
   "outputs": [
    {
     "name": "stdout",
     "output_type": "stream",
     "text": [
      "103\n"
     ]
    }
   ],
   "source": [
    "# Increase the value by 3\n",
    "my_var = my_var + 3\n",
    "\n",
    "# Print the value assigned to my_var\n",
    "print(my_var)"
   ]
  },
  {
   "cell_type": "markdown",
   "metadata": {},
   "source": [
    "Nilai my_var sekarang menjadi 103. Sebelumnya 100, dan menambahkan 3 ke dalamnya. Saat mencetak my_var, ini menampilkan nilai yang diperbarui."
   ]
  },
  {
   "cell_type": "markdown",
   "metadata": {},
   "source": [
    "### Using multiple variables"
   ]
  },
  {
   "cell_type": "markdown",
   "metadata": {},
   "source": [
    "Biasanya kode menggunakan banyak variabel. Hal ini sangat berguna ketika harus melakukan perhitungan panjang dengan banyak masukan.\n",
    "\n",
    "Di sel kode berikutnya, akan menghitung jumlah detik dalam empat tahun. Perhitungan ini menggunakan lima input."
   ]
  },
  {
   "cell_type": "code",
   "execution_count": 5,
   "metadata": {},
   "outputs": [
    {
     "name": "stdout",
     "output_type": "stream",
     "text": [
      "126144000\n"
     ]
    }
   ],
   "source": [
    "# Create variables\n",
    "num_years = 4\n",
    "days_per_year = 365 \n",
    "hours_per_day = 24\n",
    "mins_per_hour = 60\n",
    "secs_per_min = 60\n",
    "\n",
    "# Calculate number of seconds in four years\n",
    "total_secs = secs_per_min * mins_per_hour * hours_per_day * days_per_year * num_years\n",
    "print(total_secs)"
   ]
  },
  {
   "cell_type": "markdown",
   "metadata": {},
   "source": [
    "Jumlah detik dalam empat tahun adalah 126.144.000."
   ]
  },
  {
   "cell_type": "markdown",
   "metadata": {},
   "source": [
    "Perhatikan bahwa penggunaan variabel sangat berguna ketika nilai input dapat berubah. Misalnya, kita ingin sedikit meningkatkan perkiraan kita dengan memperbarui nilai jumlah hari dalam setahun dari 365 menjadi 365,25, untuk memperhitungkan tahun kabisat. Kemudian kita dapat mengubah nilai yang ditetapkan ke hari_per_tahun tanpa mengubah variabel lain dan mengulangi penghitungan."
   ]
  },
  {
   "cell_type": "code",
   "execution_count": 6,
   "metadata": {},
   "outputs": [
    {
     "name": "stdout",
     "output_type": "stream",
     "text": [
      "126230400.0\n"
     ]
    }
   ],
   "source": [
    "# Update to include leap years\n",
    "days_per_year = 365.25\n",
    "\n",
    "# Calculate number of seconds in four years\n",
    "total_secs = secs_per_min * mins_per_hour * hours_per_day * days_per_year * num_years\n",
    "print(total_secs)"
   ]
  },
  {
   "cell_type": "markdown",
   "metadata": {},
   "source": [
    "Jumlah detik dalam empat tahun, terhitung tahun kabisat, adalah sekitar 126.230.400 detik."
   ]
  },
  {
   "cell_type": "markdown",
   "metadata": {},
   "source": [
    "*Note*: Penambahan 0 diakhir angka disebabkan karena pada perhitungan kedua menggunakan bilangan yang bagian pecahannya (365,25), sedangkan pada perhitungan pertama hanya mengalikan bilangan yang tidak ada bagian pecahannya. "
   ]
  },
  {
   "cell_type": "markdown",
   "metadata": {},
   "source": [
    "### Debugging"
   ]
  },
  {
   "cell_type": "markdown",
   "metadata": {},
   "source": [
    "Salah satu kesalahan umum saat bekerja dengan variabel adalah kesalahan ketik yang tidak disengaja. Misalnya, jika mengeja hours_per_day as hours_per_dy, Python akan error dengan pesan NameError: name 'hours_per_dy' is not defined."
   ]
  },
  {
   "cell_type": "code",
   "execution_count": 7,
   "metadata": {},
   "outputs": [
    {
     "ename": "NameError",
     "evalue": "name 'hours_per_dy' is not defined",
     "output_type": "error",
     "traceback": [
      "\u001b[1;31m---------------------------------------------------------------------------\u001b[0m",
      "\u001b[1;31mNameError\u001b[0m                                 Traceback (most recent call last)",
      "Cell \u001b[1;32mIn[7], line 1\u001b[0m\n\u001b[1;32m----> 1\u001b[0m \u001b[38;5;28mprint\u001b[39m(\u001b[43mhours_per_dy\u001b[49m)\n",
      "\u001b[1;31mNameError\u001b[0m: name 'hours_per_dy' is not defined"
     ]
    }
   ],
   "source": [
    "print(hours_per_dy)"
   ]
  },
  {
   "cell_type": "markdown",
   "metadata": {},
   "source": [
    "Saat melihat NameError seperti ini, merupakan indikasi bahwa harus memeriksa bagaimana mengeja variabel yang dirujuknya sebagai \"tidak ditentukan\". Kemudian, untuk memperbaiki kesalahan tersebut, hanya perlu memperbaiki ejaannya."
   ]
  },
  {
   "cell_type": "code",
   "execution_count": 8,
   "metadata": {},
   "outputs": [
    {
     "name": "stdout",
     "output_type": "stream",
     "text": [
      "24\n"
     ]
    }
   ],
   "source": [
    "print(hours_per_day)"
   ]
  },
  {
   "cell_type": "markdown",
   "metadata": {},
   "source": [
    "Nilai jam_per_hari adalah 24."
   ]
  }
 ],
 "metadata": {
  "kernelspec": {
   "display_name": "Python 3",
   "language": "python",
   "name": "python3"
  },
  "language_info": {
   "codemirror_mode": {
    "name": "ipython",
    "version": 3
   },
   "file_extension": ".py",
   "mimetype": "text/x-python",
   "name": "python",
   "nbconvert_exporter": "python",
   "pygments_lexer": "ipython3",
   "version": "3.12.1"
  }
 },
 "nbformat": 4,
 "nbformat_minor": 2
}
